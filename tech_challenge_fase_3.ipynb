{
 "cells": [
  {
   "cell_type": "markdown",
   "id": "c4e35b16",
   "metadata": {},
   "source": [
    "## Tech Challenge"
   ]
  },
  {
   "cell_type": "markdown",
   "id": "24d816d8",
   "metadata": {},
   "source": [
    "### O que é o projeto"
   ]
  },
  {
   "cell_type": "markdown",
   "id": "dff9834d",
   "metadata": {},
   "source": [
    "Entender como foi o comportamento da população na época da pandemia da COVID-19 e quais indicadores seriam importantes para o planejamento, caso haja um novo surto da doença, utilizando o estudo do PNAD-COVID 19 do IBGE para termos respostas ao problema proposto, pois são dados confiáveis, porém, não será necessário utilizar todas as perguntas realizadas na pesquisa para enxergar todas as oportunidades ali postas, mas há dados triviais que precisam estar no projeto, pois auxiliam muito na análise dos dados:\n",
    "\n",
    "• Características clínicas dos sintomas;  \n",
    "• Características da população;  \n",
    "• Características econômicas da sociedade.  \n",
    "\n",
    "Dessa forma, acessar os dados do PNAD-COVID-19 do IBGE (https://covid19.ibge.gov.br/pnad-covid/) e organizar esta base para análise, utilizando Banco de Dados em Nuvem e trazendo as seguintes características:\n",
    "\n",
    "a. Utilização de no máximo 20 questionamentos realizados na pesquisa;  \n",
    "b. Utilizar 3 meses para construção da solução;  \n",
    "c. Caracterização dos sintomas clínicos da população;  \n",
    "d. Comportamento da população na época da COVID-19;  \n",
    "e. Características econômicas da Sociedade;  \n",
    "\n",
    "Com objetivo de trazer uma breve análise dessas informações, como foi a organização do banco, as perguntas selecionadas para a resposta do problema e quais seriam as principais ações que o hospital deverá tomar em caso de um novo surto de COVID-19"
   ]
  },
  {
   "cell_type": "markdown",
   "id": "d119f738",
   "metadata": {},
   "source": [
    "### Arquitetura de Dados"
   ]
  },
  {
   "cell_type": "markdown",
   "id": "41df532f",
   "metadata": {},
   "source": [
    "![Arquitetura](arquitetura.png)\n",
    "\n",
    "1) Dados referente a Pesquisa Nacional por Amostra de Domicílios (PNAD COVID19) através do link [PNAD](https://www.ibge.gov.br/estatisticas/investigacoes-experimentais/estatisticas-experimentais/27946-divulgacao-semanal-pnadcovid1?t=microdados&utm_source=covid19&utm_medium=hotsite&utm_campaign=covid_19) *\n",
    "2) Realizado o processo de ETL para extrair os dados (E), tratar os dados (T) e carregar os dados (L)\n",
    "3) Dados armazenado em um banco dados PostgreSQL criado via AWS RDS \n",
    "4) Aplicar as regras de negócio como filtro das perguntas necessarias e dados dos ultimos 3 meses\n",
    "5) Realizar o carregamento dos dados em um tabela especifica (data mart) esse disponiviel no PostgreSQL \n",
    "6) Construir a analise utilizando o Power BI conectado ao Data Mart\n",
    "\n",
    "\n",
    "\\* Os dados foram armazenados no GitHub para a construção desse trabalho"
   ]
  },
  {
   "cell_type": "markdown",
   "id": "b274fe91",
   "metadata": {},
   "source": [
    "### Códigos"
   ]
  },
  {
   "cell_type": "markdown",
   "id": "1af7b5bc",
   "metadata": {},
   "source": [
    "#### Importar bibliotecas"
   ]
  },
  {
   "cell_type": "code",
   "execution_count": 1,
   "id": "434646bd",
   "metadata": {},
   "outputs": [],
   "source": [
    "# Importar biblioteca completa\n",
    "import requests\n",
    "import zipfile\n",
    "import io\n",
    "import pandas as pd\n",
    "import os\n",
    "import boto3\n",
    "\n",
    "# Importar algo especifico de uma biblioteca\n",
    "from dotenv import load_dotenv\n",
    "from sqlalchemy import create_engine, text\n",
    "from botocore.exceptions import BotoCoreError, ClientError"
   ]
  },
  {
   "cell_type": "markdown",
   "id": "cf22db21",
   "metadata": {},
   "source": [
    "#### Funções (DEF)"
   ]
  },
  {
   "cell_type": "code",
   "execution_count": 2,
   "id": "0c5991ad",
   "metadata": {},
   "outputs": [],
   "source": [
    "# Testar a conexão ao banco de dados\n",
    "def test_connection(engine):\n",
    "\n",
    "    try:\n",
    "        with engine.connect() as connection:\n",
    "            \n",
    "            # Testar a versão do PostgreSQL\n",
    "            result = connection.execute(text(\"SELECT version();\"))\n",
    "            versao = result.fetchone()\n",
    "            print(\"✅ Conectado com sucesso:\", versao[0])\n",
    "\n",
    "            # Listar as tabelas no schema público\n",
    "            result = connection.execute(text(\"\"\"\n",
    "                SELECT table_name\n",
    "                FROM information_schema.tables\n",
    "                WHERE table_schema = 'public';\n",
    "            \"\"\"))\n",
    "            tabelas = result.fetchall()\n",
    "            print(\"📄 Tabelas no banco:\")\n",
    "            for tabela in tabelas:\n",
    "                print(\"  -\", tabela[0])\n",
    "\n",
    "    except Exception as e:\n",
    "        print(\"❌ Erro ao executar comandos:\", e)\n"
   ]
  },
  {
   "cell_type": "markdown",
   "id": "06c42cb0",
   "metadata": {},
   "source": [
    "#### Validar Conexões e criar engine banco de dados"
   ]
  },
  {
   "cell_type": "code",
   "execution_count": 3,
   "id": "e7e9b6ca",
   "metadata": {},
   "outputs": [
    {
     "name": "stdout",
     "output_type": "stream",
     "text": [
      "✅ Conectado à conta\n",
      "\n",
      "UserId: AROAWIUHO6CVULDIIR3FL:user4308167=ricardviana1@gmail.com\n",
      "Account: 430854566059\n",
      "Arn: arn:aws:sts::430854566059:assumed-role/voclabs/user4308167=ricardviana1@gmail.com\n"
     ]
    }
   ],
   "source": [
    "# Validar conexão com a AWS --> credentials\n",
    "try:\n",
    "    session = boto3.Session(profile_name=\"academy\")\n",
    "    sts = session.client(\"sts\")\n",
    "    identity = sts.get_caller_identity()\n",
    "    print(\"✅ Conectado à conta\\n\")\n",
    "    print(\"UserId:\", identity[\"UserId\"])\n",
    "    print(\"Account:\", identity[\"Account\"])\n",
    "    print(\"Arn:\", identity[\"Arn\"])\n",
    "\n",
    "except (BotoCoreError, ClientError) as e:\n",
    "    print(\"❌ Erro ao conectar à AWS. Verifique suas credenciais e tente novamente.\")\n",
    "    print(\"Detalhes do erro:\", e)\n"
   ]
  },
  {
   "cell_type": "code",
   "execution_count": 4,
   "id": "59e21536",
   "metadata": {},
   "outputs": [
    {
     "name": "stdout",
     "output_type": "stream",
     "text": [
      "✅ Conectado à conta\n",
      "\n",
      "UserId: AROAWIUHO6CVULDIIR3FL:user4308167=ricardviana1@gmail.com\n",
      "Account: 430854566059\n",
      "Arn: arn:aws:sts::430854566059:assumed-role/voclabs/user4308167=ricardviana1@gmail.com\n"
     ]
    }
   ],
   "source": [
    "# Validar conexão com a AWS --> .env\n",
    "load_dotenv()\n",
    "\n",
    "try:\n",
    "    sts_client = boto3.client(\n",
    "        'sts',\n",
    "        aws_access_key_id=os.getenv('AWS_ACCESS_KEY_ID'),\n",
    "        aws_secret_access_key=os.getenv('AWS_SECRET_ACCESS_KEY'),\n",
    "        aws_session_token=os.getenv('AWS_SESSION_TOKEN'),\n",
    "        region_name=os.getenv('AWS_REGION')\n",
    "    )\n",
    "    \n",
    "    session = boto3.Session(profile_name=\"academy\")\n",
    "    sts = session.client(\"sts\")\n",
    "    identity = sts_client.get_caller_identity()\n",
    "    print(\"✅ Conectado à conta\\n\")\n",
    "    print(\"UserId:\", identity[\"UserId\"])\n",
    "    print(\"Account:\", identity[\"Account\"])\n",
    "    print(\"Arn:\", identity[\"Arn\"])\n",
    "\n",
    "except (BotoCoreError, ClientError) as e:\n",
    "    print(\"❌ Erro ao conectar à AWS. Verifique suas credenciais e tente novamente.\")\n",
    "    print(\"Detalhes do erro:\", e)\n"
   ]
  },
  {
   "cell_type": "code",
   "execution_count": 5,
   "id": "9179913e",
   "metadata": {},
   "outputs": [
    {
     "name": "stdout",
     "output_type": "stream",
     "text": [
      "✅ Conectado com sucesso: PostgreSQL 17.4 on x86_64-pc-linux-gnu, compiled by gcc (GCC) 12.4.0, 64-bit\n",
      "📄 Tabelas no banco:\n",
      "  - questionario_pnad_covid\n"
     ]
    }
   ],
   "source": [
    "# Criar a engine para conexão ao banco de dados usando\n",
    "load_dotenv()\n",
    "\n",
    "usuario = os.getenv(\"POSTGRES_USER_PNAD\")\n",
    "senha = os.getenv(\"POSTGRES_PASSWORD_PNAD\")\n",
    "host = os.getenv(\"POSTGRES_HOST_PNAD\")\n",
    "porta = os.getenv(\"POSTGRES_PORT_PNAD\")\n",
    "banco = os.getenv(\"POSTGRES_DB_PNAD\")\n",
    "\n",
    "engine = create_engine(f\"postgresql+psycopg2://{usuario}:{senha}@{host}:{porta}/{banco}\")\n",
    "\n",
    "# Testar a conexão\n",
    "test_connection(engine)"
   ]
  },
  {
   "cell_type": "markdown",
   "id": "97e412ee",
   "metadata": {},
   "source": [
    "#### Realizar o processo de ETL"
   ]
  },
  {
   "cell_type": "code",
   "execution_count": null,
   "id": "5a06e062",
   "metadata": {},
   "outputs": [
    {
     "name": "stdout",
     "output_type": "stream",
     "text": [
      "Buscando lista de arquivos em: https://api.github.com/repos/RicardViana/fiap-Big-Data/contents/PNAD-COVID/Microdados\n",
      "\n",
      "Processando: PNAD_COVID_052020.zip ---\n",
      "Arquivo CSV encontrado: PNAD_COVID_052020.csv\n",
      "Enviando para o S3 em: 'bronze/PNAD_COVID_052020.csv'...\n",
      "✅ Sucesso! Arquivo enviado para s3://tech-challenge-430854566059/bronze/PNAD_COVID_052020.csv\n",
      "\n",
      "Processando: PNAD_COVID_062020.zip ---\n",
      "Arquivo CSV encontrado: PNAD_COVID_062020.csv\n",
      "Enviando para o S3 em: 'bronze/PNAD_COVID_062020.csv'...\n",
      "✅ Sucesso! Arquivo enviado para s3://tech-challenge-430854566059/bronze/PNAD_COVID_062020.csv\n",
      "\n",
      "Processando: PNAD_COVID_072020.zip ---\n",
      "Arquivo CSV encontrado: PNAD_COVID_072020.csv\n",
      "Enviando para o S3 em: 'bronze/PNAD_COVID_072020.csv'...\n",
      "✅ Sucesso! Arquivo enviado para s3://tech-challenge-430854566059/bronze/PNAD_COVID_072020.csv\n",
      "\n",
      "Processando: PNAD_COVID_082020.zip ---\n",
      "Arquivo CSV encontrado: PNAD_COVID_082020.csv\n",
      "Enviando para o S3 em: 'bronze/PNAD_COVID_082020.csv'...\n",
      "✅ Sucesso! Arquivo enviado para s3://tech-challenge-430854566059/bronze/PNAD_COVID_082020.csv\n",
      "\n",
      "Processando: PNAD_COVID_092020.zip ---\n",
      "Arquivo CSV encontrado: PNAD_COVID_092020.csv\n",
      "Enviando para o S3 em: 'bronze/PNAD_COVID_092020.csv'...\n",
      "✅ Sucesso! Arquivo enviado para s3://tech-challenge-430854566059/bronze/PNAD_COVID_092020.csv\n",
      "\n",
      "Processando: PNAD_COVID_102020.zip ---\n",
      "Arquivo CSV encontrado: PNAD_COVID_102020.csv\n",
      "Enviando para o S3 em: 'bronze/PNAD_COVID_102020.csv'...\n",
      "✅ Sucesso! Arquivo enviado para s3://tech-challenge-430854566059/bronze/PNAD_COVID_102020.csv\n",
      "\n",
      "Processando: PNAD_COVID_112020.zip ---\n",
      "Arquivo CSV encontrado: PNAD_COVID_112020.csv\n",
      "Enviando para o S3 em: 'bronze/PNAD_COVID_112020.csv'...\n",
      "✅ Sucesso! Arquivo enviado para s3://tech-challenge-430854566059/bronze/PNAD_COVID_112020.csv\n",
      "\n",
      "--- Processo de ETL para o S3 concluído! ---\n"
     ]
    }
   ],
   "source": [
    "api_url = 'https://api.github.com/repos/RicardViana/fiap-Big-Data/contents/PNAD-COVID/Microdados'\n",
    "\n",
    "# Nome do seu bucket S3 e da subpasta de destino (SEPARADOS)\n",
    "s3_bucket = 'tech-challenge-430854566059'\n",
    "s3_subpasta = 'bronze'\n",
    "\n",
    "# Inicializa o cliente do S3\n",
    "s3_client = boto3.client(\n",
    "    's3',\n",
    "    aws_access_key_id=os.getenv('AWS_ACCESS_KEY_ID'),\n",
    "    aws_secret_access_key=os.getenv('AWS_SECRET_ACCESS_KEY'),\n",
    "    aws_session_token=os.getenv('AWS_SESSION_TOKEN'),\n",
    "    region_name=os.getenv('AWS_REGION')\n",
    ")\n",
    "\n",
    "print(f\"Buscando lista de arquivos em: {api_url}\")\n",
    "response = requests.get(api_url)\n",
    "response.raise_for_status()\n",
    "files = response.json()\n",
    "\n",
    "# Itera sobre cada item no diretório do GitHub\n",
    "for file_info in files:\n",
    "\n",
    "    if file_info['name'].endswith('.zip'):\n",
    "        zip_name = file_info['name']\n",
    "        zip_url = file_info['download_url']\n",
    "        \n",
    "        print(f\"\\nProcessando: {zip_name}\")\n",
    "        \n",
    "        try:\n",
    "            r_zip = requests.get(zip_url)\n",
    "            r_zip.raise_for_status()\n",
    "            zip_content = io.BytesIO(r_zip.content)\n",
    "\n",
    "            with zipfile.ZipFile(zip_content) as z:\n",
    "                csv_filename = [f for f in z.namelist() if f.endswith('.csv')][0]\n",
    "                print(f\"Arquivo CSV encontrado: {csv_filename}\")\n",
    "\n",
    "                csv_content_bytes = z.read(csv_filename)\n",
    "        \n",
    "                caminho_completo_s3 = f\"{s3_subpasta}/{csv_filename}\"\n",
    "                \n",
    "                print(f\"Enviando para o S3 em: '{caminho_completo_s3}'...\")\n",
    "                s3_client.put_object(\n",
    "                    Bucket=s3_bucket,\n",
    "                    Key=caminho_completo_s3,\n",
    "                    Body=csv_content_bytes\n",
    "                )\n",
    "                print(f\"✅ Sucesso! Arquivo enviado para s3://{s3_bucket}/{caminho_completo_s3}\")\n",
    "        \n",
    "        except Exception as e:\n",
    "            print(f\"ERRO: Ocorreu um erro inesperado ao processar {zip_name}. Erro: {e}\")\n",
    "\n",
    "print(\"\\nProcesso de ETL para o S3 concluído!\")"
   ]
  },
  {
   "cell_type": "code",
   "execution_count": null,
   "id": "ed7ae449",
   "metadata": {},
   "outputs": [],
   "source": [
    "# Carrega as variáveis do arquivo .env\n",
    "load_dotenv()\n",
    "\n",
    "# --- 1. CONFIGURAÇÕES ---\n",
    "# URL do arquivo CSV a ser baixado\n",
    "url_csv_uf = \"https://raw.githubusercontent.com/RicardViana/tabela-uf-ibge/refs/heads/main/codigo_uf.csv\"\n",
    "\n",
    "# Configurações do seu S3\n",
    "s3_bucket = 'tech-challenge-430854566059'\n",
    "s3_subpasta = 'bronze'\n",
    "nome_arquivo_s3 = 'codigo_uf.csv' # Nome que o arquivo terá no S3\n",
    "\n",
    "# Monta o caminho completo no S3\n",
    "caminho_completo_s3 = f\"{s3_subpasta}/{nome_arquivo_s3}\"\n",
    "\n",
    "# --- 2. PROCESSO DE UPLOAD ---\n",
    "try:\n",
    "    # Passo 1: Baixar o conteúdo do arquivo da URL para a memória\n",
    "    print(f\"Baixando o arquivo CSV de: {url_csv_uf}\")\n",
    "    response = requests.get(url_csv_uf)\n",
    "    response.raise_for_status()  # Verifica se o download foi bem-sucedido\n",
    "    \n",
    "    # O conteúdo do arquivo já vem em 'bytes', pronto para o upload\n",
    "    csv_content_bytes = response.content\n",
    "\n",
    "    # Passo 2: Inicializar o cliente do S3\n",
    "    print(\"Conectando ao S3...\")\n",
    "    s3_client = boto3.client(\n",
    "        's3',\n",
    "        aws_access_key_id=os.getenv('AWS_ACCESS_KEY_ID'),\n",
    "        aws_secret_access_key=os.getenv('AWS_SECRET_ACCESS_KEY'),\n",
    "        aws_session_token=os.getenv('AWS_SESSION_TOKEN'),\n",
    "        region_name=os.getenv('AWS_REGION')\n",
    "    )\n",
    "\n",
    "    # Passo 3: Enviar o conteúdo para o S3\n",
    "    print(f\"Enviando '{nome_arquivo_s3}' para s3://{s3_bucket}/{s3_subpasta}/...\")\n",
    "    s3_client.put_object(\n",
    "        Bucket=s3_bucket,\n",
    "        Key=caminho_completo_s3,\n",
    "        Body=csv_content_bytes\n",
    "    )\n",
    "\n",
    "    print(f\"✅ Sucesso! Arquivo '{nome_arquivo_s3}' carregado na camada Bronze.\")\n",
    "\n",
    "except requests.exceptions.RequestException as e:\n",
    "    print(f\"❌ ERRO: Falha ao baixar o arquivo da URL. Erro: {e}\")\n",
    "except (BotoCoreError, ClientError) as e:\n",
    "    print(f\"❌ ERRO: Falha ao conectar ou enviar o arquivo para o S3. Verifique suas credenciais. Erro: {e}\")\n",
    "except Exception as e:\n",
    "    print(f\"❌ ERRO: Ocorreu um erro inesperado. Erro: {e}\")"
   ]
  },
  {
   "cell_type": "code",
   "execution_count": null,
   "id": "fb0d492c",
   "metadata": {},
   "outputs": [],
   "source": [
    "# Carrega as variáveis do arquivo .env\n",
    "load_dotenv()\n",
    "\n",
    "# --- 1. CONFIGURAÇÃO DE CREDENCIAIS E CAMINHOS ---\n",
    "\n",
    "# Opções de armazenamento para o Pandas usar as credenciais do Boto3\n",
    "# (Adaptado para usar as credenciais do .env que já configuramos)\n",
    "storage_options = {\n",
    "    \"key\": os.getenv('AWS_ACCESS_KEY_ID'),\n",
    "    \"secret\": os.getenv('AWS_SECRET_ACCESS_KEY'),\n",
    "    \"token\": os.getenv('AWS_SESSION_TOKEN')\n",
    "}\n",
    "\n",
    "# Definição dos seus caminhos (prefixos) no S3\n",
    "BRONZE_PREFIX = 's3://tech-challenge-430854566059/bronze/'\n",
    "LOOKUP_PREFIX = 's3://tech-challenge-430854566059/lookup/'\n",
    "SILVER_PREFIX = 's3://tech-challenge-430854566059/silver/'\n",
    "\n",
    "# --- 2. LEITURA E CONSOLIDAÇÃO DA CAMADA BRONZE ---\n",
    "\n",
    "# Listar todos os arquivos CSV na pasta bronze\n",
    "# Para isso, usamos o Boto3\n",
    "s3_client = boto3.client('s3', **storage_options)\n",
    "bucket_name = 'tech-challenge-430854566059'\n",
    "response = s3_client.list_objects_v2(Bucket=bucket_name, Prefix='bronze/')\n",
    "bronze_files = [obj['Key'] for obj in response.get('Contents', []) if obj['Key'].endswith('.csv')]\n",
    "\n",
    "# Ler cada arquivo CSV do S3 e consolidar\n",
    "lista_de_dataframes = []\n",
    "print(\"Lendo arquivos da camada Bronze no S3...\")\n",
    "for file_key in bronze_files:\n",
    "    file_path = f\"s3://{bucket_name}/{file_key}\"\n",
    "    print(f\"  - Lendo {file_path}\")\n",
    "    df_temp = pd.read_csv(file_path, storage_options=storage_options, sep=',')\n",
    "    lista_de_dataframes.append(df_temp)\n",
    "\n",
    "df_consolidado = pd.concat(lista_de_dataframes, ignore_index=True)\n",
    "print(f\"\\nConsolidação concluída. {len(df_consolidado)} linhas lidas da camada Bronze.\")\n",
    "\n",
    "# --- 3. LEITURA DA TABELA DE LOOKUP ---\n",
    "\n",
    "link_codigo_uf = f\"{LOOKUP_PREFIX}codigo_uf.csv\"\n",
    "print(f\"Lendo tabela de lookup de: {link_codigo_uf}\")\n",
    "df_uf = pd.read_csv(link_codigo_uf, sep=\",\", storage_options=storage_options)\n",
    "\n",
    "# --- 4. TRANSFORMAÇÃO E ENRIQUECIMENTO (SUA LÓGICA) ---\n",
    "\n",
    "print(\"Iniciando enriquecimento dos dados (merge com UF)...\")\n",
    "# Relacionar os dados data frame (exatamente como você fez)\n",
    "df_silver = pd.merge(\n",
    "    df_consolidado,\n",
    "    df_uf,\n",
    "    how='left',\n",
    "    left_on='UF', \n",
    "    right_on='Código'\n",
    ")\n",
    "\n",
    "# Remover colunas não necessárias e renomear\n",
    "df_silver = df_silver.drop(columns=[\"Código\"])\n",
    "df_silver = df_silver.rename(columns={\"UF_x\": \"UF\", \"UF_y\": \"UF_Nome\"})\n",
    "print(\"Enriquecimento concluído.\")\n",
    "\n",
    "# --- 5. SALVAR A CAMADA SILVER NO S3 ---\n",
    "\n",
    "caminho_saida_silver = SILVER_PREFIX + 'pnad_consolidado_enriquecido.parquet'\n",
    "print(f\"\\nSalvando dados da camada Silver em: {caminho_saida_silver}\")\n",
    "\n",
    "# Salvar o DataFrame transformado como um arquivo Parquet no S3\n",
    "df_silver.to_parquet(\n",
    "    caminho_saida_silver,\n",
    "    index=False,\n",
    "    storage_options=storage_options\n",
    ")\n",
    "\n",
    "print(\"✅ Sucesso! Camada Silver criada e salva no S3.\")"
   ]
  }
 ],
 "metadata": {
  "kernelspec": {
   "display_name": "ambiente_fase3",
   "language": "python",
   "name": "python3"
  },
  "language_info": {
   "codemirror_mode": {
    "name": "ipython",
    "version": 3
   },
   "file_extension": ".py",
   "mimetype": "text/x-python",
   "name": "python",
   "nbconvert_exporter": "python",
   "pygments_lexer": "ipython3",
   "version": "3.11.10"
  }
 },
 "nbformat": 4,
 "nbformat_minor": 5
}
