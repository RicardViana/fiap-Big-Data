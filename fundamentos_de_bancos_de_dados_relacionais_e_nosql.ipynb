{
 "cells": [
  {
   "cell_type": "markdown",
   "id": "89d6ca84",
   "metadata": {},
   "source": [
    "#### **Fundamentos de Bancos de Dados Relacionais e NoSQL**"
   ]
  },
  {
   "cell_type": "markdown",
   "id": "dd59115f",
   "metadata": {},
   "source": [
    "#### **Conteúdo - Bases e Notebook da aula**\n",
    "\n",
    "https://github.com/FIAP/Pos_Tech_DTAT/tree/main/Fase%203"
   ]
  },
  {
   "cell_type": "markdown",
   "id": "a770d68e",
   "metadata": {},
   "source": [
    "#### **Importação de pacotes, bibliotecas e funções (def)**"
   ]
  },
  {
   "cell_type": "code",
   "execution_count": 1,
   "id": "ad5ca788",
   "metadata": {},
   "outputs": [],
   "source": [
    "# Importar biblioteca completa\n",
    "import boto3\n",
    "import pandas as pd\n",
    "import os\n",
    "import plotly.express as px\n",
    "import requests\n",
    "import botocore\n",
    "import psycopg2\n",
    "import numpy as np\n",
    "import duckdb\n",
    "\n",
    "# Importar função especifica de um módulo\n",
    "from botocore.exceptions import BotoCoreError, ClientError\n",
    "from sqlalchemy import create_engine, text, inspect\n",
    "from dotenv import load_dotenv\n",
    "from io import StringIO\n",
    "from datetime import datetime\n"
   ]
  },
  {
   "cell_type": "code",
   "execution_count": 2,
   "id": "0efdef87",
   "metadata": {},
   "outputs": [],
   "source": [
    "# Testar a conexão ao banco de dados\n",
    "def test_connection(engine):\n",
    "\n",
    "    try:\n",
    "        with engine.connect() as connection:\n",
    "            \n",
    "            # Testar a versão do PostgreSQL\n",
    "            result = connection.execute(text(\"SELECT version();\"))\n",
    "            versao = result.fetchone()\n",
    "            print(\"✅ Conectado com sucesso:\", versao[0])\n",
    "\n",
    "            # Listar as tabelas no schema público\n",
    "            result = connection.execute(text(\"\"\"\n",
    "                SELECT table_name\n",
    "                FROM information_schema.tables\n",
    "                WHERE table_schema = 'public';\n",
    "            \"\"\"))\n",
    "            tabelas = result.fetchall()\n",
    "            print(\"📄 Tabelas no banco:\")\n",
    "            for tabela in tabelas:\n",
    "                print(\"  -\", tabela[0])\n",
    "\n",
    "    except Exception as e:\n",
    "        print(\"❌ Erro ao executar comandos:\", e)\n"
   ]
  },
  {
   "cell_type": "markdown",
   "id": "41dfe187",
   "metadata": {},
   "source": [
    "#### **Instalação do AWS CLI (Opcional, mas Recomendado)**"
   ]
  },
  {
   "cell_type": "markdown",
   "id": "84c64a44",
   "metadata": {},
   "source": [
    "Para rodar comandos da AWS no terminal para testar credenciais, criar buckets ou consultar recursos instale o **AWS CLI v2**.\n",
    "\n",
    "##### **macOS / Linux (zsh ou bash)**\n",
    "\n",
    "**Instalação com Homebrew (recomendado para macOS)**\n",
    "```bash\n",
    "brew install awscli\n",
    "```\n",
    "\n",
    "##### **Instalação manual**\n",
    "```bash\n",
    "curl \"https://awscli.amazonaws.com/AWSCLIV2.pkg\" -o \"AWSCLIV2.pkg\"\n",
    "sudo installer -pkg AWSCLIV2.pkg -target /\n",
    "```\n",
    "\n",
    "##### **Verificar instalação**\n",
    "```bash\n",
    "aws --version\n",
    "```\n",
    "\n",
    "##### **Windows**\n",
    "\n",
    "1. Baixe o instalador: [AWS CLI v2](https://awscli.amazonaws.com/AWSCLIV2.msi)\n",
    "2. Execute o instalador e finalize.\n",
    "3. Teste no PowerShell:\n",
    "```bash\n",
    "aws --version\n",
    "```\n",
    "\n",
    "##### **Testar credenciais**\n",
    "Após instalar o **AWS CLI**, teste o perfil `academy` criado:\n",
    "\n",
    "```bash\n",
    "aws sts get-caller-identity --profile academy\n",
    "```\n",
    "\n",
    "Se retornar o **Account ID** e o **ARN**, as credenciais estão funcionando ✅"
   ]
  },
  {
   "cell_type": "markdown",
   "id": "8c2044ca",
   "metadata": {},
   "source": [
    "#### **Credenciais do AWS Academy** "
   ]
  },
  {
   "cell_type": "markdown",
   "id": "43e5cf04",
   "metadata": {},
   "source": [
    "Para seguir com as etapas desse notebook será necessario pegar as credencias do AWS Academy e criar o arquivo com essas credencias:\n",
    "\n",
    "**1. Pegar credenciais do AWS Academy**  \n",
    "1. Acesse [AWS Academy](https://awsacademy.instructure.com/)\n",
    "2. Acesse a opção **Cursos** no lado esquerdo e acesse o seu respectivo curso\n",
    "3. Acessa a opçãp **Módulos**\n",
    "4. Acesse a opção **Iniciar os laboratórios de aprendizagem da AWS Academy**\n",
    "5. Clique em **Start Lab**\n",
    "6. Clique em **AWS Details**\n",
    "7. Clique em **AWS CLI: Show** e copie:\n",
    "   - **AWS Access Key ID**\n",
    "   - **AWS Secret Access Key**\n",
    "   - **Session Token**\n",
    "\n",
    "⚠️ As credenciais são temporárias (válidas por 3 horas).\n",
    "\n",
    "**2. Criar arquivo de credenciais**  \n",
    "\n",
    "Crie o arquivo **`credentials`** no caminho:\n",
    "\n",
    "- **macOS/Linux:** `~/.aws/credentials`\n",
    "- **Windows:** `%USERPROFILE%\\.aws\\credentials`\n",
    "\n",
    "⚠️ Salvar o arquivo sem formato --> Na opçãp Tipo deixar Todos os arquivos\n",
    "\n",
    "**3. Conteúdo do arquivo**\n",
    "```ini\n",
    "[academy]\n",
    "aws_access_key_id = SUA_ACCESS_KEY\n",
    "aws_secret_access_key = SUA_SECRET_KEY\n",
    "aws_session_token = SEU_SESSION_TOKEN\n",
    "region = sa-east-1\n",
    "output = json\n",
    "```\n",
    "\n",
    "**4. Testar configuração**\n",
    "```bash\n",
    "aws sts get-caller-identity --profile academy\n",
    "```\n",
    "\n",
    "Se tudo estiver certo, rode o notebook.  \n",
    "Agora ele **usa automaticamente o perfil `academy`** para se conectar à AWS."
   ]
  },
  {
   "cell_type": "markdown",
   "id": "680f092b",
   "metadata": {},
   "source": [
    "#### **Testar conexão AWS via Python**"
   ]
  },
  {
   "cell_type": "code",
   "execution_count": 3,
   "id": "02baef19",
   "metadata": {},
   "outputs": [
    {
     "name": "stdout",
     "output_type": "stream",
     "text": [
      "✅ Conectado à conta\n",
      "\n",
      "UserId: AROAWIUHO6CVULDIIR3FL:user4308167=ricardviana1@gmail.com\n",
      "Account: 430854566059\n",
      "Arn: arn:aws:sts::430854566059:assumed-role/voclabs/user4308167=ricardviana1@gmail.com\n"
     ]
    }
   ],
   "source": [
    "# Validar conexão\n",
    "try:\n",
    "    session = boto3.Session(profile_name=\"academy\")\n",
    "    sts = session.client(\"sts\")\n",
    "    identity = sts.get_caller_identity()\n",
    "    print(\"✅ Conectado à conta\\n\")\n",
    "    print(\"UserId:\", identity[\"UserId\"])\n",
    "    print(\"Account:\", identity[\"Account\"])\n",
    "    print(\"Arn:\", identity[\"Arn\"])\n",
    "\n",
    "except (BotoCoreError, ClientError) as e:\n",
    "    print(\"❌ Erro ao conectar à AWS. Verifique suas credenciais e tente novamente.\")\n",
    "    print(\"Detalhes do erro:\", e)\n"
   ]
  },
  {
   "cell_type": "markdown",
   "id": "fe6164f6",
   "metadata": {},
   "source": [
    "#### **Configuração do PostgreSQL na AWS RDS**"
   ]
  },
  {
   "cell_type": "markdown",
   "id": "427e99a5",
   "metadata": {},
   "source": [
    "##### 1. **Criar instância RDS com PostgreSQL (SandBox)**\n",
    "\n",
    "1. Acesse o console AWS → [https://us-east-1.console.aws.amazon.com/rds/home?region=us-east-1#](https://console.aws.amazon.com/rds/)\n",
    "2. Clique em **Criar banco de dados**\n",
    "3. Selecione:\n",
    "   - **Tipo de banco:** PostgreSQL\n",
    "   - **Versão:** PostgreSQL 15 (ou mais recente)\n",
    "   - **Modelo de uso:** SandBox\n",
    "   - **Identificador da instância:** `postgres-db`\n",
    "   - **Usuário:** `postgres`\n",
    "   - **Senha:** crie uma senha segura\n",
    "4. Tipo de instância: `db.t3.micro`\n",
    "5. Armazenamento: 20 GB (SSD General Purpose)\n",
    "6. **Acesso público:** Habilitado (Sim)\n",
    "7. **Nome do banco de dados inicial:** `db_relacional`\n",
    "8. Clique em **Criar banco de dados**"
   ]
  },
  {
   "cell_type": "markdown",
   "id": "8f3f5cd6",
   "metadata": {},
   "source": [
    "##### **2. Liberar o IP na VPC / Grupo de Segurança (Security Group)**\n",
    "\n",
    "1. Vá para **EC2 > Grupos de Segurança**\n",
    "2. Encontre o grupo associado à instância RDS\n",
    "3. Clique em **Editar regras de entrada**\n",
    "4. Adicione uma nova regra:\n",
    "   - Tipo: `PostgreSQL`\n",
    "   - Porta: `5432`\n",
    "   - Origem: `Seu IP` (ou `0.0.0.0/0` temporariamente para teste – cuidado com isso em produção)\n",
    "5. Salve as alterações.\n",
    "\n",
    "✅ Agora o acesso externo ao banco estará liberado para seu IP"
   ]
  },
  {
   "cell_type": "markdown",
   "id": "5546cb69",
   "metadata": {},
   "source": [
    "##### **3. Copie o Endpoint da RDS**\n",
    "\n",
    "1. Volte ao RDS > Banco de dados > `bd-relacional`\n",
    "2. Copie o valor do campo **Endpoint** (algo como `bd-relacional.xxxxxx.us-east-1.rds.amazonaws.com`)\n",
    "3. Use esse endpoint no notebook para se conectar com o PostgreSQL"
   ]
  },
  {
   "cell_type": "markdown",
   "id": "d029bb20",
   "metadata": {},
   "source": [
    "#### **Aula 1 - Introdução ao Banco De Dados Relacionais**"
   ]
  },
  {
   "cell_type": "markdown",
   "id": "83d94c24",
   "metadata": {},
   "source": [
    "##### **Conectar ao PostgreSQL via RDS + Executar Comandos SQL**"
   ]
  },
  {
   "cell_type": "code",
   "execution_count": 4,
   "id": "bf802d16",
   "metadata": {},
   "outputs": [],
   "source": [
    "# Criar a engine para conexão ao banco de dados usando .env\n",
    "\n",
    "load_dotenv()\n",
    "\n",
    "usuario = os.getenv(\"POSTGRES_USER\")\n",
    "senha = os.getenv(\"POSTGRES_PASSWORD\")\n",
    "host = os.getenv(\"POSTGRES_HOST\")\n",
    "porta = os.getenv(\"POSTGRES_PORT\")\n",
    "banco = os.getenv(\"POSTGRES_DB\")\n",
    "\n",
    "engine = create_engine(f\"postgresql+psycopg2://{usuario}:{senha}@{host}:{porta}/{banco}\")"
   ]
  },
  {
   "cell_type": "code",
   "execution_count": 5,
   "id": "2a93819c",
   "metadata": {},
   "outputs": [
    {
     "name": "stdout",
     "output_type": "stream",
     "text": [
      "✅ Conectado com sucesso: PostgreSQL 17.4 on x86_64-pc-linux-gnu, compiled by gcc (GCC) 12.4.0, 64-bit\n",
      "📄 Tabelas no banco:\n",
      "  - dim_cliente\n",
      "  - dim_produto\n",
      "  - fato_pedidos\n",
      "  - itens_pedido\n",
      "  - pedidos\n",
      "  - produtos\n",
      "  - clientes\n",
      "  - tipos_produto\n"
     ]
    }
   ],
   "source": [
    "# Testar a conexão\n",
    "test_connection(engine)"
   ]
  },
  {
   "cell_type": "code",
   "execution_count": 6,
   "id": "c3b6a21d",
   "metadata": {},
   "outputs": [
    {
     "name": "stdout",
     "output_type": "stream",
     "text": [
      "🗑️ Todas as tabelas foram deletadas com sucesso.\n",
      "✅ Tabela 'tipos_produto' criada com sucesso!\n",
      "✅ Tabela 'produtos' criada com sucesso!\n",
      "✅ Tabela 'clientes' criada com sucesso!\n",
      "✅ Tabela 'pedidos' criada com sucesso!\n",
      "✅ Tabela 'itens_pedido' criada com sucesso!\n"
     ]
    }
   ],
   "source": [
    "# Dropar as tabelas --> CASCADE garante que todas as dependências (FKs) sejam eliminadas junto com a tabela\n",
    "drop_script = \"\"\"\n",
    "DROP TABLE IF EXISTS itens_pedido CASCADE;\n",
    "DROP TABLE IF EXISTS pedidos CASCADE;\n",
    "DROP TABLE IF EXISTS produtos CASCADE;\n",
    "DROP TABLE IF EXISTS clientes CASCADE;\n",
    "DROP TABLE IF EXISTS tipos_produto CASCADE;\n",
    "\"\"\"\n",
    "\n",
    "conn = engine.raw_connection()\n",
    "try:\n",
    "    cursor = conn.cursor()\n",
    "    cursor.execute(drop_script)\n",
    "    conn.commit()\n",
    "    print(\"🗑️ Todas as tabelas foram deletadas com sucesso.\")\n",
    "finally:\n",
    "    cursor.close()\n",
    "    conn.close()\n",
    "\n",
    "# Listar de comandos individuais\n",
    "ddl_commands = [\n",
    "    \"\"\"\n",
    "    CREATE TABLE IF NOT EXISTS tipos_produto (\n",
    "      id_tipo SERIAL PRIMARY KEY,\n",
    "      nome_tipo VARCHAR(50) NOT NULL\n",
    "    );\n",
    "    \"\"\",\n",
    "    \"\"\"\n",
    "    CREATE TABLE IF NOT EXISTS produtos (\n",
    "      id_produto SERIAL PRIMARY KEY,\n",
    "      nome_produto VARCHAR(100) NOT NULL,\n",
    "      preco DECIMAL(10,2) NOT NULL,\n",
    "      id_tipo INT REFERENCES tipos_produto(id_tipo)\n",
    "    );\n",
    "    \"\"\",\n",
    "    \"\"\"\n",
    "    CREATE TABLE IF NOT EXISTS clientes (\n",
    "      id_cliente SERIAL PRIMARY KEY,\n",
    "      nome VARCHAR(100) NOT NULL,\n",
    "      email VARCHAR(100),\n",
    "      telefone VARCHAR(20), \n",
    "      cidade VARCHAR(100) NOT NULL, \n",
    "      estado VARCHAR(2) NOT NULL\n",
    "    );\n",
    "    \"\"\",\n",
    "    \"\"\"\n",
    "    CREATE TABLE IF NOT EXISTS pedidos (\n",
    "      id_pedido SERIAL PRIMARY KEY,\n",
    "      data_pedido DATE NOT NULL,\n",
    "      status VARCHAR(20) NOT NULL,\n",
    "      id_cliente INT NOT NULL REFERENCES clientes(id_cliente)\n",
    "    );\n",
    "    \"\"\",\n",
    "    \"\"\"\n",
    "    CREATE TABLE IF NOT EXISTS itens_pedido (\n",
    "    id_item SERIAL PRIMARY KEY,\n",
    "    id_pedido INT NOT NULL,\n",
    "    id_produto INT NOT NULL,\n",
    "    quantidade INT NOT NULL,\n",
    "    preco_unitario DECIMAL(10,2) NOT NULL,\n",
    "    CONSTRAINT fk_pedido FOREIGN KEY (id_pedido) REFERENCES pedidos(id_pedido) ON DELETE CASCADE,\n",
    "    CONSTRAINT fk_produto FOREIGN KEY (id_produto) REFERENCES produtos(id_produto) ON DELETE CASCADE\n",
    "    );\n",
    "\n",
    "    \"\"\"\n",
    "]\n",
    "\n",
    "# Lista de nomes das tabelas na mesma ordem dos comandos\n",
    "table_names = [\n",
    "    \"tipos_produto\",\n",
    "    \"produtos\",\n",
    "    \"clientes\",\n",
    "    \"pedidos\",\n",
    "    \"itens_pedido\"\n",
    "]\n",
    "\n",
    "with engine.begin() as conn:\n",
    "    for cmd, table in zip(ddl_commands, table_names):\n",
    "        conn.execute(text(cmd))\n",
    "        print(f\"✅ Tabela '{table}' criada com sucesso!\")"
   ]
  },
  {
   "cell_type": "code",
   "execution_count": 7,
   "id": "d32758d2",
   "metadata": {},
   "outputs": [
    {
     "data": {
      "application/vnd.microsoft.datawrangler.viewer.v0+json": {
       "columns": [
        {
         "name": "index",
         "rawType": "int64",
         "type": "integer"
        },
        {
         "name": "table_schema",
         "rawType": "object",
         "type": "string"
        },
        {
         "name": "table_name",
         "rawType": "object",
         "type": "string"
        },
        {
         "name": "column_name",
         "rawType": "object",
         "type": "string"
        },
        {
         "name": "constraint_name",
         "rawType": "object",
         "type": "string"
        }
       ],
       "ref": "43eac790-6037-434a-9f6e-8f5238c10d67",
       "rows": [
        [
         "0",
         "public",
         "tipos_produto",
         "id_tipo",
         "tipos_produto_pkey"
        ],
        [
         "1",
         "public",
         "produtos",
         "id_produto",
         "produtos_pkey"
        ],
        [
         "2",
         "public",
         "clientes",
         "id_cliente",
         "clientes_pkey"
        ],
        [
         "3",
         "public",
         "pedidos",
         "id_pedido",
         "pedidos_pkey"
        ],
        [
         "4",
         "public",
         "dim_cliente",
         "id_cliente",
         "dim_cliente_pkey"
        ],
        [
         "5",
         "public",
         "dim_produto",
         "id_produto",
         "dim_produto_pkey"
        ],
        [
         "6",
         "public",
         "fato_pedidos",
         "id_pedido",
         "fato_pedidos_pkey"
        ],
        [
         "7",
         "public",
         "itens_pedido",
         "id_item",
         "itens_pedido_pkey"
        ]
       ],
       "shape": {
        "columns": 4,
        "rows": 8
       }
      },
      "text/html": [
       "<div>\n",
       "<style scoped>\n",
       "    .dataframe tbody tr th:only-of-type {\n",
       "        vertical-align: middle;\n",
       "    }\n",
       "\n",
       "    .dataframe tbody tr th {\n",
       "        vertical-align: top;\n",
       "    }\n",
       "\n",
       "    .dataframe thead th {\n",
       "        text-align: right;\n",
       "    }\n",
       "</style>\n",
       "<table border=\"1\" class=\"dataframe\">\n",
       "  <thead>\n",
       "    <tr style=\"text-align: right;\">\n",
       "      <th></th>\n",
       "      <th>table_schema</th>\n",
       "      <th>table_name</th>\n",
       "      <th>column_name</th>\n",
       "      <th>constraint_name</th>\n",
       "    </tr>\n",
       "  </thead>\n",
       "  <tbody>\n",
       "    <tr>\n",
       "      <th>0</th>\n",
       "      <td>public</td>\n",
       "      <td>tipos_produto</td>\n",
       "      <td>id_tipo</td>\n",
       "      <td>tipos_produto_pkey</td>\n",
       "    </tr>\n",
       "    <tr>\n",
       "      <th>1</th>\n",
       "      <td>public</td>\n",
       "      <td>produtos</td>\n",
       "      <td>id_produto</td>\n",
       "      <td>produtos_pkey</td>\n",
       "    </tr>\n",
       "    <tr>\n",
       "      <th>2</th>\n",
       "      <td>public</td>\n",
       "      <td>clientes</td>\n",
       "      <td>id_cliente</td>\n",
       "      <td>clientes_pkey</td>\n",
       "    </tr>\n",
       "    <tr>\n",
       "      <th>3</th>\n",
       "      <td>public</td>\n",
       "      <td>pedidos</td>\n",
       "      <td>id_pedido</td>\n",
       "      <td>pedidos_pkey</td>\n",
       "    </tr>\n",
       "    <tr>\n",
       "      <th>4</th>\n",
       "      <td>public</td>\n",
       "      <td>dim_cliente</td>\n",
       "      <td>id_cliente</td>\n",
       "      <td>dim_cliente_pkey</td>\n",
       "    </tr>\n",
       "    <tr>\n",
       "      <th>5</th>\n",
       "      <td>public</td>\n",
       "      <td>dim_produto</td>\n",
       "      <td>id_produto</td>\n",
       "      <td>dim_produto_pkey</td>\n",
       "    </tr>\n",
       "    <tr>\n",
       "      <th>6</th>\n",
       "      <td>public</td>\n",
       "      <td>fato_pedidos</td>\n",
       "      <td>id_pedido</td>\n",
       "      <td>fato_pedidos_pkey</td>\n",
       "    </tr>\n",
       "    <tr>\n",
       "      <th>7</th>\n",
       "      <td>public</td>\n",
       "      <td>itens_pedido</td>\n",
       "      <td>id_item</td>\n",
       "      <td>itens_pedido_pkey</td>\n",
       "    </tr>\n",
       "  </tbody>\n",
       "</table>\n",
       "</div>"
      ],
      "text/plain": [
       "  table_schema     table_name column_name     constraint_name\n",
       "0       public  tipos_produto     id_tipo  tipos_produto_pkey\n",
       "1       public       produtos  id_produto       produtos_pkey\n",
       "2       public       clientes  id_cliente       clientes_pkey\n",
       "3       public        pedidos   id_pedido        pedidos_pkey\n",
       "4       public    dim_cliente  id_cliente    dim_cliente_pkey\n",
       "5       public    dim_produto  id_produto    dim_produto_pkey\n",
       "6       public   fato_pedidos   id_pedido   fato_pedidos_pkey\n",
       "7       public   itens_pedido     id_item   itens_pedido_pkey"
      ]
     },
     "execution_count": 7,
     "metadata": {},
     "output_type": "execute_result"
    }
   ],
   "source": [
    "# Verificar as chaves primarias\n",
    "df_pks = pd.read_sql_query(\"\"\"\n",
    "SELECT \n",
    "    kcu.table_schema,\n",
    "    kcu.table_name,\n",
    "    kcu.column_name,\n",
    "    tc.constraint_name\n",
    "FROM information_schema.table_constraints tc\n",
    "JOIN information_schema.key_column_usage kcu\n",
    "  ON tc.constraint_name = kcu.constraint_name\n",
    "WHERE tc.constraint_type = 'PRIMARY KEY'\n",
    "  AND kcu.table_schema = 'public';\n",
    "\"\"\", con=engine)\n",
    "\n",
    "df_pks.head(10)"
   ]
  },
  {
   "cell_type": "code",
   "execution_count": 8,
   "id": "16b5cf31",
   "metadata": {},
   "outputs": [
    {
     "data": {
      "application/vnd.microsoft.datawrangler.viewer.v0+json": {
       "columns": [
        {
         "name": "index",
         "rawType": "int64",
         "type": "integer"
        },
        {
         "name": "tabela_origem",
         "rawType": "object",
         "type": "string"
        },
        {
         "name": "coluna_origem",
         "rawType": "object",
         "type": "string"
        },
        {
         "name": "tabela_referenciada",
         "rawType": "object",
         "type": "string"
        },
        {
         "name": "coluna_referenciada",
         "rawType": "object",
         "type": "string"
        }
       ],
       "ref": "0472493d-7cf6-4e35-856f-ced2da6dea27",
       "rows": [
        [
         "0",
         "produtos",
         "id_tipo",
         "tipos_produto",
         "id_tipo"
        ],
        [
         "1",
         "fato_pedidos",
         "id_cliente",
         "dim_cliente",
         "id_cliente"
        ],
        [
         "2",
         "fato_pedidos",
         "id_produto",
         "dim_produto",
         "id_produto"
        ],
        [
         "3",
         "pedidos",
         "id_cliente",
         "clientes",
         "id_cliente"
        ],
        [
         "4",
         "itens_pedido",
         "id_pedido",
         "pedidos",
         "id_pedido"
        ]
       ],
       "shape": {
        "columns": 4,
        "rows": 5
       }
      },
      "text/html": [
       "<div>\n",
       "<style scoped>\n",
       "    .dataframe tbody tr th:only-of-type {\n",
       "        vertical-align: middle;\n",
       "    }\n",
       "\n",
       "    .dataframe tbody tr th {\n",
       "        vertical-align: top;\n",
       "    }\n",
       "\n",
       "    .dataframe thead th {\n",
       "        text-align: right;\n",
       "    }\n",
       "</style>\n",
       "<table border=\"1\" class=\"dataframe\">\n",
       "  <thead>\n",
       "    <tr style=\"text-align: right;\">\n",
       "      <th></th>\n",
       "      <th>tabela_origem</th>\n",
       "      <th>coluna_origem</th>\n",
       "      <th>tabela_referenciada</th>\n",
       "      <th>coluna_referenciada</th>\n",
       "    </tr>\n",
       "  </thead>\n",
       "  <tbody>\n",
       "    <tr>\n",
       "      <th>0</th>\n",
       "      <td>produtos</td>\n",
       "      <td>id_tipo</td>\n",
       "      <td>tipos_produto</td>\n",
       "      <td>id_tipo</td>\n",
       "    </tr>\n",
       "    <tr>\n",
       "      <th>1</th>\n",
       "      <td>fato_pedidos</td>\n",
       "      <td>id_cliente</td>\n",
       "      <td>dim_cliente</td>\n",
       "      <td>id_cliente</td>\n",
       "    </tr>\n",
       "    <tr>\n",
       "      <th>2</th>\n",
       "      <td>fato_pedidos</td>\n",
       "      <td>id_produto</td>\n",
       "      <td>dim_produto</td>\n",
       "      <td>id_produto</td>\n",
       "    </tr>\n",
       "    <tr>\n",
       "      <th>3</th>\n",
       "      <td>pedidos</td>\n",
       "      <td>id_cliente</td>\n",
       "      <td>clientes</td>\n",
       "      <td>id_cliente</td>\n",
       "    </tr>\n",
       "    <tr>\n",
       "      <th>4</th>\n",
       "      <td>itens_pedido</td>\n",
       "      <td>id_pedido</td>\n",
       "      <td>pedidos</td>\n",
       "      <td>id_pedido</td>\n",
       "    </tr>\n",
       "  </tbody>\n",
       "</table>\n",
       "</div>"
      ],
      "text/plain": [
       "  tabela_origem coluna_origem tabela_referenciada coluna_referenciada\n",
       "0      produtos       id_tipo       tipos_produto             id_tipo\n",
       "1  fato_pedidos    id_cliente         dim_cliente          id_cliente\n",
       "2  fato_pedidos    id_produto         dim_produto          id_produto\n",
       "3       pedidos    id_cliente            clientes          id_cliente\n",
       "4  itens_pedido     id_pedido             pedidos           id_pedido"
      ]
     },
     "execution_count": 8,
     "metadata": {},
     "output_type": "execute_result"
    }
   ],
   "source": [
    "# Verificar chaves estrangeiras e relacionamento\n",
    "df_fks = pd.read_sql_query(\"\"\"\n",
    "SELECT \n",
    "    tc.table_name AS tabela_origem,\n",
    "    kcu.column_name AS coluna_origem,\n",
    "    ccu.table_name AS tabela_referenciada,\n",
    "    ccu.column_name AS coluna_referenciada\n",
    "FROM information_schema.table_constraints AS tc\n",
    "JOIN information_schema.key_column_usage AS kcu\n",
    "  ON tc.constraint_name = kcu.constraint_name\n",
    "JOIN information_schema.constraint_column_usage AS ccu\n",
    "  ON ccu.constraint_name = tc.constraint_name\n",
    "WHERE tc.constraint_type = 'FOREIGN KEY'\n",
    "  AND tc.table_schema = 'public';\n",
    "\"\"\", con=engine)\n",
    "\n",
    "df_fks.head()\n"
   ]
  },
  {
   "cell_type": "code",
   "execution_count": 9,
   "id": "dce09d9c",
   "metadata": {},
   "outputs": [
    {
     "data": {
      "application/vnd.microsoft.datawrangler.viewer.v0+json": {
       "columns": [
        {
         "name": "index",
         "rawType": "int64",
         "type": "integer"
        },
        {
         "name": "constraint_name",
         "rawType": "object",
         "type": "string"
        },
        {
         "name": "origem",
         "rawType": "object",
         "type": "string"
        },
        {
         "name": "coluna_origem",
         "rawType": "object",
         "type": "string"
        },
        {
         "name": "destino",
         "rawType": "object",
         "type": "string"
        },
        {
         "name": "coluna_destino",
         "rawType": "object",
         "type": "string"
        }
       ],
       "ref": "4c2aef34-822c-4f08-8738-961261652b9c",
       "rows": [
        [
         "0",
         "fato_pedidos_id_cliente_fkey",
         "fato_pedidos",
         "id_cliente",
         "dim_cliente",
         "id_cliente"
        ],
        [
         "1",
         "fato_pedidos_id_produto_fkey",
         "fato_pedidos",
         "id_produto",
         "dim_produto",
         "id_produto"
        ],
        [
         "2",
         "fk_pedido",
         "itens_pedido",
         "id_pedido",
         "pedidos",
         "id_pedido"
        ],
        [
         "3",
         "fk_produto",
         "itens_pedido",
         "id_produto",
         "produtos",
         "id_produto"
        ],
        [
         "4",
         "pedidos_id_cliente_fkey",
         "pedidos",
         "id_cliente",
         "clientes",
         "id_cliente"
        ]
       ],
       "shape": {
        "columns": 5,
        "rows": 5
       }
      },
      "text/html": [
       "<div>\n",
       "<style scoped>\n",
       "    .dataframe tbody tr th:only-of-type {\n",
       "        vertical-align: middle;\n",
       "    }\n",
       "\n",
       "    .dataframe tbody tr th {\n",
       "        vertical-align: top;\n",
       "    }\n",
       "\n",
       "    .dataframe thead th {\n",
       "        text-align: right;\n",
       "    }\n",
       "</style>\n",
       "<table border=\"1\" class=\"dataframe\">\n",
       "  <thead>\n",
       "    <tr style=\"text-align: right;\">\n",
       "      <th></th>\n",
       "      <th>constraint_name</th>\n",
       "      <th>origem</th>\n",
       "      <th>coluna_origem</th>\n",
       "      <th>destino</th>\n",
       "      <th>coluna_destino</th>\n",
       "    </tr>\n",
       "  </thead>\n",
       "  <tbody>\n",
       "    <tr>\n",
       "      <th>0</th>\n",
       "      <td>fato_pedidos_id_cliente_fkey</td>\n",
       "      <td>fato_pedidos</td>\n",
       "      <td>id_cliente</td>\n",
       "      <td>dim_cliente</td>\n",
       "      <td>id_cliente</td>\n",
       "    </tr>\n",
       "    <tr>\n",
       "      <th>1</th>\n",
       "      <td>fato_pedidos_id_produto_fkey</td>\n",
       "      <td>fato_pedidos</td>\n",
       "      <td>id_produto</td>\n",
       "      <td>dim_produto</td>\n",
       "      <td>id_produto</td>\n",
       "    </tr>\n",
       "    <tr>\n",
       "      <th>2</th>\n",
       "      <td>fk_pedido</td>\n",
       "      <td>itens_pedido</td>\n",
       "      <td>id_pedido</td>\n",
       "      <td>pedidos</td>\n",
       "      <td>id_pedido</td>\n",
       "    </tr>\n",
       "    <tr>\n",
       "      <th>3</th>\n",
       "      <td>fk_produto</td>\n",
       "      <td>itens_pedido</td>\n",
       "      <td>id_produto</td>\n",
       "      <td>produtos</td>\n",
       "      <td>id_produto</td>\n",
       "    </tr>\n",
       "    <tr>\n",
       "      <th>4</th>\n",
       "      <td>pedidos_id_cliente_fkey</td>\n",
       "      <td>pedidos</td>\n",
       "      <td>id_cliente</td>\n",
       "      <td>clientes</td>\n",
       "      <td>id_cliente</td>\n",
       "    </tr>\n",
       "  </tbody>\n",
       "</table>\n",
       "</div>"
      ],
      "text/plain": [
       "                constraint_name        origem coluna_origem      destino  \\\n",
       "0  fato_pedidos_id_cliente_fkey  fato_pedidos    id_cliente  dim_cliente   \n",
       "1  fato_pedidos_id_produto_fkey  fato_pedidos    id_produto  dim_produto   \n",
       "2                     fk_pedido  itens_pedido     id_pedido      pedidos   \n",
       "3                    fk_produto  itens_pedido    id_produto     produtos   \n",
       "4       pedidos_id_cliente_fkey       pedidos    id_cliente     clientes   \n",
       "\n",
       "  coluna_destino  \n",
       "0     id_cliente  \n",
       "1     id_produto  \n",
       "2      id_pedido  \n",
       "3     id_produto  \n",
       "4     id_cliente  "
      ]
     },
     "execution_count": 9,
     "metadata": {},
     "output_type": "execute_result"
    }
   ],
   "source": [
    "# Realizar join entre as tabelas\n",
    "df_relacionamentos = pd.read_sql_query(\"\"\"\n",
    "SELECT \n",
    "  tc.constraint_name,\n",
    "  tc.table_name AS origem,\n",
    "  kcu.column_name AS coluna_origem,\n",
    "  ccu.table_name AS destino,\n",
    "  ccu.column_name AS coluna_destino\n",
    "FROM information_schema.table_constraints AS tc\n",
    "JOIN information_schema.key_column_usage AS kcu\n",
    "  ON tc.constraint_name = kcu.constraint_name\n",
    "JOIN information_schema.constraint_column_usage AS ccu\n",
    "  ON ccu.constraint_name = tc.constraint_name\n",
    "WHERE tc.constraint_type = 'FOREIGN KEY'\n",
    "ORDER BY origem;\n",
    "\"\"\", con=engine)\n",
    "\n",
    "df_relacionamentos.head()\n"
   ]
  },
  {
   "cell_type": "code",
   "execution_count": 10,
   "id": "108dc922",
   "metadata": {},
   "outputs": [
    {
     "name": "stdout",
     "output_type": "stream",
     "text": [
      "🗑️ Dados apagados de todas as tabelas.\n",
      "✅ Executado: tipos_produto.sql\n",
      "✅ Executado: produtos.sql\n",
      "✅ Executado: clientes.sql\n",
      "✅ Executado: pedidos.sql\n",
      "✅ Executado: itens_pedido.sql\n"
     ]
    }
   ],
   "source": [
    "# Executar arquivos .sql\n",
    "truncate_script = \"\"\"\n",
    "TRUNCATE TABLE itens_pedido CASCADE;\n",
    "TRUNCATE TABLE pedidos CASCADE;\n",
    "TRUNCATE TABLE produtos CASCADE;\n",
    "TRUNCATE TABLE clientes CASCADE;\n",
    "TRUNCATE TABLE tipos_produto CASCADE;\n",
    "\"\"\"\n",
    "\n",
    "github_urls = [\n",
    "    \"https://raw.githubusercontent.com/FIAP/Pos_Tech_DTAT/refs/heads/main/Fase%203/Aula4/sql/aula4/tipos_produto.sql\",\n",
    "    \"https://raw.githubusercontent.com/FIAP/Pos_Tech_DTAT/refs/heads/main/Fase%203/Aula4/sql/aula4/produtos.sql\",\n",
    "    \"https://raw.githubusercontent.com/FIAP/Pos_Tech_DTAT/refs/heads/main/Fase%203/Aula4/sql/aula4/clientes.sql\",\n",
    "    \"https://raw.githubusercontent.com/FIAP/Pos_Tech_DTAT/refs/heads/main/Fase%203/Aula4/sql/aula4/pedidos.sql\",\n",
    "    \"https://raw.githubusercontent.com/FIAP/Pos_Tech_DTAT/refs/heads/main/Fase%203/Aula4/sql/aula4/itens_pedido.sql\"\n",
    "]\n",
    "\n",
    "with engine.begin() as conn:\n",
    "    conn.execute(text(truncate_script))\n",
    "    print(\"🗑️ Dados apagados de todas as tabelas.\")\n",
    "\n",
    "    for url in github_urls:\n",
    "        response = requests.get(url)\n",
    "        response.raise_for_status()\n",
    "        sql_content = response.text\n",
    "        conn.execute(text(sql_content))\n",
    "        print(f\"✅ Executado: {url.split('/')[-1]}\")"
   ]
  },
  {
   "cell_type": "code",
   "execution_count": 11,
   "id": "e82ae39a",
   "metadata": {},
   "outputs": [
    {
     "data": {
      "application/vnd.microsoft.datawrangler.viewer.v0+json": {
       "columns": [
        {
         "name": "index",
         "rawType": "int64",
         "type": "integer"
        },
        {
         "name": "cliente",
         "rawType": "object",
         "type": "string"
        },
        {
         "name": "data_pedido",
         "rawType": "object",
         "type": "unknown"
        },
        {
         "name": "produto",
         "rawType": "object",
         "type": "string"
        },
        {
         "name": "preco",
         "rawType": "float64",
         "type": "float"
        },
        {
         "name": "tipo_produto",
         "rawType": "object",
         "type": "string"
        },
        {
         "name": "quantidade",
         "rawType": "int64",
         "type": "integer"
        },
        {
         "name": "total_venda",
         "rawType": "float64",
         "type": "float"
        }
       ],
       "ref": "7b8d3829-29f0-4d3e-8efc-5fe9942ad6e3",
       "rows": [
        [
         "0",
         "Enzo Gabriel Monteiro",
         "2025-03-18",
         "Excepturi Reprehenderit",
         "367.57",
         "Ferramentas",
         "4",
         "1470.28"
        ],
        [
         "1",
         "Dr. Juan Melo",
         "2024-08-18",
         "Animi Tempore",
         "130.85",
         "Ferramentas",
         "1",
         "130.85"
        ],
        [
         "2",
         "João Felipe da Luz",
         "2024-11-08",
         "Expedita Iste",
         "497.62",
         "Higiene",
         "2",
         "995.24"
        ],
        [
         "3",
         "João Lucas Fernandes",
         "2025-05-29",
         "Vero Eius",
         "292.34",
         "Livros",
         "5",
         "1461.7"
        ],
        [
         "4",
         "Enzo Gabriel Freitas",
         "2025-01-29",
         "Quos Nam",
         "409.85",
         "Ferramentas",
         "2",
         "819.7"
        ]
       ],
       "shape": {
        "columns": 7,
        "rows": 5
       }
      },
      "text/html": [
       "<div>\n",
       "<style scoped>\n",
       "    .dataframe tbody tr th:only-of-type {\n",
       "        vertical-align: middle;\n",
       "    }\n",
       "\n",
       "    .dataframe tbody tr th {\n",
       "        vertical-align: top;\n",
       "    }\n",
       "\n",
       "    .dataframe thead th {\n",
       "        text-align: right;\n",
       "    }\n",
       "</style>\n",
       "<table border=\"1\" class=\"dataframe\">\n",
       "  <thead>\n",
       "    <tr style=\"text-align: right;\">\n",
       "      <th></th>\n",
       "      <th>cliente</th>\n",
       "      <th>data_pedido</th>\n",
       "      <th>produto</th>\n",
       "      <th>preco</th>\n",
       "      <th>tipo_produto</th>\n",
       "      <th>quantidade</th>\n",
       "      <th>total_venda</th>\n",
       "    </tr>\n",
       "  </thead>\n",
       "  <tbody>\n",
       "    <tr>\n",
       "      <th>0</th>\n",
       "      <td>Enzo Gabriel Monteiro</td>\n",
       "      <td>2025-03-18</td>\n",
       "      <td>Excepturi Reprehenderit</td>\n",
       "      <td>367.57</td>\n",
       "      <td>Ferramentas</td>\n",
       "      <td>4</td>\n",
       "      <td>1470.28</td>\n",
       "    </tr>\n",
       "    <tr>\n",
       "      <th>1</th>\n",
       "      <td>Dr. Juan Melo</td>\n",
       "      <td>2024-08-18</td>\n",
       "      <td>Animi Tempore</td>\n",
       "      <td>130.85</td>\n",
       "      <td>Ferramentas</td>\n",
       "      <td>1</td>\n",
       "      <td>130.85</td>\n",
       "    </tr>\n",
       "    <tr>\n",
       "      <th>2</th>\n",
       "      <td>João Felipe da Luz</td>\n",
       "      <td>2024-11-08</td>\n",
       "      <td>Expedita Iste</td>\n",
       "      <td>497.62</td>\n",
       "      <td>Higiene</td>\n",
       "      <td>2</td>\n",
       "      <td>995.24</td>\n",
       "    </tr>\n",
       "    <tr>\n",
       "      <th>3</th>\n",
       "      <td>João Lucas Fernandes</td>\n",
       "      <td>2025-05-29</td>\n",
       "      <td>Vero Eius</td>\n",
       "      <td>292.34</td>\n",
       "      <td>Livros</td>\n",
       "      <td>5</td>\n",
       "      <td>1461.70</td>\n",
       "    </tr>\n",
       "    <tr>\n",
       "      <th>4</th>\n",
       "      <td>Enzo Gabriel Freitas</td>\n",
       "      <td>2025-01-29</td>\n",
       "      <td>Quos Nam</td>\n",
       "      <td>409.85</td>\n",
       "      <td>Ferramentas</td>\n",
       "      <td>2</td>\n",
       "      <td>819.70</td>\n",
       "    </tr>\n",
       "  </tbody>\n",
       "</table>\n",
       "</div>"
      ],
      "text/plain": [
       "                 cliente data_pedido                  produto   preco  \\\n",
       "0  Enzo Gabriel Monteiro  2025-03-18  Excepturi Reprehenderit  367.57   \n",
       "1          Dr. Juan Melo  2024-08-18            Animi Tempore  130.85   \n",
       "2     João Felipe da Luz  2024-11-08            Expedita Iste  497.62   \n",
       "3   João Lucas Fernandes  2025-05-29                Vero Eius  292.34   \n",
       "4   Enzo Gabriel Freitas  2025-01-29                 Quos Nam  409.85   \n",
       "\n",
       "  tipo_produto  quantidade  total_venda  \n",
       "0  Ferramentas           4      1470.28  \n",
       "1  Ferramentas           1       130.85  \n",
       "2      Higiene           2       995.24  \n",
       "3       Livros           5      1461.70  \n",
       "4  Ferramentas           2       819.70  "
      ]
     },
     "execution_count": 11,
     "metadata": {},
     "output_type": "execute_result"
    }
   ],
   "source": [
    "# Join para analise de vendas\n",
    "df = pd.read_sql_query(\n",
    "\n",
    "\"\"\"\n",
    "                       \n",
    "SELECT \n",
    "  c.nome AS cliente,\n",
    "  p.data_pedido as data_pedido,\n",
    "  pr.nome_produto AS produto,\n",
    "  pr.preco as preco,\n",
    "  t.nome_tipo AS tipo_produto,\n",
    "  ip.quantidade as quantidade,\n",
    "  (pr.preco * ip.quantidade) AS total_venda\n",
    "\n",
    "FROM itens_pedido ip\n",
    "\n",
    "JOIN pedidos p ON ip.id_pedido = p.id_pedido\n",
    "JOIN clientes c ON p.id_cliente = c.id_cliente\n",
    "JOIN produtos pr ON ip.id_produto = pr.id_produto\n",
    "JOIN tipos_produto t ON pr.id_tipo = t.id_tipo;\n",
    "\n",
    "\"\"\"\n",
    ",con=engine)\n",
    "\n",
    "df.head()\n"
   ]
  },
  {
   "cell_type": "code",
   "execution_count": 12,
   "id": "ad67b861",
   "metadata": {},
   "outputs": [
    {
     "data": {
      "application/vnd.plotly.v1+json": {
       "config": {
        "plotlyServerURL": "https://plot.ly"
       },
       "data": [
        {
         "hovertemplate": "produto=Excepturi Reprehenderit<br>cliente=%{x}<br>total_venda=%{y}<extra></extra>",
         "legendgroup": "Excepturi Reprehenderit",
         "marker": {
          "color": "#636efa",
          "pattern": {
           "shape": ""
          }
         },
         "name": "Excepturi Reprehenderit",
         "orientation": "v",
         "showlegend": true,
         "textposition": "auto",
         "type": "bar",
         "x": [
          "Enzo Gabriel Monteiro",
          "Yuri Teixeira"
         ],
         "xaxis": "x",
         "y": {
          "bdata": "hetRuB75lkCF61G4Hvl2QA==",
          "dtype": "f8"
         },
         "yaxis": "y"
        },
        {
         "hovertemplate": "produto=Animi Tempore<br>cliente=%{x}<br>total_venda=%{y}<extra></extra>",
         "legendgroup": "Animi Tempore",
         "marker": {
          "color": "#EF553B",
          "pattern": {
           "shape": ""
          }
         },
         "name": "Animi Tempore",
         "orientation": "v",
         "showlegend": true,
         "textposition": "auto",
         "type": "bar",
         "x": [
          "Dr. Juan Melo"
         ],
         "xaxis": "x",
         "y": {
          "bdata": "MzMzMzNbYEA=",
          "dtype": "f8"
         },
         "yaxis": "y"
        },
        {
         "hovertemplate": "produto=Expedita Iste<br>cliente=%{x}<br>total_venda=%{y}<extra></extra>",
         "legendgroup": "Expedita Iste",
         "marker": {
          "color": "#00cc96",
          "pattern": {
           "shape": ""
          }
         },
         "name": "Expedita Iste",
         "orientation": "v",
         "showlegend": true,
         "textposition": "auto",
         "type": "bar",
         "x": [
          "João Felipe da Luz",
          "Yuri Teixeira"
         ],
         "xaxis": "x",
         "y": {
          "bdata": "UrgehesZj0AzMzMzM3CjQA==",
          "dtype": "f8"
         },
         "yaxis": "y"
        },
        {
         "hovertemplate": "produto=Vero Eius<br>cliente=%{x}<br>total_venda=%{y}<extra></extra>",
         "legendgroup": "Vero Eius",
         "marker": {
          "color": "#ab63fa",
          "pattern": {
           "shape": ""
          }
         },
         "name": "Vero Eius",
         "orientation": "v",
         "showlegend": true,
         "textposition": "auto",
         "type": "bar",
         "x": [
          "João Lucas Fernandes",
          "Yasmin Vieira"
         ],
         "xaxis": "x",
         "y": {
          "bdata": "zczMzMzWlkA9CtejcEWSQA==",
          "dtype": "f8"
         },
         "yaxis": "y"
        },
        {
         "hovertemplate": "produto=Quos Nam<br>cliente=%{x}<br>total_venda=%{y}<extra></extra>",
         "legendgroup": "Quos Nam",
         "marker": {
          "color": "#FFA15A",
          "pattern": {
           "shape": ""
          }
         },
         "name": "Quos Nam",
         "orientation": "v",
         "showlegend": true,
         "textposition": "auto",
         "type": "bar",
         "x": [
          "Enzo Gabriel Freitas",
          "Henrique Castro"
         ],
         "xaxis": "x",
         "y": {
          "bdata": "mpmZmZmdiUAAAAAAgAKgQA==",
          "dtype": "f8"
         },
         "yaxis": "y"
        },
        {
         "hovertemplate": "produto=Adipisci Consequuntur<br>cliente=%{x}<br>total_venda=%{y}<extra></extra>",
         "legendgroup": "Adipisci Consequuntur",
         "marker": {
          "color": "#19d3f3",
          "pattern": {
           "shape": ""
          }
         },
         "name": "Adipisci Consequuntur",
         "orientation": "v",
         "showlegend": true,
         "textposition": "auto",
         "type": "bar",
         "x": [
          "Dr. Heitor Barros"
         ],
         "xaxis": "x",
         "y": {
          "bdata": "rkfhehROWEA=",
          "dtype": "f8"
         },
         "yaxis": "y"
        },
        {
         "hovertemplate": "produto=Itaque Voluptas<br>cliente=%{x}<br>total_venda=%{y}<extra></extra>",
         "legendgroup": "Itaque Voluptas",
         "marker": {
          "color": "#FF6692",
          "pattern": {
           "shape": ""
          }
         },
         "name": "Itaque Voluptas",
         "orientation": "v",
         "showlegend": true,
         "textposition": "auto",
         "type": "bar",
         "x": [
          "Alexia da Cruz"
         ],
         "xaxis": "x",
         "y": {
          "bdata": "PQrXo3DOlEA=",
          "dtype": "f8"
         },
         "yaxis": "y"
        },
        {
         "hovertemplate": "produto=Molestias Nihil<br>cliente=%{x}<br>total_venda=%{y}<extra></extra>",
         "legendgroup": "Molestias Nihil",
         "marker": {
          "color": "#B6E880",
          "pattern": {
           "shape": ""
          }
         },
         "name": "Molestias Nihil",
         "orientation": "v",
         "showlegend": true,
         "textposition": "auto",
         "type": "bar",
         "x": [
          "Enzo Gabriel Freitas",
          "Luiz Henrique Costa",
          "Thiago Castro"
         ],
         "xaxis": "x",
         "y": {
          "bdata": "4XoUrkfBh0ApXI/C9dCRQJqZmZmZsZ1A",
          "dtype": "f8"
         },
         "yaxis": "y"
        },
        {
         "hovertemplate": "produto=Labore Voluptatibus<br>cliente=%{x}<br>total_venda=%{y}<extra></extra>",
         "legendgroup": "Labore Voluptatibus",
         "marker": {
          "color": "#FF97FF",
          "pattern": {
           "shape": ""
          }
         },
         "name": "Labore Voluptatibus",
         "orientation": "v",
         "showlegend": true,
         "textposition": "auto",
         "type": "bar",
         "x": [
          "Yago Novaes",
          "Enzo Gabriel Monteiro"
         ],
         "xaxis": "x",
         "y": {
          "bdata": "hetRuB5FgkCF61G4HkWCQA==",
          "dtype": "f8"
         },
         "yaxis": "y"
        },
        {
         "hovertemplate": "produto=Consectetur Dolores<br>cliente=%{x}<br>total_venda=%{y}<extra></extra>",
         "legendgroup": "Consectetur Dolores",
         "marker": {
          "color": "#FECB52",
          "pattern": {
           "shape": ""
          }
         },
         "name": "Consectetur Dolores",
         "orientation": "v",
         "showlegend": true,
         "textposition": "auto",
         "type": "bar",
         "x": [
          "Brenda Fogaça",
          "Letícia das Neves",
          "Sra. Lavínia Campos"
         ],
         "xaxis": "x",
         "y": {
          "bdata": "pHA9CtcXhECkcD0K1xd0QKRwPQrXF3RA",
          "dtype": "f8"
         },
         "yaxis": "y"
        },
        {
         "hovertemplate": "produto=Veniam Sint<br>cliente=%{x}<br>total_venda=%{y}<extra></extra>",
         "legendgroup": "Veniam Sint",
         "marker": {
          "color": "#636efa",
          "pattern": {
           "shape": ""
          }
         },
         "name": "Veniam Sint",
         "orientation": "v",
         "showlegend": true,
         "textposition": "auto",
         "type": "bar",
         "x": [
          "Yasmin Farias"
         ],
         "xaxis": "x",
         "y": {
          "bdata": "cT0K16Mcg0A=",
          "dtype": "f8"
         },
         "yaxis": "y"
        },
        {
         "hovertemplate": "produto=Amet Blanditiis<br>cliente=%{x}<br>total_venda=%{y}<extra></extra>",
         "legendgroup": "Amet Blanditiis",
         "marker": {
          "color": "#EF553B",
          "pattern": {
           "shape": ""
          }
         },
         "name": "Amet Blanditiis",
         "orientation": "v",
         "showlegend": true,
         "textposition": "auto",
         "type": "bar",
         "x": [
          "Luna Silva"
         ],
         "xaxis": "x",
         "y": {
          "bdata": "16NwPQqZlEA=",
          "dtype": "f8"
         },
         "yaxis": "y"
        },
        {
         "hovertemplate": "produto=Dolor Dicta<br>cliente=%{x}<br>total_venda=%{y}<extra></extra>",
         "legendgroup": "Dolor Dicta",
         "marker": {
          "color": "#00cc96",
          "pattern": {
           "shape": ""
          }
         },
         "name": "Dolor Dicta",
         "orientation": "v",
         "showlegend": true,
         "textposition": "auto",
         "type": "bar",
         "x": [
          "Enzo Gabriel Monteiro",
          "Gabriela da Rocha",
          "Dr. Heitor Barros",
          "Yago Novaes"
         ],
         "xaxis": "x",
         "y": {
          "bdata": "KVyPwvWsekDNzMzMzDqGQHE9CtejyIFAzczMzMw6hkA=",
          "dtype": "f8"
         },
         "yaxis": "y"
        },
        {
         "hovertemplate": "produto=Nisi Nulla<br>cliente=%{x}<br>total_venda=%{y}<extra></extra>",
         "legendgroup": "Nisi Nulla",
         "marker": {
          "color": "#ab63fa",
          "pattern": {
           "shape": ""
          }
         },
         "name": "Nisi Nulla",
         "orientation": "v",
         "showlegend": true,
         "textposition": "auto",
         "type": "bar",
         "x": [
          "Luna Silva",
          "André Ferreira",
          "Isadora Castro"
         ],
         "xaxis": "x",
         "y": {
          "bdata": "zczMzMwSnEA9CtejcHWGQD0K16NwdZZA",
          "dtype": "f8"
         },
         "yaxis": "y"
        },
        {
         "hovertemplate": "produto=Consectetur Autem<br>cliente=%{x}<br>total_venda=%{y}<extra></extra>",
         "legendgroup": "Consectetur Autem",
         "marker": {
          "color": "#FFA15A",
          "pattern": {
           "shape": ""
          }
         },
         "name": "Consectetur Autem",
         "orientation": "v",
         "showlegend": true,
         "textposition": "auto",
         "type": "bar",
         "x": [
          "Alexia da Cruz",
          "Isadora Fernandes",
          "Cecília Barros"
         ],
         "xaxis": "x",
         "y": {
          "bdata": "j8L1KFx0lkAUrkfhevCdQBSuR+F68I1A",
          "dtype": "f8"
         },
         "yaxis": "y"
        },
        {
         "hovertemplate": "produto=Tenetur Reiciendis<br>cliente=%{x}<br>total_venda=%{y}<extra></extra>",
         "legendgroup": "Tenetur Reiciendis",
         "marker": {
          "color": "#19d3f3",
          "pattern": {
           "shape": ""
          }
         },
         "name": "Tenetur Reiciendis",
         "orientation": "v",
         "showlegend": true,
         "textposition": "auto",
         "type": "bar",
         "x": [
          "Heloísa Monteiro"
         ],
         "xaxis": "x",
         "y": {
          "bdata": "zczMzMxMSkA=",
          "dtype": "f8"
         },
         "yaxis": "y"
        },
        {
         "hovertemplate": "produto=Voluptate Rem<br>cliente=%{x}<br>total_venda=%{y}<extra></extra>",
         "legendgroup": "Voluptate Rem",
         "marker": {
          "color": "#FF6692",
          "pattern": {
           "shape": ""
          }
         },
         "name": "Voluptate Rem",
         "orientation": "v",
         "showlegend": true,
         "textposition": "auto",
         "type": "bar",
         "x": [
          "Sra. Lavínia Campos"
         ],
         "xaxis": "x",
         "y": {
          "bdata": "SOF6FK5HREA=",
          "dtype": "f8"
         },
         "yaxis": "y"
        },
        {
         "hovertemplate": "produto=Quas Maxime<br>cliente=%{x}<br>total_venda=%{y}<extra></extra>",
         "legendgroup": "Quas Maxime",
         "marker": {
          "color": "#B6E880",
          "pattern": {
           "shape": ""
          }
         },
         "name": "Quas Maxime",
         "orientation": "v",
         "showlegend": true,
         "textposition": "auto",
         "type": "bar",
         "x": [
          "Srta. Cecília Porto",
          "Brenda Fogaça"
         ],
         "xaxis": "x",
         "y": {
          "bdata": "7FG4HoVHc0DsUbgehUdzQA==",
          "dtype": "f8"
         },
         "yaxis": "y"
        },
        {
         "hovertemplate": "produto=Beatae Ab<br>cliente=%{x}<br>total_venda=%{y}<extra></extra>",
         "legendgroup": "Beatae Ab",
         "marker": {
          "color": "#FF97FF",
          "pattern": {
           "shape": ""
          }
         },
         "name": "Beatae Ab",
         "orientation": "v",
         "showlegend": true,
         "textposition": "auto",
         "type": "bar",
         "x": [
          "Breno Nascimento",
          "Yago Novaes",
          "Stephany da Rosa"
         ],
         "xaxis": "x",
         "y": {
          "bdata": "MzMzMzM3lEBcj8L1KCyQQArXo3A9QohA",
          "dtype": "f8"
         },
         "yaxis": "y"
        },
        {
         "hovertemplate": "produto=Quas Culpa<br>cliente=%{x}<br>total_venda=%{y}<extra></extra>",
         "legendgroup": "Quas Culpa",
         "marker": {
          "color": "#FECB52",
          "pattern": {
           "shape": ""
          }
         },
         "name": "Quas Culpa",
         "orientation": "v",
         "showlegend": true,
         "textposition": "auto",
         "type": "bar",
         "x": [
          "Dr. Danilo Moraes"
         ],
         "xaxis": "x",
         "y": {
          "bdata": "7FG4HoWLbkA=",
          "dtype": "f8"
         },
         "yaxis": "y"
        },
        {
         "hovertemplate": "produto=Totam Quo<br>cliente=%{x}<br>total_venda=%{y}<extra></extra>",
         "legendgroup": "Totam Quo",
         "marker": {
          "color": "#636efa",
          "pattern": {
           "shape": ""
          }
         },
         "name": "Totam Quo",
         "orientation": "v",
         "showlegend": true,
         "textposition": "auto",
         "type": "bar",
         "x": [
          "Paulo da Cunha",
          "Luna Silva"
         ],
         "xaxis": "x",
         "y": {
          "bdata": "SOF6FK6HZkAK16NwPQpuQA==",
          "dtype": "f8"
         },
         "yaxis": "y"
        },
        {
         "hovertemplate": "produto=Vel Commodi<br>cliente=%{x}<br>total_venda=%{y}<extra></extra>",
         "legendgroup": "Vel Commodi",
         "marker": {
          "color": "#EF553B",
          "pattern": {
           "shape": ""
          }
         },
         "name": "Vel Commodi",
         "orientation": "v",
         "showlegend": true,
         "textposition": "auto",
         "type": "bar",
         "x": [
          "Isis Viana"
         ],
         "xaxis": "x",
         "y": {
          "bdata": "KVyPwvXTkUA=",
          "dtype": "f8"
         },
         "yaxis": "y"
        },
        {
         "hovertemplate": "produto=Praesentium Explicabo<br>cliente=%{x}<br>total_venda=%{y}<extra></extra>",
         "legendgroup": "Praesentium Explicabo",
         "marker": {
          "color": "#00cc96",
          "pattern": {
           "shape": ""
          }
         },
         "name": "Praesentium Explicabo",
         "orientation": "v",
         "showlegend": true,
         "textposition": "auto",
         "type": "bar",
         "x": [
          "Caio Castro"
         ],
         "xaxis": "x",
         "y": {
          "bdata": "16NwPQoneEA=",
          "dtype": "f8"
         },
         "yaxis": "y"
        },
        {
         "hovertemplate": "produto=Ad Quasi<br>cliente=%{x}<br>total_venda=%{y}<extra></extra>",
         "legendgroup": "Ad Quasi",
         "marker": {
          "color": "#ab63fa",
          "pattern": {
           "shape": ""
          }
         },
         "name": "Ad Quasi",
         "orientation": "v",
         "showlegend": true,
         "textposition": "auto",
         "type": "bar",
         "x": [
          "Isis Viana",
          "Maria Clara da Cruz",
          "Isis Viana"
         ],
         "xaxis": "x",
         "y": {
          "bdata": "9ihcj8J9e0C4HoXrUZ6EQLgehetRnoRA",
          "dtype": "f8"
         },
         "yaxis": "y"
        },
        {
         "hovertemplate": "produto=Error In<br>cliente=%{x}<br>total_venda=%{y}<extra></extra>",
         "legendgroup": "Error In",
         "marker": {
          "color": "#FFA15A",
          "pattern": {
           "shape": ""
          }
         },
         "name": "Error In",
         "orientation": "v",
         "showlegend": true,
         "textposition": "auto",
         "type": "bar",
         "x": [
          "Yuri Teixeira",
          "Clara Araújo"
         ],
         "xaxis": "x",
         "y": {
          "bdata": "ZmZmZmZJlEAfhetRuDqAQA==",
          "dtype": "f8"
         },
         "yaxis": "y"
        },
        {
         "hovertemplate": "produto=Quam Accusamus<br>cliente=%{x}<br>total_venda=%{y}<extra></extra>",
         "legendgroup": "Quam Accusamus",
         "marker": {
          "color": "#19d3f3",
          "pattern": {
           "shape": ""
          }
         },
         "name": "Quam Accusamus",
         "orientation": "v",
         "showlegend": true,
         "textposition": "auto",
         "type": "bar",
         "x": [
          "Yuri Teixeira"
         ],
         "xaxis": "x",
         "y": {
          "bdata": "16NwPQpnbUA=",
          "dtype": "f8"
         },
         "yaxis": "y"
        },
        {
         "hovertemplate": "produto=Veritatis Corporis<br>cliente=%{x}<br>total_venda=%{y}<extra></extra>",
         "legendgroup": "Veritatis Corporis",
         "marker": {
          "color": "#FF6692",
          "pattern": {
           "shape": ""
          }
         },
         "name": "Veritatis Corporis",
         "orientation": "v",
         "showlegend": true,
         "textposition": "auto",
         "type": "bar",
         "x": [
          "Diego Melo",
          "Eloah Fogaça"
         ],
         "xaxis": "x",
         "y": {
          "bdata": "cT0K16OilEAzMzMzMzKhQA==",
          "dtype": "f8"
         },
         "yaxis": "y"
        },
        {
         "hovertemplate": "produto=Aliquam Explicabo<br>cliente=%{x}<br>total_venda=%{y}<extra></extra>",
         "legendgroup": "Aliquam Explicabo",
         "marker": {
          "color": "#B6E880",
          "pattern": {
           "shape": ""
          }
         },
         "name": "Aliquam Explicabo",
         "orientation": "v",
         "showlegend": true,
         "textposition": "auto",
         "type": "bar",
         "x": [
          "Dr. Danilo Moraes"
         ],
         "xaxis": "x",
         "y": {
          "bdata": "w/UoXI8GekA=",
          "dtype": "f8"
         },
         "yaxis": "y"
        },
        {
         "hovertemplate": "produto=Officiis Nesciunt<br>cliente=%{x}<br>total_venda=%{y}<extra></extra>",
         "legendgroup": "Officiis Nesciunt",
         "marker": {
          "color": "#FF97FF",
          "pattern": {
           "shape": ""
          }
         },
         "name": "Officiis Nesciunt",
         "orientation": "v",
         "showlegend": true,
         "textposition": "auto",
         "type": "bar",
         "x": [
          "Paulo da Cunha"
         ],
         "xaxis": "x",
         "y": {
          "bdata": "mpmZmZkJmkA=",
          "dtype": "f8"
         },
         "yaxis": "y"
        },
        {
         "hovertemplate": "produto=Ipsum Ea<br>cliente=%{x}<br>total_venda=%{y}<extra></extra>",
         "legendgroup": "Ipsum Ea",
         "marker": {
          "color": "#FECB52",
          "pattern": {
           "shape": ""
          }
         },
         "name": "Ipsum Ea",
         "orientation": "v",
         "showlegend": true,
         "textposition": "auto",
         "type": "bar",
         "x": [
          "Alícia Silva",
          "Enzo Gabriel Monteiro"
         ],
         "xaxis": "x",
         "y": {
          "bdata": "SOF6FK4fdUBI4XoUrh91QA==",
          "dtype": "f8"
         },
         "yaxis": "y"
        },
        {
         "hovertemplate": "produto=Repellendus Ducimus<br>cliente=%{x}<br>total_venda=%{y}<extra></extra>",
         "legendgroup": "Repellendus Ducimus",
         "marker": {
          "color": "#636efa",
          "pattern": {
           "shape": ""
          }
         },
         "name": "Repellendus Ducimus",
         "orientation": "v",
         "showlegend": true,
         "textposition": "auto",
         "type": "bar",
         "x": [
          "Brenda Fogaça"
         ],
         "xaxis": "x",
         "y": {
          "bdata": "XI/C9Sj8SUA=",
          "dtype": "f8"
         },
         "yaxis": "y"
        },
        {
         "hovertemplate": "produto=Iure Necessitatibus<br>cliente=%{x}<br>total_venda=%{y}<extra></extra>",
         "legendgroup": "Iure Necessitatibus",
         "marker": {
          "color": "#EF553B",
          "pattern": {
           "shape": ""
          }
         },
         "name": "Iure Necessitatibus",
         "orientation": "v",
         "showlegend": true,
         "textposition": "auto",
         "type": "bar",
         "x": [
          "Antônio da Mata"
         ],
         "xaxis": "x",
         "y": {
          "bdata": "exSuR+EadUA=",
          "dtype": "f8"
         },
         "yaxis": "y"
        },
        {
         "hovertemplate": "produto=Excepturi Provident<br>cliente=%{x}<br>total_venda=%{y}<extra></extra>",
         "legendgroup": "Excepturi Provident",
         "marker": {
          "color": "#00cc96",
          "pattern": {
           "shape": ""
          }
         },
         "name": "Excepturi Provident",
         "orientation": "v",
         "showlegend": true,
         "textposition": "auto",
         "type": "bar",
         "x": [
          "Raul da Luz"
         ],
         "xaxis": "x",
         "y": {
          "bdata": "AAAAAADgdUA=",
          "dtype": "f8"
         },
         "yaxis": "y"
        },
        {
         "hovertemplate": "produto=Saepe Reiciendis<br>cliente=%{x}<br>total_venda=%{y}<extra></extra>",
         "legendgroup": "Saepe Reiciendis",
         "marker": {
          "color": "#ab63fa",
          "pattern": {
           "shape": ""
          }
         },
         "name": "Saepe Reiciendis",
         "orientation": "v",
         "showlegend": true,
         "textposition": "auto",
         "type": "bar",
         "x": [
          "Davi da Conceição",
          "Raul da Luz"
         ],
         "xaxis": "x",
         "y": {
          "bdata": "PQrXo3AVbEA9CtejcBV8QA==",
          "dtype": "f8"
         },
         "yaxis": "y"
        },
        {
         "hovertemplate": "produto=Minima Nihil<br>cliente=%{x}<br>total_venda=%{y}<extra></extra>",
         "legendgroup": "Minima Nihil",
         "marker": {
          "color": "#FFA15A",
          "pattern": {
           "shape": ""
          }
         },
         "name": "Minima Nihil",
         "orientation": "v",
         "showlegend": true,
         "textposition": "auto",
         "type": "bar",
         "x": [
          "Henrique Campos"
         ],
         "xaxis": "x",
         "y": {
          "bdata": "rkfhehSmgUA=",
          "dtype": "f8"
         },
         "yaxis": "y"
        },
        {
         "hovertemplate": "produto=Consequatur Voluptate<br>cliente=%{x}<br>total_venda=%{y}<extra></extra>",
         "legendgroup": "Consequatur Voluptate",
         "marker": {
          "color": "#19d3f3",
          "pattern": {
           "shape": ""
          }
         },
         "name": "Consequatur Voluptate",
         "orientation": "v",
         "showlegend": true,
         "textposition": "auto",
         "type": "bar",
         "x": [
          "Letícia Pinto"
         ],
         "xaxis": "x",
         "y": {
          "bdata": "UrgehevVnUA=",
          "dtype": "f8"
         },
         "yaxis": "y"
        },
        {
         "hovertemplate": "produto=Rerum Tempore<br>cliente=%{x}<br>total_venda=%{y}<extra></extra>",
         "legendgroup": "Rerum Tempore",
         "marker": {
          "color": "#FF6692",
          "pattern": {
           "shape": ""
          }
         },
         "name": "Rerum Tempore",
         "orientation": "v",
         "showlegend": true,
         "textposition": "auto",
         "type": "bar",
         "x": [
          "Enzo Gabriel Monteiro",
          "Brenda Fogaça"
         ],
         "xaxis": "x",
         "y": {
          "bdata": "uB6F61HUgEAUrkfhej6JQA==",
          "dtype": "f8"
         },
         "yaxis": "y"
        },
        {
         "hovertemplate": "produto=Quia Adipisci<br>cliente=%{x}<br>total_venda=%{y}<extra></extra>",
         "legendgroup": "Quia Adipisci",
         "marker": {
          "color": "#B6E880",
          "pattern": {
           "shape": ""
          }
         },
         "name": "Quia Adipisci",
         "orientation": "v",
         "showlegend": true,
         "textposition": "auto",
         "type": "bar",
         "x": [
          "Letícia Pinto",
          "Srta. Cecília Porto"
         ],
         "xaxis": "x",
         "y": {
          "bdata": "pHA9CtergkCkcD0K16uCQA==",
          "dtype": "f8"
         },
         "yaxis": "y"
        },
        {
         "hovertemplate": "produto=Magni Delectus<br>cliente=%{x}<br>total_venda=%{y}<extra></extra>",
         "legendgroup": "Magni Delectus",
         "marker": {
          "color": "#FF97FF",
          "pattern": {
           "shape": ""
          }
         },
         "name": "Magni Delectus",
         "orientation": "v",
         "showlegend": true,
         "textposition": "auto",
         "type": "bar",
         "x": [
          "Luiz Henrique Costa",
          "Thiago Castro"
         ],
         "xaxis": "x",
         "y": {
          "bdata": "KVyPwvU4dUApXI/C9ThVQA==",
          "dtype": "f8"
         },
         "yaxis": "y"
        },
        {
         "hovertemplate": "produto=Quidem Sapiente<br>cliente=%{x}<br>total_venda=%{y}<extra></extra>",
         "legendgroup": "Quidem Sapiente",
         "marker": {
          "color": "#FECB52",
          "pattern": {
           "shape": ""
          }
         },
         "name": "Quidem Sapiente",
         "orientation": "v",
         "showlegend": true,
         "textposition": "auto",
         "type": "bar",
         "x": [
          "Brenda Fogaça"
         ],
         "xaxis": "x",
         "y": {
          "bdata": "MzMzMzMSkEA=",
          "dtype": "f8"
         },
         "yaxis": "y"
        },
        {
         "hovertemplate": "produto=Maiores Rerum<br>cliente=%{x}<br>total_venda=%{y}<extra></extra>",
         "legendgroup": "Maiores Rerum",
         "marker": {
          "color": "#636efa",
          "pattern": {
           "shape": ""
          }
         },
         "name": "Maiores Rerum",
         "orientation": "v",
         "showlegend": true,
         "textposition": "auto",
         "type": "bar",
         "x": [
          "Luiz Henrique Costa"
         ],
         "xaxis": "x",
         "y": {
          "bdata": "AAAAAABkmkA=",
          "dtype": "f8"
         },
         "yaxis": "y"
        },
        {
         "hovertemplate": "produto=Ex Rem<br>cliente=%{x}<br>total_venda=%{y}<extra></extra>",
         "legendgroup": "Ex Rem",
         "marker": {
          "color": "#EF553B",
          "pattern": {
           "shape": ""
          }
         },
         "name": "Ex Rem",
         "orientation": "v",
         "showlegend": true,
         "textposition": "auto",
         "type": "bar",
         "x": [
          "Breno Nascimento"
         ],
         "xaxis": "x",
         "y": {
          "bdata": "KVyPwvUAbkA=",
          "dtype": "f8"
         },
         "yaxis": "y"
        },
        {
         "hovertemplate": "produto=Veniam Hic<br>cliente=%{x}<br>total_venda=%{y}<extra></extra>",
         "legendgroup": "Veniam Hic",
         "marker": {
          "color": "#00cc96",
          "pattern": {
           "shape": ""
          }
         },
         "name": "Veniam Hic",
         "orientation": "v",
         "showlegend": true,
         "textposition": "auto",
         "type": "bar",
         "x": [
          "Brenda Fogaça"
         ],
         "xaxis": "x",
         "y": {
          "bdata": "MzMzMzOAoEA=",
          "dtype": "f8"
         },
         "yaxis": "y"
        },
        {
         "hovertemplate": "produto=Saepe Enim<br>cliente=%{x}<br>total_venda=%{y}<extra></extra>",
         "legendgroup": "Saepe Enim",
         "marker": {
          "color": "#ab63fa",
          "pattern": {
           "shape": ""
          }
         },
         "name": "Saepe Enim",
         "orientation": "v",
         "showlegend": true,
         "textposition": "auto",
         "type": "bar",
         "x": [
          "Marcos Vinicius Cavalcanti"
         ],
         "xaxis": "x",
         "y": {
          "bdata": "CtejcD0qYEA=",
          "dtype": "f8"
         },
         "yaxis": "y"
        },
        {
         "hovertemplate": "produto=Possimus Nam<br>cliente=%{x}<br>total_venda=%{y}<extra></extra>",
         "legendgroup": "Possimus Nam",
         "marker": {
          "color": "#FFA15A",
          "pattern": {
           "shape": ""
          }
         },
         "name": "Possimus Nam",
         "orientation": "v",
         "showlegend": true,
         "textposition": "auto",
         "type": "bar",
         "x": [
          "Thiago Costa"
         ],
         "xaxis": "x",
         "y": {
          "bdata": "4XoUrkdZlUA=",
          "dtype": "f8"
         },
         "yaxis": "y"
        },
        {
         "hovertemplate": "produto=Corrupti Ut<br>cliente=%{x}<br>total_venda=%{y}<extra></extra>",
         "legendgroup": "Corrupti Ut",
         "marker": {
          "color": "#19d3f3",
          "pattern": {
           "shape": ""
          }
         },
         "name": "Corrupti Ut",
         "orientation": "v",
         "showlegend": true,
         "textposition": "auto",
         "type": "bar",
         "x": [
          "Levi Correia",
          "Stephany da Rosa"
         ],
         "xaxis": "x",
         "y": {
          "bdata": "MzMzM7M1oUCkcD0K16aUQA==",
          "dtype": "f8"
         },
         "yaxis": "y"
        },
        {
         "hovertemplate": "produto=Reprehenderit Asperiores<br>cliente=%{x}<br>total_venda=%{y}<extra></extra>",
         "legendgroup": "Reprehenderit Asperiores",
         "marker": {
          "color": "#FF6692",
          "pattern": {
           "shape": ""
          }
         },
         "name": "Reprehenderit Asperiores",
         "orientation": "v",
         "showlegend": true,
         "textposition": "auto",
         "type": "bar",
         "x": [
          "Marcelo Barros"
         ],
         "xaxis": "x",
         "y": {
          "bdata": "CtejcD26dkA=",
          "dtype": "f8"
         },
         "yaxis": "y"
        },
        {
         "hovertemplate": "produto=Reprehenderit Officia<br>cliente=%{x}<br>total_venda=%{y}<extra></extra>",
         "legendgroup": "Reprehenderit Officia",
         "marker": {
          "color": "#B6E880",
          "pattern": {
           "shape": ""
          }
         },
         "name": "Reprehenderit Officia",
         "orientation": "v",
         "showlegend": true,
         "textposition": "auto",
         "type": "bar",
         "x": [
          "Thiago Castro",
          "Letícia Pinto"
         ],
         "xaxis": "x",
         "y": {
          "bdata": "ZmZmZmZOckBmZmZmZk6SQA==",
          "dtype": "f8"
         },
         "yaxis": "y"
        },
        {
         "hovertemplate": "produto=Totam Eos<br>cliente=%{x}<br>total_venda=%{y}<extra></extra>",
         "legendgroup": "Totam Eos",
         "marker": {
          "color": "#FF97FF",
          "pattern": {
           "shape": ""
          }
         },
         "name": "Totam Eos",
         "orientation": "v",
         "showlegend": true,
         "textposition": "auto",
         "type": "bar",
         "x": [
          "Letícia Pinto"
         ],
         "xaxis": "x",
         "y": {
          "bdata": "uB6F61GIiEA=",
          "dtype": "f8"
         },
         "yaxis": "y"
        },
        {
         "hovertemplate": "produto=Qui Ratione<br>cliente=%{x}<br>total_venda=%{y}<extra></extra>",
         "legendgroup": "Qui Ratione",
         "marker": {
          "color": "#FECB52",
          "pattern": {
           "shape": ""
          }
         },
         "name": "Qui Ratione",
         "orientation": "v",
         "showlegend": true,
         "textposition": "auto",
         "type": "bar",
         "x": [
          "Raul Sales"
         ],
         "xaxis": "x",
         "y": {
          "bdata": "ZmZmZmZGc0A=",
          "dtype": "f8"
         },
         "yaxis": "y"
        },
        {
         "hovertemplate": "produto=Nam Ducimus<br>cliente=%{x}<br>total_venda=%{y}<extra></extra>",
         "legendgroup": "Nam Ducimus",
         "marker": {
          "color": "#636efa",
          "pattern": {
           "shape": ""
          }
         },
         "name": "Nam Ducimus",
         "orientation": "v",
         "showlegend": true,
         "textposition": "auto",
         "type": "bar",
         "x": [
          "Davi da Conceição",
          "Davi Luiz Lima"
         ],
         "xaxis": "x",
         "y": {
          "bdata": "UrgeheuROUA9CtejcC1TQA==",
          "dtype": "f8"
         },
         "yaxis": "y"
        },
        {
         "hovertemplate": "produto=Cupiditate Reiciendis<br>cliente=%{x}<br>total_venda=%{y}<extra></extra>",
         "legendgroup": "Cupiditate Reiciendis",
         "marker": {
          "color": "#EF553B",
          "pattern": {
           "shape": ""
          }
         },
         "name": "Cupiditate Reiciendis",
         "orientation": "v",
         "showlegend": true,
         "textposition": "auto",
         "type": "bar",
         "x": [
          "Yuri Teixeira"
         ],
         "xaxis": "x",
         "y": {
          "bdata": "zczMzMymgkA=",
          "dtype": "f8"
         },
         "yaxis": "y"
        },
        {
         "hovertemplate": "produto=Fugit Deserunt<br>cliente=%{x}<br>total_venda=%{y}<extra></extra>",
         "legendgroup": "Fugit Deserunt",
         "marker": {
          "color": "#00cc96",
          "pattern": {
           "shape": ""
          }
         },
         "name": "Fugit Deserunt",
         "orientation": "v",
         "showlegend": true,
         "textposition": "auto",
         "type": "bar",
         "x": [
          "Henrique Castro"
         ],
         "xaxis": "x",
         "y": {
          "bdata": "cT0K16OAdUA=",
          "dtype": "f8"
         },
         "yaxis": "y"
        },
        {
         "hovertemplate": "produto=Nulla Harum<br>cliente=%{x}<br>total_venda=%{y}<extra></extra>",
         "legendgroup": "Nulla Harum",
         "marker": {
          "color": "#ab63fa",
          "pattern": {
           "shape": ""
          }
         },
         "name": "Nulla Harum",
         "orientation": "v",
         "showlegend": true,
         "textposition": "auto",
         "type": "bar",
         "x": [
          "Alícia Alves"
         ],
         "xaxis": "x",
         "y": {
          "bdata": "rkfhehQYkEA=",
          "dtype": "f8"
         },
         "yaxis": "y"
        },
        {
         "hovertemplate": "produto=Minima Dolor<br>cliente=%{x}<br>total_venda=%{y}<extra></extra>",
         "legendgroup": "Minima Dolor",
         "marker": {
          "color": "#FFA15A",
          "pattern": {
           "shape": ""
          }
         },
         "name": "Minima Dolor",
         "orientation": "v",
         "showlegend": true,
         "textposition": "auto",
         "type": "bar",
         "x": [
          "João Pedro Pereira"
         ],
         "xaxis": "x",
         "y": {
          "bdata": "FK5H4Xo0UEA=",
          "dtype": "f8"
         },
         "yaxis": "y"
        },
        {
         "hovertemplate": "produto=Velit Cum<br>cliente=%{x}<br>total_venda=%{y}<extra></extra>",
         "legendgroup": "Velit Cum",
         "marker": {
          "color": "#19d3f3",
          "pattern": {
           "shape": ""
          }
         },
         "name": "Velit Cum",
         "orientation": "v",
         "showlegend": true,
         "textposition": "auto",
         "type": "bar",
         "x": [
          "Cecília Barros"
         ],
         "xaxis": "x",
         "y": {
          "bdata": "zczMzMxMeEA=",
          "dtype": "f8"
         },
         "yaxis": "y"
        },
        {
         "hovertemplate": "produto=Magni Praesentium<br>cliente=%{x}<br>total_venda=%{y}<extra></extra>",
         "legendgroup": "Magni Praesentium",
         "marker": {
          "color": "#FF6692",
          "pattern": {
           "shape": ""
          }
         },
         "name": "Magni Praesentium",
         "orientation": "v",
         "showlegend": true,
         "textposition": "auto",
         "type": "bar",
         "x": [
          "Antônio da Mata",
          "Arthur Cunha"
         ],
         "xaxis": "x",
         "y": {
          "bdata": "CtejcD0edkBI4XoUrpaQQA==",
          "dtype": "f8"
         },
         "yaxis": "y"
        },
        {
         "hovertemplate": "produto=Voluptate Iure<br>cliente=%{x}<br>total_venda=%{y}<extra></extra>",
         "legendgroup": "Voluptate Iure",
         "marker": {
          "color": "#B6E880",
          "pattern": {
           "shape": ""
          }
         },
         "name": "Voluptate Iure",
         "orientation": "v",
         "showlegend": true,
         "textposition": "auto",
         "type": "bar",
         "x": [
          "Paulo da Cunha"
         ],
         "xaxis": "x",
         "y": {
          "bdata": "mpmZmZkhcUA=",
          "dtype": "f8"
         },
         "yaxis": "y"
        },
        {
         "hovertemplate": "produto=Non Vel<br>cliente=%{x}<br>total_venda=%{y}<extra></extra>",
         "legendgroup": "Non Vel",
         "marker": {
          "color": "#FF97FF",
          "pattern": {
           "shape": ""
          }
         },
         "name": "Non Vel",
         "orientation": "v",
         "showlegend": true,
         "textposition": "auto",
         "type": "bar",
         "x": [
          "Gustavo Henrique Barros"
         ],
         "xaxis": "x",
         "y": {
          "bdata": "9ihcj8JVl0A=",
          "dtype": "f8"
         },
         "yaxis": "y"
        },
        {
         "hovertemplate": "produto=Labore Error<br>cliente=%{x}<br>total_venda=%{y}<extra></extra>",
         "legendgroup": "Labore Error",
         "marker": {
          "color": "#FECB52",
          "pattern": {
           "shape": ""
          }
         },
         "name": "Labore Error",
         "orientation": "v",
         "showlegend": true,
         "textposition": "auto",
         "type": "bar",
         "x": [
          "João Pedro Pereira"
         ],
         "xaxis": "x",
         "y": {
          "bdata": "9ihcj8JVjEA=",
          "dtype": "f8"
         },
         "yaxis": "y"
        },
        {
         "hovertemplate": "produto=Culpa Possimus<br>cliente=%{x}<br>total_venda=%{y}<extra></extra>",
         "legendgroup": "Culpa Possimus",
         "marker": {
          "color": "#636efa",
          "pattern": {
           "shape": ""
          }
         },
         "name": "Culpa Possimus",
         "orientation": "v",
         "showlegend": true,
         "textposition": "auto",
         "type": "bar",
         "x": [
          "Yasmin Farias"
         ],
         "xaxis": "x",
         "y": {
          "bdata": "ZmZmZmYGbkA=",
          "dtype": "f8"
         },
         "yaxis": "y"
        },
        {
         "hovertemplate": "produto=Perspiciatis Quis<br>cliente=%{x}<br>total_venda=%{y}<extra></extra>",
         "legendgroup": "Perspiciatis Quis",
         "marker": {
          "color": "#EF553B",
          "pattern": {
           "shape": ""
          }
         },
         "name": "Perspiciatis Quis",
         "orientation": "v",
         "showlegend": true,
         "textposition": "auto",
         "type": "bar",
         "x": [
          "Luna Silva",
          "Luiz Henrique Costa"
         ],
         "xaxis": "x",
         "y": {
          "bdata": "pHA9CtflkUCkcD0K1+WRQA==",
          "dtype": "f8"
         },
         "yaxis": "y"
        },
        {
         "hovertemplate": "produto=Alias Delectus<br>cliente=%{x}<br>total_venda=%{y}<extra></extra>",
         "legendgroup": "Alias Delectus",
         "marker": {
          "color": "#00cc96",
          "pattern": {
           "shape": ""
          }
         },
         "name": "Alias Delectus",
         "orientation": "v",
         "showlegend": true,
         "textposition": "auto",
         "type": "bar",
         "x": [
          "Luna Silva"
         ],
         "xaxis": "x",
         "y": {
          "bdata": "16NwPQpfkEA=",
          "dtype": "f8"
         },
         "yaxis": "y"
        },
        {
         "hovertemplate": "produto=Molestias Unde<br>cliente=%{x}<br>total_venda=%{y}<extra></extra>",
         "legendgroup": "Molestias Unde",
         "marker": {
          "color": "#ab63fa",
          "pattern": {
           "shape": ""
          }
         },
         "name": "Molestias Unde",
         "orientation": "v",
         "showlegend": true,
         "textposition": "auto",
         "type": "bar",
         "x": [
          "Heloísa Monteiro"
         ],
         "xaxis": "x",
         "y": {
          "bdata": "hetRuB5pdUA=",
          "dtype": "f8"
         },
         "yaxis": "y"
        },
        {
         "hovertemplate": "produto=Magnam Doloribus<br>cliente=%{x}<br>total_venda=%{y}<extra></extra>",
         "legendgroup": "Magnam Doloribus",
         "marker": {
          "color": "#FFA15A",
          "pattern": {
           "shape": ""
          }
         },
         "name": "Magnam Doloribus",
         "orientation": "v",
         "showlegend": true,
         "textposition": "auto",
         "type": "bar",
         "x": [
          "Thiago Costa"
         ],
         "xaxis": "x",
         "y": {
          "bdata": "zczMzMwkgUA=",
          "dtype": "f8"
         },
         "yaxis": "y"
        },
        {
         "hovertemplate": "produto=Quos Quia<br>cliente=%{x}<br>total_venda=%{y}<extra></extra>",
         "legendgroup": "Quos Quia",
         "marker": {
          "color": "#19d3f3",
          "pattern": {
           "shape": ""
          }
         },
         "name": "Quos Quia",
         "orientation": "v",
         "showlegend": true,
         "textposition": "auto",
         "type": "bar",
         "x": [
          "Marcelo Barros"
         ],
         "xaxis": "x",
         "y": {
          "bdata": "j8L1KFxPVEA=",
          "dtype": "f8"
         },
         "yaxis": "y"
        }
       ],
       "layout": {
        "barmode": "relative",
        "legend": {
         "title": {
          "text": "produto"
         },
         "tracegroupgap": 0
        },
        "template": {
         "data": {
          "bar": [
           {
            "error_x": {
             "color": "#2a3f5f"
            },
            "error_y": {
             "color": "#2a3f5f"
            },
            "marker": {
             "line": {
              "color": "#E5ECF6",
              "width": 0.5
             },
             "pattern": {
              "fillmode": "overlay",
              "size": 10,
              "solidity": 0.2
             }
            },
            "type": "bar"
           }
          ],
          "barpolar": [
           {
            "marker": {
             "line": {
              "color": "#E5ECF6",
              "width": 0.5
             },
             "pattern": {
              "fillmode": "overlay",
              "size": 10,
              "solidity": 0.2
             }
            },
            "type": "barpolar"
           }
          ],
          "carpet": [
           {
            "aaxis": {
             "endlinecolor": "#2a3f5f",
             "gridcolor": "white",
             "linecolor": "white",
             "minorgridcolor": "white",
             "startlinecolor": "#2a3f5f"
            },
            "baxis": {
             "endlinecolor": "#2a3f5f",
             "gridcolor": "white",
             "linecolor": "white",
             "minorgridcolor": "white",
             "startlinecolor": "#2a3f5f"
            },
            "type": "carpet"
           }
          ],
          "choropleth": [
           {
            "colorbar": {
             "outlinewidth": 0,
             "ticks": ""
            },
            "type": "choropleth"
           }
          ],
          "contour": [
           {
            "colorbar": {
             "outlinewidth": 0,
             "ticks": ""
            },
            "colorscale": [
             [
              0,
              "#0d0887"
             ],
             [
              0.1111111111111111,
              "#46039f"
             ],
             [
              0.2222222222222222,
              "#7201a8"
             ],
             [
              0.3333333333333333,
              "#9c179e"
             ],
             [
              0.4444444444444444,
              "#bd3786"
             ],
             [
              0.5555555555555556,
              "#d8576b"
             ],
             [
              0.6666666666666666,
              "#ed7953"
             ],
             [
              0.7777777777777778,
              "#fb9f3a"
             ],
             [
              0.8888888888888888,
              "#fdca26"
             ],
             [
              1,
              "#f0f921"
             ]
            ],
            "type": "contour"
           }
          ],
          "contourcarpet": [
           {
            "colorbar": {
             "outlinewidth": 0,
             "ticks": ""
            },
            "type": "contourcarpet"
           }
          ],
          "heatmap": [
           {
            "colorbar": {
             "outlinewidth": 0,
             "ticks": ""
            },
            "colorscale": [
             [
              0,
              "#0d0887"
             ],
             [
              0.1111111111111111,
              "#46039f"
             ],
             [
              0.2222222222222222,
              "#7201a8"
             ],
             [
              0.3333333333333333,
              "#9c179e"
             ],
             [
              0.4444444444444444,
              "#bd3786"
             ],
             [
              0.5555555555555556,
              "#d8576b"
             ],
             [
              0.6666666666666666,
              "#ed7953"
             ],
             [
              0.7777777777777778,
              "#fb9f3a"
             ],
             [
              0.8888888888888888,
              "#fdca26"
             ],
             [
              1,
              "#f0f921"
             ]
            ],
            "type": "heatmap"
           }
          ],
          "histogram": [
           {
            "marker": {
             "pattern": {
              "fillmode": "overlay",
              "size": 10,
              "solidity": 0.2
             }
            },
            "type": "histogram"
           }
          ],
          "histogram2d": [
           {
            "colorbar": {
             "outlinewidth": 0,
             "ticks": ""
            },
            "colorscale": [
             [
              0,
              "#0d0887"
             ],
             [
              0.1111111111111111,
              "#46039f"
             ],
             [
              0.2222222222222222,
              "#7201a8"
             ],
             [
              0.3333333333333333,
              "#9c179e"
             ],
             [
              0.4444444444444444,
              "#bd3786"
             ],
             [
              0.5555555555555556,
              "#d8576b"
             ],
             [
              0.6666666666666666,
              "#ed7953"
             ],
             [
              0.7777777777777778,
              "#fb9f3a"
             ],
             [
              0.8888888888888888,
              "#fdca26"
             ],
             [
              1,
              "#f0f921"
             ]
            ],
            "type": "histogram2d"
           }
          ],
          "histogram2dcontour": [
           {
            "colorbar": {
             "outlinewidth": 0,
             "ticks": ""
            },
            "colorscale": [
             [
              0,
              "#0d0887"
             ],
             [
              0.1111111111111111,
              "#46039f"
             ],
             [
              0.2222222222222222,
              "#7201a8"
             ],
             [
              0.3333333333333333,
              "#9c179e"
             ],
             [
              0.4444444444444444,
              "#bd3786"
             ],
             [
              0.5555555555555556,
              "#d8576b"
             ],
             [
              0.6666666666666666,
              "#ed7953"
             ],
             [
              0.7777777777777778,
              "#fb9f3a"
             ],
             [
              0.8888888888888888,
              "#fdca26"
             ],
             [
              1,
              "#f0f921"
             ]
            ],
            "type": "histogram2dcontour"
           }
          ],
          "mesh3d": [
           {
            "colorbar": {
             "outlinewidth": 0,
             "ticks": ""
            },
            "type": "mesh3d"
           }
          ],
          "parcoords": [
           {
            "line": {
             "colorbar": {
              "outlinewidth": 0,
              "ticks": ""
             }
            },
            "type": "parcoords"
           }
          ],
          "pie": [
           {
            "automargin": true,
            "type": "pie"
           }
          ],
          "scatter": [
           {
            "fillpattern": {
             "fillmode": "overlay",
             "size": 10,
             "solidity": 0.2
            },
            "type": "scatter"
           }
          ],
          "scatter3d": [
           {
            "line": {
             "colorbar": {
              "outlinewidth": 0,
              "ticks": ""
             }
            },
            "marker": {
             "colorbar": {
              "outlinewidth": 0,
              "ticks": ""
             }
            },
            "type": "scatter3d"
           }
          ],
          "scattercarpet": [
           {
            "marker": {
             "colorbar": {
              "outlinewidth": 0,
              "ticks": ""
             }
            },
            "type": "scattercarpet"
           }
          ],
          "scattergeo": [
           {
            "marker": {
             "colorbar": {
              "outlinewidth": 0,
              "ticks": ""
             }
            },
            "type": "scattergeo"
           }
          ],
          "scattergl": [
           {
            "marker": {
             "colorbar": {
              "outlinewidth": 0,
              "ticks": ""
             }
            },
            "type": "scattergl"
           }
          ],
          "scattermap": [
           {
            "marker": {
             "colorbar": {
              "outlinewidth": 0,
              "ticks": ""
             }
            },
            "type": "scattermap"
           }
          ],
          "scattermapbox": [
           {
            "marker": {
             "colorbar": {
              "outlinewidth": 0,
              "ticks": ""
             }
            },
            "type": "scattermapbox"
           }
          ],
          "scatterpolar": [
           {
            "marker": {
             "colorbar": {
              "outlinewidth": 0,
              "ticks": ""
             }
            },
            "type": "scatterpolar"
           }
          ],
          "scatterpolargl": [
           {
            "marker": {
             "colorbar": {
              "outlinewidth": 0,
              "ticks": ""
             }
            },
            "type": "scatterpolargl"
           }
          ],
          "scatterternary": [
           {
            "marker": {
             "colorbar": {
              "outlinewidth": 0,
              "ticks": ""
             }
            },
            "type": "scatterternary"
           }
          ],
          "surface": [
           {
            "colorbar": {
             "outlinewidth": 0,
             "ticks": ""
            },
            "colorscale": [
             [
              0,
              "#0d0887"
             ],
             [
              0.1111111111111111,
              "#46039f"
             ],
             [
              0.2222222222222222,
              "#7201a8"
             ],
             [
              0.3333333333333333,
              "#9c179e"
             ],
             [
              0.4444444444444444,
              "#bd3786"
             ],
             [
              0.5555555555555556,
              "#d8576b"
             ],
             [
              0.6666666666666666,
              "#ed7953"
             ],
             [
              0.7777777777777778,
              "#fb9f3a"
             ],
             [
              0.8888888888888888,
              "#fdca26"
             ],
             [
              1,
              "#f0f921"
             ]
            ],
            "type": "surface"
           }
          ],
          "table": [
           {
            "cells": {
             "fill": {
              "color": "#EBF0F8"
             },
             "line": {
              "color": "white"
             }
            },
            "header": {
             "fill": {
              "color": "#C8D4E3"
             },
             "line": {
              "color": "white"
             }
            },
            "type": "table"
           }
          ]
         },
         "layout": {
          "annotationdefaults": {
           "arrowcolor": "#2a3f5f",
           "arrowhead": 0,
           "arrowwidth": 1
          },
          "autotypenumbers": "strict",
          "coloraxis": {
           "colorbar": {
            "outlinewidth": 0,
            "ticks": ""
           }
          },
          "colorscale": {
           "diverging": [
            [
             0,
             "#8e0152"
            ],
            [
             0.1,
             "#c51b7d"
            ],
            [
             0.2,
             "#de77ae"
            ],
            [
             0.3,
             "#f1b6da"
            ],
            [
             0.4,
             "#fde0ef"
            ],
            [
             0.5,
             "#f7f7f7"
            ],
            [
             0.6,
             "#e6f5d0"
            ],
            [
             0.7,
             "#b8e186"
            ],
            [
             0.8,
             "#7fbc41"
            ],
            [
             0.9,
             "#4d9221"
            ],
            [
             1,
             "#276419"
            ]
           ],
           "sequential": [
            [
             0,
             "#0d0887"
            ],
            [
             0.1111111111111111,
             "#46039f"
            ],
            [
             0.2222222222222222,
             "#7201a8"
            ],
            [
             0.3333333333333333,
             "#9c179e"
            ],
            [
             0.4444444444444444,
             "#bd3786"
            ],
            [
             0.5555555555555556,
             "#d8576b"
            ],
            [
             0.6666666666666666,
             "#ed7953"
            ],
            [
             0.7777777777777778,
             "#fb9f3a"
            ],
            [
             0.8888888888888888,
             "#fdca26"
            ],
            [
             1,
             "#f0f921"
            ]
           ],
           "sequentialminus": [
            [
             0,
             "#0d0887"
            ],
            [
             0.1111111111111111,
             "#46039f"
            ],
            [
             0.2222222222222222,
             "#7201a8"
            ],
            [
             0.3333333333333333,
             "#9c179e"
            ],
            [
             0.4444444444444444,
             "#bd3786"
            ],
            [
             0.5555555555555556,
             "#d8576b"
            ],
            [
             0.6666666666666666,
             "#ed7953"
            ],
            [
             0.7777777777777778,
             "#fb9f3a"
            ],
            [
             0.8888888888888888,
             "#fdca26"
            ],
            [
             1,
             "#f0f921"
            ]
           ]
          },
          "colorway": [
           "#636efa",
           "#EF553B",
           "#00cc96",
           "#ab63fa",
           "#FFA15A",
           "#19d3f3",
           "#FF6692",
           "#B6E880",
           "#FF97FF",
           "#FECB52"
          ],
          "font": {
           "color": "#2a3f5f"
          },
          "geo": {
           "bgcolor": "white",
           "lakecolor": "white",
           "landcolor": "#E5ECF6",
           "showlakes": true,
           "showland": true,
           "subunitcolor": "white"
          },
          "hoverlabel": {
           "align": "left"
          },
          "hovermode": "closest",
          "mapbox": {
           "style": "light"
          },
          "paper_bgcolor": "white",
          "plot_bgcolor": "#E5ECF6",
          "polar": {
           "angularaxis": {
            "gridcolor": "white",
            "linecolor": "white",
            "ticks": ""
           },
           "bgcolor": "#E5ECF6",
           "radialaxis": {
            "gridcolor": "white",
            "linecolor": "white",
            "ticks": ""
           }
          },
          "scene": {
           "xaxis": {
            "backgroundcolor": "#E5ECF6",
            "gridcolor": "white",
            "gridwidth": 2,
            "linecolor": "white",
            "showbackground": true,
            "ticks": "",
            "zerolinecolor": "white"
           },
           "yaxis": {
            "backgroundcolor": "#E5ECF6",
            "gridcolor": "white",
            "gridwidth": 2,
            "linecolor": "white",
            "showbackground": true,
            "ticks": "",
            "zerolinecolor": "white"
           },
           "zaxis": {
            "backgroundcolor": "#E5ECF6",
            "gridcolor": "white",
            "gridwidth": 2,
            "linecolor": "white",
            "showbackground": true,
            "ticks": "",
            "zerolinecolor": "white"
           }
          },
          "shapedefaults": {
           "line": {
            "color": "#2a3f5f"
           }
          },
          "ternary": {
           "aaxis": {
            "gridcolor": "white",
            "linecolor": "white",
            "ticks": ""
           },
           "baxis": {
            "gridcolor": "white",
            "linecolor": "white",
            "ticks": ""
           },
           "bgcolor": "#E5ECF6",
           "caxis": {
            "gridcolor": "white",
            "linecolor": "white",
            "ticks": ""
           }
          },
          "title": {
           "x": 0.05
          },
          "xaxis": {
           "automargin": true,
           "gridcolor": "white",
           "linecolor": "white",
           "ticks": "",
           "title": {
            "standoff": 15
           },
           "zerolinecolor": "white",
           "zerolinewidth": 2
          },
          "yaxis": {
           "automargin": true,
           "gridcolor": "white",
           "linecolor": "white",
           "ticks": "",
           "title": {
            "standoff": 15
           },
           "zerolinecolor": "white",
           "zerolinewidth": 2
          }
         }
        },
        "title": {
         "text": "Total de Vendas por Cliente e Produto"
        },
        "xaxis": {
         "anchor": "y",
         "domain": [
          0,
          1
         ],
         "title": {
          "text": "cliente"
         }
        },
        "yaxis": {
         "anchor": "x",
         "domain": [
          0,
          1
         ],
         "title": {
          "text": "total_venda"
         }
        }
       }
      }
     },
     "metadata": {},
     "output_type": "display_data"
    }
   ],
   "source": [
    "# Gerar grafico\n",
    "fig = px.bar(df, x=\"cliente\", y=\"total_venda\", color=\"produto\", \n",
    "             title=\"Total de Vendas por Cliente e Produto\")\n",
    "fig.show()\n"
   ]
  },
  {
   "cell_type": "code",
   "execution_count": 13,
   "id": "4771de9e",
   "metadata": {},
   "outputs": [
    {
     "name": "stdout",
     "output_type": "stream",
     "text": [
      "⚠️ Drop de tabelas não executado. Variável de controle está n\n"
     ]
    }
   ],
   "source": [
    "deletar_tabelas = 'n'  # Altere para s se quiser dropar\n",
    "\n",
    "if deletar_tabelas.lower() == 's':\n",
    "    drop_script = \"\"\"\n",
    "    DROP TABLE IF EXISTS itens_pedido CASCADE;\n",
    "    DROP TABLE IF EXISTS pedidos CASCADE;\n",
    "    DROP TABLE IF EXISTS produtos CASCADE;\n",
    "    DROP TABLE IF EXISTS clientes CASCADE;\n",
    "    DROP TABLE IF EXISTS tipos_produto CASCADE;\n",
    "    \"\"\"\n",
    "    conn = engine.raw_connection()\n",
    "\n",
    "    try:\n",
    "        cursor = conn.cursor()\n",
    "        cursor.execute(drop_script)\n",
    "        conn.commit()\n",
    "        print(\"🗑️ Todas as tabelas foram deletadas com sucesso\")\n",
    "    finally:\n",
    "        cursor.close()\n",
    "        conn.close()\n",
    "else:\n",
    "    print(f\"⚠️ Drop de tabelas não executado. Variável de controle está {deletar_tabelas}\")"
   ]
  },
  {
   "cell_type": "markdown",
   "id": "c31b4535",
   "metadata": {},
   "source": [
    "#### **Aula 3 - Stacks Modernas, Data Warehouse, Data Lake e Lakehouse, Data Mesh e Data Fabric**"
   ]
  },
  {
   "cell_type": "markdown",
   "id": "ee55d376",
   "metadata": {},
   "source": [
    "##### **Modelo Dimensional em DBML – Diagrama DW (dimensões e fato)**"
   ]
  },
  {
   "cell_type": "markdown",
   "id": "fe9d2b9c",
   "metadata": {},
   "source": [
    "Criar o Diagrama Entidade-Relacionamento (DER) usando o site https://dbdiagram.io/home e o seguinte código DBML (Database Markup Language ou Linguagem de Marcação para Banco de Dados):   \n",
    "\n",
    "```dbml\n",
    "Table dim_cliente {\n",
    "  id_cliente int [pk]\n",
    "  nome varchar\n",
    "  idade int\n",
    "  cidade varchar\n",
    "}\n",
    "\n",
    "Table dim_produto {\n",
    "  id_produto int [pk]\n",
    "  nome_produto varchar\n",
    "  categoria varchar\n",
    "  preco decimal\n",
    "}\n",
    "\n",
    "Table fato_pedidos {\n",
    "  id_pedido int [pk]\n",
    "  id_cliente int [ref: > dim_cliente.id_cliente]\n",
    "  id_produto int [ref: > dim_produto.id_produto]\n",
    "  id_data int [ref: > dim_data.id_data]\n",
    "  id_regiao int [ref: > dim_regiao.id_regiao]\n",
    "  data_pedido date\n",
    "  quantidade int\n",
    "  valor_total decimal\n",
    "}\n",
    "\n",
    "Table dim_data {\n",
    "  id_data int [pk]\n",
    "  data date\n",
    "  ano int\n",
    "  mes int\n",
    "  dia int\n",
    "  dia_semana varchar\n",
    "  nome_mes varchar\n",
    "}\n",
    "\n",
    "Table dim_regiao {\n",
    "  id_regiao int [pk]\n",
    "  nome_regiao varchar\n",
    "  estado varchar\n",
    "  cidade varchar\n",
    "}\n"
   ]
  },
  {
   "cell_type": "markdown",
   "id": "0d52a3fd",
   "metadata": {},
   "source": [
    "![Diagrama DW](imagame.png)\n"
   ]
  },
  {
   "cell_type": "markdown",
   "id": "c8e8ce5f",
   "metadata": {},
   "source": [
    "##### **Códigos - Carregar dados no PostgreSQL**"
   ]
  },
  {
   "cell_type": "code",
   "execution_count": 14,
   "id": "0a8e4fca",
   "metadata": {},
   "outputs": [
    {
     "name": "stdout",
     "output_type": "stream",
     "text": [
      "⚠️ Tabela 'dim_cliente' já existe. Nenhuma alteração feita.\n",
      "⚠️ Tabela 'dim_produto' já existe. Nenhuma alteração feita.\n",
      "⚠️ Tabela 'fato_pedidos' já existe. Nenhuma alteração feita.\n"
     ]
    }
   ],
   "source": [
    "# Criar tabelas\n",
    "ddl_dim_fato = [\n",
    "    \"\"\"\n",
    "    CREATE TABLE IF NOT EXISTS dim_cliente (\n",
    "      id_cliente INT PRIMARY KEY,\n",
    "      nome VARCHAR(100),\n",
    "      idade INT,\n",
    "      cidade VARCHAR(100)\n",
    "    );\n",
    "    \"\"\",\n",
    "    \"\"\"\n",
    "    CREATE TABLE IF NOT EXISTS dim_produto (\n",
    "      id_produto INT PRIMARY KEY,\n",
    "      nome_produto VARCHAR(100),\n",
    "      categoria VARCHAR(50),\n",
    "      preco DECIMAL(10,2)\n",
    "    );\n",
    "    \"\"\",\n",
    "    \"\"\"\n",
    "    CREATE TABLE IF NOT EXISTS fato_pedidos (\n",
    "      id_pedido INT PRIMARY KEY,\n",
    "      id_cliente INT REFERENCES dim_cliente(id_cliente),\n",
    "      id_produto INT REFERENCES dim_produto(id_produto),\n",
    "      data_pedido DATE,\n",
    "      quantidade INT,\n",
    "      valor_total DECIMAL(10,2)\n",
    "    );\n",
    "    \"\"\"\n",
    "]\n",
    "\n",
    "table_names = [\n",
    "    \"dim_cliente\",\n",
    "    \"dim_produto\",\n",
    "    \"fato_pedidos\"\n",
    "]\n",
    "\n",
    "# Validar se as tabelas já existe\n",
    "with engine.begin() as conn:\n",
    "    for cmd, table in zip(ddl_dim_fato, table_names):\n",
    "        result = conn.execute(\n",
    "            text(f\"SELECT EXISTS (SELECT 1 FROM information_schema.tables WHERE table_schema = 'public' AND table_name = '{table}');\")\n",
    "        )\n",
    "        exists = result.scalar()\n",
    "        if not exists:\n",
    "            conn.execute(text(cmd))\n",
    "            print(f\"✅ Tabela '{table}' criada com sucesso!\")\n",
    "        else:\n",
    "            print(f\"⚠️ Tabela '{table}' já existe. Nenhuma alteração feita.\")"
   ]
  },
  {
   "cell_type": "code",
   "execution_count": 15,
   "id": "6d2322d9",
   "metadata": {},
   "outputs": [
    {
     "name": "stdout",
     "output_type": "stream",
     "text": [
      "🗑️ Dados apagados de todas as tabelas.\n",
      "✅ Executado: insert_dim_cliente.sql\n",
      "✅ Executado: insert_dim_produto.sql\n"
     ]
    }
   ],
   "source": [
    "# Apagar dados das tabelas e executar arquivos .sql\n",
    "github_urls = [\n",
    "    \"https://raw.githubusercontent.com/FIAP/Pos_Tech_DTAT/refs/heads/main/Fase%203/Aula4/sql/aula3-dw/insert_dim_cliente.sql\",\n",
    "    \"https://raw.githubusercontent.com/FIAP/Pos_Tech_DTAT/refs/heads/main/Fase%203/Aula4/sql/aula3-dw/insert_dim_produto.sql\"\n",
    "\n",
    "]\n",
    "\n",
    "delete_script = \"\"\"\n",
    "TRUNCATE TABLE dim_cliente, dim_produto CASCADE\n",
    "\"\"\"\n",
    "\n",
    "with engine.begin() as conn:\n",
    "    conn.execute(text(delete_script))\n",
    "    print(\"🗑️ Dados apagados de todas as tabelas.\")\n",
    "\n",
    "    for url in github_urls:\n",
    "        response = requests.get(url)\n",
    "        response.raise_for_status()\n",
    "        sql_content = response.text\n",
    "        conn.execute(text(sql_content))\n",
    "        print(f\"✅ Executado: {url.split('/')[-1]}\")\n"
   ]
  },
  {
   "cell_type": "code",
   "execution_count": 16,
   "id": "d5f3bddb",
   "metadata": {},
   "outputs": [
    {
     "name": "stdout",
     "output_type": "stream",
     "text": [
      "🗑️ Dados apagados de todas as tabelas.\n",
      "✅ Executado: insert_fato_pedidos.sql\n"
     ]
    }
   ],
   "source": [
    "# Apagar dados das tabelas e executar arquivos .sql\n",
    "github_urls = [\n",
    "    \"https://raw.githubusercontent.com/FIAP/Pos_Tech_DTAT/refs/heads/main/Fase%203/Aula4/sql/aula3-dw/insert_fato_pedidos.sql\"\n",
    "]\n",
    "\n",
    "delete_script = \"\"\"\n",
    "TRUNCATE TABLE fato_pedidos CASCADE\n",
    "\"\"\"\n",
    "\n",
    "with engine.begin() as conn:\n",
    "    conn.execute(text(delete_script))\n",
    "    print(\"🗑️ Dados apagados de todas as tabelas.\")\n",
    "\n",
    "    for url in github_urls:\n",
    "        response = requests.get(url)\n",
    "        response.raise_for_status()\n",
    "        sql_content = response.text\n",
    "        conn.execute(text(sql_content))\n",
    "        print(f\"✅ Executado: {url.split('/')[-1]}\")\n"
   ]
  },
  {
   "cell_type": "code",
   "execution_count": 17,
   "id": "21926089",
   "metadata": {},
   "outputs": [
    {
     "data": {
      "application/vnd.microsoft.datawrangler.viewer.v0+json": {
       "columns": [
        {
         "name": "index",
         "rawType": "int64",
         "type": "integer"
        },
        {
         "name": "nome",
         "rawType": "object",
         "type": "string"
        },
        {
         "name": "ultima_compra",
         "rawType": "object",
         "type": "unknown"
        }
       ],
       "ref": "39d1a1c0-269a-44e6-8b46-bd466e6902db",
       "rows": [
        [
         "0",
         "Srta. Luna Costa",
         "2024-10-08"
        ],
        [
         "1",
         "Vitor Nascimento",
         "2024-12-20"
        ],
        [
         "2",
         "Francisco Rezende",
         "2025-04-24"
        ],
        [
         "3",
         "Lucas Nascimento",
         "2025-02-05"
        ],
        [
         "4",
         "Luiza Duarte",
         "2025-01-02"
        ]
       ],
       "shape": {
        "columns": 2,
        "rows": 5
       }
      },
      "text/html": [
       "<div>\n",
       "<style scoped>\n",
       "    .dataframe tbody tr th:only-of-type {\n",
       "        vertical-align: middle;\n",
       "    }\n",
       "\n",
       "    .dataframe tbody tr th {\n",
       "        vertical-align: top;\n",
       "    }\n",
       "\n",
       "    .dataframe thead th {\n",
       "        text-align: right;\n",
       "    }\n",
       "</style>\n",
       "<table border=\"1\" class=\"dataframe\">\n",
       "  <thead>\n",
       "    <tr style=\"text-align: right;\">\n",
       "      <th></th>\n",
       "      <th>nome</th>\n",
       "      <th>ultima_compra</th>\n",
       "    </tr>\n",
       "  </thead>\n",
       "  <tbody>\n",
       "    <tr>\n",
       "      <th>0</th>\n",
       "      <td>Srta. Luna Costa</td>\n",
       "      <td>2024-10-08</td>\n",
       "    </tr>\n",
       "    <tr>\n",
       "      <th>1</th>\n",
       "      <td>Vitor Nascimento</td>\n",
       "      <td>2024-12-20</td>\n",
       "    </tr>\n",
       "    <tr>\n",
       "      <th>2</th>\n",
       "      <td>Francisco Rezende</td>\n",
       "      <td>2025-04-24</td>\n",
       "    </tr>\n",
       "    <tr>\n",
       "      <th>3</th>\n",
       "      <td>Lucas Nascimento</td>\n",
       "      <td>2025-02-05</td>\n",
       "    </tr>\n",
       "    <tr>\n",
       "      <th>4</th>\n",
       "      <td>Luiza Duarte</td>\n",
       "      <td>2025-01-02</td>\n",
       "    </tr>\n",
       "  </tbody>\n",
       "</table>\n",
       "</div>"
      ],
      "text/plain": [
       "                nome ultima_compra\n",
       "0   Srta. Luna Costa    2024-10-08\n",
       "1   Vitor Nascimento    2024-12-20\n",
       "2  Francisco Rezende    2025-04-24\n",
       "3   Lucas Nascimento    2025-02-05\n",
       "4       Luiza Duarte    2025-01-02"
      ]
     },
     "execution_count": 17,
     "metadata": {},
     "output_type": "execute_result"
    }
   ],
   "source": [
    "# Join para ver a ultima compra do cliente\n",
    "df = pd.read_sql_query(\n",
    "\n",
    "\"\"\"\n",
    "                       \n",
    "select \n",
    "\tb.nome, max(a.data_pedido) ultima_compra\n",
    "\n",
    "from \n",
    "\tfato_pedidos as a\n",
    "\n",
    "join dim_cliente as b \n",
    "on a.id_cliente = b.id_cliente\n",
    "\n",
    "group by\n",
    "\tb.nome\n",
    "\t\n",
    "\"\"\"\n",
    ",con=engine)\n",
    "\n",
    "df.head()\n"
   ]
  },
  {
   "cell_type": "markdown",
   "id": "c7861cd6",
   "metadata": {},
   "source": [
    "##### **Códigos - Exportar Postgre para SQL**"
   ]
  },
  {
   "cell_type": "code",
   "execution_count": 18,
   "id": "3ca9456c",
   "metadata": {},
   "outputs": [
    {
     "name": "stdout",
     "output_type": "stream",
     "text": [
      "✅ Conexão com o PostgreSQL estabelecida: PostgreSQL 17.4 on x86_64-pc-linux-gnu, compiled by gcc (GCC) 12.4.0, 64-bit\n",
      "\n",
      "✅ Bucket 'aula-data-lake-430854566059' já existe\n",
      "\n",
      "Exportando tabela: clientes\n",
      "✅ clientes salva no S3 em: s3://aula-data-lake-430854566059/raw/clientes.csv\n",
      "\n",
      "Exportando tabela: produtos\n",
      "✅ produtos salva no S3 em: s3://aula-data-lake-430854566059/raw/produtos.csv\n",
      "\n",
      "Exportando tabela: pedidos\n",
      "✅ pedidos salva no S3 em: s3://aula-data-lake-430854566059/raw/pedidos.csv\n",
      "\n",
      "Exportando tabela: itens_pedido\n",
      "✅ itens_pedido salva no S3 em: s3://aula-data-lake-430854566059/raw/itens_pedido.csv\n",
      "\n",
      "Exportando tabela: tipos_produto\n",
      "✅ tipos_produto salva no S3 em: s3://aula-data-lake-430854566059/raw/tipos_produto.csv\n",
      "\n",
      "Exportação concluída com sucesso.\n"
     ]
    }
   ],
   "source": [
    "# Configurar conexão PostgreSQL\n",
    "pg_config = {\n",
    "    \"host\": host,\n",
    "    \"database\": banco,\n",
    "    \"user\": usuario,\n",
    "    \"password\": senha,\n",
    "    \"port\": porta\n",
    "}\n",
    "\n",
    "# Configurar dados buckt do AWS S3\n",
    "bucket_name = \"aula-data-lake-430854566059\"\n",
    "s3_prefix = \"raw/\"\n",
    "\n",
    "# Listar tabelas a exportar \n",
    "tabelas = ['clientes', 'produtos', 'pedidos', 'itens_pedido', 'tipos_produto']\n",
    "\n",
    "# Validar conexão com PostgreSQL usando o engine\n",
    "try:\n",
    "    with engine.connect() as conn:\n",
    "        result = conn.execute(text(\"SELECT version();\"))\n",
    "        versao = result.fetchone()\n",
    "        print(f\"✅ Conexão com o PostgreSQL estabelecida: {versao[0]}\\n\")\n",
    "except Exception as e:\n",
    "    print(\"❌ Erro ao conectar ao PostgreSQL:\", e)\n",
    "    print()\n",
    "\n",
    "# Criar conexão com S3\n",
    "s3 = session.client('s3')\n",
    "region = s3.meta.region_name or \"us-east-1\" \n",
    "\n",
    "# Verificar buckt\n",
    "try:\n",
    "    s3.head_bucket(Bucket=bucket_name)\n",
    "    print(f\"✅ Bucket '{bucket_name}' já existe\\n\")\n",
    "\n",
    "except ClientError as e:\n",
    "    error_code = int(e.response['Error']['Code'])\n",
    "    if error_code == 404:\n",
    "        print(f\"Bucket '{bucket_name}' não existe, criando...\\n\")\n",
    "        if region == \"us-east-1\":\n",
    "            s3.create_bucket(Bucket=bucket_name)\n",
    "        else:\n",
    "            s3.create_bucket(\n",
    "                Bucket=bucket_name,\n",
    "                CreateBucketConfiguration={'LocationConstraint': region}\n",
    "            )\n",
    "        print(f\"Bucket '{bucket_name}' criado com sucesso\\n\")\n",
    "    else:\n",
    "        raise\n",
    "\n",
    "# Exportar dados do Postgres\n",
    "for tabela in tabelas:\n",
    "    print(f\"Exportando tabela: {tabela}\")\n",
    "    df = pd.read_sql(f\"SELECT * FROM {tabela};\", engine) \n",
    "\n",
    "    # Salvar como CSV em memória\n",
    "    csv_buffer = StringIO()\n",
    "    df.to_csv(csv_buffer, index=False)\n",
    "\n",
    "    # Enviar para S3\n",
    "    s3_key = f\"{s3_prefix}{tabela}.csv\"\n",
    "    s3.put_object(Bucket=bucket_name, Key=s3_key, Body=csv_buffer.getvalue())\n",
    "    print(f\"✅ {tabela} salva no S3 em: s3://{bucket_name}/{s3_key}\\n\")\n",
    "\n",
    "print(\"Exportação concluída com sucesso.\")\n"
   ]
  },
  {
   "cell_type": "code",
   "execution_count": 19,
   "id": "941f33a3",
   "metadata": {},
   "outputs": [
    {
     "name": "stderr",
     "output_type": "stream",
     "text": [
      "c:\\Users\\ricar\\anaconda3\\envs\\ambiente_fase3\\Lib\\site-packages\\fsspec\\registry.py:298: UserWarning:\n",
      "\n",
      "Your installed version of s3fs is very old and known to cause\n",
      "severe performance issues, see also https://github.com/dask/dask/issues/10276\n",
      "\n",
      "To fix, you should specify a lower version bound on s3fs, or\n",
      "update the current installation.\n",
      "\n",
      "\n"
     ]
    },
    {
     "name": "stdout",
     "output_type": "stream",
     "text": [
      "Processamento das camadas Silver e Gold no S3 particionado por ano mes e dia (anomesdia) finalizado com sucesso!\n"
     ]
    }
   ],
   "source": [
    "# Criar um dicionário com as opções de armazenamento, especificando o perfil\n",
    "storage_options = {\"profile\": \"academy\"}\n",
    "\n",
    "# Caminhos no S3\n",
    "RAW_PREFIX = 's3://aula-data-lake-430854566059/raw/'\n",
    "SILVER_PREFIX = 's3://aula-data-lake-430854566059/silver/'\n",
    "GOLD_PREFIX = 's3://aula-data-lake-430854566059/gold/'\n",
    "\n",
    "# Camada Silver --> Leitura e Limpeza dos Dados\n",
    "# Uso do storage_options=storage_options para garantir o uso correto das credenciais\n",
    "clientes = pd.read_csv(RAW_PREFIX + 'clientes.csv', storage_options=storage_options) \n",
    "produtos = pd.read_csv(RAW_PREFIX + 'produtos.csv', storage_options=storage_options)\n",
    "tipos_produto = pd.read_csv(RAW_PREFIX + 'tipos_produto.csv', storage_options=storage_options)\n",
    "pedidos = pd.read_csv(RAW_PREFIX + 'pedidos.csv', storage_options=storage_options)\n",
    "itens_pedido = pd.read_csv(RAW_PREFIX + 'itens_pedido.csv', storage_options=storage_options)\n",
    "\n",
    "# Padronizar colunas para lower case\n",
    "for df in [clientes, produtos, tipos_produto, pedidos, itens_pedido]:\n",
    "    df.columns = [col.lower() for col in df.columns]\n",
    "\n",
    "# Limpeza básica\n",
    "clientes = clientes.drop_duplicates().dropna(subset=['id_cliente'])\n",
    "produtos = produtos.drop_duplicates().dropna(subset=['id_produto'])\n",
    "tipos_produto = tipos_produto.drop_duplicates().dropna(subset=['id_tipo'])\n",
    "pedidos = pedidos.drop_duplicates().dropna(subset=['id_pedido', 'id_cliente'])\n",
    "itens_pedido = itens_pedido.drop_duplicates().dropna(subset=['id_item', 'id_pedido', 'id_produto'])\n",
    "\n",
    "# Padronização de datas\n",
    "if 'data_pedido' in pedidos.columns:\n",
    "    pedidos['data_pedido'] = pd.to_datetime(pedidos['data_pedido'], errors='coerce')\n",
    "\n",
    "# Salvar camada Silver em Parquet no S3\n",
    "# Uso do storage_options=storage_options para garantir o uso correto das credenciais\n",
    "clientes.to_parquet(SILVER_PREFIX + 'clientes.parquet', index=False, storage_options=storage_options)\n",
    "produtos.to_parquet(SILVER_PREFIX + 'produtos.parquet', index=False, storage_options=storage_options)\n",
    "tipos_produto.to_parquet(SILVER_PREFIX + 'tipos_produto.parquet', index=False, storage_options=storage_options)\n",
    "pedidos.to_parquet(SILVER_PREFIX + 'pedidos.parquet', index=False, storage_options=storage_options)\n",
    "itens_pedido.to_parquet(SILVER_PREFIX + 'itens_pedido.parquet', index=False, storage_options=storage_options)\n",
    "\n",
    "# Camada Gold Layer --> Enriquecimento e Agregações\n",
    "\n",
    "# Fato de vendas com todas as dimensões\n",
    "gold_vendas = itens_pedido.merge(pedidos, on='id_pedido') \\\n",
    "    .merge(produtos, on='id_produto') \\\n",
    "    .merge(tipos_produto, on='id_tipo') \\\n",
    "    .merge(clientes, on='id_cliente')\n",
    "\n",
    "# Valor total do item\n",
    "if 'quantidade' in gold_vendas.columns and 'preco_unitario' in gold_vendas.columns:\n",
    "    gold_vendas['valor_total_item'] = gold_vendas['quantidade'] * gold_vendas['preco_unitario']\n",
    "\n",
    "# Criação do campo anomesdia\n",
    "if 'data_pedido' in gold_vendas.columns:\n",
    "    gold_vendas['anomesdia'] = gold_vendas['data_pedido'].dt.strftime('%Y%m%d')\n",
    "\n",
    "# Resumo por cliente\n",
    "gold_vendas_por_cliente = gold_vendas.groupby(['id_cliente', 'nome']) \\\n",
    "    .agg({'valor_total_item': 'sum', 'id_pedido': 'nunique'}) \\\n",
    "    .rename(columns={'valor_total_item': 'valor_total_comprado', 'id_pedido': 'num_pedidos'}) \\\n",
    "    .reset_index()\n",
    "\n",
    "# Resumo por tipo de produto\n",
    "gold_vendas_por_tipo = gold_vendas.groupby(['id_tipo', 'nome_tipo']) \\\n",
    "    .agg({'valor_total_item': 'sum', 'quantidade': 'sum'}) \\\n",
    "    .rename(columns={'valor_total_item': 'total_vendido', 'quantidade': 'quantidade_total'}) \\\n",
    "    .reset_index()\n",
    "\n",
    "# Salvar camada Gold no S3 particionado por anomesdia\n",
    "gold_vendas.to_parquet(GOLD_PREFIX + 'fato_vendas/', partition_cols=['anomesdia'], index=False, storage_options=storage_options)\n",
    "gold_vendas_por_cliente.to_parquet(GOLD_PREFIX + 'vendas_por_cliente.parquet', index=False, storage_options=storage_options)\n",
    "gold_vendas_por_tipo.to_parquet(GOLD_PREFIX + 'vendas_por_tipo.parquet', index=False, storage_options=storage_options)\n",
    "\n",
    "print(\"Processamento das camadas Silver e Gold no S3 particionado por ano mes e dia (anomesdia) finalizado com sucesso!\")\n"
   ]
  },
  {
   "cell_type": "markdown",
   "id": "51a913a5",
   "metadata": {},
   "source": [
    "#### **Aula 4 - Linguagem SQL Para Analise, Seleção, Filgram, Agrupamento e Joins**"
   ]
  },
  {
   "cell_type": "code",
   "execution_count": null,
   "id": "8a8c3a22",
   "metadata": {},
   "outputs": [
    {
     "name": "stdout",
     "output_type": "stream",
     "text": [
      "   id_cliente            nome  valor_total_comprado  num_pedidos\n",
      "0           1     Yago Novaes               1962.73            1\n",
      "1           2  Isadora Castro                817.44            1\n",
      "2           6     Raul da Luz               1230.50            1\n",
      "3           7    Clara Araújo                843.70            1\n",
      "4           8   Yuri Teixeira               5013.49            2\n"
     ]
    }
   ],
   "source": [
    "# Exemplo de uso --> Sem a utilizar a criação de uma conexão\n",
    "aws_profile_name = \"academy\"  \n",
    "\n",
    "credentials = session.get_credentials()\n",
    "region = session.region_name or 'us-east-1' \n",
    "\n",
    "duckdb.sql(\"INSTALL httpfs;\")\n",
    "duckdb.sql(\"LOAD httpfs;\")\n",
    "duckdb.sql(f\"SET s3_region='{region}';\")\n",
    "duckdb.sql(f\"SET s3_access_key_id='{credentials.access_key}';\")\n",
    "duckdb.sql(f\"SET s3_secret_access_key='{credentials.secret_key}';\")\n",
    "\n",
    "# Se estiver usando credenciais temporárias, o token também será necessário\n",
    "if credentials.token:\n",
    "    duckdb.sql(f\"SET s3_session_token='{credentials.token}';\")\n",
    "\n",
    "s3_path = \"s3://aula-data-lake-430854566059/gold/vendas_por_cliente.parquet\"\n",
    "\n",
    "query = f\"\"\"\n",
    "SELECT \n",
    "    *\n",
    "FROM \n",
    "    read_parquet('{s3_path}')\n",
    "    \n",
    "LIMIT \n",
    "    5;\n",
    "\"\"\"\n",
    "\n",
    "resultado_df = duckdb.sql(query).df()\n",
    "print(resultado_df)\n"
   ]
  },
  {
   "cell_type": "code",
   "execution_count": 22,
   "id": "5790634d",
   "metadata": {},
   "outputs": [
    {
     "name": "stdout",
     "output_type": "stream",
     "text": [
      "   id_cliente            nome  valor_total_comprado  num_pedidos\n",
      "0           1     Yago Novaes               1962.73            1\n",
      "1           2  Isadora Castro                817.44            1\n",
      "2           6     Raul da Luz               1230.50            1\n",
      "3           7    Clara Araújo                843.70            1\n",
      "4           8   Yuri Teixeira               5013.49            2\n"
     ]
    }
   ],
   "source": [
    "# Exemplo de uso --> Utilizar a criação de uma conexão\n",
    "# --- ETAPA 1: Carregar credenciais da AWS (parte do seu código original) ---\n",
    "aws_profile_name = \"academy\" \n",
    "\n",
    "# Criamos a sessão para obter as credenciais\n",
    "session = boto3.Session(profile_name=aws_profile_name)\n",
    "credentials = session.get_credentials()\n",
    "region = session.region_name or 'us-east-1' \n",
    "\n",
    "# --- ETAPA 2: ADAPTAÇÃO DO CÓDIGO ---\n",
    "\n",
    "# 2.1. Em vez de comandos \"SET\", criamos um dicionário de configuração\n",
    "duckdb_config = {\n",
    "    's3_region': region,\n",
    "    's3_access_key_id': credentials.access_key,\n",
    "    's3_secret_access_key': credentials.secret_key\n",
    "}\n",
    "# Adiciona o token de sessão ao dicionário, se ele existir\n",
    "if credentials.token:\n",
    "    duckdb_config['s3_session_token'] = credentials.token\n",
    "\n",
    "# 2.2. Criamos um objeto de conexão explícito, passando o dicionário\n",
    "#     O banco de dados ':memory:' significa que ele rodará em memória RAM.\n",
    "con = duckdb.connect(database=':memory:', config=duckdb_config)\n",
    "\n",
    "# 2.3. Usamos o objeto 'con' para instalar/carregar a extensão\n",
    "con.execute(\"INSTALL httpfs;\")\n",
    "con.execute(\"LOAD httpfs;\")\n",
    "\n",
    "# A definição do caminho e da query continua a mesma\n",
    "s3_path = \"s3://aula-data-lake-430854566059/gold/vendas_por_cliente.parquet\"\n",
    "\n",
    "query = f\"\"\"\n",
    "SELECT \n",
    "    *\n",
    "FROM \n",
    "    read_parquet('{s3_path}')\n",
    "    \n",
    "LIMIT \n",
    "    5;\n",
    "\"\"\"\n",
    "\n",
    "# 2.4. Executamos a consulta usando a conexão 'con'\n",
    "resultado_df = con.execute(query).df()\n",
    "\n",
    "# 2.5. Fechamos a conexão após o uso\n",
    "con.close()\n",
    "\n",
    "# Exibe o resultado final\n",
    "print(resultado_df)"
   ]
  },
  {
   "cell_type": "code",
   "execution_count": null,
   "id": "48081a4b",
   "metadata": {},
   "outputs": [
    {
     "name": "stdout",
     "output_type": "stream",
     "text": [
      "   id_cliente            nome  valor_total_comprado  num_pedidos\n",
      "0           1     Yago Novaes               1962.73            1\n",
      "1           2  Isadora Castro                817.44            1\n",
      "2           6     Raul da Luz               1230.50            1\n",
      "3           7    Clara Araújo                843.70            1\n",
      "4           8   Yuri Teixeira               5013.49            2\n"
     ]
    }
   ],
   "source": [
    "# Teste Professor\n",
    "\n",
    "session = boto3.Session(profile_name=\"academy\")\n",
    "credentials = session.get_credentials().get_frozen_credentials()\n",
    "region = session.region_name or \"us-east-1\"\n",
    "\n",
    "DIM_PREFIX = \"s3://aula-data-lake-430854566059/gold/\"\n",
    "\n",
    "duckdb_config = {\n",
    "    \"s3_region\": region,\n",
    "    \"s3_access_key_id\": credentials.access_key,\n",
    "    \"s3_secret_access_key\": credentials.secret_key,\n",
    "}\n",
    "if credentials.token:\n",
    "    duckdb_config[\"s3_session_token\"] = credentials.token\n",
    "\n",
    "con = duckdb.connect(config=duckdb_config)\n",
    "\n",
    "df = con.execute(f\"\"\"\n",
    "    SELECT *\n",
    "    FROM read_parquet('{DIM_PREFIX}vendas_por_cliente')\n",
    "\"\"\").fetchdf()\n",
    "\n",
    "print(df.head())"
   ]
  },
  {
   "cell_type": "code",
   "execution_count": null,
   "id": "c5da621a",
   "metadata": {},
   "outputs": [
    {
     "name": "stdout",
     "output_type": "stream",
     "text": [
      "   id_item  id_pedido  id_produto  quantidade  preco_unitario data_pedido  \\\n",
      "0       35         26          19           1           32.64  2024-06-20   \n",
      "1       72         26           3           5           84.67  2024-06-20   \n",
      "2       35         26          19           1           32.64  2024-06-20   \n",
      "3       72         26           3           5           84.67  2024-06-20   \n",
      "4       35         26          19           1           32.64  2024-06-20   \n",
      "\n",
      "      status  id_cliente             nome_produto   preco  id_tipo  \\\n",
      "0  Concluído           8  Excepturi Reprehenderit  367.57        9   \n",
      "1  Concluído           8    Cupiditate Reiciendis  119.37        2   \n",
      "2  Concluído           8  Excepturi Reprehenderit  367.57        9   \n",
      "3  Concluído           8    Cupiditate Reiciendis  119.37        2   \n",
      "4  Concluído           8  Excepturi Reprehenderit  367.57        9   \n",
      "\n",
      "     nome_tipo           nome              email         telefone cidade  \\\n",
      "0  Ferramentas  Yuri Teixeira  uduarte@ig.com.br  (071) 0887 8440  Nunes   \n",
      "1      Bebidas  Yuri Teixeira  uduarte@ig.com.br  (071) 0887 8440  Nunes   \n",
      "2  Ferramentas  Yuri Teixeira  uduarte@ig.com.br  (071) 0887 8440  Nunes   \n",
      "3      Bebidas  Yuri Teixeira  uduarte@ig.com.br  (071) 0887 8440  Nunes   \n",
      "4  Ferramentas  Yuri Teixeira  uduarte@ig.com.br  (071) 0887 8440  Nunes   \n",
      "\n",
      "  estado  valor_total_item  anomesdia  \n",
      "0     DF             32.64   20240620  \n",
      "1     DF            423.35   20240620  \n",
      "2     DF             32.64   20240620  \n",
      "3     DF            423.35   20240620  \n",
      "4     DF             32.64   20240620  \n"
     ]
    }
   ],
   "source": [
    "df = con.execute(f\"\"\"\n",
    "    SELECT *\n",
    "    FROM read_parquet('{DIM_PREFIX}fato_vendas/anomesdia=20240620/*.parquet')\n",
    "\"\"\").fetchdf()\n",
    "\n",
    "\n",
    "\n",
    "\n",
    "\n",
    "print(df.head())"
   ]
  },
  {
   "cell_type": "code",
   "execution_count": null,
   "id": "6da7e05b",
   "metadata": {},
   "outputs": [
    {
     "data": {
      "application/vnd.microsoft.datawrangler.viewer.v0+json": {
       "columns": [
        {
         "name": "index",
         "rawType": "int64",
         "type": "integer"
        },
        {
         "name": "id_cliente",
         "rawType": "int64",
         "type": "integer"
        },
        {
         "name": "nome",
         "rawType": "object",
         "type": "string"
        },
        {
         "name": "valor_total_comprado",
         "rawType": "float64",
         "type": "float"
        },
        {
         "name": "num_pedidos",
         "rawType": "int64",
         "type": "integer"
        }
       ],
       "ref": "c6c4be0f-453e-4cbe-8ffc-87597b0371ee",
       "rows": [
        [
         "0",
         "1",
         "Yago Novaes",
         "1962.73",
         "1"
        ],
        [
         "1",
         "2",
         "Isadora Castro",
         "817.44",
         "1"
        ],
        [
         "2",
         "6",
         "Raul da Luz",
         "1230.5",
         "1"
        ],
        [
         "3",
         "7",
         "Clara Araújo",
         "843.7",
         "1"
        ],
        [
         "4",
         "8",
         "Yuri Teixeira",
         "5013.49",
         "2"
        ]
       ],
       "shape": {
        "columns": 4,
        "rows": 5
       }
      },
      "text/html": [
       "<div>\n",
       "<style scoped>\n",
       "    .dataframe tbody tr th:only-of-type {\n",
       "        vertical-align: middle;\n",
       "    }\n",
       "\n",
       "    .dataframe tbody tr th {\n",
       "        vertical-align: top;\n",
       "    }\n",
       "\n",
       "    .dataframe thead th {\n",
       "        text-align: right;\n",
       "    }\n",
       "</style>\n",
       "<table border=\"1\" class=\"dataframe\">\n",
       "  <thead>\n",
       "    <tr style=\"text-align: right;\">\n",
       "      <th></th>\n",
       "      <th>id_cliente</th>\n",
       "      <th>nome</th>\n",
       "      <th>valor_total_comprado</th>\n",
       "      <th>num_pedidos</th>\n",
       "    </tr>\n",
       "  </thead>\n",
       "  <tbody>\n",
       "    <tr>\n",
       "      <th>0</th>\n",
       "      <td>1</td>\n",
       "      <td>Yago Novaes</td>\n",
       "      <td>1962.73</td>\n",
       "      <td>1</td>\n",
       "    </tr>\n",
       "    <tr>\n",
       "      <th>1</th>\n",
       "      <td>2</td>\n",
       "      <td>Isadora Castro</td>\n",
       "      <td>817.44</td>\n",
       "      <td>1</td>\n",
       "    </tr>\n",
       "    <tr>\n",
       "      <th>2</th>\n",
       "      <td>6</td>\n",
       "      <td>Raul da Luz</td>\n",
       "      <td>1230.50</td>\n",
       "      <td>1</td>\n",
       "    </tr>\n",
       "    <tr>\n",
       "      <th>3</th>\n",
       "      <td>7</td>\n",
       "      <td>Clara Araújo</td>\n",
       "      <td>843.70</td>\n",
       "      <td>1</td>\n",
       "    </tr>\n",
       "    <tr>\n",
       "      <th>4</th>\n",
       "      <td>8</td>\n",
       "      <td>Yuri Teixeira</td>\n",
       "      <td>5013.49</td>\n",
       "      <td>2</td>\n",
       "    </tr>\n",
       "  </tbody>\n",
       "</table>\n",
       "</div>"
      ],
      "text/plain": [
       "   id_cliente            nome  valor_total_comprado  num_pedidos\n",
       "0           1     Yago Novaes               1962.73            1\n",
       "1           2  Isadora Castro                817.44            1\n",
       "2           6     Raul da Luz               1230.50            1\n",
       "3           7    Clara Araújo                843.70            1\n",
       "4           8   Yuri Teixeira               5013.49            2"
      ]
     },
     "execution_count": 23,
     "metadata": {},
     "output_type": "execute_result"
    }
   ],
   "source": [
    "session = boto3.Session(profile_name=\"academy\")\n",
    "credentials = session.get_credentials().get_frozen_credentials()\n",
    "region = session.region_name or \"us-east-1\"\n",
    "\n",
    "DIM_PREFIX = \"s3://aula-data-lake-430854566059/gold/\"\n",
    "\n",
    "duckdb_config = {\n",
    "    \"s3_region\": region,\n",
    "    \"s3_access_key_id\": credentials.access_key,\n",
    "    \"s3_secret_access_key\": credentials.secret_key,\n",
    "}\n",
    "if credentials.token:\n",
    "    duckdb_config[\"s3_session_token\"] = credentials.token\n",
    "\n",
    "con = duckdb.connect(config=duckdb_config)\n",
    "\n",
    "\n",
    "\n",
    "con.sql(\"\"\"\n",
    "    CREATE TEMP TABLE top_clientes AS\n",
    "    SELECT *\n",
    "    FROM read_parquet('s3://aula-data-lake-430854566059/gold/vendas_por_cliente')\n",
    "\n",
    "    \n",
    "\"\"\")\n",
    "\n",
    "# Consulta usando a tabela temporária\n",
    "df = con.sql(\"SELECT * FROM top_clientes\").df()\n",
    "\n",
    "df.head()\n",
    "\n"
   ]
  },
  {
   "cell_type": "markdown",
   "id": "5dd8490d",
   "metadata": {},
   "source": [
    "#### **Aula 5 - Tipos de Bancos NoSQL: Documentos, Chave-Valor, Grafos e Colunas**"
   ]
  }
 ],
 "metadata": {
  "kernelspec": {
   "display_name": "ambiente_fase3",
   "language": "python",
   "name": "python3"
  },
  "language_info": {
   "codemirror_mode": {
    "name": "ipython",
    "version": 3
   },
   "file_extension": ".py",
   "mimetype": "text/x-python",
   "name": "python",
   "nbconvert_exporter": "python",
   "pygments_lexer": "ipython3",
   "version": "3.11.13"
  }
 },
 "nbformat": 4,
 "nbformat_minor": 5
}
