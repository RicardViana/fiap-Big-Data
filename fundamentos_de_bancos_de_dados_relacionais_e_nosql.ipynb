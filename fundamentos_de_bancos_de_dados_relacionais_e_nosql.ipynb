{
 "cells": [
  {
   "cell_type": "markdown",
   "id": "89d6ca84",
   "metadata": {},
   "source": [
    "#### **Fundamentos de Bancos de Dados Relacionais e NoSQL**"
   ]
  },
  {
   "cell_type": "markdown",
   "id": "dd59115f",
   "metadata": {},
   "source": [
    "#### **Conteúdo - Bases e Notebook da aula**\n",
    "\n",
    "https://github.com/FIAP/Pos_Tech_DTAT/tree/main/Fase%203"
   ]
  },
  {
   "cell_type": "markdown",
   "id": "a770d68e",
   "metadata": {},
   "source": [
    "#### **Importação de pacotes, bibliotecas e funções (def)**"
   ]
  },
  {
   "cell_type": "code",
   "execution_count": 6,
   "id": "ad5ca788",
   "metadata": {},
   "outputs": [],
   "source": [
    "# Importar biblioteca completa\n",
    "import boto3\n",
    "import pandas as pd\n",
    "import os\n",
    "import plotly.express as px\n",
    "import requests\n",
    "import duckdb\n",
    "import mongomock\n",
    "import fakeredis\n",
    "import uuid\n",
    "import networkx as nx\n",
    "import matplotlib.pyplot as plt\n",
    "\n",
    "# Importar função especifica de um módulo\n",
    "from botocore.exceptions import BotoCoreError, ClientError\n",
    "from sqlalchemy import create_engine, text\n",
    "from dotenv import load_dotenv\n",
    "from io import StringIO\n",
    "from pprint import pprint\n",
    "from astrapy import DataAPIClient\n",
    "from cassandra.cluster import Cluster\n",
    "from cassandra.auth import PlainTextAuthProvider\n",
    "from pprint import pprint"
   ]
  },
  {
   "cell_type": "code",
   "execution_count": 2,
   "id": "0efdef87",
   "metadata": {},
   "outputs": [],
   "source": [
    "# Testar a conexão ao banco de dados\n",
    "def test_connection(engine):\n",
    "\n",
    "    try:\n",
    "        with engine.connect() as connection:\n",
    "            \n",
    "            # Testar a versão do PostgreSQL\n",
    "            result = connection.execute(text(\"SELECT version();\"))\n",
    "            versao = result.fetchone()\n",
    "            print(\"✅ Conectado com sucesso:\", versao[0])\n",
    "\n",
    "            # Listar as tabelas no schema público\n",
    "            result = connection.execute(text(\"\"\"\n",
    "                SELECT table_name\n",
    "                FROM information_schema.tables\n",
    "                WHERE table_schema = 'public';\n",
    "            \"\"\"))\n",
    "            tabelas = result.fetchall()\n",
    "            print(\"📄 Tabelas no banco:\")\n",
    "            for tabela in tabelas:\n",
    "                print(\"  -\", tabela[0])\n",
    "\n",
    "    except Exception as e:\n",
    "        print(\"❌ Erro ao executar comandos:\", e)\n"
   ]
  },
  {
   "cell_type": "markdown",
   "id": "41dfe187",
   "metadata": {},
   "source": [
    "#### **Instalação do AWS CLI (Opcional, mas Recomendado)**"
   ]
  },
  {
   "cell_type": "markdown",
   "id": "84c64a44",
   "metadata": {},
   "source": [
    "Para rodar comandos da AWS no terminal para testar credenciais, criar buckets ou consultar recursos instale o **AWS CLI v2**.\n",
    "\n",
    "##### **macOS / Linux (zsh ou bash)**\n",
    "\n",
    "**Instalação com Homebrew (recomendado para macOS)**\n",
    "```bash\n",
    "brew install awscli\n",
    "```\n",
    "\n",
    "##### **Instalação manual**\n",
    "```bash\n",
    "curl \"https://awscli.amazonaws.com/AWSCLIV2.pkg\" -o \"AWSCLIV2.pkg\"\n",
    "sudo installer -pkg AWSCLIV2.pkg -target /\n",
    "```\n",
    "\n",
    "##### **Verificar instalação**\n",
    "```bash\n",
    "aws --version\n",
    "```\n",
    "\n",
    "##### **Windows**\n",
    "\n",
    "1. Baixe o instalador: [AWS CLI v2](https://awscli.amazonaws.com/AWSCLIV2.msi)\n",
    "2. Execute o instalador e finalize.\n",
    "3. Teste no PowerShell:\n",
    "```bash\n",
    "aws --version\n",
    "```\n",
    "\n",
    "##### **Testar credenciais**\n",
    "Após instalar o **AWS CLI**, teste o perfil `academy` criado:\n",
    "\n",
    "```bash\n",
    "aws sts get-caller-identity --profile academy\n",
    "```\n",
    "\n",
    "Se retornar o **Account ID** e o **ARN**, as credenciais estão funcionando ✅"
   ]
  },
  {
   "cell_type": "markdown",
   "id": "8c2044ca",
   "metadata": {},
   "source": [
    "#### **Credenciais do AWS Academy** "
   ]
  },
  {
   "cell_type": "markdown",
   "id": "43e5cf04",
   "metadata": {},
   "source": [
    "Para seguir com as etapas desse notebook será necessario pegar as credencias do AWS Academy e criar o arquivo com essas credencias:\n",
    "\n",
    "**1. Pegar credenciais do AWS Academy**  \n",
    "1. Acesse [AWS Academy](https://awsacademy.instructure.com/)\n",
    "2. Acesse a opção **Cursos** no lado esquerdo e acesse o seu respectivo curso\n",
    "3. Acessa a opçãp **Módulos**\n",
    "4. Acesse a opção **Iniciar os laboratórios de aprendizagem da AWS Academy**\n",
    "5. Clique em **Start Lab**\n",
    "6. Clique em **AWS Details**\n",
    "7. Clique em **AWS CLI: Show** e copie:\n",
    "   - **AWS Access Key ID**\n",
    "   - **AWS Secret Access Key**\n",
    "   - **Session Token**\n",
    "\n",
    "⚠️ As credenciais são temporárias (válidas por 3 horas).\n",
    "\n",
    "**2. Criar arquivo de credenciais**  \n",
    "\n",
    "Crie o arquivo **`credentials`** no caminho:\n",
    "\n",
    "- **macOS/Linux:** `~/.aws/credentials`\n",
    "- **Windows:** `%USERPROFILE%\\.aws\\credentials`\n",
    "\n",
    "⚠️ Salvar o arquivo sem formato --> Na opçãp Tipo deixar Todos os arquivos\n",
    "\n",
    "**3. Conteúdo do arquivo**\n",
    "```ini\n",
    "[academy]\n",
    "aws_access_key_id = SUA_ACCESS_KEY\n",
    "aws_secret_access_key = SUA_SECRET_KEY\n",
    "aws_session_token = SEU_SESSION_TOKEN\n",
    "region = sa-east-1\n",
    "output = json\n",
    "```\n",
    "\n",
    "**4. Testar configuração**\n",
    "```bash\n",
    "aws sts get-caller-identity --profile academy\n",
    "```\n",
    "\n",
    "Se tudo estiver certo, rode o notebook.  \n",
    "Agora ele **usa automaticamente o perfil `academy`** para se conectar à AWS."
   ]
  },
  {
   "cell_type": "markdown",
   "id": "680f092b",
   "metadata": {},
   "source": [
    "#### **Testar conexão AWS via Python**"
   ]
  },
  {
   "cell_type": "code",
   "execution_count": 3,
   "id": "02baef19",
   "metadata": {},
   "outputs": [
    {
     "name": "stdout",
     "output_type": "stream",
     "text": [
      "✅ Conectado à conta\n",
      "\n",
      "UserId: AROAWIUHO6CVULDIIR3FL:user4308167=ricardviana1@gmail.com\n",
      "Account: 430854566059\n",
      "Arn: arn:aws:sts::430854566059:assumed-role/voclabs/user4308167=ricardviana1@gmail.com\n"
     ]
    }
   ],
   "source": [
    "# Validar conexão\n",
    "try:\n",
    "    session = boto3.Session(profile_name=\"academy\")\n",
    "    sts = session.client(\"sts\")\n",
    "    identity = sts.get_caller_identity()\n",
    "    print(\"✅ Conectado à conta\\n\")\n",
    "    print(\"UserId:\", identity[\"UserId\"])\n",
    "    print(\"Account:\", identity[\"Account\"])\n",
    "    print(\"Arn:\", identity[\"Arn\"])\n",
    "\n",
    "except (BotoCoreError, ClientError) as e:\n",
    "    print(\"❌ Erro ao conectar à AWS. Verifique suas credenciais e tente novamente.\")\n",
    "    print(\"Detalhes do erro:\", e)\n"
   ]
  },
  {
   "cell_type": "markdown",
   "id": "fe6164f6",
   "metadata": {},
   "source": [
    "#### **Configuração do PostgreSQL na AWS RDS**"
   ]
  },
  {
   "cell_type": "markdown",
   "id": "427e99a5",
   "metadata": {},
   "source": [
    "##### 1. **Criar instância RDS com PostgreSQL (SandBox)**\n",
    "\n",
    "1. Acesse o console AWS → [https://us-east-1.console.aws.amazon.com/rds/home?region=us-east-1#](https://console.aws.amazon.com/rds/)\n",
    "2. Clique em **Criar banco de dados**\n",
    "3. Selecione:\n",
    "   - **Tipo de banco:** PostgreSQL\n",
    "   - **Versão:** PostgreSQL 15 (ou mais recente)\n",
    "   - **Modelo de uso:** SandBox\n",
    "   - **Identificador da instância:** `postgres-db`\n",
    "   - **Usuário:** `postgres`\n",
    "   - **Senha:** crie uma senha segura\n",
    "4. Tipo de instância: `db.t3.micro`\n",
    "5. Armazenamento: 20 GB (SSD General Purpose)\n",
    "6. **Acesso público:** Habilitado (Sim)\n",
    "7. **Nome do banco de dados inicial:** `db_relacional`\n",
    "8. Clique em **Criar banco de dados**"
   ]
  },
  {
   "cell_type": "markdown",
   "id": "8f3f5cd6",
   "metadata": {},
   "source": [
    "##### **2. Liberar o IP na VPC / Grupo de Segurança (Security Group)**\n",
    "\n",
    "1. Vá para **EC2 > Grupos de Segurança**\n",
    "2. Encontre o grupo associado à instância RDS\n",
    "3. Clique em **Editar regras de entrada**\n",
    "4. Adicione uma nova regra:\n",
    "   - Tipo: `PostgreSQL`\n",
    "   - Porta: `5432`\n",
    "   - Origem: `Seu IP` (ou `0.0.0.0/0` temporariamente para teste – cuidado com isso em produção)\n",
    "5. Salve as alterações.\n",
    "\n",
    "✅ Agora o acesso externo ao banco estará liberado para seu IP"
   ]
  },
  {
   "cell_type": "markdown",
   "id": "5546cb69",
   "metadata": {},
   "source": [
    "##### **3. Copie o Endpoint da RDS**\n",
    "\n",
    "1. Volte ao RDS > Banco de dados > `bd-relacional`\n",
    "2. Copie o valor do campo **Endpoint** (algo como `bd-relacional.xxxxxx.us-east-1.rds.amazonaws.com`)\n",
    "3. Use esse endpoint no notebook para se conectar com o PostgreSQL"
   ]
  },
  {
   "cell_type": "markdown",
   "id": "d029bb20",
   "metadata": {},
   "source": [
    "#### **Aula 1 - Introdução ao Banco De Dados Relacionais**"
   ]
  },
  {
   "cell_type": "markdown",
   "id": "83d94c24",
   "metadata": {},
   "source": [
    "##### **Conectar ao PostgreSQL via RDS + Executar Comandos SQL**"
   ]
  },
  {
   "cell_type": "code",
   "execution_count": 4,
   "id": "bf802d16",
   "metadata": {},
   "outputs": [],
   "source": [
    "# Criar a engine para conexão ao banco de dados usando .env\n",
    "\n",
    "load_dotenv()\n",
    "\n",
    "usuario = os.getenv(\"POSTGRES_USER\")\n",
    "senha = os.getenv(\"POSTGRES_PASSWORD\")\n",
    "host = os.getenv(\"POSTGRES_HOST\")\n",
    "porta = os.getenv(\"POSTGRES_PORT\")\n",
    "banco = os.getenv(\"POSTGRES_DB\")\n",
    "\n",
    "engine = create_engine(f\"postgresql+psycopg2://{usuario}:{senha}@{host}:{porta}/{banco}\")"
   ]
  },
  {
   "cell_type": "code",
   "execution_count": 5,
   "id": "2a93819c",
   "metadata": {},
   "outputs": [
    {
     "name": "stdout",
     "output_type": "stream",
     "text": [
      "✅ Conectado com sucesso: PostgreSQL 17.4 on x86_64-pc-linux-gnu, compiled by gcc (GCC) 12.4.0, 64-bit\n",
      "📄 Tabelas no banco:\n",
      "  - dim_cliente\n",
      "  - dim_produto\n",
      "  - fato_pedidos\n",
      "  - pedidos\n",
      "  - produtos\n",
      "  - itens_pedido\n",
      "  - clientes\n",
      "  - tipos_produto\n"
     ]
    }
   ],
   "source": [
    "# Testar a conexão\n",
    "test_connection(engine)"
   ]
  },
  {
   "cell_type": "code",
   "execution_count": 6,
   "id": "c3b6a21d",
   "metadata": {},
   "outputs": [
    {
     "name": "stdout",
     "output_type": "stream",
     "text": [
      "🗑️ Todas as tabelas foram deletadas com sucesso.\n",
      "✅ Tabela 'tipos_produto' criada com sucesso!\n",
      "✅ Tabela 'produtos' criada com sucesso!\n",
      "✅ Tabela 'clientes' criada com sucesso!\n",
      "✅ Tabela 'pedidos' criada com sucesso!\n",
      "✅ Tabela 'itens_pedido' criada com sucesso!\n"
     ]
    }
   ],
   "source": [
    "# Dropar as tabelas --> CASCADE garante que todas as dependências (FKs) sejam eliminadas junto com a tabela\n",
    "drop_script = \"\"\"\n",
    "DROP TABLE IF EXISTS itens_pedido CASCADE;\n",
    "DROP TABLE IF EXISTS pedidos CASCADE;\n",
    "DROP TABLE IF EXISTS produtos CASCADE;\n",
    "DROP TABLE IF EXISTS clientes CASCADE;\n",
    "DROP TABLE IF EXISTS tipos_produto CASCADE;\n",
    "\"\"\"\n",
    "\n",
    "conn = engine.raw_connection()\n",
    "try:\n",
    "    cursor = conn.cursor()\n",
    "    cursor.execute(drop_script)\n",
    "    conn.commit()\n",
    "    print(\"🗑️ Todas as tabelas foram deletadas com sucesso.\")\n",
    "finally:\n",
    "    cursor.close()\n",
    "    conn.close()\n",
    "\n",
    "# Listar de comandos individuais\n",
    "ddl_commands = [\n",
    "    \"\"\"\n",
    "    CREATE TABLE IF NOT EXISTS tipos_produto (\n",
    "      id_tipo SERIAL PRIMARY KEY,\n",
    "      nome_tipo VARCHAR(50) NOT NULL\n",
    "    );\n",
    "    \"\"\",\n",
    "    \"\"\"\n",
    "    CREATE TABLE IF NOT EXISTS produtos (\n",
    "      id_produto SERIAL PRIMARY KEY,\n",
    "      nome_produto VARCHAR(100) NOT NULL,\n",
    "      preco DECIMAL(10,2) NOT NULL,\n",
    "      id_tipo INT REFERENCES tipos_produto(id_tipo)\n",
    "    );\n",
    "    \"\"\",\n",
    "    \"\"\"\n",
    "    CREATE TABLE IF NOT EXISTS clientes (\n",
    "      id_cliente SERIAL PRIMARY KEY,\n",
    "      nome VARCHAR(100) NOT NULL,\n",
    "      email VARCHAR(100),\n",
    "      telefone VARCHAR(20), \n",
    "      cidade VARCHAR(100) NOT NULL, \n",
    "      estado VARCHAR(2) NOT NULL\n",
    "    );\n",
    "    \"\"\",\n",
    "    \"\"\"\n",
    "    CREATE TABLE IF NOT EXISTS pedidos (\n",
    "      id_pedido SERIAL PRIMARY KEY,\n",
    "      data_pedido DATE NOT NULL,\n",
    "      status VARCHAR(20) NOT NULL,\n",
    "      id_cliente INT NOT NULL REFERENCES clientes(id_cliente)\n",
    "    );\n",
    "    \"\"\",\n",
    "    \"\"\"\n",
    "    CREATE TABLE IF NOT EXISTS itens_pedido (\n",
    "    id_item SERIAL PRIMARY KEY,\n",
    "    id_pedido INT NOT NULL,\n",
    "    id_produto INT NOT NULL,\n",
    "    quantidade INT NOT NULL,\n",
    "    preco_unitario DECIMAL(10,2) NOT NULL,\n",
    "    CONSTRAINT fk_pedido FOREIGN KEY (id_pedido) REFERENCES pedidos(id_pedido) ON DELETE CASCADE,\n",
    "    CONSTRAINT fk_produto FOREIGN KEY (id_produto) REFERENCES produtos(id_produto) ON DELETE CASCADE\n",
    "    );\n",
    "\n",
    "    \"\"\"\n",
    "]\n",
    "\n",
    "# Lista de nomes das tabelas na mesma ordem dos comandos\n",
    "table_names = [\n",
    "    \"tipos_produto\",\n",
    "    \"produtos\",\n",
    "    \"clientes\",\n",
    "    \"pedidos\",\n",
    "    \"itens_pedido\"\n",
    "]\n",
    "\n",
    "with engine.begin() as conn:\n",
    "    for cmd, table in zip(ddl_commands, table_names):\n",
    "        conn.execute(text(cmd))\n",
    "        print(f\"✅ Tabela '{table}' criada com sucesso!\")"
   ]
  },
  {
   "cell_type": "code",
   "execution_count": 7,
   "id": "d32758d2",
   "metadata": {},
   "outputs": [
    {
     "data": {
      "application/vnd.microsoft.datawrangler.viewer.v0+json": {
       "columns": [
        {
         "name": "index",
         "rawType": "int64",
         "type": "integer"
        },
        {
         "name": "table_schema",
         "rawType": "object",
         "type": "string"
        },
        {
         "name": "table_name",
         "rawType": "object",
         "type": "string"
        },
        {
         "name": "column_name",
         "rawType": "object",
         "type": "string"
        },
        {
         "name": "constraint_name",
         "rawType": "object",
         "type": "string"
        }
       ],
       "ref": "ad344a8b-7459-4813-891b-325a6482450a",
       "rows": [
        [
         "0",
         "public",
         "dim_cliente",
         "id_cliente",
         "dim_cliente_pkey"
        ],
        [
         "1",
         "public",
         "dim_produto",
         "id_produto",
         "dim_produto_pkey"
        ],
        [
         "2",
         "public",
         "fato_pedidos",
         "id_pedido",
         "fato_pedidos_pkey"
        ],
        [
         "3",
         "public",
         "tipos_produto",
         "id_tipo",
         "tipos_produto_pkey"
        ],
        [
         "4",
         "public",
         "produtos",
         "id_produto",
         "produtos_pkey"
        ],
        [
         "5",
         "public",
         "clientes",
         "id_cliente",
         "clientes_pkey"
        ],
        [
         "6",
         "public",
         "pedidos",
         "id_pedido",
         "pedidos_pkey"
        ],
        [
         "7",
         "public",
         "itens_pedido",
         "id_item",
         "itens_pedido_pkey"
        ]
       ],
       "shape": {
        "columns": 4,
        "rows": 8
       }
      },
      "text/html": [
       "<div>\n",
       "<style scoped>\n",
       "    .dataframe tbody tr th:only-of-type {\n",
       "        vertical-align: middle;\n",
       "    }\n",
       "\n",
       "    .dataframe tbody tr th {\n",
       "        vertical-align: top;\n",
       "    }\n",
       "\n",
       "    .dataframe thead th {\n",
       "        text-align: right;\n",
       "    }\n",
       "</style>\n",
       "<table border=\"1\" class=\"dataframe\">\n",
       "  <thead>\n",
       "    <tr style=\"text-align: right;\">\n",
       "      <th></th>\n",
       "      <th>table_schema</th>\n",
       "      <th>table_name</th>\n",
       "      <th>column_name</th>\n",
       "      <th>constraint_name</th>\n",
       "    </tr>\n",
       "  </thead>\n",
       "  <tbody>\n",
       "    <tr>\n",
       "      <th>0</th>\n",
       "      <td>public</td>\n",
       "      <td>dim_cliente</td>\n",
       "      <td>id_cliente</td>\n",
       "      <td>dim_cliente_pkey</td>\n",
       "    </tr>\n",
       "    <tr>\n",
       "      <th>1</th>\n",
       "      <td>public</td>\n",
       "      <td>dim_produto</td>\n",
       "      <td>id_produto</td>\n",
       "      <td>dim_produto_pkey</td>\n",
       "    </tr>\n",
       "    <tr>\n",
       "      <th>2</th>\n",
       "      <td>public</td>\n",
       "      <td>fato_pedidos</td>\n",
       "      <td>id_pedido</td>\n",
       "      <td>fato_pedidos_pkey</td>\n",
       "    </tr>\n",
       "    <tr>\n",
       "      <th>3</th>\n",
       "      <td>public</td>\n",
       "      <td>tipos_produto</td>\n",
       "      <td>id_tipo</td>\n",
       "      <td>tipos_produto_pkey</td>\n",
       "    </tr>\n",
       "    <tr>\n",
       "      <th>4</th>\n",
       "      <td>public</td>\n",
       "      <td>produtos</td>\n",
       "      <td>id_produto</td>\n",
       "      <td>produtos_pkey</td>\n",
       "    </tr>\n",
       "    <tr>\n",
       "      <th>5</th>\n",
       "      <td>public</td>\n",
       "      <td>clientes</td>\n",
       "      <td>id_cliente</td>\n",
       "      <td>clientes_pkey</td>\n",
       "    </tr>\n",
       "    <tr>\n",
       "      <th>6</th>\n",
       "      <td>public</td>\n",
       "      <td>pedidos</td>\n",
       "      <td>id_pedido</td>\n",
       "      <td>pedidos_pkey</td>\n",
       "    </tr>\n",
       "    <tr>\n",
       "      <th>7</th>\n",
       "      <td>public</td>\n",
       "      <td>itens_pedido</td>\n",
       "      <td>id_item</td>\n",
       "      <td>itens_pedido_pkey</td>\n",
       "    </tr>\n",
       "  </tbody>\n",
       "</table>\n",
       "</div>"
      ],
      "text/plain": [
       "  table_schema     table_name column_name     constraint_name\n",
       "0       public    dim_cliente  id_cliente    dim_cliente_pkey\n",
       "1       public    dim_produto  id_produto    dim_produto_pkey\n",
       "2       public   fato_pedidos   id_pedido   fato_pedidos_pkey\n",
       "3       public  tipos_produto     id_tipo  tipos_produto_pkey\n",
       "4       public       produtos  id_produto       produtos_pkey\n",
       "5       public       clientes  id_cliente       clientes_pkey\n",
       "6       public        pedidos   id_pedido        pedidos_pkey\n",
       "7       public   itens_pedido     id_item   itens_pedido_pkey"
      ]
     },
     "execution_count": 7,
     "metadata": {},
     "output_type": "execute_result"
    }
   ],
   "source": [
    "# Verificar as chaves primarias\n",
    "df_pks = pd.read_sql_query(\"\"\"\n",
    "SELECT \n",
    "    kcu.table_schema,\n",
    "    kcu.table_name,\n",
    "    kcu.column_name,\n",
    "    tc.constraint_name\n",
    "FROM information_schema.table_constraints tc\n",
    "JOIN information_schema.key_column_usage kcu\n",
    "  ON tc.constraint_name = kcu.constraint_name\n",
    "WHERE tc.constraint_type = 'PRIMARY KEY'\n",
    "  AND kcu.table_schema = 'public';\n",
    "\"\"\", con=engine)\n",
    "\n",
    "df_pks.head(10)"
   ]
  },
  {
   "cell_type": "code",
   "execution_count": 8,
   "id": "16b5cf31",
   "metadata": {},
   "outputs": [
    {
     "data": {
      "application/vnd.microsoft.datawrangler.viewer.v0+json": {
       "columns": [
        {
         "name": "index",
         "rawType": "int64",
         "type": "integer"
        },
        {
         "name": "tabela_origem",
         "rawType": "object",
         "type": "string"
        },
        {
         "name": "coluna_origem",
         "rawType": "object",
         "type": "string"
        },
        {
         "name": "tabela_referenciada",
         "rawType": "object",
         "type": "string"
        },
        {
         "name": "coluna_referenciada",
         "rawType": "object",
         "type": "string"
        }
       ],
       "ref": "aae78791-1f92-45a5-bb0e-5edf5bd8f54b",
       "rows": [
        [
         "0",
         "fato_pedidos",
         "id_cliente",
         "dim_cliente",
         "id_cliente"
        ],
        [
         "1",
         "fato_pedidos",
         "id_produto",
         "dim_produto",
         "id_produto"
        ],
        [
         "2",
         "produtos",
         "id_tipo",
         "tipos_produto",
         "id_tipo"
        ],
        [
         "3",
         "pedidos",
         "id_cliente",
         "clientes",
         "id_cliente"
        ],
        [
         "4",
         "itens_pedido",
         "id_pedido",
         "pedidos",
         "id_pedido"
        ]
       ],
       "shape": {
        "columns": 4,
        "rows": 5
       }
      },
      "text/html": [
       "<div>\n",
       "<style scoped>\n",
       "    .dataframe tbody tr th:only-of-type {\n",
       "        vertical-align: middle;\n",
       "    }\n",
       "\n",
       "    .dataframe tbody tr th {\n",
       "        vertical-align: top;\n",
       "    }\n",
       "\n",
       "    .dataframe thead th {\n",
       "        text-align: right;\n",
       "    }\n",
       "</style>\n",
       "<table border=\"1\" class=\"dataframe\">\n",
       "  <thead>\n",
       "    <tr style=\"text-align: right;\">\n",
       "      <th></th>\n",
       "      <th>tabela_origem</th>\n",
       "      <th>coluna_origem</th>\n",
       "      <th>tabela_referenciada</th>\n",
       "      <th>coluna_referenciada</th>\n",
       "    </tr>\n",
       "  </thead>\n",
       "  <tbody>\n",
       "    <tr>\n",
       "      <th>0</th>\n",
       "      <td>fato_pedidos</td>\n",
       "      <td>id_cliente</td>\n",
       "      <td>dim_cliente</td>\n",
       "      <td>id_cliente</td>\n",
       "    </tr>\n",
       "    <tr>\n",
       "      <th>1</th>\n",
       "      <td>fato_pedidos</td>\n",
       "      <td>id_produto</td>\n",
       "      <td>dim_produto</td>\n",
       "      <td>id_produto</td>\n",
       "    </tr>\n",
       "    <tr>\n",
       "      <th>2</th>\n",
       "      <td>produtos</td>\n",
       "      <td>id_tipo</td>\n",
       "      <td>tipos_produto</td>\n",
       "      <td>id_tipo</td>\n",
       "    </tr>\n",
       "    <tr>\n",
       "      <th>3</th>\n",
       "      <td>pedidos</td>\n",
       "      <td>id_cliente</td>\n",
       "      <td>clientes</td>\n",
       "      <td>id_cliente</td>\n",
       "    </tr>\n",
       "    <tr>\n",
       "      <th>4</th>\n",
       "      <td>itens_pedido</td>\n",
       "      <td>id_pedido</td>\n",
       "      <td>pedidos</td>\n",
       "      <td>id_pedido</td>\n",
       "    </tr>\n",
       "  </tbody>\n",
       "</table>\n",
       "</div>"
      ],
      "text/plain": [
       "  tabela_origem coluna_origem tabela_referenciada coluna_referenciada\n",
       "0  fato_pedidos    id_cliente         dim_cliente          id_cliente\n",
       "1  fato_pedidos    id_produto         dim_produto          id_produto\n",
       "2      produtos       id_tipo       tipos_produto             id_tipo\n",
       "3       pedidos    id_cliente            clientes          id_cliente\n",
       "4  itens_pedido     id_pedido             pedidos           id_pedido"
      ]
     },
     "execution_count": 8,
     "metadata": {},
     "output_type": "execute_result"
    }
   ],
   "source": [
    "# Verificar chaves estrangeiras e relacionamento\n",
    "df_fks = pd.read_sql_query(\"\"\"\n",
    "SELECT \n",
    "    tc.table_name AS tabela_origem,\n",
    "    kcu.column_name AS coluna_origem,\n",
    "    ccu.table_name AS tabela_referenciada,\n",
    "    ccu.column_name AS coluna_referenciada\n",
    "FROM information_schema.table_constraints AS tc\n",
    "JOIN information_schema.key_column_usage AS kcu\n",
    "  ON tc.constraint_name = kcu.constraint_name\n",
    "JOIN information_schema.constraint_column_usage AS ccu\n",
    "  ON ccu.constraint_name = tc.constraint_name\n",
    "WHERE tc.constraint_type = 'FOREIGN KEY'\n",
    "  AND tc.table_schema = 'public';\n",
    "\"\"\", con=engine)\n",
    "\n",
    "df_fks.head()\n"
   ]
  },
  {
   "cell_type": "code",
   "execution_count": 9,
   "id": "dce09d9c",
   "metadata": {},
   "outputs": [
    {
     "data": {
      "application/vnd.microsoft.datawrangler.viewer.v0+json": {
       "columns": [
        {
         "name": "index",
         "rawType": "int64",
         "type": "integer"
        },
        {
         "name": "constraint_name",
         "rawType": "object",
         "type": "string"
        },
        {
         "name": "origem",
         "rawType": "object",
         "type": "string"
        },
        {
         "name": "coluna_origem",
         "rawType": "object",
         "type": "string"
        },
        {
         "name": "destino",
         "rawType": "object",
         "type": "string"
        },
        {
         "name": "coluna_destino",
         "rawType": "object",
         "type": "string"
        }
       ],
       "ref": "af1c7e14-1ad3-4c3a-a64c-4821f456232f",
       "rows": [
        [
         "0",
         "fato_pedidos_id_cliente_fkey",
         "fato_pedidos",
         "id_cliente",
         "dim_cliente",
         "id_cliente"
        ],
        [
         "1",
         "fato_pedidos_id_produto_fkey",
         "fato_pedidos",
         "id_produto",
         "dim_produto",
         "id_produto"
        ],
        [
         "2",
         "fk_pedido",
         "itens_pedido",
         "id_pedido",
         "pedidos",
         "id_pedido"
        ],
        [
         "3",
         "fk_produto",
         "itens_pedido",
         "id_produto",
         "produtos",
         "id_produto"
        ],
        [
         "4",
         "pedidos_id_cliente_fkey",
         "pedidos",
         "id_cliente",
         "clientes",
         "id_cliente"
        ]
       ],
       "shape": {
        "columns": 5,
        "rows": 5
       }
      },
      "text/html": [
       "<div>\n",
       "<style scoped>\n",
       "    .dataframe tbody tr th:only-of-type {\n",
       "        vertical-align: middle;\n",
       "    }\n",
       "\n",
       "    .dataframe tbody tr th {\n",
       "        vertical-align: top;\n",
       "    }\n",
       "\n",
       "    .dataframe thead th {\n",
       "        text-align: right;\n",
       "    }\n",
       "</style>\n",
       "<table border=\"1\" class=\"dataframe\">\n",
       "  <thead>\n",
       "    <tr style=\"text-align: right;\">\n",
       "      <th></th>\n",
       "      <th>constraint_name</th>\n",
       "      <th>origem</th>\n",
       "      <th>coluna_origem</th>\n",
       "      <th>destino</th>\n",
       "      <th>coluna_destino</th>\n",
       "    </tr>\n",
       "  </thead>\n",
       "  <tbody>\n",
       "    <tr>\n",
       "      <th>0</th>\n",
       "      <td>fato_pedidos_id_cliente_fkey</td>\n",
       "      <td>fato_pedidos</td>\n",
       "      <td>id_cliente</td>\n",
       "      <td>dim_cliente</td>\n",
       "      <td>id_cliente</td>\n",
       "    </tr>\n",
       "    <tr>\n",
       "      <th>1</th>\n",
       "      <td>fato_pedidos_id_produto_fkey</td>\n",
       "      <td>fato_pedidos</td>\n",
       "      <td>id_produto</td>\n",
       "      <td>dim_produto</td>\n",
       "      <td>id_produto</td>\n",
       "    </tr>\n",
       "    <tr>\n",
       "      <th>2</th>\n",
       "      <td>fk_pedido</td>\n",
       "      <td>itens_pedido</td>\n",
       "      <td>id_pedido</td>\n",
       "      <td>pedidos</td>\n",
       "      <td>id_pedido</td>\n",
       "    </tr>\n",
       "    <tr>\n",
       "      <th>3</th>\n",
       "      <td>fk_produto</td>\n",
       "      <td>itens_pedido</td>\n",
       "      <td>id_produto</td>\n",
       "      <td>produtos</td>\n",
       "      <td>id_produto</td>\n",
       "    </tr>\n",
       "    <tr>\n",
       "      <th>4</th>\n",
       "      <td>pedidos_id_cliente_fkey</td>\n",
       "      <td>pedidos</td>\n",
       "      <td>id_cliente</td>\n",
       "      <td>clientes</td>\n",
       "      <td>id_cliente</td>\n",
       "    </tr>\n",
       "  </tbody>\n",
       "</table>\n",
       "</div>"
      ],
      "text/plain": [
       "                constraint_name        origem coluna_origem      destino  \\\n",
       "0  fato_pedidos_id_cliente_fkey  fato_pedidos    id_cliente  dim_cliente   \n",
       "1  fato_pedidos_id_produto_fkey  fato_pedidos    id_produto  dim_produto   \n",
       "2                     fk_pedido  itens_pedido     id_pedido      pedidos   \n",
       "3                    fk_produto  itens_pedido    id_produto     produtos   \n",
       "4       pedidos_id_cliente_fkey       pedidos    id_cliente     clientes   \n",
       "\n",
       "  coluna_destino  \n",
       "0     id_cliente  \n",
       "1     id_produto  \n",
       "2      id_pedido  \n",
       "3     id_produto  \n",
       "4     id_cliente  "
      ]
     },
     "execution_count": 9,
     "metadata": {},
     "output_type": "execute_result"
    }
   ],
   "source": [
    "# Realizar join entre as tabelas\n",
    "df_relacionamentos = pd.read_sql_query(\"\"\"\n",
    "SELECT \n",
    "  tc.constraint_name,\n",
    "  tc.table_name AS origem,\n",
    "  kcu.column_name AS coluna_origem,\n",
    "  ccu.table_name AS destino,\n",
    "  ccu.column_name AS coluna_destino\n",
    "FROM information_schema.table_constraints AS tc\n",
    "JOIN information_schema.key_column_usage AS kcu\n",
    "  ON tc.constraint_name = kcu.constraint_name\n",
    "JOIN information_schema.constraint_column_usage AS ccu\n",
    "  ON ccu.constraint_name = tc.constraint_name\n",
    "WHERE tc.constraint_type = 'FOREIGN KEY'\n",
    "ORDER BY origem;\n",
    "\"\"\", con=engine)\n",
    "\n",
    "df_relacionamentos.head()\n"
   ]
  },
  {
   "cell_type": "code",
   "execution_count": 10,
   "id": "108dc922",
   "metadata": {},
   "outputs": [
    {
     "name": "stdout",
     "output_type": "stream",
     "text": [
      "🗑️ Dados apagados de todas as tabelas.\n",
      "✅ Executado: tipos_produto.sql\n",
      "✅ Executado: produtos.sql\n",
      "✅ Executado: clientes.sql\n",
      "✅ Executado: pedidos.sql\n",
      "✅ Executado: itens_pedido.sql\n"
     ]
    }
   ],
   "source": [
    "# Executar arquivos .sql\n",
    "truncate_script = \"\"\"\n",
    "TRUNCATE TABLE itens_pedido CASCADE;\n",
    "TRUNCATE TABLE pedidos CASCADE;\n",
    "TRUNCATE TABLE produtos CASCADE;\n",
    "TRUNCATE TABLE clientes CASCADE;\n",
    "TRUNCATE TABLE tipos_produto CASCADE;\n",
    "\"\"\"\n",
    "\n",
    "github_urls = [\n",
    "    \"https://raw.githubusercontent.com/FIAP/Pos_Tech_DTAT/refs/heads/main/Fase%203/Aula4/sql/aula4/tipos_produto.sql\",\n",
    "    \"https://raw.githubusercontent.com/FIAP/Pos_Tech_DTAT/refs/heads/main/Fase%203/Aula4/sql/aula4/produtos.sql\",\n",
    "    \"https://raw.githubusercontent.com/FIAP/Pos_Tech_DTAT/refs/heads/main/Fase%203/Aula4/sql/aula4/clientes.sql\",\n",
    "    \"https://raw.githubusercontent.com/FIAP/Pos_Tech_DTAT/refs/heads/main/Fase%203/Aula4/sql/aula4/pedidos.sql\",\n",
    "    \"https://raw.githubusercontent.com/FIAP/Pos_Tech_DTAT/refs/heads/main/Fase%203/Aula4/sql/aula4/itens_pedido.sql\"\n",
    "]\n",
    "\n",
    "with engine.begin() as conn:\n",
    "    conn.execute(text(truncate_script))\n",
    "    print(\"🗑️ Dados apagados de todas as tabelas.\")\n",
    "\n",
    "    for url in github_urls:\n",
    "        response = requests.get(url)\n",
    "        response.raise_for_status()\n",
    "        sql_content = response.text\n",
    "        conn.execute(text(sql_content))\n",
    "        print(f\"✅ Executado: {url.split('/')[-1]}\")"
   ]
  },
  {
   "cell_type": "code",
   "execution_count": 11,
   "id": "e82ae39a",
   "metadata": {},
   "outputs": [
    {
     "data": {
      "application/vnd.microsoft.datawrangler.viewer.v0+json": {
       "columns": [
        {
         "name": "index",
         "rawType": "int64",
         "type": "integer"
        },
        {
         "name": "cliente",
         "rawType": "object",
         "type": "string"
        },
        {
         "name": "data_pedido",
         "rawType": "object",
         "type": "unknown"
        },
        {
         "name": "produto",
         "rawType": "object",
         "type": "string"
        },
        {
         "name": "preco",
         "rawType": "float64",
         "type": "float"
        },
        {
         "name": "tipo_produto",
         "rawType": "object",
         "type": "string"
        },
        {
         "name": "quantidade",
         "rawType": "int64",
         "type": "integer"
        },
        {
         "name": "total_venda",
         "rawType": "float64",
         "type": "float"
        }
       ],
       "ref": "cbb67406-3104-4401-9da8-7bb42c71e372",
       "rows": [
        [
         "0",
         "Enzo Gabriel Monteiro",
         "2025-03-18",
         "Excepturi Reprehenderit",
         "367.57",
         "Ferramentas",
         "4",
         "1470.28"
        ],
        [
         "1",
         "Dr. Juan Melo",
         "2024-08-18",
         "Animi Tempore",
         "130.85",
         "Ferramentas",
         "1",
         "130.85"
        ],
        [
         "2",
         "João Felipe da Luz",
         "2024-11-08",
         "Expedita Iste",
         "497.62",
         "Higiene",
         "2",
         "995.24"
        ],
        [
         "3",
         "João Lucas Fernandes",
         "2025-05-29",
         "Vero Eius",
         "292.34",
         "Livros",
         "5",
         "1461.7"
        ],
        [
         "4",
         "Enzo Gabriel Freitas",
         "2025-01-29",
         "Quos Nam",
         "409.85",
         "Ferramentas",
         "2",
         "819.7"
        ]
       ],
       "shape": {
        "columns": 7,
        "rows": 5
       }
      },
      "text/html": [
       "<div>\n",
       "<style scoped>\n",
       "    .dataframe tbody tr th:only-of-type {\n",
       "        vertical-align: middle;\n",
       "    }\n",
       "\n",
       "    .dataframe tbody tr th {\n",
       "        vertical-align: top;\n",
       "    }\n",
       "\n",
       "    .dataframe thead th {\n",
       "        text-align: right;\n",
       "    }\n",
       "</style>\n",
       "<table border=\"1\" class=\"dataframe\">\n",
       "  <thead>\n",
       "    <tr style=\"text-align: right;\">\n",
       "      <th></th>\n",
       "      <th>cliente</th>\n",
       "      <th>data_pedido</th>\n",
       "      <th>produto</th>\n",
       "      <th>preco</th>\n",
       "      <th>tipo_produto</th>\n",
       "      <th>quantidade</th>\n",
       "      <th>total_venda</th>\n",
       "    </tr>\n",
       "  </thead>\n",
       "  <tbody>\n",
       "    <tr>\n",
       "      <th>0</th>\n",
       "      <td>Enzo Gabriel Monteiro</td>\n",
       "      <td>2025-03-18</td>\n",
       "      <td>Excepturi Reprehenderit</td>\n",
       "      <td>367.57</td>\n",
       "      <td>Ferramentas</td>\n",
       "      <td>4</td>\n",
       "      <td>1470.28</td>\n",
       "    </tr>\n",
       "    <tr>\n",
       "      <th>1</th>\n",
       "      <td>Dr. Juan Melo</td>\n",
       "      <td>2024-08-18</td>\n",
       "      <td>Animi Tempore</td>\n",
       "      <td>130.85</td>\n",
       "      <td>Ferramentas</td>\n",
       "      <td>1</td>\n",
       "      <td>130.85</td>\n",
       "    </tr>\n",
       "    <tr>\n",
       "      <th>2</th>\n",
       "      <td>João Felipe da Luz</td>\n",
       "      <td>2024-11-08</td>\n",
       "      <td>Expedita Iste</td>\n",
       "      <td>497.62</td>\n",
       "      <td>Higiene</td>\n",
       "      <td>2</td>\n",
       "      <td>995.24</td>\n",
       "    </tr>\n",
       "    <tr>\n",
       "      <th>3</th>\n",
       "      <td>João Lucas Fernandes</td>\n",
       "      <td>2025-05-29</td>\n",
       "      <td>Vero Eius</td>\n",
       "      <td>292.34</td>\n",
       "      <td>Livros</td>\n",
       "      <td>5</td>\n",
       "      <td>1461.70</td>\n",
       "    </tr>\n",
       "    <tr>\n",
       "      <th>4</th>\n",
       "      <td>Enzo Gabriel Freitas</td>\n",
       "      <td>2025-01-29</td>\n",
       "      <td>Quos Nam</td>\n",
       "      <td>409.85</td>\n",
       "      <td>Ferramentas</td>\n",
       "      <td>2</td>\n",
       "      <td>819.70</td>\n",
       "    </tr>\n",
       "  </tbody>\n",
       "</table>\n",
       "</div>"
      ],
      "text/plain": [
       "                 cliente data_pedido                  produto   preco  \\\n",
       "0  Enzo Gabriel Monteiro  2025-03-18  Excepturi Reprehenderit  367.57   \n",
       "1          Dr. Juan Melo  2024-08-18            Animi Tempore  130.85   \n",
       "2     João Felipe da Luz  2024-11-08            Expedita Iste  497.62   \n",
       "3   João Lucas Fernandes  2025-05-29                Vero Eius  292.34   \n",
       "4   Enzo Gabriel Freitas  2025-01-29                 Quos Nam  409.85   \n",
       "\n",
       "  tipo_produto  quantidade  total_venda  \n",
       "0  Ferramentas           4      1470.28  \n",
       "1  Ferramentas           1       130.85  \n",
       "2      Higiene           2       995.24  \n",
       "3       Livros           5      1461.70  \n",
       "4  Ferramentas           2       819.70  "
      ]
     },
     "execution_count": 11,
     "metadata": {},
     "output_type": "execute_result"
    }
   ],
   "source": [
    "# Join para analise de vendas\n",
    "df = pd.read_sql_query(\n",
    "\n",
    "\"\"\"\n",
    "                       \n",
    "SELECT \n",
    "  c.nome AS cliente,\n",
    "  p.data_pedido as data_pedido,\n",
    "  pr.nome_produto AS produto,\n",
    "  pr.preco as preco,\n",
    "  t.nome_tipo AS tipo_produto,\n",
    "  ip.quantidade as quantidade,\n",
    "  (pr.preco * ip.quantidade) AS total_venda\n",
    "\n",
    "FROM itens_pedido ip\n",
    "\n",
    "JOIN pedidos p ON ip.id_pedido = p.id_pedido\n",
    "JOIN clientes c ON p.id_cliente = c.id_cliente\n",
    "JOIN produtos pr ON ip.id_produto = pr.id_produto\n",
    "JOIN tipos_produto t ON pr.id_tipo = t.id_tipo;\n",
    "\n",
    "\"\"\"\n",
    ",con=engine)\n",
    "\n",
    "df.head()\n"
   ]
  },
  {
   "cell_type": "code",
   "execution_count": 12,
   "id": "ad67b861",
   "metadata": {},
   "outputs": [
    {
     "data": {
      "application/vnd.plotly.v1+json": {
       "config": {
        "plotlyServerURL": "https://plot.ly"
       },
       "data": [
        {
         "hovertemplate": "produto=Excepturi Reprehenderit<br>cliente=%{x}<br>total_venda=%{y}<extra></extra>",
         "legendgroup": "Excepturi Reprehenderit",
         "marker": {
          "color": "#636efa",
          "pattern": {
           "shape": ""
          }
         },
         "name": "Excepturi Reprehenderit",
         "orientation": "v",
         "showlegend": true,
         "textposition": "auto",
         "type": "bar",
         "x": [
          "Enzo Gabriel Monteiro",
          "Yuri Teixeira"
         ],
         "xaxis": "x",
         "y": {
          "bdata": "hetRuB75lkCF61G4Hvl2QA==",
          "dtype": "f8"
         },
         "yaxis": "y"
        },
        {
         "hovertemplate": "produto=Animi Tempore<br>cliente=%{x}<br>total_venda=%{y}<extra></extra>",
         "legendgroup": "Animi Tempore",
         "marker": {
          "color": "#EF553B",
          "pattern": {
           "shape": ""
          }
         },
         "name": "Animi Tempore",
         "orientation": "v",
         "showlegend": true,
         "textposition": "auto",
         "type": "bar",
         "x": [
          "Dr. Juan Melo"
         ],
         "xaxis": "x",
         "y": {
          "bdata": "MzMzMzNbYEA=",
          "dtype": "f8"
         },
         "yaxis": "y"
        },
        {
         "hovertemplate": "produto=Expedita Iste<br>cliente=%{x}<br>total_venda=%{y}<extra></extra>",
         "legendgroup": "Expedita Iste",
         "marker": {
          "color": "#00cc96",
          "pattern": {
           "shape": ""
          }
         },
         "name": "Expedita Iste",
         "orientation": "v",
         "showlegend": true,
         "textposition": "auto",
         "type": "bar",
         "x": [
          "João Felipe da Luz",
          "Yuri Teixeira"
         ],
         "xaxis": "x",
         "y": {
          "bdata": "UrgehesZj0AzMzMzM3CjQA==",
          "dtype": "f8"
         },
         "yaxis": "y"
        },
        {
         "hovertemplate": "produto=Vero Eius<br>cliente=%{x}<br>total_venda=%{y}<extra></extra>",
         "legendgroup": "Vero Eius",
         "marker": {
          "color": "#ab63fa",
          "pattern": {
           "shape": ""
          }
         },
         "name": "Vero Eius",
         "orientation": "v",
         "showlegend": true,
         "textposition": "auto",
         "type": "bar",
         "x": [
          "João Lucas Fernandes",
          "Yasmin Vieira"
         ],
         "xaxis": "x",
         "y": {
          "bdata": "zczMzMzWlkA9CtejcEWSQA==",
          "dtype": "f8"
         },
         "yaxis": "y"
        },
        {
         "hovertemplate": "produto=Quos Nam<br>cliente=%{x}<br>total_venda=%{y}<extra></extra>",
         "legendgroup": "Quos Nam",
         "marker": {
          "color": "#FFA15A",
          "pattern": {
           "shape": ""
          }
         },
         "name": "Quos Nam",
         "orientation": "v",
         "showlegend": true,
         "textposition": "auto",
         "type": "bar",
         "x": [
          "Enzo Gabriel Freitas",
          "Henrique Castro"
         ],
         "xaxis": "x",
         "y": {
          "bdata": "mpmZmZmdiUAAAAAAgAKgQA==",
          "dtype": "f8"
         },
         "yaxis": "y"
        },
        {
         "hovertemplate": "produto=Adipisci Consequuntur<br>cliente=%{x}<br>total_venda=%{y}<extra></extra>",
         "legendgroup": "Adipisci Consequuntur",
         "marker": {
          "color": "#19d3f3",
          "pattern": {
           "shape": ""
          }
         },
         "name": "Adipisci Consequuntur",
         "orientation": "v",
         "showlegend": true,
         "textposition": "auto",
         "type": "bar",
         "x": [
          "Dr. Heitor Barros"
         ],
         "xaxis": "x",
         "y": {
          "bdata": "rkfhehROWEA=",
          "dtype": "f8"
         },
         "yaxis": "y"
        },
        {
         "hovertemplate": "produto=Itaque Voluptas<br>cliente=%{x}<br>total_venda=%{y}<extra></extra>",
         "legendgroup": "Itaque Voluptas",
         "marker": {
          "color": "#FF6692",
          "pattern": {
           "shape": ""
          }
         },
         "name": "Itaque Voluptas",
         "orientation": "v",
         "showlegend": true,
         "textposition": "auto",
         "type": "bar",
         "x": [
          "Alexia da Cruz"
         ],
         "xaxis": "x",
         "y": {
          "bdata": "PQrXo3DOlEA=",
          "dtype": "f8"
         },
         "yaxis": "y"
        },
        {
         "hovertemplate": "produto=Molestias Nihil<br>cliente=%{x}<br>total_venda=%{y}<extra></extra>",
         "legendgroup": "Molestias Nihil",
         "marker": {
          "color": "#B6E880",
          "pattern": {
           "shape": ""
          }
         },
         "name": "Molestias Nihil",
         "orientation": "v",
         "showlegend": true,
         "textposition": "auto",
         "type": "bar",
         "x": [
          "Enzo Gabriel Freitas",
          "Luiz Henrique Costa",
          "Thiago Castro"
         ],
         "xaxis": "x",
         "y": {
          "bdata": "4XoUrkfBh0ApXI/C9dCRQJqZmZmZsZ1A",
          "dtype": "f8"
         },
         "yaxis": "y"
        },
        {
         "hovertemplate": "produto=Labore Voluptatibus<br>cliente=%{x}<br>total_venda=%{y}<extra></extra>",
         "legendgroup": "Labore Voluptatibus",
         "marker": {
          "color": "#FF97FF",
          "pattern": {
           "shape": ""
          }
         },
         "name": "Labore Voluptatibus",
         "orientation": "v",
         "showlegend": true,
         "textposition": "auto",
         "type": "bar",
         "x": [
          "Yago Novaes",
          "Enzo Gabriel Monteiro"
         ],
         "xaxis": "x",
         "y": {
          "bdata": "hetRuB5FgkCF61G4HkWCQA==",
          "dtype": "f8"
         },
         "yaxis": "y"
        },
        {
         "hovertemplate": "produto=Consectetur Dolores<br>cliente=%{x}<br>total_venda=%{y}<extra></extra>",
         "legendgroup": "Consectetur Dolores",
         "marker": {
          "color": "#FECB52",
          "pattern": {
           "shape": ""
          }
         },
         "name": "Consectetur Dolores",
         "orientation": "v",
         "showlegend": true,
         "textposition": "auto",
         "type": "bar",
         "x": [
          "Brenda Fogaça",
          "Letícia das Neves",
          "Sra. Lavínia Campos"
         ],
         "xaxis": "x",
         "y": {
          "bdata": "pHA9CtcXhECkcD0K1xd0QKRwPQrXF3RA",
          "dtype": "f8"
         },
         "yaxis": "y"
        },
        {
         "hovertemplate": "produto=Veniam Sint<br>cliente=%{x}<br>total_venda=%{y}<extra></extra>",
         "legendgroup": "Veniam Sint",
         "marker": {
          "color": "#636efa",
          "pattern": {
           "shape": ""
          }
         },
         "name": "Veniam Sint",
         "orientation": "v",
         "showlegend": true,
         "textposition": "auto",
         "type": "bar",
         "x": [
          "Yasmin Farias"
         ],
         "xaxis": "x",
         "y": {
          "bdata": "cT0K16Mcg0A=",
          "dtype": "f8"
         },
         "yaxis": "y"
        },
        {
         "hovertemplate": "produto=Amet Blanditiis<br>cliente=%{x}<br>total_venda=%{y}<extra></extra>",
         "legendgroup": "Amet Blanditiis",
         "marker": {
          "color": "#EF553B",
          "pattern": {
           "shape": ""
          }
         },
         "name": "Amet Blanditiis",
         "orientation": "v",
         "showlegend": true,
         "textposition": "auto",
         "type": "bar",
         "x": [
          "Luna Silva"
         ],
         "xaxis": "x",
         "y": {
          "bdata": "16NwPQqZlEA=",
          "dtype": "f8"
         },
         "yaxis": "y"
        },
        {
         "hovertemplate": "produto=Dolor Dicta<br>cliente=%{x}<br>total_venda=%{y}<extra></extra>",
         "legendgroup": "Dolor Dicta",
         "marker": {
          "color": "#00cc96",
          "pattern": {
           "shape": ""
          }
         },
         "name": "Dolor Dicta",
         "orientation": "v",
         "showlegend": true,
         "textposition": "auto",
         "type": "bar",
         "x": [
          "Enzo Gabriel Monteiro",
          "Gabriela da Rocha",
          "Dr. Heitor Barros",
          "Yago Novaes"
         ],
         "xaxis": "x",
         "y": {
          "bdata": "KVyPwvWsekDNzMzMzDqGQHE9CtejyIFAzczMzMw6hkA=",
          "dtype": "f8"
         },
         "yaxis": "y"
        },
        {
         "hovertemplate": "produto=Nisi Nulla<br>cliente=%{x}<br>total_venda=%{y}<extra></extra>",
         "legendgroup": "Nisi Nulla",
         "marker": {
          "color": "#ab63fa",
          "pattern": {
           "shape": ""
          }
         },
         "name": "Nisi Nulla",
         "orientation": "v",
         "showlegend": true,
         "textposition": "auto",
         "type": "bar",
         "x": [
          "Luna Silva",
          "André Ferreira",
          "Isadora Castro"
         ],
         "xaxis": "x",
         "y": {
          "bdata": "zczMzMwSnEA9CtejcHWGQD0K16NwdZZA",
          "dtype": "f8"
         },
         "yaxis": "y"
        },
        {
         "hovertemplate": "produto=Consectetur Autem<br>cliente=%{x}<br>total_venda=%{y}<extra></extra>",
         "legendgroup": "Consectetur Autem",
         "marker": {
          "color": "#FFA15A",
          "pattern": {
           "shape": ""
          }
         },
         "name": "Consectetur Autem",
         "orientation": "v",
         "showlegend": true,
         "textposition": "auto",
         "type": "bar",
         "x": [
          "Alexia da Cruz",
          "Isadora Fernandes",
          "Cecília Barros"
         ],
         "xaxis": "x",
         "y": {
          "bdata": "j8L1KFx0lkAUrkfhevCdQBSuR+F68I1A",
          "dtype": "f8"
         },
         "yaxis": "y"
        },
        {
         "hovertemplate": "produto=Tenetur Reiciendis<br>cliente=%{x}<br>total_venda=%{y}<extra></extra>",
         "legendgroup": "Tenetur Reiciendis",
         "marker": {
          "color": "#19d3f3",
          "pattern": {
           "shape": ""
          }
         },
         "name": "Tenetur Reiciendis",
         "orientation": "v",
         "showlegend": true,
         "textposition": "auto",
         "type": "bar",
         "x": [
          "Heloísa Monteiro"
         ],
         "xaxis": "x",
         "y": {
          "bdata": "zczMzMxMSkA=",
          "dtype": "f8"
         },
         "yaxis": "y"
        },
        {
         "hovertemplate": "produto=Voluptate Rem<br>cliente=%{x}<br>total_venda=%{y}<extra></extra>",
         "legendgroup": "Voluptate Rem",
         "marker": {
          "color": "#FF6692",
          "pattern": {
           "shape": ""
          }
         },
         "name": "Voluptate Rem",
         "orientation": "v",
         "showlegend": true,
         "textposition": "auto",
         "type": "bar",
         "x": [
          "Sra. Lavínia Campos"
         ],
         "xaxis": "x",
         "y": {
          "bdata": "SOF6FK5HREA=",
          "dtype": "f8"
         },
         "yaxis": "y"
        },
        {
         "hovertemplate": "produto=Quas Maxime<br>cliente=%{x}<br>total_venda=%{y}<extra></extra>",
         "legendgroup": "Quas Maxime",
         "marker": {
          "color": "#B6E880",
          "pattern": {
           "shape": ""
          }
         },
         "name": "Quas Maxime",
         "orientation": "v",
         "showlegend": true,
         "textposition": "auto",
         "type": "bar",
         "x": [
          "Srta. Cecília Porto",
          "Brenda Fogaça"
         ],
         "xaxis": "x",
         "y": {
          "bdata": "7FG4HoVHc0DsUbgehUdzQA==",
          "dtype": "f8"
         },
         "yaxis": "y"
        },
        {
         "hovertemplate": "produto=Beatae Ab<br>cliente=%{x}<br>total_venda=%{y}<extra></extra>",
         "legendgroup": "Beatae Ab",
         "marker": {
          "color": "#FF97FF",
          "pattern": {
           "shape": ""
          }
         },
         "name": "Beatae Ab",
         "orientation": "v",
         "showlegend": true,
         "textposition": "auto",
         "type": "bar",
         "x": [
          "Breno Nascimento",
          "Yago Novaes",
          "Stephany da Rosa"
         ],
         "xaxis": "x",
         "y": {
          "bdata": "MzMzMzM3lEBcj8L1KCyQQArXo3A9QohA",
          "dtype": "f8"
         },
         "yaxis": "y"
        },
        {
         "hovertemplate": "produto=Quas Culpa<br>cliente=%{x}<br>total_venda=%{y}<extra></extra>",
         "legendgroup": "Quas Culpa",
         "marker": {
          "color": "#FECB52",
          "pattern": {
           "shape": ""
          }
         },
         "name": "Quas Culpa",
         "orientation": "v",
         "showlegend": true,
         "textposition": "auto",
         "type": "bar",
         "x": [
          "Dr. Danilo Moraes"
         ],
         "xaxis": "x",
         "y": {
          "bdata": "7FG4HoWLbkA=",
          "dtype": "f8"
         },
         "yaxis": "y"
        },
        {
         "hovertemplate": "produto=Totam Quo<br>cliente=%{x}<br>total_venda=%{y}<extra></extra>",
         "legendgroup": "Totam Quo",
         "marker": {
          "color": "#636efa",
          "pattern": {
           "shape": ""
          }
         },
         "name": "Totam Quo",
         "orientation": "v",
         "showlegend": true,
         "textposition": "auto",
         "type": "bar",
         "x": [
          "Paulo da Cunha",
          "Luna Silva"
         ],
         "xaxis": "x",
         "y": {
          "bdata": "SOF6FK6HZkAK16NwPQpuQA==",
          "dtype": "f8"
         },
         "yaxis": "y"
        },
        {
         "hovertemplate": "produto=Vel Commodi<br>cliente=%{x}<br>total_venda=%{y}<extra></extra>",
         "legendgroup": "Vel Commodi",
         "marker": {
          "color": "#EF553B",
          "pattern": {
           "shape": ""
          }
         },
         "name": "Vel Commodi",
         "orientation": "v",
         "showlegend": true,
         "textposition": "auto",
         "type": "bar",
         "x": [
          "Isis Viana"
         ],
         "xaxis": "x",
         "y": {
          "bdata": "KVyPwvXTkUA=",
          "dtype": "f8"
         },
         "yaxis": "y"
        },
        {
         "hovertemplate": "produto=Praesentium Explicabo<br>cliente=%{x}<br>total_venda=%{y}<extra></extra>",
         "legendgroup": "Praesentium Explicabo",
         "marker": {
          "color": "#00cc96",
          "pattern": {
           "shape": ""
          }
         },
         "name": "Praesentium Explicabo",
         "orientation": "v",
         "showlegend": true,
         "textposition": "auto",
         "type": "bar",
         "x": [
          "Caio Castro"
         ],
         "xaxis": "x",
         "y": {
          "bdata": "16NwPQoneEA=",
          "dtype": "f8"
         },
         "yaxis": "y"
        },
        {
         "hovertemplate": "produto=Ad Quasi<br>cliente=%{x}<br>total_venda=%{y}<extra></extra>",
         "legendgroup": "Ad Quasi",
         "marker": {
          "color": "#ab63fa",
          "pattern": {
           "shape": ""
          }
         },
         "name": "Ad Quasi",
         "orientation": "v",
         "showlegend": true,
         "textposition": "auto",
         "type": "bar",
         "x": [
          "Isis Viana",
          "Maria Clara da Cruz",
          "Isis Viana"
         ],
         "xaxis": "x",
         "y": {
          "bdata": "9ihcj8J9e0C4HoXrUZ6EQLgehetRnoRA",
          "dtype": "f8"
         },
         "yaxis": "y"
        },
        {
         "hovertemplate": "produto=Error In<br>cliente=%{x}<br>total_venda=%{y}<extra></extra>",
         "legendgroup": "Error In",
         "marker": {
          "color": "#FFA15A",
          "pattern": {
           "shape": ""
          }
         },
         "name": "Error In",
         "orientation": "v",
         "showlegend": true,
         "textposition": "auto",
         "type": "bar",
         "x": [
          "Yuri Teixeira",
          "Clara Araújo"
         ],
         "xaxis": "x",
         "y": {
          "bdata": "ZmZmZmZJlEAfhetRuDqAQA==",
          "dtype": "f8"
         },
         "yaxis": "y"
        },
        {
         "hovertemplate": "produto=Quam Accusamus<br>cliente=%{x}<br>total_venda=%{y}<extra></extra>",
         "legendgroup": "Quam Accusamus",
         "marker": {
          "color": "#19d3f3",
          "pattern": {
           "shape": ""
          }
         },
         "name": "Quam Accusamus",
         "orientation": "v",
         "showlegend": true,
         "textposition": "auto",
         "type": "bar",
         "x": [
          "Yuri Teixeira"
         ],
         "xaxis": "x",
         "y": {
          "bdata": "16NwPQpnbUA=",
          "dtype": "f8"
         },
         "yaxis": "y"
        },
        {
         "hovertemplate": "produto=Veritatis Corporis<br>cliente=%{x}<br>total_venda=%{y}<extra></extra>",
         "legendgroup": "Veritatis Corporis",
         "marker": {
          "color": "#FF6692",
          "pattern": {
           "shape": ""
          }
         },
         "name": "Veritatis Corporis",
         "orientation": "v",
         "showlegend": true,
         "textposition": "auto",
         "type": "bar",
         "x": [
          "Diego Melo",
          "Eloah Fogaça"
         ],
         "xaxis": "x",
         "y": {
          "bdata": "cT0K16OilEAzMzMzMzKhQA==",
          "dtype": "f8"
         },
         "yaxis": "y"
        },
        {
         "hovertemplate": "produto=Aliquam Explicabo<br>cliente=%{x}<br>total_venda=%{y}<extra></extra>",
         "legendgroup": "Aliquam Explicabo",
         "marker": {
          "color": "#B6E880",
          "pattern": {
           "shape": ""
          }
         },
         "name": "Aliquam Explicabo",
         "orientation": "v",
         "showlegend": true,
         "textposition": "auto",
         "type": "bar",
         "x": [
          "Dr. Danilo Moraes"
         ],
         "xaxis": "x",
         "y": {
          "bdata": "w/UoXI8GekA=",
          "dtype": "f8"
         },
         "yaxis": "y"
        },
        {
         "hovertemplate": "produto=Officiis Nesciunt<br>cliente=%{x}<br>total_venda=%{y}<extra></extra>",
         "legendgroup": "Officiis Nesciunt",
         "marker": {
          "color": "#FF97FF",
          "pattern": {
           "shape": ""
          }
         },
         "name": "Officiis Nesciunt",
         "orientation": "v",
         "showlegend": true,
         "textposition": "auto",
         "type": "bar",
         "x": [
          "Paulo da Cunha"
         ],
         "xaxis": "x",
         "y": {
          "bdata": "mpmZmZkJmkA=",
          "dtype": "f8"
         },
         "yaxis": "y"
        },
        {
         "hovertemplate": "produto=Ipsum Ea<br>cliente=%{x}<br>total_venda=%{y}<extra></extra>",
         "legendgroup": "Ipsum Ea",
         "marker": {
          "color": "#FECB52",
          "pattern": {
           "shape": ""
          }
         },
         "name": "Ipsum Ea",
         "orientation": "v",
         "showlegend": true,
         "textposition": "auto",
         "type": "bar",
         "x": [
          "Alícia Silva",
          "Enzo Gabriel Monteiro"
         ],
         "xaxis": "x",
         "y": {
          "bdata": "SOF6FK4fdUBI4XoUrh91QA==",
          "dtype": "f8"
         },
         "yaxis": "y"
        },
        {
         "hovertemplate": "produto=Repellendus Ducimus<br>cliente=%{x}<br>total_venda=%{y}<extra></extra>",
         "legendgroup": "Repellendus Ducimus",
         "marker": {
          "color": "#636efa",
          "pattern": {
           "shape": ""
          }
         },
         "name": "Repellendus Ducimus",
         "orientation": "v",
         "showlegend": true,
         "textposition": "auto",
         "type": "bar",
         "x": [
          "Brenda Fogaça"
         ],
         "xaxis": "x",
         "y": {
          "bdata": "XI/C9Sj8SUA=",
          "dtype": "f8"
         },
         "yaxis": "y"
        },
        {
         "hovertemplate": "produto=Iure Necessitatibus<br>cliente=%{x}<br>total_venda=%{y}<extra></extra>",
         "legendgroup": "Iure Necessitatibus",
         "marker": {
          "color": "#EF553B",
          "pattern": {
           "shape": ""
          }
         },
         "name": "Iure Necessitatibus",
         "orientation": "v",
         "showlegend": true,
         "textposition": "auto",
         "type": "bar",
         "x": [
          "Antônio da Mata"
         ],
         "xaxis": "x",
         "y": {
          "bdata": "exSuR+EadUA=",
          "dtype": "f8"
         },
         "yaxis": "y"
        },
        {
         "hovertemplate": "produto=Excepturi Provident<br>cliente=%{x}<br>total_venda=%{y}<extra></extra>",
         "legendgroup": "Excepturi Provident",
         "marker": {
          "color": "#00cc96",
          "pattern": {
           "shape": ""
          }
         },
         "name": "Excepturi Provident",
         "orientation": "v",
         "showlegend": true,
         "textposition": "auto",
         "type": "bar",
         "x": [
          "Raul da Luz"
         ],
         "xaxis": "x",
         "y": {
          "bdata": "AAAAAADgdUA=",
          "dtype": "f8"
         },
         "yaxis": "y"
        },
        {
         "hovertemplate": "produto=Saepe Reiciendis<br>cliente=%{x}<br>total_venda=%{y}<extra></extra>",
         "legendgroup": "Saepe Reiciendis",
         "marker": {
          "color": "#ab63fa",
          "pattern": {
           "shape": ""
          }
         },
         "name": "Saepe Reiciendis",
         "orientation": "v",
         "showlegend": true,
         "textposition": "auto",
         "type": "bar",
         "x": [
          "Davi da Conceição",
          "Raul da Luz"
         ],
         "xaxis": "x",
         "y": {
          "bdata": "PQrXo3AVbEA9CtejcBV8QA==",
          "dtype": "f8"
         },
         "yaxis": "y"
        },
        {
         "hovertemplate": "produto=Minima Nihil<br>cliente=%{x}<br>total_venda=%{y}<extra></extra>",
         "legendgroup": "Minima Nihil",
         "marker": {
          "color": "#FFA15A",
          "pattern": {
           "shape": ""
          }
         },
         "name": "Minima Nihil",
         "orientation": "v",
         "showlegend": true,
         "textposition": "auto",
         "type": "bar",
         "x": [
          "Henrique Campos"
         ],
         "xaxis": "x",
         "y": {
          "bdata": "rkfhehSmgUA=",
          "dtype": "f8"
         },
         "yaxis": "y"
        },
        {
         "hovertemplate": "produto=Consequatur Voluptate<br>cliente=%{x}<br>total_venda=%{y}<extra></extra>",
         "legendgroup": "Consequatur Voluptate",
         "marker": {
          "color": "#19d3f3",
          "pattern": {
           "shape": ""
          }
         },
         "name": "Consequatur Voluptate",
         "orientation": "v",
         "showlegend": true,
         "textposition": "auto",
         "type": "bar",
         "x": [
          "Letícia Pinto"
         ],
         "xaxis": "x",
         "y": {
          "bdata": "UrgehevVnUA=",
          "dtype": "f8"
         },
         "yaxis": "y"
        },
        {
         "hovertemplate": "produto=Rerum Tempore<br>cliente=%{x}<br>total_venda=%{y}<extra></extra>",
         "legendgroup": "Rerum Tempore",
         "marker": {
          "color": "#FF6692",
          "pattern": {
           "shape": ""
          }
         },
         "name": "Rerum Tempore",
         "orientation": "v",
         "showlegend": true,
         "textposition": "auto",
         "type": "bar",
         "x": [
          "Enzo Gabriel Monteiro",
          "Brenda Fogaça"
         ],
         "xaxis": "x",
         "y": {
          "bdata": "uB6F61HUgEAUrkfhej6JQA==",
          "dtype": "f8"
         },
         "yaxis": "y"
        },
        {
         "hovertemplate": "produto=Quia Adipisci<br>cliente=%{x}<br>total_venda=%{y}<extra></extra>",
         "legendgroup": "Quia Adipisci",
         "marker": {
          "color": "#B6E880",
          "pattern": {
           "shape": ""
          }
         },
         "name": "Quia Adipisci",
         "orientation": "v",
         "showlegend": true,
         "textposition": "auto",
         "type": "bar",
         "x": [
          "Letícia Pinto",
          "Srta. Cecília Porto"
         ],
         "xaxis": "x",
         "y": {
          "bdata": "pHA9CtergkCkcD0K16uCQA==",
          "dtype": "f8"
         },
         "yaxis": "y"
        },
        {
         "hovertemplate": "produto=Magni Delectus<br>cliente=%{x}<br>total_venda=%{y}<extra></extra>",
         "legendgroup": "Magni Delectus",
         "marker": {
          "color": "#FF97FF",
          "pattern": {
           "shape": ""
          }
         },
         "name": "Magni Delectus",
         "orientation": "v",
         "showlegend": true,
         "textposition": "auto",
         "type": "bar",
         "x": [
          "Luiz Henrique Costa",
          "Thiago Castro"
         ],
         "xaxis": "x",
         "y": {
          "bdata": "KVyPwvU4dUApXI/C9ThVQA==",
          "dtype": "f8"
         },
         "yaxis": "y"
        },
        {
         "hovertemplate": "produto=Quidem Sapiente<br>cliente=%{x}<br>total_venda=%{y}<extra></extra>",
         "legendgroup": "Quidem Sapiente",
         "marker": {
          "color": "#FECB52",
          "pattern": {
           "shape": ""
          }
         },
         "name": "Quidem Sapiente",
         "orientation": "v",
         "showlegend": true,
         "textposition": "auto",
         "type": "bar",
         "x": [
          "Brenda Fogaça"
         ],
         "xaxis": "x",
         "y": {
          "bdata": "MzMzMzMSkEA=",
          "dtype": "f8"
         },
         "yaxis": "y"
        },
        {
         "hovertemplate": "produto=Maiores Rerum<br>cliente=%{x}<br>total_venda=%{y}<extra></extra>",
         "legendgroup": "Maiores Rerum",
         "marker": {
          "color": "#636efa",
          "pattern": {
           "shape": ""
          }
         },
         "name": "Maiores Rerum",
         "orientation": "v",
         "showlegend": true,
         "textposition": "auto",
         "type": "bar",
         "x": [
          "Luiz Henrique Costa"
         ],
         "xaxis": "x",
         "y": {
          "bdata": "AAAAAABkmkA=",
          "dtype": "f8"
         },
         "yaxis": "y"
        },
        {
         "hovertemplate": "produto=Ex Rem<br>cliente=%{x}<br>total_venda=%{y}<extra></extra>",
         "legendgroup": "Ex Rem",
         "marker": {
          "color": "#EF553B",
          "pattern": {
           "shape": ""
          }
         },
         "name": "Ex Rem",
         "orientation": "v",
         "showlegend": true,
         "textposition": "auto",
         "type": "bar",
         "x": [
          "Breno Nascimento"
         ],
         "xaxis": "x",
         "y": {
          "bdata": "KVyPwvUAbkA=",
          "dtype": "f8"
         },
         "yaxis": "y"
        },
        {
         "hovertemplate": "produto=Veniam Hic<br>cliente=%{x}<br>total_venda=%{y}<extra></extra>",
         "legendgroup": "Veniam Hic",
         "marker": {
          "color": "#00cc96",
          "pattern": {
           "shape": ""
          }
         },
         "name": "Veniam Hic",
         "orientation": "v",
         "showlegend": true,
         "textposition": "auto",
         "type": "bar",
         "x": [
          "Brenda Fogaça"
         ],
         "xaxis": "x",
         "y": {
          "bdata": "MzMzMzOAoEA=",
          "dtype": "f8"
         },
         "yaxis": "y"
        },
        {
         "hovertemplate": "produto=Saepe Enim<br>cliente=%{x}<br>total_venda=%{y}<extra></extra>",
         "legendgroup": "Saepe Enim",
         "marker": {
          "color": "#ab63fa",
          "pattern": {
           "shape": ""
          }
         },
         "name": "Saepe Enim",
         "orientation": "v",
         "showlegend": true,
         "textposition": "auto",
         "type": "bar",
         "x": [
          "Marcos Vinicius Cavalcanti"
         ],
         "xaxis": "x",
         "y": {
          "bdata": "CtejcD0qYEA=",
          "dtype": "f8"
         },
         "yaxis": "y"
        },
        {
         "hovertemplate": "produto=Possimus Nam<br>cliente=%{x}<br>total_venda=%{y}<extra></extra>",
         "legendgroup": "Possimus Nam",
         "marker": {
          "color": "#FFA15A",
          "pattern": {
           "shape": ""
          }
         },
         "name": "Possimus Nam",
         "orientation": "v",
         "showlegend": true,
         "textposition": "auto",
         "type": "bar",
         "x": [
          "Thiago Costa"
         ],
         "xaxis": "x",
         "y": {
          "bdata": "4XoUrkdZlUA=",
          "dtype": "f8"
         },
         "yaxis": "y"
        },
        {
         "hovertemplate": "produto=Corrupti Ut<br>cliente=%{x}<br>total_venda=%{y}<extra></extra>",
         "legendgroup": "Corrupti Ut",
         "marker": {
          "color": "#19d3f3",
          "pattern": {
           "shape": ""
          }
         },
         "name": "Corrupti Ut",
         "orientation": "v",
         "showlegend": true,
         "textposition": "auto",
         "type": "bar",
         "x": [
          "Levi Correia",
          "Stephany da Rosa"
         ],
         "xaxis": "x",
         "y": {
          "bdata": "MzMzM7M1oUCkcD0K16aUQA==",
          "dtype": "f8"
         },
         "yaxis": "y"
        },
        {
         "hovertemplate": "produto=Reprehenderit Asperiores<br>cliente=%{x}<br>total_venda=%{y}<extra></extra>",
         "legendgroup": "Reprehenderit Asperiores",
         "marker": {
          "color": "#FF6692",
          "pattern": {
           "shape": ""
          }
         },
         "name": "Reprehenderit Asperiores",
         "orientation": "v",
         "showlegend": true,
         "textposition": "auto",
         "type": "bar",
         "x": [
          "Marcelo Barros"
         ],
         "xaxis": "x",
         "y": {
          "bdata": "CtejcD26dkA=",
          "dtype": "f8"
         },
         "yaxis": "y"
        },
        {
         "hovertemplate": "produto=Reprehenderit Officia<br>cliente=%{x}<br>total_venda=%{y}<extra></extra>",
         "legendgroup": "Reprehenderit Officia",
         "marker": {
          "color": "#B6E880",
          "pattern": {
           "shape": ""
          }
         },
         "name": "Reprehenderit Officia",
         "orientation": "v",
         "showlegend": true,
         "textposition": "auto",
         "type": "bar",
         "x": [
          "Thiago Castro",
          "Letícia Pinto"
         ],
         "xaxis": "x",
         "y": {
          "bdata": "ZmZmZmZOckBmZmZmZk6SQA==",
          "dtype": "f8"
         },
         "yaxis": "y"
        },
        {
         "hovertemplate": "produto=Totam Eos<br>cliente=%{x}<br>total_venda=%{y}<extra></extra>",
         "legendgroup": "Totam Eos",
         "marker": {
          "color": "#FF97FF",
          "pattern": {
           "shape": ""
          }
         },
         "name": "Totam Eos",
         "orientation": "v",
         "showlegend": true,
         "textposition": "auto",
         "type": "bar",
         "x": [
          "Letícia Pinto"
         ],
         "xaxis": "x",
         "y": {
          "bdata": "uB6F61GIiEA=",
          "dtype": "f8"
         },
         "yaxis": "y"
        },
        {
         "hovertemplate": "produto=Qui Ratione<br>cliente=%{x}<br>total_venda=%{y}<extra></extra>",
         "legendgroup": "Qui Ratione",
         "marker": {
          "color": "#FECB52",
          "pattern": {
           "shape": ""
          }
         },
         "name": "Qui Ratione",
         "orientation": "v",
         "showlegend": true,
         "textposition": "auto",
         "type": "bar",
         "x": [
          "Raul Sales"
         ],
         "xaxis": "x",
         "y": {
          "bdata": "ZmZmZmZGc0A=",
          "dtype": "f8"
         },
         "yaxis": "y"
        },
        {
         "hovertemplate": "produto=Nam Ducimus<br>cliente=%{x}<br>total_venda=%{y}<extra></extra>",
         "legendgroup": "Nam Ducimus",
         "marker": {
          "color": "#636efa",
          "pattern": {
           "shape": ""
          }
         },
         "name": "Nam Ducimus",
         "orientation": "v",
         "showlegend": true,
         "textposition": "auto",
         "type": "bar",
         "x": [
          "Davi da Conceição",
          "Davi Luiz Lima"
         ],
         "xaxis": "x",
         "y": {
          "bdata": "UrgeheuROUA9CtejcC1TQA==",
          "dtype": "f8"
         },
         "yaxis": "y"
        },
        {
         "hovertemplate": "produto=Cupiditate Reiciendis<br>cliente=%{x}<br>total_venda=%{y}<extra></extra>",
         "legendgroup": "Cupiditate Reiciendis",
         "marker": {
          "color": "#EF553B",
          "pattern": {
           "shape": ""
          }
         },
         "name": "Cupiditate Reiciendis",
         "orientation": "v",
         "showlegend": true,
         "textposition": "auto",
         "type": "bar",
         "x": [
          "Yuri Teixeira"
         ],
         "xaxis": "x",
         "y": {
          "bdata": "zczMzMymgkA=",
          "dtype": "f8"
         },
         "yaxis": "y"
        },
        {
         "hovertemplate": "produto=Fugit Deserunt<br>cliente=%{x}<br>total_venda=%{y}<extra></extra>",
         "legendgroup": "Fugit Deserunt",
         "marker": {
          "color": "#00cc96",
          "pattern": {
           "shape": ""
          }
         },
         "name": "Fugit Deserunt",
         "orientation": "v",
         "showlegend": true,
         "textposition": "auto",
         "type": "bar",
         "x": [
          "Henrique Castro"
         ],
         "xaxis": "x",
         "y": {
          "bdata": "cT0K16OAdUA=",
          "dtype": "f8"
         },
         "yaxis": "y"
        },
        {
         "hovertemplate": "produto=Nulla Harum<br>cliente=%{x}<br>total_venda=%{y}<extra></extra>",
         "legendgroup": "Nulla Harum",
         "marker": {
          "color": "#ab63fa",
          "pattern": {
           "shape": ""
          }
         },
         "name": "Nulla Harum",
         "orientation": "v",
         "showlegend": true,
         "textposition": "auto",
         "type": "bar",
         "x": [
          "Alícia Alves"
         ],
         "xaxis": "x",
         "y": {
          "bdata": "rkfhehQYkEA=",
          "dtype": "f8"
         },
         "yaxis": "y"
        },
        {
         "hovertemplate": "produto=Minima Dolor<br>cliente=%{x}<br>total_venda=%{y}<extra></extra>",
         "legendgroup": "Minima Dolor",
         "marker": {
          "color": "#FFA15A",
          "pattern": {
           "shape": ""
          }
         },
         "name": "Minima Dolor",
         "orientation": "v",
         "showlegend": true,
         "textposition": "auto",
         "type": "bar",
         "x": [
          "João Pedro Pereira"
         ],
         "xaxis": "x",
         "y": {
          "bdata": "FK5H4Xo0UEA=",
          "dtype": "f8"
         },
         "yaxis": "y"
        },
        {
         "hovertemplate": "produto=Velit Cum<br>cliente=%{x}<br>total_venda=%{y}<extra></extra>",
         "legendgroup": "Velit Cum",
         "marker": {
          "color": "#19d3f3",
          "pattern": {
           "shape": ""
          }
         },
         "name": "Velit Cum",
         "orientation": "v",
         "showlegend": true,
         "textposition": "auto",
         "type": "bar",
         "x": [
          "Cecília Barros"
         ],
         "xaxis": "x",
         "y": {
          "bdata": "zczMzMxMeEA=",
          "dtype": "f8"
         },
         "yaxis": "y"
        },
        {
         "hovertemplate": "produto=Magni Praesentium<br>cliente=%{x}<br>total_venda=%{y}<extra></extra>",
         "legendgroup": "Magni Praesentium",
         "marker": {
          "color": "#FF6692",
          "pattern": {
           "shape": ""
          }
         },
         "name": "Magni Praesentium",
         "orientation": "v",
         "showlegend": true,
         "textposition": "auto",
         "type": "bar",
         "x": [
          "Antônio da Mata",
          "Arthur Cunha"
         ],
         "xaxis": "x",
         "y": {
          "bdata": "CtejcD0edkBI4XoUrpaQQA==",
          "dtype": "f8"
         },
         "yaxis": "y"
        },
        {
         "hovertemplate": "produto=Voluptate Iure<br>cliente=%{x}<br>total_venda=%{y}<extra></extra>",
         "legendgroup": "Voluptate Iure",
         "marker": {
          "color": "#B6E880",
          "pattern": {
           "shape": ""
          }
         },
         "name": "Voluptate Iure",
         "orientation": "v",
         "showlegend": true,
         "textposition": "auto",
         "type": "bar",
         "x": [
          "Paulo da Cunha"
         ],
         "xaxis": "x",
         "y": {
          "bdata": "mpmZmZkhcUA=",
          "dtype": "f8"
         },
         "yaxis": "y"
        },
        {
         "hovertemplate": "produto=Non Vel<br>cliente=%{x}<br>total_venda=%{y}<extra></extra>",
         "legendgroup": "Non Vel",
         "marker": {
          "color": "#FF97FF",
          "pattern": {
           "shape": ""
          }
         },
         "name": "Non Vel",
         "orientation": "v",
         "showlegend": true,
         "textposition": "auto",
         "type": "bar",
         "x": [
          "Gustavo Henrique Barros"
         ],
         "xaxis": "x",
         "y": {
          "bdata": "9ihcj8JVl0A=",
          "dtype": "f8"
         },
         "yaxis": "y"
        },
        {
         "hovertemplate": "produto=Labore Error<br>cliente=%{x}<br>total_venda=%{y}<extra></extra>",
         "legendgroup": "Labore Error",
         "marker": {
          "color": "#FECB52",
          "pattern": {
           "shape": ""
          }
         },
         "name": "Labore Error",
         "orientation": "v",
         "showlegend": true,
         "textposition": "auto",
         "type": "bar",
         "x": [
          "João Pedro Pereira"
         ],
         "xaxis": "x",
         "y": {
          "bdata": "9ihcj8JVjEA=",
          "dtype": "f8"
         },
         "yaxis": "y"
        },
        {
         "hovertemplate": "produto=Culpa Possimus<br>cliente=%{x}<br>total_venda=%{y}<extra></extra>",
         "legendgroup": "Culpa Possimus",
         "marker": {
          "color": "#636efa",
          "pattern": {
           "shape": ""
          }
         },
         "name": "Culpa Possimus",
         "orientation": "v",
         "showlegend": true,
         "textposition": "auto",
         "type": "bar",
         "x": [
          "Yasmin Farias"
         ],
         "xaxis": "x",
         "y": {
          "bdata": "ZmZmZmYGbkA=",
          "dtype": "f8"
         },
         "yaxis": "y"
        },
        {
         "hovertemplate": "produto=Perspiciatis Quis<br>cliente=%{x}<br>total_venda=%{y}<extra></extra>",
         "legendgroup": "Perspiciatis Quis",
         "marker": {
          "color": "#EF553B",
          "pattern": {
           "shape": ""
          }
         },
         "name": "Perspiciatis Quis",
         "orientation": "v",
         "showlegend": true,
         "textposition": "auto",
         "type": "bar",
         "x": [
          "Luna Silva",
          "Luiz Henrique Costa"
         ],
         "xaxis": "x",
         "y": {
          "bdata": "pHA9CtflkUCkcD0K1+WRQA==",
          "dtype": "f8"
         },
         "yaxis": "y"
        },
        {
         "hovertemplate": "produto=Alias Delectus<br>cliente=%{x}<br>total_venda=%{y}<extra></extra>",
         "legendgroup": "Alias Delectus",
         "marker": {
          "color": "#00cc96",
          "pattern": {
           "shape": ""
          }
         },
         "name": "Alias Delectus",
         "orientation": "v",
         "showlegend": true,
         "textposition": "auto",
         "type": "bar",
         "x": [
          "Luna Silva"
         ],
         "xaxis": "x",
         "y": {
          "bdata": "16NwPQpfkEA=",
          "dtype": "f8"
         },
         "yaxis": "y"
        },
        {
         "hovertemplate": "produto=Molestias Unde<br>cliente=%{x}<br>total_venda=%{y}<extra></extra>",
         "legendgroup": "Molestias Unde",
         "marker": {
          "color": "#ab63fa",
          "pattern": {
           "shape": ""
          }
         },
         "name": "Molestias Unde",
         "orientation": "v",
         "showlegend": true,
         "textposition": "auto",
         "type": "bar",
         "x": [
          "Heloísa Monteiro"
         ],
         "xaxis": "x",
         "y": {
          "bdata": "hetRuB5pdUA=",
          "dtype": "f8"
         },
         "yaxis": "y"
        },
        {
         "hovertemplate": "produto=Magnam Doloribus<br>cliente=%{x}<br>total_venda=%{y}<extra></extra>",
         "legendgroup": "Magnam Doloribus",
         "marker": {
          "color": "#FFA15A",
          "pattern": {
           "shape": ""
          }
         },
         "name": "Magnam Doloribus",
         "orientation": "v",
         "showlegend": true,
         "textposition": "auto",
         "type": "bar",
         "x": [
          "Thiago Costa"
         ],
         "xaxis": "x",
         "y": {
          "bdata": "zczMzMwkgUA=",
          "dtype": "f8"
         },
         "yaxis": "y"
        },
        {
         "hovertemplate": "produto=Quos Quia<br>cliente=%{x}<br>total_venda=%{y}<extra></extra>",
         "legendgroup": "Quos Quia",
         "marker": {
          "color": "#19d3f3",
          "pattern": {
           "shape": ""
          }
         },
         "name": "Quos Quia",
         "orientation": "v",
         "showlegend": true,
         "textposition": "auto",
         "type": "bar",
         "x": [
          "Marcelo Barros"
         ],
         "xaxis": "x",
         "y": {
          "bdata": "j8L1KFxPVEA=",
          "dtype": "f8"
         },
         "yaxis": "y"
        }
       ],
       "layout": {
        "barmode": "relative",
        "legend": {
         "title": {
          "text": "produto"
         },
         "tracegroupgap": 0
        },
        "template": {
         "data": {
          "bar": [
           {
            "error_x": {
             "color": "#2a3f5f"
            },
            "error_y": {
             "color": "#2a3f5f"
            },
            "marker": {
             "line": {
              "color": "#E5ECF6",
              "width": 0.5
             },
             "pattern": {
              "fillmode": "overlay",
              "size": 10,
              "solidity": 0.2
             }
            },
            "type": "bar"
           }
          ],
          "barpolar": [
           {
            "marker": {
             "line": {
              "color": "#E5ECF6",
              "width": 0.5
             },
             "pattern": {
              "fillmode": "overlay",
              "size": 10,
              "solidity": 0.2
             }
            },
            "type": "barpolar"
           }
          ],
          "carpet": [
           {
            "aaxis": {
             "endlinecolor": "#2a3f5f",
             "gridcolor": "white",
             "linecolor": "white",
             "minorgridcolor": "white",
             "startlinecolor": "#2a3f5f"
            },
            "baxis": {
             "endlinecolor": "#2a3f5f",
             "gridcolor": "white",
             "linecolor": "white",
             "minorgridcolor": "white",
             "startlinecolor": "#2a3f5f"
            },
            "type": "carpet"
           }
          ],
          "choropleth": [
           {
            "colorbar": {
             "outlinewidth": 0,
             "ticks": ""
            },
            "type": "choropleth"
           }
          ],
          "contour": [
           {
            "colorbar": {
             "outlinewidth": 0,
             "ticks": ""
            },
            "colorscale": [
             [
              0,
              "#0d0887"
             ],
             [
              0.1111111111111111,
              "#46039f"
             ],
             [
              0.2222222222222222,
              "#7201a8"
             ],
             [
              0.3333333333333333,
              "#9c179e"
             ],
             [
              0.4444444444444444,
              "#bd3786"
             ],
             [
              0.5555555555555556,
              "#d8576b"
             ],
             [
              0.6666666666666666,
              "#ed7953"
             ],
             [
              0.7777777777777778,
              "#fb9f3a"
             ],
             [
              0.8888888888888888,
              "#fdca26"
             ],
             [
              1,
              "#f0f921"
             ]
            ],
            "type": "contour"
           }
          ],
          "contourcarpet": [
           {
            "colorbar": {
             "outlinewidth": 0,
             "ticks": ""
            },
            "type": "contourcarpet"
           }
          ],
          "heatmap": [
           {
            "colorbar": {
             "outlinewidth": 0,
             "ticks": ""
            },
            "colorscale": [
             [
              0,
              "#0d0887"
             ],
             [
              0.1111111111111111,
              "#46039f"
             ],
             [
              0.2222222222222222,
              "#7201a8"
             ],
             [
              0.3333333333333333,
              "#9c179e"
             ],
             [
              0.4444444444444444,
              "#bd3786"
             ],
             [
              0.5555555555555556,
              "#d8576b"
             ],
             [
              0.6666666666666666,
              "#ed7953"
             ],
             [
              0.7777777777777778,
              "#fb9f3a"
             ],
             [
              0.8888888888888888,
              "#fdca26"
             ],
             [
              1,
              "#f0f921"
             ]
            ],
            "type": "heatmap"
           }
          ],
          "histogram": [
           {
            "marker": {
             "pattern": {
              "fillmode": "overlay",
              "size": 10,
              "solidity": 0.2
             }
            },
            "type": "histogram"
           }
          ],
          "histogram2d": [
           {
            "colorbar": {
             "outlinewidth": 0,
             "ticks": ""
            },
            "colorscale": [
             [
              0,
              "#0d0887"
             ],
             [
              0.1111111111111111,
              "#46039f"
             ],
             [
              0.2222222222222222,
              "#7201a8"
             ],
             [
              0.3333333333333333,
              "#9c179e"
             ],
             [
              0.4444444444444444,
              "#bd3786"
             ],
             [
              0.5555555555555556,
              "#d8576b"
             ],
             [
              0.6666666666666666,
              "#ed7953"
             ],
             [
              0.7777777777777778,
              "#fb9f3a"
             ],
             [
              0.8888888888888888,
              "#fdca26"
             ],
             [
              1,
              "#f0f921"
             ]
            ],
            "type": "histogram2d"
           }
          ],
          "histogram2dcontour": [
           {
            "colorbar": {
             "outlinewidth": 0,
             "ticks": ""
            },
            "colorscale": [
             [
              0,
              "#0d0887"
             ],
             [
              0.1111111111111111,
              "#46039f"
             ],
             [
              0.2222222222222222,
              "#7201a8"
             ],
             [
              0.3333333333333333,
              "#9c179e"
             ],
             [
              0.4444444444444444,
              "#bd3786"
             ],
             [
              0.5555555555555556,
              "#d8576b"
             ],
             [
              0.6666666666666666,
              "#ed7953"
             ],
             [
              0.7777777777777778,
              "#fb9f3a"
             ],
             [
              0.8888888888888888,
              "#fdca26"
             ],
             [
              1,
              "#f0f921"
             ]
            ],
            "type": "histogram2dcontour"
           }
          ],
          "mesh3d": [
           {
            "colorbar": {
             "outlinewidth": 0,
             "ticks": ""
            },
            "type": "mesh3d"
           }
          ],
          "parcoords": [
           {
            "line": {
             "colorbar": {
              "outlinewidth": 0,
              "ticks": ""
             }
            },
            "type": "parcoords"
           }
          ],
          "pie": [
           {
            "automargin": true,
            "type": "pie"
           }
          ],
          "scatter": [
           {
            "fillpattern": {
             "fillmode": "overlay",
             "size": 10,
             "solidity": 0.2
            },
            "type": "scatter"
           }
          ],
          "scatter3d": [
           {
            "line": {
             "colorbar": {
              "outlinewidth": 0,
              "ticks": ""
             }
            },
            "marker": {
             "colorbar": {
              "outlinewidth": 0,
              "ticks": ""
             }
            },
            "type": "scatter3d"
           }
          ],
          "scattercarpet": [
           {
            "marker": {
             "colorbar": {
              "outlinewidth": 0,
              "ticks": ""
             }
            },
            "type": "scattercarpet"
           }
          ],
          "scattergeo": [
           {
            "marker": {
             "colorbar": {
              "outlinewidth": 0,
              "ticks": ""
             }
            },
            "type": "scattergeo"
           }
          ],
          "scattergl": [
           {
            "marker": {
             "colorbar": {
              "outlinewidth": 0,
              "ticks": ""
             }
            },
            "type": "scattergl"
           }
          ],
          "scattermap": [
           {
            "marker": {
             "colorbar": {
              "outlinewidth": 0,
              "ticks": ""
             }
            },
            "type": "scattermap"
           }
          ],
          "scattermapbox": [
           {
            "marker": {
             "colorbar": {
              "outlinewidth": 0,
              "ticks": ""
             }
            },
            "type": "scattermapbox"
           }
          ],
          "scatterpolar": [
           {
            "marker": {
             "colorbar": {
              "outlinewidth": 0,
              "ticks": ""
             }
            },
            "type": "scatterpolar"
           }
          ],
          "scatterpolargl": [
           {
            "marker": {
             "colorbar": {
              "outlinewidth": 0,
              "ticks": ""
             }
            },
            "type": "scatterpolargl"
           }
          ],
          "scatterternary": [
           {
            "marker": {
             "colorbar": {
              "outlinewidth": 0,
              "ticks": ""
             }
            },
            "type": "scatterternary"
           }
          ],
          "surface": [
           {
            "colorbar": {
             "outlinewidth": 0,
             "ticks": ""
            },
            "colorscale": [
             [
              0,
              "#0d0887"
             ],
             [
              0.1111111111111111,
              "#46039f"
             ],
             [
              0.2222222222222222,
              "#7201a8"
             ],
             [
              0.3333333333333333,
              "#9c179e"
             ],
             [
              0.4444444444444444,
              "#bd3786"
             ],
             [
              0.5555555555555556,
              "#d8576b"
             ],
             [
              0.6666666666666666,
              "#ed7953"
             ],
             [
              0.7777777777777778,
              "#fb9f3a"
             ],
             [
              0.8888888888888888,
              "#fdca26"
             ],
             [
              1,
              "#f0f921"
             ]
            ],
            "type": "surface"
           }
          ],
          "table": [
           {
            "cells": {
             "fill": {
              "color": "#EBF0F8"
             },
             "line": {
              "color": "white"
             }
            },
            "header": {
             "fill": {
              "color": "#C8D4E3"
             },
             "line": {
              "color": "white"
             }
            },
            "type": "table"
           }
          ]
         },
         "layout": {
          "annotationdefaults": {
           "arrowcolor": "#2a3f5f",
           "arrowhead": 0,
           "arrowwidth": 1
          },
          "autotypenumbers": "strict",
          "coloraxis": {
           "colorbar": {
            "outlinewidth": 0,
            "ticks": ""
           }
          },
          "colorscale": {
           "diverging": [
            [
             0,
             "#8e0152"
            ],
            [
             0.1,
             "#c51b7d"
            ],
            [
             0.2,
             "#de77ae"
            ],
            [
             0.3,
             "#f1b6da"
            ],
            [
             0.4,
             "#fde0ef"
            ],
            [
             0.5,
             "#f7f7f7"
            ],
            [
             0.6,
             "#e6f5d0"
            ],
            [
             0.7,
             "#b8e186"
            ],
            [
             0.8,
             "#7fbc41"
            ],
            [
             0.9,
             "#4d9221"
            ],
            [
             1,
             "#276419"
            ]
           ],
           "sequential": [
            [
             0,
             "#0d0887"
            ],
            [
             0.1111111111111111,
             "#46039f"
            ],
            [
             0.2222222222222222,
             "#7201a8"
            ],
            [
             0.3333333333333333,
             "#9c179e"
            ],
            [
             0.4444444444444444,
             "#bd3786"
            ],
            [
             0.5555555555555556,
             "#d8576b"
            ],
            [
             0.6666666666666666,
             "#ed7953"
            ],
            [
             0.7777777777777778,
             "#fb9f3a"
            ],
            [
             0.8888888888888888,
             "#fdca26"
            ],
            [
             1,
             "#f0f921"
            ]
           ],
           "sequentialminus": [
            [
             0,
             "#0d0887"
            ],
            [
             0.1111111111111111,
             "#46039f"
            ],
            [
             0.2222222222222222,
             "#7201a8"
            ],
            [
             0.3333333333333333,
             "#9c179e"
            ],
            [
             0.4444444444444444,
             "#bd3786"
            ],
            [
             0.5555555555555556,
             "#d8576b"
            ],
            [
             0.6666666666666666,
             "#ed7953"
            ],
            [
             0.7777777777777778,
             "#fb9f3a"
            ],
            [
             0.8888888888888888,
             "#fdca26"
            ],
            [
             1,
             "#f0f921"
            ]
           ]
          },
          "colorway": [
           "#636efa",
           "#EF553B",
           "#00cc96",
           "#ab63fa",
           "#FFA15A",
           "#19d3f3",
           "#FF6692",
           "#B6E880",
           "#FF97FF",
           "#FECB52"
          ],
          "font": {
           "color": "#2a3f5f"
          },
          "geo": {
           "bgcolor": "white",
           "lakecolor": "white",
           "landcolor": "#E5ECF6",
           "showlakes": true,
           "showland": true,
           "subunitcolor": "white"
          },
          "hoverlabel": {
           "align": "left"
          },
          "hovermode": "closest",
          "mapbox": {
           "style": "light"
          },
          "paper_bgcolor": "white",
          "plot_bgcolor": "#E5ECF6",
          "polar": {
           "angularaxis": {
            "gridcolor": "white",
            "linecolor": "white",
            "ticks": ""
           },
           "bgcolor": "#E5ECF6",
           "radialaxis": {
            "gridcolor": "white",
            "linecolor": "white",
            "ticks": ""
           }
          },
          "scene": {
           "xaxis": {
            "backgroundcolor": "#E5ECF6",
            "gridcolor": "white",
            "gridwidth": 2,
            "linecolor": "white",
            "showbackground": true,
            "ticks": "",
            "zerolinecolor": "white"
           },
           "yaxis": {
            "backgroundcolor": "#E5ECF6",
            "gridcolor": "white",
            "gridwidth": 2,
            "linecolor": "white",
            "showbackground": true,
            "ticks": "",
            "zerolinecolor": "white"
           },
           "zaxis": {
            "backgroundcolor": "#E5ECF6",
            "gridcolor": "white",
            "gridwidth": 2,
            "linecolor": "white",
            "showbackground": true,
            "ticks": "",
            "zerolinecolor": "white"
           }
          },
          "shapedefaults": {
           "line": {
            "color": "#2a3f5f"
           }
          },
          "ternary": {
           "aaxis": {
            "gridcolor": "white",
            "linecolor": "white",
            "ticks": ""
           },
           "baxis": {
            "gridcolor": "white",
            "linecolor": "white",
            "ticks": ""
           },
           "bgcolor": "#E5ECF6",
           "caxis": {
            "gridcolor": "white",
            "linecolor": "white",
            "ticks": ""
           }
          },
          "title": {
           "x": 0.05
          },
          "xaxis": {
           "automargin": true,
           "gridcolor": "white",
           "linecolor": "white",
           "ticks": "",
           "title": {
            "standoff": 15
           },
           "zerolinecolor": "white",
           "zerolinewidth": 2
          },
          "yaxis": {
           "automargin": true,
           "gridcolor": "white",
           "linecolor": "white",
           "ticks": "",
           "title": {
            "standoff": 15
           },
           "zerolinecolor": "white",
           "zerolinewidth": 2
          }
         }
        },
        "title": {
         "text": "Total de Vendas por Cliente e Produto"
        },
        "xaxis": {
         "anchor": "y",
         "domain": [
          0,
          1
         ],
         "title": {
          "text": "cliente"
         }
        },
        "yaxis": {
         "anchor": "x",
         "domain": [
          0,
          1
         ],
         "title": {
          "text": "total_venda"
         }
        }
       }
      }
     },
     "metadata": {},
     "output_type": "display_data"
    }
   ],
   "source": [
    "# Gerar grafico\n",
    "fig = px.bar(df, x=\"cliente\", y=\"total_venda\", color=\"produto\", \n",
    "             title=\"Total de Vendas por Cliente e Produto\")\n",
    "fig.show()\n"
   ]
  },
  {
   "cell_type": "code",
   "execution_count": 13,
   "id": "4771de9e",
   "metadata": {},
   "outputs": [
    {
     "name": "stdout",
     "output_type": "stream",
     "text": [
      "⚠️ Drop de tabelas não executado. Variável de controle está n\n"
     ]
    }
   ],
   "source": [
    "deletar_tabelas = 'n'  # Altere para s se quiser dropar\n",
    "\n",
    "if deletar_tabelas.lower() == 's':\n",
    "    drop_script = \"\"\"\n",
    "    DROP TABLE IF EXISTS itens_pedido CASCADE;\n",
    "    DROP TABLE IF EXISTS pedidos CASCADE;\n",
    "    DROP TABLE IF EXISTS produtos CASCADE;\n",
    "    DROP TABLE IF EXISTS clientes CASCADE;\n",
    "    DROP TABLE IF EXISTS tipos_produto CASCADE;\n",
    "    \"\"\"\n",
    "    conn = engine.raw_connection()\n",
    "\n",
    "    try:\n",
    "        cursor = conn.cursor()\n",
    "        cursor.execute(drop_script)\n",
    "        conn.commit()\n",
    "        print(\"🗑️ Todas as tabelas foram deletadas com sucesso\")\n",
    "    finally:\n",
    "        cursor.close()\n",
    "        conn.close()\n",
    "else:\n",
    "    print(f\"⚠️ Drop de tabelas não executado. Variável de controle está {deletar_tabelas}\")"
   ]
  },
  {
   "cell_type": "markdown",
   "id": "c31b4535",
   "metadata": {},
   "source": [
    "#### **Aula 3 - Stacks Modernas, Data Warehouse, Data Lake e Lakehouse, Data Mesh e Data Fabric**"
   ]
  },
  {
   "cell_type": "markdown",
   "id": "ee55d376",
   "metadata": {},
   "source": [
    "##### **Modelo Dimensional em DBML – Diagrama DW (dimensões e fato)**"
   ]
  },
  {
   "cell_type": "markdown",
   "id": "fe9d2b9c",
   "metadata": {},
   "source": [
    "Criar o Diagrama Entidade-Relacionamento (DER) usando o site https://dbdiagram.io/home e o seguinte código DBML (Database Markup Language ou Linguagem de Marcação para Banco de Dados):   \n",
    "\n",
    "```dbml\n",
    "Table dim_cliente {\n",
    "  id_cliente int [pk]\n",
    "  nome varchar\n",
    "  idade int\n",
    "  cidade varchar\n",
    "}\n",
    "\n",
    "Table dim_produto {\n",
    "  id_produto int [pk]\n",
    "  nome_produto varchar\n",
    "  categoria varchar\n",
    "  preco decimal\n",
    "}\n",
    "\n",
    "Table fato_pedidos {\n",
    "  id_pedido int [pk]\n",
    "  id_cliente int [ref: > dim_cliente.id_cliente]\n",
    "  id_produto int [ref: > dim_produto.id_produto]\n",
    "  id_data int [ref: > dim_data.id_data]\n",
    "  id_regiao int [ref: > dim_regiao.id_regiao]\n",
    "  data_pedido date\n",
    "  quantidade int\n",
    "  valor_total decimal\n",
    "}\n",
    "\n",
    "Table dim_data {\n",
    "  id_data int [pk]\n",
    "  data date\n",
    "  ano int\n",
    "  mes int\n",
    "  dia int\n",
    "  dia_semana varchar\n",
    "  nome_mes varchar\n",
    "}\n",
    "\n",
    "Table dim_regiao {\n",
    "  id_regiao int [pk]\n",
    "  nome_regiao varchar\n",
    "  estado varchar\n",
    "  cidade varchar\n",
    "}\n"
   ]
  },
  {
   "cell_type": "markdown",
   "id": "0d52a3fd",
   "metadata": {},
   "source": [
    "![Diagrama DW](imagame.png)\n"
   ]
  },
  {
   "cell_type": "markdown",
   "id": "c8e8ce5f",
   "metadata": {},
   "source": [
    "##### **Códigos - Carregar dados no PostgreSQL**"
   ]
  },
  {
   "cell_type": "code",
   "execution_count": 14,
   "id": "0a8e4fca",
   "metadata": {},
   "outputs": [
    {
     "name": "stdout",
     "output_type": "stream",
     "text": [
      "⚠️ Tabela 'dim_cliente' já existe. Nenhuma alteração feita.\n",
      "⚠️ Tabela 'dim_produto' já existe. Nenhuma alteração feita.\n",
      "⚠️ Tabela 'fato_pedidos' já existe. Nenhuma alteração feita.\n"
     ]
    }
   ],
   "source": [
    "# Criar tabelas\n",
    "ddl_dim_fato = [\n",
    "    \"\"\"\n",
    "    CREATE TABLE IF NOT EXISTS dim_cliente (\n",
    "      id_cliente INT PRIMARY KEY,\n",
    "      nome VARCHAR(100),\n",
    "      idade INT,\n",
    "      cidade VARCHAR(100)\n",
    "    );\n",
    "    \"\"\",\n",
    "    \"\"\"\n",
    "    CREATE TABLE IF NOT EXISTS dim_produto (\n",
    "      id_produto INT PRIMARY KEY,\n",
    "      nome_produto VARCHAR(100),\n",
    "      categoria VARCHAR(50),\n",
    "      preco DECIMAL(10,2)\n",
    "    );\n",
    "    \"\"\",\n",
    "    \"\"\"\n",
    "    CREATE TABLE IF NOT EXISTS fato_pedidos (\n",
    "      id_pedido INT PRIMARY KEY,\n",
    "      id_cliente INT REFERENCES dim_cliente(id_cliente),\n",
    "      id_produto INT REFERENCES dim_produto(id_produto),\n",
    "      data_pedido DATE,\n",
    "      quantidade INT,\n",
    "      valor_total DECIMAL(10,2)\n",
    "    );\n",
    "    \"\"\"\n",
    "]\n",
    "\n",
    "table_names = [\n",
    "    \"dim_cliente\",\n",
    "    \"dim_produto\",\n",
    "    \"fato_pedidos\"\n",
    "]\n",
    "\n",
    "# Validar se as tabelas já existe\n",
    "with engine.begin() as conn:\n",
    "    for cmd, table in zip(ddl_dim_fato, table_names):\n",
    "        result = conn.execute(\n",
    "            text(f\"SELECT EXISTS (SELECT 1 FROM information_schema.tables WHERE table_schema = 'public' AND table_name = '{table}');\")\n",
    "        )\n",
    "        exists = result.scalar()\n",
    "        if not exists:\n",
    "            conn.execute(text(cmd))\n",
    "            print(f\"✅ Tabela '{table}' criada com sucesso!\")\n",
    "        else:\n",
    "            print(f\"⚠️ Tabela '{table}' já existe. Nenhuma alteração feita.\")"
   ]
  },
  {
   "cell_type": "code",
   "execution_count": 15,
   "id": "6d2322d9",
   "metadata": {},
   "outputs": [
    {
     "name": "stdout",
     "output_type": "stream",
     "text": [
      "🗑️ Dados apagados de todas as tabelas.\n",
      "✅ Executado: insert_dim_cliente.sql\n",
      "✅ Executado: insert_dim_produto.sql\n"
     ]
    }
   ],
   "source": [
    "# Apagar dados das tabelas e executar arquivos .sql\n",
    "github_urls = [\n",
    "    \"https://raw.githubusercontent.com/FIAP/Pos_Tech_DTAT/refs/heads/main/Fase%203/Aula4/sql/aula3-dw/insert_dim_cliente.sql\",\n",
    "    \"https://raw.githubusercontent.com/FIAP/Pos_Tech_DTAT/refs/heads/main/Fase%203/Aula4/sql/aula3-dw/insert_dim_produto.sql\"\n",
    "\n",
    "]\n",
    "\n",
    "delete_script = \"\"\"\n",
    "TRUNCATE TABLE dim_cliente, dim_produto CASCADE\n",
    "\"\"\"\n",
    "\n",
    "with engine.begin() as conn:\n",
    "    conn.execute(text(delete_script))\n",
    "    print(\"🗑️ Dados apagados de todas as tabelas.\")\n",
    "\n",
    "    for url in github_urls:\n",
    "        response = requests.get(url)\n",
    "        response.raise_for_status()\n",
    "        sql_content = response.text\n",
    "        conn.execute(text(sql_content))\n",
    "        print(f\"✅ Executado: {url.split('/')[-1]}\")\n"
   ]
  },
  {
   "cell_type": "code",
   "execution_count": 16,
   "id": "d5f3bddb",
   "metadata": {},
   "outputs": [
    {
     "name": "stdout",
     "output_type": "stream",
     "text": [
      "🗑️ Dados apagados de todas as tabelas.\n",
      "✅ Executado: insert_fato_pedidos.sql\n"
     ]
    }
   ],
   "source": [
    "# Apagar dados das tabelas e executar arquivos .sql\n",
    "github_urls = [\n",
    "    \"https://raw.githubusercontent.com/FIAP/Pos_Tech_DTAT/refs/heads/main/Fase%203/Aula4/sql/aula3-dw/insert_fato_pedidos.sql\"\n",
    "]\n",
    "\n",
    "delete_script = \"\"\"\n",
    "TRUNCATE TABLE fato_pedidos CASCADE\n",
    "\"\"\"\n",
    "\n",
    "with engine.begin() as conn:\n",
    "    conn.execute(text(delete_script))\n",
    "    print(\"🗑️ Dados apagados de todas as tabelas.\")\n",
    "\n",
    "    for url in github_urls:\n",
    "        response = requests.get(url)\n",
    "        response.raise_for_status()\n",
    "        sql_content = response.text\n",
    "        conn.execute(text(sql_content))\n",
    "        print(f\"✅ Executado: {url.split('/')[-1]}\")\n"
   ]
  },
  {
   "cell_type": "code",
   "execution_count": 17,
   "id": "21926089",
   "metadata": {},
   "outputs": [
    {
     "data": {
      "application/vnd.microsoft.datawrangler.viewer.v0+json": {
       "columns": [
        {
         "name": "index",
         "rawType": "int64",
         "type": "integer"
        },
        {
         "name": "nome",
         "rawType": "object",
         "type": "string"
        },
        {
         "name": "ultima_compra",
         "rawType": "object",
         "type": "unknown"
        }
       ],
       "ref": "b0d4881c-1c76-47e2-b698-77c928111cc5",
       "rows": [
        [
         "0",
         "Srta. Luna Costa",
         "2024-10-08"
        ],
        [
         "1",
         "Vitor Nascimento",
         "2024-12-20"
        ],
        [
         "2",
         "Francisco Rezende",
         "2025-04-24"
        ],
        [
         "3",
         "Lucas Nascimento",
         "2025-02-05"
        ],
        [
         "4",
         "Luiza Duarte",
         "2025-01-02"
        ]
       ],
       "shape": {
        "columns": 2,
        "rows": 5
       }
      },
      "text/html": [
       "<div>\n",
       "<style scoped>\n",
       "    .dataframe tbody tr th:only-of-type {\n",
       "        vertical-align: middle;\n",
       "    }\n",
       "\n",
       "    .dataframe tbody tr th {\n",
       "        vertical-align: top;\n",
       "    }\n",
       "\n",
       "    .dataframe thead th {\n",
       "        text-align: right;\n",
       "    }\n",
       "</style>\n",
       "<table border=\"1\" class=\"dataframe\">\n",
       "  <thead>\n",
       "    <tr style=\"text-align: right;\">\n",
       "      <th></th>\n",
       "      <th>nome</th>\n",
       "      <th>ultima_compra</th>\n",
       "    </tr>\n",
       "  </thead>\n",
       "  <tbody>\n",
       "    <tr>\n",
       "      <th>0</th>\n",
       "      <td>Srta. Luna Costa</td>\n",
       "      <td>2024-10-08</td>\n",
       "    </tr>\n",
       "    <tr>\n",
       "      <th>1</th>\n",
       "      <td>Vitor Nascimento</td>\n",
       "      <td>2024-12-20</td>\n",
       "    </tr>\n",
       "    <tr>\n",
       "      <th>2</th>\n",
       "      <td>Francisco Rezende</td>\n",
       "      <td>2025-04-24</td>\n",
       "    </tr>\n",
       "    <tr>\n",
       "      <th>3</th>\n",
       "      <td>Lucas Nascimento</td>\n",
       "      <td>2025-02-05</td>\n",
       "    </tr>\n",
       "    <tr>\n",
       "      <th>4</th>\n",
       "      <td>Luiza Duarte</td>\n",
       "      <td>2025-01-02</td>\n",
       "    </tr>\n",
       "  </tbody>\n",
       "</table>\n",
       "</div>"
      ],
      "text/plain": [
       "                nome ultima_compra\n",
       "0   Srta. Luna Costa    2024-10-08\n",
       "1   Vitor Nascimento    2024-12-20\n",
       "2  Francisco Rezende    2025-04-24\n",
       "3   Lucas Nascimento    2025-02-05\n",
       "4       Luiza Duarte    2025-01-02"
      ]
     },
     "execution_count": 17,
     "metadata": {},
     "output_type": "execute_result"
    }
   ],
   "source": [
    "# Join para ver a ultima compra do cliente\n",
    "df = pd.read_sql_query(\n",
    "\n",
    "\"\"\"\n",
    "                       \n",
    "select \n",
    "\tb.nome, max(a.data_pedido) ultima_compra\n",
    "\n",
    "from \n",
    "\tfato_pedidos as a\n",
    "\n",
    "join dim_cliente as b \n",
    "on a.id_cliente = b.id_cliente\n",
    "\n",
    "group by\n",
    "\tb.nome\n",
    "\t\n",
    "\"\"\"\n",
    ",con=engine)\n",
    "\n",
    "df.head()\n"
   ]
  },
  {
   "cell_type": "markdown",
   "id": "c7861cd6",
   "metadata": {},
   "source": [
    "##### **Códigos - Exportar Postgre para SQL**"
   ]
  },
  {
   "cell_type": "code",
   "execution_count": 18,
   "id": "3ca9456c",
   "metadata": {},
   "outputs": [
    {
     "name": "stdout",
     "output_type": "stream",
     "text": [
      "✅ Conexão com o PostgreSQL estabelecida: PostgreSQL 17.4 on x86_64-pc-linux-gnu, compiled by gcc (GCC) 12.4.0, 64-bit\n",
      "\n",
      "✅ Bucket 'aula-data-lake-430854566059' já existe\n",
      "\n",
      "Exportando tabela: clientes\n",
      "✅ clientes salva no S3 em: s3://aula-data-lake-430854566059/raw/clientes.csv\n",
      "\n",
      "Exportando tabela: produtos\n",
      "✅ produtos salva no S3 em: s3://aula-data-lake-430854566059/raw/produtos.csv\n",
      "\n",
      "Exportando tabela: pedidos\n",
      "✅ pedidos salva no S3 em: s3://aula-data-lake-430854566059/raw/pedidos.csv\n",
      "\n",
      "Exportando tabela: itens_pedido\n",
      "✅ itens_pedido salva no S3 em: s3://aula-data-lake-430854566059/raw/itens_pedido.csv\n",
      "\n",
      "Exportando tabela: tipos_produto\n",
      "✅ tipos_produto salva no S3 em: s3://aula-data-lake-430854566059/raw/tipos_produto.csv\n",
      "\n",
      "Exportação concluída com sucesso.\n"
     ]
    }
   ],
   "source": [
    "# Configurar conexão PostgreSQL\n",
    "pg_config = {\n",
    "    \"host\": host,\n",
    "    \"database\": banco,\n",
    "    \"user\": usuario,\n",
    "    \"password\": senha,\n",
    "    \"port\": porta\n",
    "}\n",
    "\n",
    "# Configurar dados buckt do AWS S3\n",
    "bucket_name = \"aula-data-lake-430854566059\"\n",
    "s3_prefix = \"raw/\"\n",
    "\n",
    "# Listar tabelas a exportar \n",
    "tabelas = ['clientes', 'produtos', 'pedidos', 'itens_pedido', 'tipos_produto']\n",
    "\n",
    "# Validar conexão com PostgreSQL usando o engine\n",
    "try:\n",
    "    with engine.connect() as conn:\n",
    "        result = conn.execute(text(\"SELECT version();\"))\n",
    "        versao = result.fetchone()\n",
    "        print(f\"✅ Conexão com o PostgreSQL estabelecida: {versao[0]}\\n\")\n",
    "except Exception as e:\n",
    "    print(\"❌ Erro ao conectar ao PostgreSQL:\", e)\n",
    "    print()\n",
    "\n",
    "# Criar conexão com S3\n",
    "s3 = session.client('s3')\n",
    "region = s3.meta.region_name or \"us-east-1\" \n",
    "\n",
    "# Verificar buckt\n",
    "try:\n",
    "    s3.head_bucket(Bucket=bucket_name)\n",
    "    print(f\"✅ Bucket '{bucket_name}' já existe\\n\")\n",
    "\n",
    "except ClientError as e:\n",
    "    error_code = int(e.response['Error']['Code'])\n",
    "    if error_code == 404:\n",
    "        print(f\"Bucket '{bucket_name}' não existe, criando...\\n\")\n",
    "        if region == \"us-east-1\":\n",
    "            s3.create_bucket(Bucket=bucket_name)\n",
    "        else:\n",
    "            s3.create_bucket(\n",
    "                Bucket=bucket_name,\n",
    "                CreateBucketConfiguration={'LocationConstraint': region}\n",
    "            )\n",
    "        print(f\"Bucket '{bucket_name}' criado com sucesso\\n\")\n",
    "    else:\n",
    "        raise\n",
    "\n",
    "# Exportar dados do Postgres\n",
    "for tabela in tabelas:\n",
    "    print(f\"Exportando tabela: {tabela}\")\n",
    "    df = pd.read_sql(f\"SELECT * FROM {tabela};\", engine) \n",
    "\n",
    "    # Salvar como CSV em memória\n",
    "    csv_buffer = StringIO()\n",
    "    df.to_csv(csv_buffer, index=False)\n",
    "\n",
    "    # Enviar para S3\n",
    "    s3_key = f\"{s3_prefix}{tabela}.csv\"\n",
    "    s3.put_object(Bucket=bucket_name, Key=s3_key, Body=csv_buffer.getvalue())\n",
    "    print(f\"✅ {tabela} salva no S3 em: s3://{bucket_name}/{s3_key}\\n\")\n",
    "\n",
    "print(\"Exportação concluída com sucesso.\")\n"
   ]
  },
  {
   "cell_type": "code",
   "execution_count": 19,
   "id": "941f33a3",
   "metadata": {},
   "outputs": [
    {
     "name": "stdout",
     "output_type": "stream",
     "text": [
      "Processamento das camadas Silver e Gold no S3 particionado por ano mes e dia (anomesdia) finalizado com sucesso!\n"
     ]
    }
   ],
   "source": [
    "# Criar um dicionário com as opções de armazenamento, especificando o perfil\n",
    "storage_options = {\"profile\": \"academy\"}\n",
    "\n",
    "# Caminhos no S3\n",
    "RAW_PREFIX = 's3://aula-data-lake-430854566059/raw/'\n",
    "SILVER_PREFIX = 's3://aula-data-lake-430854566059/silver/'\n",
    "GOLD_PREFIX = 's3://aula-data-lake-430854566059/gold/'\n",
    "\n",
    "# Camada Silver --> Leitura e Limpeza dos Dados\n",
    "# Uso do storage_options=storage_options para garantir o uso correto das credenciais\n",
    "clientes = pd.read_csv(RAW_PREFIX + 'clientes.csv', storage_options=storage_options) \n",
    "produtos = pd.read_csv(RAW_PREFIX + 'produtos.csv', storage_options=storage_options)\n",
    "tipos_produto = pd.read_csv(RAW_PREFIX + 'tipos_produto.csv', storage_options=storage_options)\n",
    "pedidos = pd.read_csv(RAW_PREFIX + 'pedidos.csv', storage_options=storage_options)\n",
    "itens_pedido = pd.read_csv(RAW_PREFIX + 'itens_pedido.csv', storage_options=storage_options)\n",
    "\n",
    "# Padronizar colunas para lower case\n",
    "for df in [clientes, produtos, tipos_produto, pedidos, itens_pedido]:\n",
    "    df.columns = [col.lower() for col in df.columns]\n",
    "\n",
    "# Limpeza básica\n",
    "clientes = clientes.drop_duplicates().dropna(subset=['id_cliente'])\n",
    "produtos = produtos.drop_duplicates().dropna(subset=['id_produto'])\n",
    "tipos_produto = tipos_produto.drop_duplicates().dropna(subset=['id_tipo'])\n",
    "pedidos = pedidos.drop_duplicates().dropna(subset=['id_pedido', 'id_cliente'])\n",
    "itens_pedido = itens_pedido.drop_duplicates().dropna(subset=['id_item', 'id_pedido', 'id_produto'])\n",
    "\n",
    "# Padronização de datas\n",
    "if 'data_pedido' in pedidos.columns:\n",
    "    pedidos['data_pedido'] = pd.to_datetime(pedidos['data_pedido'], errors='coerce')\n",
    "\n",
    "# Salvar camada Silver em Parquet no S3\n",
    "# Uso do storage_options=storage_options para garantir o uso correto das credenciais\n",
    "clientes.to_parquet(SILVER_PREFIX + 'clientes.parquet', index=False, storage_options=storage_options)\n",
    "produtos.to_parquet(SILVER_PREFIX + 'produtos.parquet', index=False, storage_options=storage_options)\n",
    "tipos_produto.to_parquet(SILVER_PREFIX + 'tipos_produto.parquet', index=False, storage_options=storage_options)\n",
    "pedidos.to_parquet(SILVER_PREFIX + 'pedidos.parquet', index=False, storage_options=storage_options)\n",
    "itens_pedido.to_parquet(SILVER_PREFIX + 'itens_pedido.parquet', index=False, storage_options=storage_options)\n",
    "\n",
    "# Camada Gold Layer --> Enriquecimento e Agregações\n",
    "\n",
    "# Fato de vendas com todas as dimensões\n",
    "gold_vendas = itens_pedido.merge(pedidos, on='id_pedido') \\\n",
    "    .merge(produtos, on='id_produto') \\\n",
    "    .merge(tipos_produto, on='id_tipo') \\\n",
    "    .merge(clientes, on='id_cliente')\n",
    "\n",
    "# Valor total do item\n",
    "if 'quantidade' in gold_vendas.columns and 'preco_unitario' in gold_vendas.columns:\n",
    "    gold_vendas['valor_total_item'] = gold_vendas['quantidade'] * gold_vendas['preco_unitario']\n",
    "\n",
    "# Criação do campo anomesdia\n",
    "if 'data_pedido' in gold_vendas.columns:\n",
    "    gold_vendas['anomesdia'] = gold_vendas['data_pedido'].dt.strftime('%Y%m%d')\n",
    "\n",
    "# Resumo por cliente\n",
    "gold_vendas_por_cliente = gold_vendas.groupby(['id_cliente', 'nome']) \\\n",
    "    .agg({'valor_total_item': 'sum', 'id_pedido': 'nunique'}) \\\n",
    "    .rename(columns={'valor_total_item': 'valor_total_comprado', 'id_pedido': 'num_pedidos'}) \\\n",
    "    .reset_index()\n",
    "\n",
    "# Resumo por tipo de produto\n",
    "gold_vendas_por_tipo = gold_vendas.groupby(['id_tipo', 'nome_tipo']) \\\n",
    "    .agg({'valor_total_item': 'sum', 'quantidade': 'sum'}) \\\n",
    "    .rename(columns={'valor_total_item': 'total_vendido', 'quantidade': 'quantidade_total'}) \\\n",
    "    .reset_index()\n",
    "\n",
    "# Salvar camada Gold no S3 particionado por anomesdia\n",
    "gold_vendas.to_parquet(GOLD_PREFIX + 'fato_vendas/', partition_cols=['anomesdia'], index=False, storage_options=storage_options)\n",
    "gold_vendas_por_cliente.to_parquet(GOLD_PREFIX + 'vendas_por_cliente.parquet', index=False, storage_options=storage_options)\n",
    "gold_vendas_por_tipo.to_parquet(GOLD_PREFIX + 'vendas_por_tipo.parquet', index=False, storage_options=storage_options)\n",
    "\n",
    "print(\"Processamento das camadas Silver e Gold no S3 particionado por ano mes e dia (anomesdia) finalizado com sucesso!\")\n"
   ]
  },
  {
   "cell_type": "markdown",
   "id": "51a913a5",
   "metadata": {},
   "source": [
    "#### **Aula 4 - Linguagem SQL Para Analise, Seleção, Filgram, Agrupamento e Joins**"
   ]
  },
  {
   "cell_type": "markdown",
   "id": "b14e1a0e",
   "metadata": {},
   "source": [
    "##### **DuckDB – Banco de Dados Analítico Embutido**"
   ]
  },
  {
   "cell_type": "markdown",
   "id": "fcf957df",
   "metadata": {},
   "source": [
    "O **DuckDB** é um **banco de dados analítico embutido (embedded analytical database)**, projetado para ser leve, rápido e fácil de usar diretamente em aplicações locais — especialmente em ambientes **Python, R, SQL CLI** ou notebooks (como Jupyter).\n",
    "\n",
    "🦆 O que é o DuckDB?\n",
    "\n",
    "O DuckDB é como um **SQLite para análise de dados**:\n",
    "\n",
    "- ✅ Roda localmente, **sem servidor**\n",
    "- ✅ Usa **arquitetura columnar** (ideal para leitura e agregação de grandes volumes de dados)\n",
    "- ✅ É otimizado para consultas **OLAP** (analíticas), diferente de bancos voltados para transações (**OLTP**)\n",
    "\n",
    "---\n",
    "\n",
    "🔍 Principais Características\n",
    "\n",
    "| Característica                | Detalhes                                                                 |\n",
    "|------------------------------|--------------------------------------------------------------------------|\n",
    "| ⚙️ **Embutido (Embedded)**   | Roda dentro do seu script/app, como o SQLite                             |\n",
    "| 🧠 **SQL padrão**             | Sintaxe SQL moderna e compatível                                         |\n",
    "| 💾 **Columnar**               | Armazena e processa dados em colunas, como o formato Parquet             |\n",
    "| 🧮 **Desempenho analítico**   | Excelente para `SELECT`, `JOIN`, `GROUP BY`, `FILTER` em grandes datasets|\n",
    "| 🔗 **Integrações fáceis**     | Funciona com CSV, Parquet, Pandas, Arrow, SQLite, entre outros           |\n",
    "| 📦 **Sem dependências externas** | Um único binário leve, sem necessidade de instalação complexa         |\n",
    "| 💻 **Plataformas**            | Compatível com Linux, macOS, Windows e Jupyter Notebooks                 |\n"
   ]
  },
  {
   "cell_type": "markdown",
   "id": "f20ac23d",
   "metadata": {},
   "source": [
    "##### **Códigos**\n"
   ]
  },
  {
   "cell_type": "code",
   "execution_count": 20,
   "id": "8a8c3a22",
   "metadata": {},
   "outputs": [
    {
     "data": {
      "application/vnd.microsoft.datawrangler.viewer.v0+json": {
       "columns": [
        {
         "name": "index",
         "rawType": "int64",
         "type": "integer"
        },
        {
         "name": "id_cliente",
         "rawType": "int64",
         "type": "integer"
        },
        {
         "name": "nome",
         "rawType": "object",
         "type": "string"
        },
        {
         "name": "valor_total_comprado",
         "rawType": "float64",
         "type": "float"
        },
        {
         "name": "num_pedidos",
         "rawType": "int64",
         "type": "integer"
        }
       ],
       "ref": "786905bc-1c0f-4670-9533-8a5c521ac421",
       "rows": [
        [
         "0",
         "1",
         "Yago Novaes",
         "1962.73",
         "1"
        ],
        [
         "1",
         "2",
         "Isadora Castro",
         "817.44",
         "1"
        ],
        [
         "2",
         "6",
         "Raul da Luz",
         "1230.5",
         "1"
        ],
        [
         "3",
         "7",
         "Clara Araújo",
         "843.7",
         "1"
        ],
        [
         "4",
         "8",
         "Yuri Teixeira",
         "5013.49",
         "2"
        ]
       ],
       "shape": {
        "columns": 4,
        "rows": 5
       }
      },
      "text/html": [
       "<div>\n",
       "<style scoped>\n",
       "    .dataframe tbody tr th:only-of-type {\n",
       "        vertical-align: middle;\n",
       "    }\n",
       "\n",
       "    .dataframe tbody tr th {\n",
       "        vertical-align: top;\n",
       "    }\n",
       "\n",
       "    .dataframe thead th {\n",
       "        text-align: right;\n",
       "    }\n",
       "</style>\n",
       "<table border=\"1\" class=\"dataframe\">\n",
       "  <thead>\n",
       "    <tr style=\"text-align: right;\">\n",
       "      <th></th>\n",
       "      <th>id_cliente</th>\n",
       "      <th>nome</th>\n",
       "      <th>valor_total_comprado</th>\n",
       "      <th>num_pedidos</th>\n",
       "    </tr>\n",
       "  </thead>\n",
       "  <tbody>\n",
       "    <tr>\n",
       "      <th>0</th>\n",
       "      <td>1</td>\n",
       "      <td>Yago Novaes</td>\n",
       "      <td>1962.73</td>\n",
       "      <td>1</td>\n",
       "    </tr>\n",
       "    <tr>\n",
       "      <th>1</th>\n",
       "      <td>2</td>\n",
       "      <td>Isadora Castro</td>\n",
       "      <td>817.44</td>\n",
       "      <td>1</td>\n",
       "    </tr>\n",
       "    <tr>\n",
       "      <th>2</th>\n",
       "      <td>6</td>\n",
       "      <td>Raul da Luz</td>\n",
       "      <td>1230.50</td>\n",
       "      <td>1</td>\n",
       "    </tr>\n",
       "    <tr>\n",
       "      <th>3</th>\n",
       "      <td>7</td>\n",
       "      <td>Clara Araújo</td>\n",
       "      <td>843.70</td>\n",
       "      <td>1</td>\n",
       "    </tr>\n",
       "    <tr>\n",
       "      <th>4</th>\n",
       "      <td>8</td>\n",
       "      <td>Yuri Teixeira</td>\n",
       "      <td>5013.49</td>\n",
       "      <td>2</td>\n",
       "    </tr>\n",
       "  </tbody>\n",
       "</table>\n",
       "</div>"
      ],
      "text/plain": [
       "   id_cliente            nome  valor_total_comprado  num_pedidos\n",
       "0           1     Yago Novaes               1962.73            1\n",
       "1           2  Isadora Castro                817.44            1\n",
       "2           6     Raul da Luz               1230.50            1\n",
       "3           7    Clara Araújo                843.70            1\n",
       "4           8   Yuri Teixeira               5013.49            2"
      ]
     },
     "execution_count": 20,
     "metadata": {},
     "output_type": "execute_result"
    }
   ],
   "source": [
    "# Exemplo de uso --> Sem a utilizar a criação de uma conexão\n",
    "\n",
    "# Nome do perfil da credencial\n",
    "aws_profile_name = \"academy\"  \n",
    "\n",
    "# Gerar as credenciais para usar o Duckdb\n",
    "credentials = session.get_credentials()\n",
    "region = session.region_name or 'us-east-1' \n",
    "\n",
    "duckdb.sql(\"INSTALL httpfs;\")\n",
    "duckdb.sql(\"LOAD httpfs;\")\n",
    "duckdb.sql(f\"SET s3_region='{region}';\")\n",
    "duckdb.sql(f\"SET s3_access_key_id='{credentials.access_key}';\")\n",
    "duckdb.sql(f\"SET s3_secret_access_key='{credentials.secret_key}';\")\n",
    "\n",
    "# Se estiver usando credenciais temporárias, o token também será necessário\n",
    "if credentials.token:\n",
    "    duckdb.sql(f\"SET s3_session_token='{credentials.token}';\")\n",
    "\n",
    "s3_path = \"s3://aula-data-lake-430854566059/gold/vendas_por_cliente.parquet\"\n",
    "\n",
    "query = f\"\"\"\n",
    "SELECT \n",
    "    *\n",
    "    \n",
    "FROM \n",
    "    read_parquet('{s3_path}')\n",
    "    \n",
    "LIMIT \n",
    "    5;\n",
    "\"\"\"\n",
    "\n",
    "resultado_df = duckdb.sql(query).df()\n",
    "resultado_df.head()\n"
   ]
  },
  {
   "cell_type": "code",
   "execution_count": 21,
   "id": "5790634d",
   "metadata": {},
   "outputs": [
    {
     "data": {
      "application/vnd.microsoft.datawrangler.viewer.v0+json": {
       "columns": [
        {
         "name": "index",
         "rawType": "int64",
         "type": "integer"
        },
        {
         "name": "id_cliente",
         "rawType": "int64",
         "type": "integer"
        },
        {
         "name": "nome",
         "rawType": "object",
         "type": "string"
        },
        {
         "name": "valor_total_comprado",
         "rawType": "float64",
         "type": "float"
        },
        {
         "name": "num_pedidos",
         "rawType": "int64",
         "type": "integer"
        }
       ],
       "ref": "4ae0f760-99ba-4a93-aeec-2faa62ca9c5e",
       "rows": [
        [
         "0",
         "1",
         "Yago Novaes",
         "1962.73",
         "1"
        ],
        [
         "1",
         "2",
         "Isadora Castro",
         "817.44",
         "1"
        ],
        [
         "2",
         "6",
         "Raul da Luz",
         "1230.5",
         "1"
        ],
        [
         "3",
         "7",
         "Clara Araújo",
         "843.7",
         "1"
        ],
        [
         "4",
         "8",
         "Yuri Teixeira",
         "5013.49",
         "2"
        ]
       ],
       "shape": {
        "columns": 4,
        "rows": 5
       }
      },
      "text/html": [
       "<div>\n",
       "<style scoped>\n",
       "    .dataframe tbody tr th:only-of-type {\n",
       "        vertical-align: middle;\n",
       "    }\n",
       "\n",
       "    .dataframe tbody tr th {\n",
       "        vertical-align: top;\n",
       "    }\n",
       "\n",
       "    .dataframe thead th {\n",
       "        text-align: right;\n",
       "    }\n",
       "</style>\n",
       "<table border=\"1\" class=\"dataframe\">\n",
       "  <thead>\n",
       "    <tr style=\"text-align: right;\">\n",
       "      <th></th>\n",
       "      <th>id_cliente</th>\n",
       "      <th>nome</th>\n",
       "      <th>valor_total_comprado</th>\n",
       "      <th>num_pedidos</th>\n",
       "    </tr>\n",
       "  </thead>\n",
       "  <tbody>\n",
       "    <tr>\n",
       "      <th>0</th>\n",
       "      <td>1</td>\n",
       "      <td>Yago Novaes</td>\n",
       "      <td>1962.73</td>\n",
       "      <td>1</td>\n",
       "    </tr>\n",
       "    <tr>\n",
       "      <th>1</th>\n",
       "      <td>2</td>\n",
       "      <td>Isadora Castro</td>\n",
       "      <td>817.44</td>\n",
       "      <td>1</td>\n",
       "    </tr>\n",
       "    <tr>\n",
       "      <th>2</th>\n",
       "      <td>6</td>\n",
       "      <td>Raul da Luz</td>\n",
       "      <td>1230.50</td>\n",
       "      <td>1</td>\n",
       "    </tr>\n",
       "    <tr>\n",
       "      <th>3</th>\n",
       "      <td>7</td>\n",
       "      <td>Clara Araújo</td>\n",
       "      <td>843.70</td>\n",
       "      <td>1</td>\n",
       "    </tr>\n",
       "    <tr>\n",
       "      <th>4</th>\n",
       "      <td>8</td>\n",
       "      <td>Yuri Teixeira</td>\n",
       "      <td>5013.49</td>\n",
       "      <td>2</td>\n",
       "    </tr>\n",
       "  </tbody>\n",
       "</table>\n",
       "</div>"
      ],
      "text/plain": [
       "   id_cliente            nome  valor_total_comprado  num_pedidos\n",
       "0           1     Yago Novaes               1962.73            1\n",
       "1           2  Isadora Castro                817.44            1\n",
       "2           6     Raul da Luz               1230.50            1\n",
       "3           7    Clara Araújo                843.70            1\n",
       "4           8   Yuri Teixeira               5013.49            2"
      ]
     },
     "execution_count": 21,
     "metadata": {},
     "output_type": "execute_result"
    }
   ],
   "source": [
    "# Exemplo de uso --> Utilizar a criação de uma conexão\n",
    "\n",
    "# Nome do perfil da credencial\n",
    "aws_profile_name = \"academy\"  \n",
    "\n",
    "# Gerar as credenciais para usar o Duckdb\n",
    "credentials = session.get_credentials()\n",
    "region = session.region_name or 'us-east-1' \n",
    "\n",
    "# Criar dicionario com os dados da credencial\n",
    "duckdb_config = {\n",
    "    's3_region': region,\n",
    "    's3_access_key_id': credentials.access_key,\n",
    "    's3_secret_access_key': credentials.secret_key\n",
    "}\n",
    "# Adiciona o token de sessão ao dicionário, se ele existir\n",
    "if credentials.token:\n",
    "    duckdb_config['s3_session_token'] = credentials.token\n",
    "\n",
    "# Criar objeto de conexão explícito e usando o dicionário\n",
    "con = duckdb.connect(database=':memory:', config=duckdb_config)\n",
    "\n",
    "# Usar o objeto para instalar/carregar a extensão\n",
    "con.execute(\"INSTALL httpfs;\")\n",
    "con.execute(\"LOAD httpfs;\")\n",
    "\n",
    "# Caminho onde esta os dados\n",
    "s3_path = \"s3://aula-data-lake-430854566059/gold/vendas_por_cliente.parquet\"\n",
    "\n",
    "query = f\"\"\"\n",
    "SELECT \n",
    "    *\n",
    "\n",
    "FROM \n",
    "    read_parquet('{s3_path}')\n",
    "    \n",
    "LIMIT \n",
    "    5;\n",
    "\"\"\"\n",
    "\n",
    "# Executar a consulta com o objeto con\n",
    "resultado_df = con.execute(query).df()\n",
    "\n",
    "# Fechar a conexão\n",
    "con.close()\n",
    "\n",
    "# Exibe o resultado final\n",
    "resultado_df.head()"
   ]
  },
  {
   "cell_type": "code",
   "execution_count": 22,
   "id": "f277509c",
   "metadata": {},
   "outputs": [
    {
     "data": {
      "application/vnd.microsoft.datawrangler.viewer.v0+json": {
       "columns": [
        {
         "name": "index",
         "rawType": "int64",
         "type": "integer"
        },
        {
         "name": "id_cliente",
         "rawType": "int64",
         "type": "integer"
        },
        {
         "name": "total_gasto",
         "rawType": "float64",
         "type": "float"
        }
       ],
       "ref": "afbc116a-202e-42aa-af99-cbd7c0d3436a",
       "rows": [
        [
         "0",
         "41",
         "6806.5199999999995"
        ],
        [
         "1",
         "8",
         "5013.49"
        ],
        [
         "2",
         "85",
         "4946.17"
        ],
        [
         "3",
         "70",
         "3004.2"
        ],
        [
         "4",
         "13",
         "2972.26"
        ]
       ],
       "shape": {
        "columns": 2,
        "rows": 5
       }
      },
      "text/html": [
       "<div>\n",
       "<style scoped>\n",
       "    .dataframe tbody tr th:only-of-type {\n",
       "        vertical-align: middle;\n",
       "    }\n",
       "\n",
       "    .dataframe tbody tr th {\n",
       "        vertical-align: top;\n",
       "    }\n",
       "\n",
       "    .dataframe thead th {\n",
       "        text-align: right;\n",
       "    }\n",
       "</style>\n",
       "<table border=\"1\" class=\"dataframe\">\n",
       "  <thead>\n",
       "    <tr style=\"text-align: right;\">\n",
       "      <th></th>\n",
       "      <th>id_cliente</th>\n",
       "      <th>total_gasto</th>\n",
       "    </tr>\n",
       "  </thead>\n",
       "  <tbody>\n",
       "    <tr>\n",
       "      <th>0</th>\n",
       "      <td>41</td>\n",
       "      <td>6806.52</td>\n",
       "    </tr>\n",
       "    <tr>\n",
       "      <th>1</th>\n",
       "      <td>8</td>\n",
       "      <td>5013.49</td>\n",
       "    </tr>\n",
       "    <tr>\n",
       "      <th>2</th>\n",
       "      <td>85</td>\n",
       "      <td>4946.17</td>\n",
       "    </tr>\n",
       "    <tr>\n",
       "      <th>3</th>\n",
       "      <td>70</td>\n",
       "      <td>3004.20</td>\n",
       "    </tr>\n",
       "    <tr>\n",
       "      <th>4</th>\n",
       "      <td>13</td>\n",
       "      <td>2972.26</td>\n",
       "    </tr>\n",
       "  </tbody>\n",
       "</table>\n",
       "</div>"
      ],
      "text/plain": [
       "   id_cliente  total_gasto\n",
       "0          41      6806.52\n",
       "1           8      5013.49\n",
       "2          85      4946.17\n",
       "3          70      3004.20\n",
       "4          13      2972.26"
      ]
     },
     "execution_count": 22,
     "metadata": {},
     "output_type": "execute_result"
    }
   ],
   "source": [
    "# Criação da tabela temporária com uma consulta\n",
    "duckdb.sql(\"\"\"\n",
    "    CREATE TEMP TABLE top_clientes AS\n",
    "    SELECT id_cliente, SUM(valor_total_comprado) AS total_gasto\n",
    "    FROM 's3://aula-data-lake-430854566059/gold/vendas_por_cliente.parquet'\n",
    "    GROUP BY id_cliente\n",
    "    ORDER BY total_gasto DESC\n",
    "    LIMIT 10\n",
    "\"\"\")\n",
    "\n",
    "# Consulta usando a tabela temporária\n",
    "df = duckdb.sql(\"SELECT * FROM top_clientes\").df()\n",
    "df.head()"
   ]
  },
  {
   "cell_type": "code",
   "execution_count": 23,
   "id": "74e6c10f",
   "metadata": {},
   "outputs": [],
   "source": [
    "# Prefixos do S3 \n",
    "GOLD_PREFIX = 's3://aula-data-lake-430854566059/gold/'\n",
    "\n",
    "# Lendo os dados Parquet da camada Gold\n",
    "fato_vendas = pd.read_parquet(GOLD_PREFIX + 'fato_vendas/', storage_options=storage_options) # Usar o storage_options para não dar erro de acesso\n",
    "vendas_por_cliente = pd.read_parquet(GOLD_PREFIX + 'vendas_por_cliente.parquet', storage_options=storage_options) # Usar o storage_options para não dar erro de acesso\n",
    "vendas_por_tipo = pd.read_parquet(GOLD_PREFIX + 'vendas_por_tipo.parquet', storage_options=storage_options) # Usar o storage_options para não dar erro de acesso"
   ]
  },
  {
   "cell_type": "code",
   "execution_count": 24,
   "id": "94a8e14e",
   "metadata": {},
   "outputs": [
    {
     "data": {
      "text/plain": [
       "┌─────────┬───────────┬────────────┬────────────┬────────────────┬─────────────────────┬───────────┬────────────┬─────────────────────────┬────────┬─────────┬─────────────┬───────────────┬───────────────────┬─────────────────┬─────────┬─────────┬──────────────────┬───────────┐\n",
       "│ id_item │ id_pedido │ id_produto │ quantidade │ preco_unitario │     data_pedido     │  status   │ id_cliente │      nome_produto       │ preco  │ id_tipo │  nome_tipo  │     nome      │       email       │    telefone     │ cidade  │ estado  │ valor_total_item │ anomesdia │\n",
       "│  int64  │   int64   │   int64    │   int64    │     double     │    timestamp_ns     │  varchar  │   int64    │         varchar         │ double │  int64  │   varchar   │    varchar    │      varchar      │     varchar     │ varchar │ varchar │      double      │   int64   │\n",
       "├─────────┼───────────┼────────────┼────────────┼────────────────┼─────────────────────┼───────────┼────────────┼─────────────────────────┼────────┼─────────┼─────────────┼───────────────┼───────────────────┼─────────────────┼─────────┼─────────┼──────────────────┼───────────┤\n",
       "│      35 │        26 │         19 │          1 │          32.64 │ 2024-06-20 00:00:00 │ Concluído │          8 │ Excepturi Reprehenderit │ 367.57 │       9 │ Ferramentas │ Yuri Teixeira │ uduarte@ig.com.br │ (071) 0887 8440 │ Nunes   │ DF      │            32.64 │  20240620 │\n",
       "│      72 │        26 │          3 │          5 │          84.67 │ 2024-06-20 00:00:00 │ Concluído │          8 │ Cupiditate Reiciendis   │ 119.37 │       2 │ Bebidas     │ Yuri Teixeira │ uduarte@ig.com.br │ (071) 0887 8440 │ Nunes   │ DF      │           423.35 │  20240620 │\n",
       "│      35 │        26 │         19 │          1 │          32.64 │ 2024-06-20 00:00:00 │ Concluído │          8 │ Excepturi Reprehenderit │ 367.57 │       9 │ Ferramentas │ Yuri Teixeira │ uduarte@ig.com.br │ (071) 0887 8440 │ Nunes   │ DF      │            32.64 │  20240620 │\n",
       "│      72 │        26 │          3 │          5 │          84.67 │ 2024-06-20 00:00:00 │ Concluído │          8 │ Cupiditate Reiciendis   │ 119.37 │       2 │ Bebidas     │ Yuri Teixeira │ uduarte@ig.com.br │ (071) 0887 8440 │ Nunes   │ DF      │           423.35 │  20240620 │\n",
       "│      35 │        26 │         19 │          1 │          32.64 │ 2024-06-20 00:00:00 │ Concluído │          8 │ Excepturi Reprehenderit │ 367.57 │       9 │ Ferramentas │ Yuri Teixeira │ uduarte@ig.com.br │ (071) 0887 8440 │ Nunes   │ DF      │            32.64 │  20240620 │\n",
       "└─────────┴───────────┴────────────┴────────────┴────────────────┴─────────────────────┴───────────┴────────────┴─────────────────────────┴────────┴─────────┴─────────────┴───────────────┴───────────────────┴─────────────────┴─────────┴─────────┴──────────────────┴───────────┘"
      ]
     },
     "execution_count": 24,
     "metadata": {},
     "output_type": "execute_result"
    }
   ],
   "source": [
    "# Carregar os dados\n",
    "nome_tabela = \"vendas_temp\"\n",
    "\n",
    "query = f\"\"\"\n",
    "    DROP TABLE IF EXISTS {nome_tabela};\n",
    "    CREATE TABLE {nome_tabela} AS \n",
    "    SELECT * FROM '{GOLD_PREFIX}fato_vendas/*/*.parquet'\n",
    "\"\"\"\n",
    "\n",
    "# Executa a query\n",
    "duckdb.sql(query)\n",
    "\n",
    "\n",
    "# Ver os dados \n",
    "duckdb.sql(\"\"\"\n",
    "    SELECT *\n",
    "    FROM vendas_temp\n",
    "    LIMIT 5\n",
    "\"\"\")"
   ]
  },
  {
   "cell_type": "code",
   "execution_count": 25,
   "id": "75a1bf4b",
   "metadata": {},
   "outputs": [
    {
     "data": {
      "text/plain": [
       "┌──────────────────┐\n",
       "│      status      │\n",
       "│     varchar      │\n",
       "├──────────────────┤\n",
       "│ Concluído        │\n",
       "│ Em processamento │\n",
       "│ Cancelado        │\n",
       "└──────────────────┘"
      ]
     },
     "execution_count": 25,
     "metadata": {},
     "output_type": "execute_result"
    }
   ],
   "source": [
    "# Ver os dados STATUS da tabela vendas_temp\n",
    "duckdb.sql(\"\"\"\n",
    "    SELECT DISTINCT status FROM vendas_temp\n",
    "\"\"\")"
   ]
  },
  {
   "cell_type": "code",
   "execution_count": 26,
   "id": "6eba74f1",
   "metadata": {},
   "outputs": [],
   "source": [
    "# Fazer o update da tabela\n",
    "duckdb.sql(\"\"\"\n",
    "    BEGIN TRANSACTION;\n",
    "    UPDATE vendas_temp\n",
    "    SET status = 'Cancelado'\n",
    "    WHERE status = 'PENDENTE'\n",
    "\"\"\")"
   ]
  },
  {
   "cell_type": "code",
   "execution_count": 27,
   "id": "b0d82672",
   "metadata": {},
   "outputs": [],
   "source": [
    "# Cancelar o que foi feito no código anterior --> ROLLBACK\n",
    "duckdb.sql(\"\"\"\n",
    "    ROLLBACK;\n",
    "\"\"\")"
   ]
  },
  {
   "cell_type": "code",
   "execution_count": 28,
   "id": "efbfae30",
   "metadata": {},
   "outputs": [],
   "source": [
    "# Alterar novamente os dados da tabela\n",
    "duckdb.sql(\"\"\"\n",
    "    BEGIN TRANSACTION;\n",
    "    UPDATE vendas_temp\n",
    "    SET status = 'PENDENTE'\n",
    "    WHERE status = 'Cancelado';\n",
    "    COMMIT;    \n",
    "\"\"\")"
   ]
  },
  {
   "cell_type": "code",
   "execution_count": 29,
   "id": "4f839d9d",
   "metadata": {},
   "outputs": [
    {
     "data": {
      "text/plain": [
       "┌──────────────────┐\n",
       "│      status      │\n",
       "│     varchar      │\n",
       "├──────────────────┤\n",
       "│ Concluído        │\n",
       "│ Em processamento │\n",
       "│ PENDENTE         │\n",
       "└──────────────────┘"
      ]
     },
     "execution_count": 29,
     "metadata": {},
     "output_type": "execute_result"
    }
   ],
   "source": [
    "# Verificando como ficou os dados \n",
    "duckdb.sql(\"\"\"\n",
    "    SELECT DISTINCT status FROM vendas_temp \n",
    "    --WHERE status = 'Cancelado'\n",
    "\"\"\")"
   ]
  },
  {
   "cell_type": "code",
   "execution_count": 30,
   "id": "f578e0fb",
   "metadata": {},
   "outputs": [
    {
     "data": {
      "text/plain": [
       "┌─────────┬───────────┬────────────┬────────────┬────────────────┬─────────────────────┬──────────────────┬────────────┬─────────────────────────┬────────┬─────────┬─────────────┬─────────────────┬───────────────────────────┬─────────────────┬──────────────────┬─────────┬────────────────────┬───────────┐\n",
       "│ id_item │ id_pedido │ id_produto │ quantidade │ preco_unitario │     data_pedido     │      status      │ id_cliente │      nome_produto       │ preco  │ id_tipo │  nome_tipo  │      nome       │           email           │    telefone     │      cidade      │ estado  │  valor_total_item  │ anomesdia │\n",
       "│  int64  │   int64   │   int64    │   int64    │     double     │    timestamp_ns     │     varchar      │   int64    │         varchar         │ double │  int64  │   varchar   │     varchar     │          varchar          │     varchar     │     varchar      │ varchar │       double       │   int64   │\n",
       "├─────────┼───────────┼────────────┼────────────┼────────────────┼─────────────────────┼──────────────────┼────────────┼─────────────────────────┼────────┼─────────┼─────────────┼─────────────────┼───────────────────────────┼─────────────────┼──────────────────┼─────────┼────────────────────┼───────────┤\n",
       "│      35 │        26 │         19 │          1 │          32.64 │ 2024-06-20 00:00:00 │ Concluído        │          8 │ Excepturi Reprehenderit │ 367.57 │       9 │ Ferramentas │ Yuri Teixeira   │ uduarte@ig.com.br         │ (071) 0887 8440 │ Nunes            │ DF      │              32.64 │  20240620 │\n",
       "│      35 │        26 │         19 │          1 │          32.64 │ 2024-06-20 00:00:00 │ Concluído        │          8 │ Excepturi Reprehenderit │ 367.57 │       9 │ Ferramentas │ Yuri Teixeira   │ uduarte@ig.com.br         │ (071) 0887 8440 │ Nunes            │ DF      │              32.64 │  20240620 │\n",
       "│      35 │        26 │         19 │          1 │          32.64 │ 2024-06-20 00:00:00 │ Concluído        │          8 │ Excepturi Reprehenderit │ 367.57 │       9 │ Ferramentas │ Yuri Teixeira   │ uduarte@ig.com.br         │ (071) 0887 8440 │ Nunes            │ DF      │              32.64 │  20240620 │\n",
       "│      35 │        26 │         19 │          1 │          32.64 │ 2024-06-20 00:00:00 │ Concluído        │          8 │ Excepturi Reprehenderit │ 367.57 │       9 │ Ferramentas │ Yuri Teixeira   │ uduarte@ig.com.br         │ (071) 0887 8440 │ Nunes            │ DF      │              32.64 │  20240620 │\n",
       "│      35 │        26 │         19 │          1 │          32.64 │ 2024-06-20 00:00:00 │ Concluído        │          8 │ Excepturi Reprehenderit │ 367.57 │       9 │ Ferramentas │ Yuri Teixeira   │ uduarte@ig.com.br         │ (071) 0887 8440 │ Nunes            │ DF      │              32.64 │  20240620 │\n",
       "│      35 │        26 │         19 │          1 │          32.64 │ 2024-06-20 00:00:00 │ Concluído        │          8 │ Excepturi Reprehenderit │ 367.57 │       9 │ Ferramentas │ Yuri Teixeira   │ uduarte@ig.com.br         │ (071) 0887 8440 │ Nunes            │ DF      │              32.64 │  20240620 │\n",
       "│      35 │        26 │         19 │          1 │          32.64 │ 2024-06-20 00:00:00 │ Concluído        │          8 │ Excepturi Reprehenderit │ 367.57 │       9 │ Ferramentas │ Yuri Teixeira   │ uduarte@ig.com.br         │ (071) 0887 8440 │ Nunes            │ DF      │              32.64 │  20240620 │\n",
       "│      35 │        26 │         19 │          1 │          32.64 │ 2024-06-20 00:00:00 │ Concluído        │          8 │ Excepturi Reprehenderit │ 367.57 │       9 │ Ferramentas │ Yuri Teixeira   │ uduarte@ig.com.br         │ (071) 0887 8440 │ Nunes            │ DF      │              32.64 │  20240620 │\n",
       "│      62 │        17 │         80 │          5 │          23.21 │ 2025-01-15 00:00:00 │ Concluído        │         32 │ Quos Nam                │ 409.85 │       9 │ Ferramentas │ Henrique Castro │ nrezende@moreira.br       │ (011) 4152-1587 │ da Paz           │ MS      │ 116.05000000000001 │  20250115 │\n",
       "│      62 │        17 │         80 │          5 │          23.21 │ 2025-01-15 00:00:00 │ Concluído        │         32 │ Quos Nam                │ 409.85 │       9 │ Ferramentas │ Henrique Castro │ nrezende@moreira.br       │ (011) 4152-1587 │ da Paz           │ MS      │ 116.05000000000001 │  20250115 │\n",
       "│       · │         · │          · │          · │            ·   │          ·          │     ·            │          · │    ·                    │    ·   │       · │    ·        │      ·          │         ·                 │        ·        │   ·              │ ·       │                ·   │      ·    │\n",
       "│       · │         · │          · │          · │            ·   │          ·          │     ·            │          · │    ·                    │    ·   │       · │    ·        │      ·          │         ·                 │        ·        │   ·              │ ·       │                ·   │      ·    │\n",
       "│       · │         · │          · │          · │            ·   │          ·          │     ·            │          · │    ·                    │    ·   │       · │    ·        │      ·          │         ·                 │        ·        │   ·              │ ·       │                ·   │      ·    │\n",
       "│      41 │        90 │         67 │          4 │          34.61 │ 2025-01-18 00:00:00 │ Em processamento │          1 │ Beatae Ab               │ 258.76 │       2 │ Bebidas     │ Yago Novaes     │ breno77@gmail.com         │ (051) 7448-7987 │ Barros           │ AP      │             138.44 │  20250118 │\n",
       "│      95 │        90 │         36 │          5 │          14.97 │ 2025-01-18 00:00:00 │ Em processamento │          1 │ Dolor Dicta             │ 142.27 │       9 │ Ferramentas │ Yago Novaes     │ breno77@gmail.com         │ (051) 7448-7987 │ Barros           │ AP      │  74.85000000000001 │  20250118 │\n",
       "│      92 │        86 │         49 │          3 │          24.06 │ 2025-05-20 00:00:00 │ Em processamento │         63 │ Ad Quasi                │ 219.93 │      10 │ Esportes    │ Isis Viana      │ da-cruzjoana@yahoo.com.br │ 31 0586 7030    │ Freitas de Goiás │ RJ      │  72.17999999999999 │  20250520 │\n",
       "│      92 │        86 │         49 │          3 │          24.06 │ 2025-05-20 00:00:00 │ Em processamento │         63 │ Ad Quasi                │ 219.93 │      10 │ Esportes    │ Isis Viana      │ da-cruzjoana@yahoo.com.br │ 31 0586 7030    │ Freitas de Goiás │ RJ      │  72.17999999999999 │  20250520 │\n",
       "│      92 │        86 │         49 │          3 │          24.06 │ 2025-05-20 00:00:00 │ Em processamento │         63 │ Ad Quasi                │ 219.93 │      10 │ Esportes    │ Isis Viana      │ da-cruzjoana@yahoo.com.br │ 31 0586 7030    │ Freitas de Goiás │ RJ      │  72.17999999999999 │  20250520 │\n",
       "│      92 │        86 │         49 │          3 │          24.06 │ 2025-05-20 00:00:00 │ Em processamento │         63 │ Ad Quasi                │ 219.93 │      10 │ Esportes    │ Isis Viana      │ da-cruzjoana@yahoo.com.br │ 31 0586 7030    │ Freitas de Goiás │ RJ      │  72.17999999999999 │  20250520 │\n",
       "│      92 │        86 │         49 │          3 │          24.06 │ 2025-05-20 00:00:00 │ Em processamento │         63 │ Ad Quasi                │ 219.93 │      10 │ Esportes    │ Isis Viana      │ da-cruzjoana@yahoo.com.br │ 31 0586 7030    │ Freitas de Goiás │ RJ      │  72.17999999999999 │  20250520 │\n",
       "│      92 │        86 │         49 │          3 │          24.06 │ 2025-05-20 00:00:00 │ Em processamento │         63 │ Ad Quasi                │ 219.93 │      10 │ Esportes    │ Isis Viana      │ da-cruzjoana@yahoo.com.br │ 31 0586 7030    │ Freitas de Goiás │ RJ      │  72.17999999999999 │  20250520 │\n",
       "│      92 │        86 │         49 │          3 │          24.06 │ 2025-05-20 00:00:00 │ Em processamento │         63 │ Ad Quasi                │ 219.93 │      10 │ Esportes    │ Isis Viana      │ da-cruzjoana@yahoo.com.br │ 31 0586 7030    │ Freitas de Goiás │ RJ      │  72.17999999999999 │  20250520 │\n",
       "│      92 │        86 │         49 │          3 │          24.06 │ 2025-05-20 00:00:00 │ Em processamento │         63 │ Ad Quasi                │ 219.93 │      10 │ Esportes    │ Isis Viana      │ da-cruzjoana@yahoo.com.br │ 31 0586 7030    │ Freitas de Goiás │ RJ      │  72.17999999999999 │  20250520 │\n",
       "├─────────┴───────────┴────────────┴────────────┴────────────────┴─────────────────────┴──────────────────┴────────────┴─────────────────────────┴────────┴─────────┴─────────────┴─────────────────┴───────────────────────────┴─────────────────┴──────────────────┴─────────┴────────────────────┴───────────┤\n",
       "│ 40 rows (20 shown)                                                                                                                                                                                                                                                                                 19 columns │\n",
       "└───────────────────────────────────────────────────────────────────────────────────────────────────────────────────────────────────────────────────────────────────────────────────────────────────────────────────────────────────────────────────────────────────────────────────────────────────────────────┘"
      ]
     },
     "execution_count": 30,
     "metadata": {},
     "output_type": "execute_result"
    }
   ],
   "source": [
    "# Ver os dados\n",
    "duckdb.sql(\"\"\"\n",
    "    SELECT *\n",
    "    FROM vendas_temp\n",
    "    WHERE preco_unitario < 40\n",
    "\"\"\")"
   ]
  },
  {
   "cell_type": "code",
   "execution_count": 31,
   "id": "fe9f51f5",
   "metadata": {},
   "outputs": [],
   "source": [
    "# Deletar os dados\n",
    "duckdb.sql(\"\"\"\n",
    "    DELETE FROM vendas_temp\n",
    "    WHERE preco_unitario < 40\n",
    "\"\"\")"
   ]
  },
  {
   "cell_type": "code",
   "execution_count": 32,
   "id": "84553d0d",
   "metadata": {},
   "outputs": [
    {
     "data": {
      "text/plain": [
       "┌─────────┬───────────┬────────────┬────────────┬────────────────┬──────────────┬─────────┬────────────┬──────────────┬────────┬─────────┬───────────┬─────────┬─────────┬──────────┬─────────┬─────────┬──────────────────┬───────────┐\n",
       "│ id_item │ id_pedido │ id_produto │ quantidade │ preco_unitario │ data_pedido  │ status  │ id_cliente │ nome_produto │ preco  │ id_tipo │ nome_tipo │  nome   │  email  │ telefone │ cidade  │ estado  │ valor_total_item │ anomesdia │\n",
       "│  int64  │   int64   │   int64    │   int64    │     double     │ timestamp_ns │ varchar │   int64    │   varchar    │ double │  int64  │  varchar  │ varchar │ varchar │ varchar  │ varchar │ varchar │      double      │   int64   │\n",
       "├─────────┴───────────┴────────────┴────────────┴────────────────┴──────────────┴─────────┴────────────┴──────────────┴────────┴─────────┴───────────┴─────────┴─────────┴──────────┴─────────┴─────────┴──────────────────┴───────────┤\n",
       "│                                                                                                                0 rows                                                                                                                │\n",
       "└──────────────────────────────────────────────────────────────────────────────────────────────────────────────────────────────────────────────────────────────────────────────────────────────────────────────────────────────────────┘"
      ]
     },
     "execution_count": 32,
     "metadata": {},
     "output_type": "execute_result"
    }
   ],
   "source": [
    "# Ver os dados pós delete\n",
    "duckdb.sql(\"\"\"\n",
    "    SELECT *\n",
    "    FROM vendas_temp\n",
    "    WHERE preco_unitario < 40\n",
    "\"\"\")"
   ]
  },
  {
   "cell_type": "code",
   "execution_count": 33,
   "id": "281f8631",
   "metadata": {},
   "outputs": [
    {
     "data": {
      "text/plain": [
       "┌─────────┬───────────┬────────────┬────────────┬────────────────┬──────────────┬─────────┬────────────┬──────────────┬────────┬─────────┬───────────┬─────────┬─────────┬──────────┬─────────┬─────────┬──────────────────┬───────────┐\n",
       "│ id_item │ id_pedido │ id_produto │ quantidade │ preco_unitario │ data_pedido  │ status  │ id_cliente │ nome_produto │ preco  │ id_tipo │ nome_tipo │  nome   │  email  │ telefone │ cidade  │ estado  │ valor_total_item │ anomesdia │\n",
       "│  int64  │   int64   │   int64    │   int64    │     double     │ timestamp_ns │ varchar │   int64    │   varchar    │ double │  int64  │  varchar  │ varchar │ varchar │ varchar  │ varchar │ varchar │      double      │   int64   │\n",
       "├─────────┴───────────┴────────────┴────────────┴────────────────┴──────────────┴─────────┴────────────┴──────────────┴────────┴─────────┴───────────┴─────────┴─────────┴──────────┴─────────┴─────────┴──────────────────┴───────────┤\n",
       "│                                                                                                                0 rows                                                                                                                │\n",
       "└──────────────────────────────────────────────────────────────────────────────────────────────────────────────────────────────────────────────────────────────────────────────────────────────────────────────────────────────────────┘"
      ]
     },
     "execution_count": 33,
     "metadata": {},
     "output_type": "execute_result"
    }
   ],
   "source": [
    "# É possivel usar tambem o truncate\n",
    "duckdb.sql(\"TRUNCATE TABLE vendas_temp\")\n",
    "\n",
    "duckdb.sql(\"\"\"\n",
    "    SELECT *\n",
    "    FROM vendas_temp\n",
    "\"\"\")"
   ]
  },
  {
   "cell_type": "code",
   "execution_count": 34,
   "id": "27550e5c",
   "metadata": {},
   "outputs": [
    {
     "data": {
      "text/plain": [
       "┌─────────┬───────────┬────────────┬────────────┬────────────────┬─────────────────────┬───────────┬────────────┬─────────────────────────┬────────┬─────────┬─────────────┬───────────────┬───────────────────┬─────────────────┬─────────┬─────────┬──────────────────┬───────────┐\n",
       "│ id_item │ id_pedido │ id_produto │ quantidade │ preco_unitario │     data_pedido     │  status   │ id_cliente │      nome_produto       │ preco  │ id_tipo │  nome_tipo  │     nome      │       email       │    telefone     │ cidade  │ estado  │ valor_total_item │ anomesdia │\n",
       "│  int64  │   int64   │   int64    │   int64    │     double     │    timestamp_ns     │  varchar  │   int64    │         varchar         │ double │  int64  │   varchar   │    varchar    │      varchar      │     varchar     │ varchar │ varchar │      double      │   int64   │\n",
       "├─────────┼───────────┼────────────┼────────────┼────────────────┼─────────────────────┼───────────┼────────────┼─────────────────────────┼────────┼─────────┼─────────────┼───────────────┼───────────────────┼─────────────────┼─────────┼─────────┼──────────────────┼───────────┤\n",
       "│      35 │        26 │         19 │          1 │          32.64 │ 2024-06-20 00:00:00 │ Concluído │          8 │ Excepturi Reprehenderit │ 367.57 │       9 │ Ferramentas │ Yuri Teixeira │ uduarte@ig.com.br │ (071) 0887 8440 │ Nunes   │ DF      │            32.64 │  20240620 │\n",
       "│      72 │        26 │          3 │          5 │          84.67 │ 2024-06-20 00:00:00 │ Concluído │          8 │ Cupiditate Reiciendis   │ 119.37 │       2 │ Bebidas     │ Yuri Teixeira │ uduarte@ig.com.br │ (071) 0887 8440 │ Nunes   │ DF      │           423.35 │  20240620 │\n",
       "│      35 │        26 │         19 │          1 │          32.64 │ 2024-06-20 00:00:00 │ Concluído │          8 │ Excepturi Reprehenderit │ 367.57 │       9 │ Ferramentas │ Yuri Teixeira │ uduarte@ig.com.br │ (071) 0887 8440 │ Nunes   │ DF      │            32.64 │  20240620 │\n",
       "│      72 │        26 │          3 │          5 │          84.67 │ 2024-06-20 00:00:00 │ Concluído │          8 │ Cupiditate Reiciendis   │ 119.37 │       2 │ Bebidas     │ Yuri Teixeira │ uduarte@ig.com.br │ (071) 0887 8440 │ Nunes   │ DF      │           423.35 │  20240620 │\n",
       "│      35 │        26 │         19 │          1 │          32.64 │ 2024-06-20 00:00:00 │ Concluído │          8 │ Excepturi Reprehenderit │ 367.57 │       9 │ Ferramentas │ Yuri Teixeira │ uduarte@ig.com.br │ (071) 0887 8440 │ Nunes   │ DF      │            32.64 │  20240620 │\n",
       "└─────────┴───────────┴────────────┴────────────┴────────────────┴─────────────────────┴───────────┴────────────┴─────────────────────────┴────────┴─────────┴─────────────┴───────────────┴───────────────────┴─────────────────┴─────────┴─────────┴──────────────────┴───────────┘"
      ]
     },
     "execution_count": 34,
     "metadata": {},
     "output_type": "execute_result"
    }
   ],
   "source": [
    "# Carregar os dados novamente\n",
    "nome_tabela = \"vendas_temp\"\n",
    "\n",
    "query = f\"\"\"\n",
    "    DROP TABLE IF EXISTS {nome_tabela};\n",
    "    CREATE TABLE {nome_tabela} AS \n",
    "    SELECT * FROM '{GOLD_PREFIX}fato_vendas/*/*.parquet'\n",
    "\"\"\"\n",
    "\n",
    "# Executa a query\n",
    "duckdb.sql(query)\n",
    "\n",
    "# Ver os dados \n",
    "duckdb.sql(\"\"\"\n",
    "    SELECT *\n",
    "    FROM vendas_temp\n",
    "    LIMIT 5\n",
    "\"\"\")"
   ]
  },
  {
   "cell_type": "code",
   "execution_count": 35,
   "id": "6adea765",
   "metadata": {},
   "outputs": [
    {
     "data": {
      "text/plain": [
       "┌───────────┬───────────────────┐\n",
       "│ anomesdia │ faturamento_total │\n",
       "│   int32   │      double       │\n",
       "├───────────┼───────────────────┤\n",
       "│  20241011 │           36944.0 │\n",
       "│  20240801 │           36460.0 │\n",
       "│  20250404 │          26401.52 │\n",
       "│  20241223 │           22963.2 │\n",
       "│  20240723 │          22274.24 │\n",
       "│  20240624 │          21753.44 │\n",
       "│  20241211 │           19289.2 │\n",
       "│  20241218 │          18172.56 │\n",
       "│  20250529 │           17729.2 │\n",
       "│  20250608 │          17508.16 │\n",
       "├───────────┴───────────────────┤\n",
       "│ 10 rows             2 columns │\n",
       "└───────────────────────────────┘"
      ]
     },
     "execution_count": 35,
     "metadata": {},
     "output_type": "execute_result"
    }
   ],
   "source": [
    "# Agrupar os daados\n",
    "duckdb.sql(\"\"\"\n",
    "SELECT anomesdia, ROUND(SUM(valor_total_item), 2) AS faturamento_total\n",
    "FROM fato_vendas\n",
    "GROUP BY anomesdia\n",
    "ORDER BY faturamento_total DESC\n",
    "LIMIT 10\n",
    "\"\"\")"
   ]
  },
  {
   "cell_type": "code",
   "execution_count": 36,
   "id": "6a3faaf7",
   "metadata": {},
   "outputs": [
    {
     "data": {
      "text/plain": [
       "┌───────────────────┐\n",
       "│    soma_total     │\n",
       "│      double       │\n",
       "├───────────────────┤\n",
       "│ 636959.5200000019 │\n",
       "└───────────────────┘"
      ]
     },
     "execution_count": 36,
     "metadata": {},
     "output_type": "execute_result"
    }
   ],
   "source": [
    "# Soma total de itens vendidos\n",
    "duckdb.sql(\"SELECT SUM(valor_total_item) AS soma_total FROM fato_vendas\")"
   ]
  },
  {
   "cell_type": "code",
   "execution_count": 37,
   "id": "c764f1dc",
   "metadata": {},
   "outputs": [
    {
     "data": {
      "text/plain": [
       "┌────────────────────┐\n",
       "│    preco_medio     │\n",
       "│       double       │\n",
       "├────────────────────┤\n",
       "│ 279.02209999999957 │\n",
       "└────────────────────┘"
      ]
     },
     "execution_count": 37,
     "metadata": {},
     "output_type": "execute_result"
    }
   ],
   "source": [
    "# Preço médio unitário dos produtos\n",
    "duckdb.sql(\"SELECT AVG(preco_unitario) AS preco_medio FROM fato_vendas\")"
   ]
  },
  {
   "cell_type": "code",
   "execution_count": 38,
   "id": "2c94dfee",
   "metadata": {},
   "outputs": [
    {
     "data": {
      "text/plain": [
       "┌──────────────┐\n",
       "│ valor_minimo │\n",
       "│    double    │\n",
       "├──────────────┤\n",
       "│        208.0 │\n",
       "└──────────────┘"
      ]
     },
     "execution_count": 38,
     "metadata": {},
     "output_type": "execute_result"
    }
   ],
   "source": [
    "# Valor mínimo gasto por um cliente\n",
    "duckdb.sql(\"SELECT MIN(valor_total_comprado) AS valor_minimo FROM vendas_por_cliente\")"
   ]
  },
  {
   "cell_type": "code",
   "execution_count": 39,
   "id": "523205d9",
   "metadata": {},
   "outputs": [
    {
     "data": {
      "text/plain": [
       "┌────────────────────┐\n",
       "│    valor_maximo    │\n",
       "│       double       │\n",
       "├────────────────────┤\n",
       "│ 15325.890000000001 │\n",
       "└────────────────────┘"
      ]
     },
     "execution_count": 39,
     "metadata": {},
     "output_type": "execute_result"
    }
   ],
   "source": [
    "# Valor máximo vendido entre os tipos de produto\n",
    "duckdb.sql(\"SELECT MAX(total_vendido) AS valor_maximo FROM vendas_por_tipo\")"
   ]
  },
  {
   "cell_type": "code",
   "execution_count": 40,
   "id": "cb9a94cc",
   "metadata": {},
   "outputs": [
    {
     "data": {
      "text/plain": [
       "┌────────────────┐\n",
       "│ pedidos_unicos │\n",
       "│     int64      │\n",
       "├────────────────┤\n",
       "│             60 │\n",
       "└────────────────┘"
      ]
     },
     "execution_count": 40,
     "metadata": {},
     "output_type": "execute_result"
    }
   ],
   "source": [
    "# Número de pedidos distintos\n",
    "duckdb.sql(\"SELECT COUNT(DISTINCT id_pedido) AS pedidos_unicos FROM fato_vendas\")"
   ]
  },
  {
   "cell_type": "code",
   "execution_count": 41,
   "id": "c92b802f",
   "metadata": {},
   "outputs": [
    {
     "data": {
      "text/plain": [
       "┌──────────────────────┐\n",
       "│ variancia_quantidade │\n",
       "│        double        │\n",
       "├──────────────────────┤\n",
       "│   1.7986483103879842 │\n",
       "└──────────────────────┘"
      ]
     },
     "execution_count": 41,
     "metadata": {},
     "output_type": "execute_result"
    }
   ],
   "source": [
    "# Variância amostral da quantidade de itens\n",
    "duckdb.sql(\"SELECT VAR_SAMP(quantidade) AS variancia_quantidade FROM fato_vendas\")"
   ]
  },
  {
   "cell_type": "code",
   "execution_count": 42,
   "id": "e57ff291",
   "metadata": {},
   "outputs": [
    {
     "data": {
      "text/plain": [
       "┌───────────────────────┐\n",
       "│ desvio_padrao_pedidos │\n",
       "│        double         │\n",
       "├───────────────────────┤\n",
       "│    0.4777397765705166 │\n",
       "└───────────────────────┘"
      ]
     },
     "execution_count": 42,
     "metadata": {},
     "output_type": "execute_result"
    }
   ],
   "source": [
    "# Desvio padrão do número de pedidos por cliente\n",
    "duckdb.sql(\"SELECT STDDEV_SAMP(num_pedidos) AS desvio_padrao_pedidos FROM vendas_por_cliente\")"
   ]
  },
  {
   "cell_type": "code",
   "execution_count": 43,
   "id": "f8f6e3d4",
   "metadata": {},
   "outputs": [
    {
     "data": {
      "text/plain": [
       "┌────────────────────┬────────────────────────┬────────────────────────┬────────────────────────────┐\n",
       "│ variancia_amostral │ variancia_populacional │ desvio_padrao_amostral │ desvio_padrao_populacional │\n",
       "│       double       │         double         │         double         │           double           │\n",
       "├────────────────────┼────────────────────────┼────────────────────────┼────────────────────────────┤\n",
       "│ 1.7986483103879842 │     1.7963999999999993 │      1.341136946917795 │         1.3402984742213204 │\n",
       "└────────────────────┴────────────────────────┴────────────────────────┴────────────────────────────┘"
      ]
     },
     "execution_count": 43,
     "metadata": {},
     "output_type": "execute_result"
    }
   ],
   "source": [
    "# Variações de variância e desvio padrão: amostral (VAR_SAMP(), STDDEV_SAMP()) e populacional (VAR_POP(), STDDEV_POP()), \n",
    "# aplicadas ao campo quantidade da tabela fato_vendas:\n",
    "\n",
    "duckdb.sql(\"\"\"\n",
    "SELECT\n",
    "    VAR_SAMP(quantidade)     AS variancia_amostral,\n",
    "    VAR_POP(quantidade)      AS variancia_populacional,\n",
    "    STDDEV_SAMP(quantidade)  AS desvio_padrao_amostral,\n",
    "    STDDEV_POP(quantidade)   AS desvio_padrao_populacional\n",
    "FROM fato_vendas\n",
    "\"\"\")\n"
   ]
  },
  {
   "cell_type": "code",
   "execution_count": 44,
   "id": "657980e4",
   "metadata": {},
   "outputs": [
    {
     "data": {
      "application/vnd.microsoft.datawrangler.viewer.v0+json": {
       "columns": [
        {
         "name": "index",
         "rawType": "int64",
         "type": "integer"
        },
        {
         "name": "nome_tipo",
         "rawType": "object",
         "type": "string"
        },
        {
         "name": "total_registros",
         "rawType": "int64",
         "type": "integer"
        },
        {
         "name": "media_quantidade",
         "rawType": "float64",
         "type": "float"
        },
        {
         "name": "variancia_amostral",
         "rawType": "float64",
         "type": "float"
        },
        {
         "name": "variancia_populacional",
         "rawType": "float64",
         "type": "float"
        },
        {
         "name": "desvio_padrao_amostral",
         "rawType": "float64",
         "type": "float"
        },
        {
         "name": "desvio_padrao_populacional",
         "rawType": "float64",
         "type": "float"
        }
       ],
       "ref": "9de4b4c1-6eb4-4781-9a90-777160a3e84a",
       "rows": [
        [
         "0",
         "Ferramentas",
         "160",
         "3.15",
         "2.2415094339622645",
         "2.2275",
         "1.4971671362818062",
         "1.49248115565993"
        ],
        [
         "1",
         "Bebidas",
         "136",
         "3.0588235294117645",
         "2.0705882352941187",
         "2.055363321799309",
         "1.4389538683690033",
         "1.4336538361122286"
        ],
        [
         "2",
         "Higiene",
         "104",
         "2.3846153846153846",
         "1.3263629574309184",
         "1.313609467455621",
         "1.1516783220287332",
         "1.1461280327501029"
        ],
        [
         "3",
         "Livros",
         "88",
         "4.090909090909091",
         "0.8192267502612338",
         "0.8099173553719016",
         "0.9051114573693307",
         "0.8999540851465154"
        ],
        [
         "4",
         "Eletrônicos",
         "72",
         "2.111111111111111",
         "1.2269170579029733",
         "1.2098765432098764",
         "1.1076628809809297",
         "1.0999438818457405"
        ],
        [
         "5",
         "Brinquedos",
         "64",
         "3.0",
         "1.523809523809523",
         "1.4999999999999993",
         "1.234426799696735",
         "1.2247448713915887"
        ],
        [
         "6",
         "Vestuário",
         "56",
         "3.4285714285714284",
         "0.8311688311688312",
         "0.8163265306122449",
         "0.9116846116771036",
         "0.9035079029052513"
        ],
        [
         "7",
         "Alimentos",
         "48",
         "2.5",
         "0.5957446808510638",
         "0.5833333333333333",
         "0.7718449849879597",
         "0.7637626158259733"
        ],
        [
         "8",
         "Esportes",
         "40",
         "2.0",
         "0.8205128205128205",
         "0.8",
         "0.9058216273156766",
         "0.8944271909999159"
        ],
        [
         "9",
         "Móveis",
         "32",
         "2.75",
         "1.2258064516129041",
         "1.1875000000000009",
         "1.107161438821324",
         "1.0897247358851687"
        ]
       ],
       "shape": {
        "columns": 7,
        "rows": 10
       }
      },
      "text/html": [
       "<div>\n",
       "<style scoped>\n",
       "    .dataframe tbody tr th:only-of-type {\n",
       "        vertical-align: middle;\n",
       "    }\n",
       "\n",
       "    .dataframe tbody tr th {\n",
       "        vertical-align: top;\n",
       "    }\n",
       "\n",
       "    .dataframe thead th {\n",
       "        text-align: right;\n",
       "    }\n",
       "</style>\n",
       "<table border=\"1\" class=\"dataframe\">\n",
       "  <thead>\n",
       "    <tr style=\"text-align: right;\">\n",
       "      <th></th>\n",
       "      <th>nome_tipo</th>\n",
       "      <th>total_registros</th>\n",
       "      <th>media_quantidade</th>\n",
       "      <th>variancia_amostral</th>\n",
       "      <th>variancia_populacional</th>\n",
       "      <th>desvio_padrao_amostral</th>\n",
       "      <th>desvio_padrao_populacional</th>\n",
       "    </tr>\n",
       "  </thead>\n",
       "  <tbody>\n",
       "    <tr>\n",
       "      <th>0</th>\n",
       "      <td>Ferramentas</td>\n",
       "      <td>160</td>\n",
       "      <td>3.150000</td>\n",
       "      <td>2.241509</td>\n",
       "      <td>2.227500</td>\n",
       "      <td>1.497167</td>\n",
       "      <td>1.492481</td>\n",
       "    </tr>\n",
       "    <tr>\n",
       "      <th>1</th>\n",
       "      <td>Bebidas</td>\n",
       "      <td>136</td>\n",
       "      <td>3.058824</td>\n",
       "      <td>2.070588</td>\n",
       "      <td>2.055363</td>\n",
       "      <td>1.438954</td>\n",
       "      <td>1.433654</td>\n",
       "    </tr>\n",
       "    <tr>\n",
       "      <th>2</th>\n",
       "      <td>Higiene</td>\n",
       "      <td>104</td>\n",
       "      <td>2.384615</td>\n",
       "      <td>1.326363</td>\n",
       "      <td>1.313609</td>\n",
       "      <td>1.151678</td>\n",
       "      <td>1.146128</td>\n",
       "    </tr>\n",
       "    <tr>\n",
       "      <th>3</th>\n",
       "      <td>Livros</td>\n",
       "      <td>88</td>\n",
       "      <td>4.090909</td>\n",
       "      <td>0.819227</td>\n",
       "      <td>0.809917</td>\n",
       "      <td>0.905111</td>\n",
       "      <td>0.899954</td>\n",
       "    </tr>\n",
       "    <tr>\n",
       "      <th>4</th>\n",
       "      <td>Eletrônicos</td>\n",
       "      <td>72</td>\n",
       "      <td>2.111111</td>\n",
       "      <td>1.226917</td>\n",
       "      <td>1.209877</td>\n",
       "      <td>1.107663</td>\n",
       "      <td>1.099944</td>\n",
       "    </tr>\n",
       "    <tr>\n",
       "      <th>5</th>\n",
       "      <td>Brinquedos</td>\n",
       "      <td>64</td>\n",
       "      <td>3.000000</td>\n",
       "      <td>1.523810</td>\n",
       "      <td>1.500000</td>\n",
       "      <td>1.234427</td>\n",
       "      <td>1.224745</td>\n",
       "    </tr>\n",
       "    <tr>\n",
       "      <th>6</th>\n",
       "      <td>Vestuário</td>\n",
       "      <td>56</td>\n",
       "      <td>3.428571</td>\n",
       "      <td>0.831169</td>\n",
       "      <td>0.816327</td>\n",
       "      <td>0.911685</td>\n",
       "      <td>0.903508</td>\n",
       "    </tr>\n",
       "    <tr>\n",
       "      <th>7</th>\n",
       "      <td>Alimentos</td>\n",
       "      <td>48</td>\n",
       "      <td>2.500000</td>\n",
       "      <td>0.595745</td>\n",
       "      <td>0.583333</td>\n",
       "      <td>0.771845</td>\n",
       "      <td>0.763763</td>\n",
       "    </tr>\n",
       "    <tr>\n",
       "      <th>8</th>\n",
       "      <td>Esportes</td>\n",
       "      <td>40</td>\n",
       "      <td>2.000000</td>\n",
       "      <td>0.820513</td>\n",
       "      <td>0.800000</td>\n",
       "      <td>0.905822</td>\n",
       "      <td>0.894427</td>\n",
       "    </tr>\n",
       "    <tr>\n",
       "      <th>9</th>\n",
       "      <td>Móveis</td>\n",
       "      <td>32</td>\n",
       "      <td>2.750000</td>\n",
       "      <td>1.225806</td>\n",
       "      <td>1.187500</td>\n",
       "      <td>1.107161</td>\n",
       "      <td>1.089725</td>\n",
       "    </tr>\n",
       "  </tbody>\n",
       "</table>\n",
       "</div>"
      ],
      "text/plain": [
       "     nome_tipo  total_registros  media_quantidade  variancia_amostral  \\\n",
       "0  Ferramentas              160          3.150000            2.241509   \n",
       "1      Bebidas              136          3.058824            2.070588   \n",
       "2      Higiene              104          2.384615            1.326363   \n",
       "3       Livros               88          4.090909            0.819227   \n",
       "4  Eletrônicos               72          2.111111            1.226917   \n",
       "5   Brinquedos               64          3.000000            1.523810   \n",
       "6    Vestuário               56          3.428571            0.831169   \n",
       "7    Alimentos               48          2.500000            0.595745   \n",
       "8     Esportes               40          2.000000            0.820513   \n",
       "9       Móveis               32          2.750000            1.225806   \n",
       "\n",
       "   variancia_populacional  desvio_padrao_amostral  desvio_padrao_populacional  \n",
       "0                2.227500                1.497167                    1.492481  \n",
       "1                2.055363                1.438954                    1.433654  \n",
       "2                1.313609                1.151678                    1.146128  \n",
       "3                0.809917                0.905111                    0.899954  \n",
       "4                1.209877                1.107663                    1.099944  \n",
       "5                1.500000                1.234427                    1.224745  \n",
       "6                0.816327                0.911685                    0.903508  \n",
       "7                0.583333                0.771845                    0.763763  \n",
       "8                0.800000                0.905822                    0.894427  \n",
       "9                1.187500                1.107161                    1.089725  "
      ]
     },
     "execution_count": 44,
     "metadata": {},
     "output_type": "execute_result"
    }
   ],
   "source": [
    "# Usando o group by\n",
    "duckdb.sql(\"\"\"\n",
    "SELECT\n",
    "    nome_tipo,\n",
    "    COUNT(*) AS total_registros,\n",
    "    AVG(quantidade) AS media_quantidade,\n",
    "    VAR_SAMP(quantidade) AS variancia_amostral,\n",
    "    VAR_POP(quantidade)  AS variancia_populacional,\n",
    "    STDDEV_SAMP(quantidade) AS desvio_padrao_amostral,\n",
    "    STDDEV_POP(quantidade)  AS desvio_padrao_populacional\n",
    "FROM fato_vendas\n",
    "GROUP BY nome_tipo\n",
    "ORDER BY total_registros DESC\n",
    "\"\"\").df()"
   ]
  },
  {
   "cell_type": "code",
   "execution_count": 45,
   "id": "78c2945a",
   "metadata": {},
   "outputs": [
    {
     "data": {
      "application/vnd.microsoft.datawrangler.viewer.v0+json": {
       "columns": [
        {
         "name": "index",
         "rawType": "int64",
         "type": "integer"
        },
        {
         "name": "nome_tipo",
         "rawType": "object",
         "type": "string"
        },
        {
         "name": "total_itens",
         "rawType": "int64",
         "type": "integer"
        },
        {
         "name": "media_quantidade",
         "rawType": "float64",
         "type": "float"
        }
       ],
       "ref": "e9691bc6-1022-4ebb-9d53-d35fb06b1d96",
       "rows": [],
       "shape": {
        "columns": 3,
        "rows": 0
       }
      },
      "text/html": [
       "<div>\n",
       "<style scoped>\n",
       "    .dataframe tbody tr th:only-of-type {\n",
       "        vertical-align: middle;\n",
       "    }\n",
       "\n",
       "    .dataframe tbody tr th {\n",
       "        vertical-align: top;\n",
       "    }\n",
       "\n",
       "    .dataframe thead th {\n",
       "        text-align: right;\n",
       "    }\n",
       "</style>\n",
       "<table border=\"1\" class=\"dataframe\">\n",
       "  <thead>\n",
       "    <tr style=\"text-align: right;\">\n",
       "      <th></th>\n",
       "      <th>nome_tipo</th>\n",
       "      <th>total_itens</th>\n",
       "      <th>media_quantidade</th>\n",
       "    </tr>\n",
       "  </thead>\n",
       "  <tbody>\n",
       "  </tbody>\n",
       "</table>\n",
       "</div>"
      ],
      "text/plain": [
       "Empty DataFrame\n",
       "Columns: [nome_tipo, total_itens, media_quantidade]\n",
       "Index: []"
      ]
     },
     "execution_count": 45,
     "metadata": {},
     "output_type": "execute_result"
    }
   ],
   "source": [
    "# Usando having\n",
    "duckdb.sql(\"\"\"\n",
    "SELECT\n",
    "    nome_tipo,\n",
    "    COUNT(*) AS total_itens,\n",
    "    AVG(quantidade) AS media_quantidade\n",
    "FROM fato_vendas\n",
    "GROUP BY nome_tipo\n",
    "HAVING AVG(quantidade) > 5\n",
    "ORDER BY media_quantidade DESC\n",
    "\"\"\").df()"
   ]
  },
  {
   "cell_type": "code",
   "execution_count": 46,
   "id": "495bbb5f",
   "metadata": {},
   "outputs": [],
   "source": [
    "# Criar tabela dim_clientes\n",
    "DIM_PREFIX = \"s3://aula-data-lake-430854566059/dim/\"\n",
    "\n",
    "query = f\"\"\"\n",
    "    SELECT DISTINCT id_cliente, nome as nome_cliente\n",
    "    FROM vendas_por_cliente\n",
    "\"\"\"\n",
    "\n",
    "dim_cliente_df = duckdb.sql(query).df()\n",
    "\n",
    "dim_cliente_df.to_parquet(DIM_PREFIX + 'dim_cliente.parquet', index=False, storage_options=storage_options)\n"
   ]
  },
  {
   "cell_type": "code",
   "execution_count": 47,
   "id": "aab60b6e",
   "metadata": {},
   "outputs": [],
   "source": [
    "# Gerar um data frame a partir de um arquivo parquet\n",
    "dim_cliente = pd.read_parquet(DIM_PREFIX + 'dim_cliente.parquet', storage_options=storage_options)"
   ]
  },
  {
   "cell_type": "code",
   "execution_count": 48,
   "id": "e6230278",
   "metadata": {},
   "outputs": [
    {
     "data": {
      "text/plain": [
       "┌────────────┬──────────────────────┐\n",
       "│ id_cliente │     nome_cliente     │\n",
       "│   int64    │       varchar        │\n",
       "├────────────┼──────────────────────┤\n",
       "│          1 │ Yago Novaes          │\n",
       "│          2 │ Isadora Castro       │\n",
       "│          6 │ Raul da Luz          │\n",
       "│          7 │ Clara Araújo         │\n",
       "│          8 │ Yuri Teixeira        │\n",
       "│         11 │ Levi Correia         │\n",
       "│         13 │ Luiz Henrique Costa  │\n",
       "│         15 │ Alícia Silva         │\n",
       "│         18 │ Henrique Campos      │\n",
       "│         21 │ Letícia Pinto        │\n",
       "│          · │       ·              │\n",
       "│          · │       ·              │\n",
       "│          · │       ·              │\n",
       "│         84 │ Davi Luiz Lima       │\n",
       "│         85 │ Luna Silva           │\n",
       "│         86 │ Yasmin Farias        │\n",
       "│         87 │ João Lucas Fernandes │\n",
       "│         88 │ Davi da Conceição    │\n",
       "│         89 │ Maria Clara da Cruz  │\n",
       "│         91 │ Dr. Danilo Moraes    │\n",
       "│         94 │ Dr. Heitor Barros    │\n",
       "│         96 │ Caio Castro          │\n",
       "│         97 │ Eloah Fogaça         │\n",
       "├────────────┴──────────────────────┤\n",
       "│ 51 rows (20 shown)      2 columns │\n",
       "└───────────────────────────────────┘"
      ]
     },
     "execution_count": 48,
     "metadata": {},
     "output_type": "execute_result"
    }
   ],
   "source": [
    "# Ver tabela dim clientes\n",
    "duckdb.sql(\"\"\"\n",
    "SELECT *\n",
    "FROM dim_cliente\n",
    "ORDER BY 1\n",
    "--LIMIT 10\n",
    "\"\"\")"
   ]
  },
  {
   "cell_type": "code",
   "execution_count": 49,
   "id": "be2b1bb9",
   "metadata": {},
   "outputs": [
    {
     "data": {
      "text/plain": [
       "┌────────────┬───────────────────────┬──────────────────────┬─────────────┐\n",
       "│ id_cliente │         nome          │ valor_total_comprado │ num_pedidos │\n",
       "│   int64    │        varchar        │        double        │    int64    │\n",
       "├────────────┼───────────────────────┼──────────────────────┼─────────────┤\n",
       "│         41 │ Brenda Fogaça         │   6806.5199999999995 │           2 │\n",
       "│          8 │ Yuri Teixeira         │              5013.49 │           2 │\n",
       "│         85 │ Luna Silva            │              4946.17 │           2 │\n",
       "│         70 │ Enzo Gabriel Monteiro │               3004.2 │           3 │\n",
       "│         13 │ Luiz Henrique Costa   │              2972.26 │           2 │\n",
       "│         21 │ Letícia Pinto         │   2972.1000000000004 │           3 │\n",
       "│         61 │ Breno Nascimento      │   2870.3999999999996 │           1 │\n",
       "│         39 │ Thiago Castro         │              2719.18 │           1 │\n",
       "│         97 │ Eloah Fogaça          │              2411.15 │           1 │\n",
       "│         87 │ João Lucas Fernandes  │              2216.15 │           1 │\n",
       "├────────────┴───────────────────────┴──────────────────────┴─────────────┤\n",
       "│ 10 rows                                                       4 columns │\n",
       "└─────────────────────────────────────────────────────────────────────────┘"
      ]
     },
     "execution_count": 49,
     "metadata": {},
     "output_type": "execute_result"
    }
   ],
   "source": [
    "# Clientes que mais comprarar\n",
    "duckdb.sql(\"\"\"\n",
    "SELECT c.id_cliente, c.nome, c.valor_total_comprado, c.num_pedidos\n",
    "FROM vendas_por_cliente c\n",
    "ORDER BY valor_total_comprado DESC\n",
    "LIMIT 10\n",
    "\"\"\")"
   ]
  },
  {
   "cell_type": "code",
   "execution_count": 50,
   "id": "b1f9e499",
   "metadata": {},
   "outputs": [
    {
     "name": "stdout",
     "output_type": "stream",
     "text": [
      "Quantidade de linhas e colunas da tabela fato_vendas\n",
      "(800, 19)\n",
      "---------------------------------------------------------------------------------------------------------------\n",
      "Quantidade de linhas e colunas da tabela vendas_por_cliente\n",
      "(51, 4)\n"
     ]
    }
   ],
   "source": [
    "# Ver qtd de registro\n",
    "print(f'Quantidade de linhas e colunas da tabela fato_vendas')\n",
    "print(fato_vendas.shape)\n",
    "print(\"---------------------------------------------------------------------------------------------------------------\")\n",
    "print(f'Quantidade de linhas e colunas da tabela vendas_por_cliente')\n",
    "print(vendas_por_cliente.shape)"
   ]
  },
  {
   "cell_type": "code",
   "execution_count": 51,
   "id": "51cec35f",
   "metadata": {},
   "outputs": [],
   "source": [
    "# Executa as instruções de DROP e CREATE (sem retorno)\n",
    "duckdb.sql(\"\"\"\n",
    "    DROP TABLE IF EXISTS fato_vendas_temp;\n",
    "    DROP TABLE IF EXISTS vendas_por_cliente_temp;\n",
    "\n",
    "    CREATE TABLE vendas_por_cliente_temp AS \n",
    "    SELECT * FROM vendas_por_cliente LIMIT 40;\n",
    "\"\"\")\n",
    "\n",
    "# Agora faz a leitura da tabela e envia para DataFrame\n",
    "vendas_por_cliente_temp = duckdb.sql(\"SELECT * FROM vendas_por_cliente_temp\").df()\n"
   ]
  },
  {
   "cell_type": "code",
   "execution_count": 52,
   "id": "98a9c702",
   "metadata": {},
   "outputs": [
    {
     "name": "stdout",
     "output_type": "stream",
     "text": [
      "Quantidade de linhas e colunas da tabela vendas_por_cliente_tmp\n",
      "(40, 4)\n"
     ]
    }
   ],
   "source": [
    "# Ver a qtd de registro\n",
    "print(f'Quantidade de linhas e colunas da tabela vendas_por_cliente_tmp')\n",
    "print(vendas_por_cliente_temp.shape)"
   ]
  },
  {
   "cell_type": "code",
   "execution_count": 53,
   "id": "fb57e69e",
   "metadata": {},
   "outputs": [
    {
     "data": {
      "text/plain": [
       "┌─────────┬────────────────────────────┬──────────┐\n",
       "│ anomes  │        nome_cliente        │  total   │\n",
       "│ varchar │          varchar           │  double  │\n",
       "├─────────┼────────────────────────────┼──────────┤\n",
       "│ 202506  │ Levi Correia               │  13394.8 │\n",
       "│ 202506  │ Brenda Fogaça              │ 17508.16 │\n",
       "│ 202505  │ Marcos Vinicius Cavalcanti │  2299.84 │\n",
       "│ 202505  │ João Lucas Fernandes       │  17729.2 │\n",
       "│ 202505  │ Isis Viana                 │ 10535.36 │\n",
       "│ 202505  │ Enzo Gabriel Monteiro      │  4189.68 │\n",
       "│ 202505  │ Dr. Danilo Moraes          │   4208.0 │\n",
       "│ 202505  │ Davi da Conceição          │  7381.68 │\n",
       "│ 202504  │ Thiago Costa               │  11164.8 │\n",
       "│ 202504  │ Paulo da Cunha             │ 15236.72 │\n",
       "├─────────┴────────────────────────────┴──────────┤\n",
       "│ 10 rows                               3 columns │\n",
       "└─────────────────────────────────────────────────┘"
      ]
     },
     "execution_count": 53,
     "metadata": {},
     "output_type": "execute_result"
    }
   ],
   "source": [
    "# Jazer inner join\n",
    "duckdb.sql('''\n",
    "SELECT \n",
    "    LEFT(CAST(f.anomesdia AS VARCHAR), 6) anomes, \n",
    "    c.nome_cliente, \n",
    "    ROUND(SUM(f.valor_total_item),2) AS total\n",
    "FROM fato_vendas f\n",
    "INNER JOIN dim_cliente c ON f.id_cliente = c.id_cliente\n",
    "GROUP BY \n",
    "    LEFT(CAST(f.anomesdia AS VARCHAR), 6), \n",
    "    c.nome_cliente\n",
    "ORDER BY \n",
    "    1 DESC,\n",
    "    2 DESC\n",
    "LIMIT 10\n",
    "''')"
   ]
  },
  {
   "cell_type": "code",
   "execution_count": 54,
   "id": "99dfc36b",
   "metadata": {},
   "outputs": [
    {
     "data": {
      "text/plain": [
       "┌───────────┬───────────────┬────────────────────┐\n",
       "│ anomesdia │ nome_cliente  │      vl_total      │\n",
       "│   int32   │    varchar    │       double       │\n",
       "├───────────┼───────────────┼────────────────────┤\n",
       "│  20240620 │ Yuri Teixeira │              32.64 │\n",
       "│  20240620 │ Yuri Teixeira │             423.35 │\n",
       "│  20240620 │ Yuri Teixeira │              32.64 │\n",
       "│  20240620 │ Yuri Teixeira │             423.35 │\n",
       "│  20240620 │ Yuri Teixeira │              32.64 │\n",
       "│  20240620 │ Yuri Teixeira │             423.35 │\n",
       "│  20240620 │ Yuri Teixeira │              32.64 │\n",
       "│  20240620 │ Yuri Teixeira │             423.35 │\n",
       "│  20240620 │ Yuri Teixeira │              32.64 │\n",
       "│  20240620 │ Yuri Teixeira │             423.35 │\n",
       "│      ·    │       ·       │                ·   │\n",
       "│      ·    │       ·       │                ·   │\n",
       "│      ·    │       ·       │                ·   │\n",
       "│  20250608 │ Brenda Fogaça │ 1135.1100000000001 │\n",
       "│  20250608 │ Brenda Fogaça │             820.26 │\n",
       "│  20250608 │ Brenda Fogaça │             233.15 │\n",
       "│  20250608 │ Brenda Fogaça │ 1135.1100000000001 │\n",
       "│  20250608 │ Brenda Fogaça │             820.26 │\n",
       "│  20250608 │ Brenda Fogaça │             233.15 │\n",
       "│  20250608 │ Brenda Fogaça │ 1135.1100000000001 │\n",
       "│  20250608 │ Brenda Fogaça │             820.26 │\n",
       "│  20250608 │ Brenda Fogaça │             233.15 │\n",
       "│  20250608 │ Brenda Fogaça │ 1135.1100000000001 │\n",
       "├───────────┴───────────────┴────────────────────┤\n",
       "│ 640 rows (20 shown)                  3 columns │\n",
       "└────────────────────────────────────────────────┘"
      ]
     },
     "execution_count": 54,
     "metadata": {},
     "output_type": "execute_result"
    }
   ],
   "source": [
    "# Join das tabelas \n",
    "duckdb.sql('''\n",
    "SELECT f.anomesdia, c.nome as nome_cliente, f.valor_total_item as vl_total\n",
    "FROM fato_vendas f\n",
    "JOIN vendas_por_cliente_temp c ON f.id_cliente = c.id_cliente\n",
    "''')"
   ]
  },
  {
   "cell_type": "code",
   "execution_count": 55,
   "id": "e06bc075",
   "metadata": {},
   "outputs": [
    {
     "data": {
      "text/plain": [
       "┌───────────┬───────────────┬──────────┐\n",
       "│ anomesdia │ nome_cliente  │ vl_total │\n",
       "│   int32   │    varchar    │  double  │\n",
       "├───────────┼───────────────┼──────────┤\n",
       "│  20240620 │ Yuri Teixeira │    32.64 │\n",
       "│  20240620 │ Yuri Teixeira │   423.35 │\n",
       "│  20240620 │ Yuri Teixeira │    32.64 │\n",
       "│  20240620 │ Yuri Teixeira │   423.35 │\n",
       "│  20240620 │ Yuri Teixeira │    32.64 │\n",
       "│  20240620 │ Yuri Teixeira │   423.35 │\n",
       "│  20240620 │ Yuri Teixeira │    32.64 │\n",
       "│  20240620 │ Yuri Teixeira │   423.35 │\n",
       "│  20240620 │ Yuri Teixeira │    32.64 │\n",
       "│  20240620 │ Yuri Teixeira │   423.35 │\n",
       "│      ·    │  ·            │      ·   │\n",
       "│      ·    │  ·            │      ·   │\n",
       "│      ·    │  ·            │      ·   │\n",
       "│  20250512 │ NULL          │    447.4 │\n",
       "│  20250512 │ NULL          │   475.31 │\n",
       "│  20250529 │ NULL          │  2216.15 │\n",
       "│  20250529 │ NULL          │  2216.15 │\n",
       "│  20250529 │ NULL          │  2216.15 │\n",
       "│  20250529 │ NULL          │  2216.15 │\n",
       "│  20250529 │ NULL          │  2216.15 │\n",
       "│  20250529 │ NULL          │  2216.15 │\n",
       "│  20250529 │ NULL          │  2216.15 │\n",
       "│  20250529 │ NULL          │  2216.15 │\n",
       "├───────────┴───────────────┴──────────┤\n",
       "│ 800 rows (20 shown)        3 columns │\n",
       "└──────────────────────────────────────┘"
      ]
     },
     "execution_count": 55,
     "metadata": {},
     "output_type": "execute_result"
    }
   ],
   "source": [
    "# Usando o left join\n",
    "duckdb.sql('''\n",
    "SELECT f.anomesdia, c.nome as nome_cliente, f.valor_total_item as vl_total\n",
    "FROM fato_vendas f\n",
    "LEFT JOIN vendas_por_cliente_temp c ON f.id_cliente = c.id_cliente\n",
    "''')"
   ]
  },
  {
   "cell_type": "code",
   "execution_count": 56,
   "id": "22470cd3",
   "metadata": {},
   "outputs": [
    {
     "data": {
      "text/plain": [
       "┌───────────┬───────────────┬────────────────────┐\n",
       "│ anomesdia │ nome_cliente  │      vl_total      │\n",
       "│   int32   │    varchar    │       double       │\n",
       "├───────────┼───────────────┼────────────────────┤\n",
       "│  20240620 │ Yuri Teixeira │              32.64 │\n",
       "│  20240620 │ Yuri Teixeira │             423.35 │\n",
       "│  20240620 │ Yuri Teixeira │              32.64 │\n",
       "│  20240620 │ Yuri Teixeira │             423.35 │\n",
       "│  20240620 │ Yuri Teixeira │              32.64 │\n",
       "│  20240620 │ Yuri Teixeira │             423.35 │\n",
       "│  20240620 │ Yuri Teixeira │              32.64 │\n",
       "│  20240620 │ Yuri Teixeira │             423.35 │\n",
       "│  20240620 │ Yuri Teixeira │              32.64 │\n",
       "│  20240620 │ Yuri Teixeira │             423.35 │\n",
       "│      ·    │       ·       │                ·   │\n",
       "│      ·    │       ·       │                ·   │\n",
       "│      ·    │       ·       │                ·   │\n",
       "│  20250608 │ Brenda Fogaça │ 1135.1100000000001 │\n",
       "│  20250608 │ Brenda Fogaça │             820.26 │\n",
       "│  20250608 │ Brenda Fogaça │             233.15 │\n",
       "│  20250608 │ Brenda Fogaça │ 1135.1100000000001 │\n",
       "│  20250608 │ Brenda Fogaça │             820.26 │\n",
       "│  20250608 │ Brenda Fogaça │             233.15 │\n",
       "│  20250608 │ Brenda Fogaça │ 1135.1100000000001 │\n",
       "│  20250608 │ Brenda Fogaça │             820.26 │\n",
       "│  20250608 │ Brenda Fogaça │             233.15 │\n",
       "│  20250608 │ Brenda Fogaça │ 1135.1100000000001 │\n",
       "├───────────┴───────────────┴────────────────────┤\n",
       "│ 640 rows (20 shown)                  3 columns │\n",
       "└────────────────────────────────────────────────┘"
      ]
     },
     "execution_count": 56,
     "metadata": {},
     "output_type": "execute_result"
    }
   ],
   "source": [
    "# Usando o right join\n",
    "duckdb.sql('''\n",
    "SELECT f.anomesdia, c.nome as nome_cliente, f.valor_total_item as vl_total\n",
    "FROM fato_vendas f\n",
    "RIGHT JOIN vendas_por_cliente_temp c ON f.id_cliente = c.id_cliente\n",
    "''')"
   ]
  },
  {
   "cell_type": "code",
   "execution_count": 57,
   "id": "4135db6b",
   "metadata": {},
   "outputs": [
    {
     "data": {
      "text/plain": [
       "┌───────────┬───────────────┬──────────┐\n",
       "│ anomesdia │ nome_cliente  │ vl_total │\n",
       "│   int32   │    varchar    │  double  │\n",
       "├───────────┼───────────────┼──────────┤\n",
       "│  20240620 │ Yuri Teixeira │    32.64 │\n",
       "│  20240620 │ Yuri Teixeira │   423.35 │\n",
       "│  20240620 │ Yuri Teixeira │    32.64 │\n",
       "│  20240620 │ Yuri Teixeira │   423.35 │\n",
       "│  20240620 │ Yuri Teixeira │    32.64 │\n",
       "│  20240620 │ Yuri Teixeira │   423.35 │\n",
       "│  20240620 │ Yuri Teixeira │    32.64 │\n",
       "│  20240620 │ Yuri Teixeira │   423.35 │\n",
       "│  20240620 │ Yuri Teixeira │    32.64 │\n",
       "│  20240620 │ Yuri Teixeira │   423.35 │\n",
       "│      ·    │  ·            │      ·   │\n",
       "│      ·    │  ·            │      ·   │\n",
       "│      ·    │  ·            │      ·   │\n",
       "│  20250512 │ NULL          │    447.4 │\n",
       "│  20250512 │ NULL          │   475.31 │\n",
       "│  20250529 │ NULL          │  2216.15 │\n",
       "│  20250529 │ NULL          │  2216.15 │\n",
       "│  20250529 │ NULL          │  2216.15 │\n",
       "│  20250529 │ NULL          │  2216.15 │\n",
       "│  20250529 │ NULL          │  2216.15 │\n",
       "│  20250529 │ NULL          │  2216.15 │\n",
       "│  20250529 │ NULL          │  2216.15 │\n",
       "│  20250529 │ NULL          │  2216.15 │\n",
       "├───────────┴───────────────┴──────────┤\n",
       "│ 800 rows (20 shown)        3 columns │\n",
       "└──────────────────────────────────────┘"
      ]
     },
     "execution_count": 57,
     "metadata": {},
     "output_type": "execute_result"
    }
   ],
   "source": [
    "# Usando o full join\n",
    "duckdb.sql('''\n",
    "SELECT f.anomesdia, c.nome as nome_cliente, f.valor_total_item as vl_total\n",
    "FROM fato_vendas f\n",
    "FULL OUTER JOIN vendas_por_cliente_temp c ON f.id_cliente = c.id_cliente\n",
    "''')"
   ]
  },
  {
   "cell_type": "code",
   "execution_count": 58,
   "id": "366ed0fa",
   "metadata": {},
   "outputs": [
    {
     "data": {
      "text/plain": [
       "┌─────────────────┐\n",
       "│ total_registros │\n",
       "│      int64      │\n",
       "├─────────────────┤\n",
       "│           32000 │\n",
       "└─────────────────┘"
      ]
     },
     "execution_count": 58,
     "metadata": {},
     "output_type": "execute_result"
    }
   ],
   "source": [
    "# Usando o cross join \n",
    "duckdb.sql('''\n",
    "SELECT count(*) AS total_registros\n",
    "FROM fato_vendas f\n",
    "CROSS JOIN vendas_por_cliente_temp c\n",
    "LIMIT 1000\n",
    "''')"
   ]
  },
  {
   "cell_type": "code",
   "execution_count": 59,
   "id": "9c49c0fd",
   "metadata": {},
   "outputs": [
    {
     "data": {
      "text/plain": [
       "┌───────────┬──────────────┬──────────┐\n",
       "│ anomesdia │ nome_cliente │ vl_total │\n",
       "│   int32   │   varchar    │  double  │\n",
       "├───────────┼──────────────┼──────────┤\n",
       "│  20240620 │ Yago Novaes  │    32.64 │\n",
       "│  20240620 │ Yago Novaes  │   423.35 │\n",
       "│  20240620 │ Yago Novaes  │    32.64 │\n",
       "│  20240620 │ Yago Novaes  │   423.35 │\n",
       "│  20240620 │ Yago Novaes  │    32.64 │\n",
       "│  20240620 │ Yago Novaes  │   423.35 │\n",
       "│  20240620 │ Yago Novaes  │    32.64 │\n",
       "│  20240620 │ Yago Novaes  │   423.35 │\n",
       "│  20240620 │ Yago Novaes  │    32.64 │\n",
       "│  20240620 │ Yago Novaes  │   423.35 │\n",
       "│      ·    │      ·       │      ·   │\n",
       "│      ·    │      ·       │      ·   │\n",
       "│      ·    │      ·       │      ·   │\n",
       "│  20241212 │ Yago Novaes  │   302.32 │\n",
       "│  20241212 │ Yago Novaes  │  1324.08 │\n",
       "│  20241212 │ Yago Novaes  │   302.32 │\n",
       "│  20241212 │ Yago Novaes  │  1324.08 │\n",
       "│  20241212 │ Yago Novaes  │   302.32 │\n",
       "│  20241212 │ Yago Novaes  │  1324.08 │\n",
       "│  20241212 │ Yago Novaes  │   302.32 │\n",
       "│  20241212 │ Yago Novaes  │  1324.08 │\n",
       "│  20241212 │ Yago Novaes  │   302.32 │\n",
       "│  20241212 │ Yago Novaes  │  1324.08 │\n",
       "├───────────┴──────────────┴──────────┤\n",
       "│ 400 rows (20 shown)       3 columns │\n",
       "└─────────────────────────────────────┘"
      ]
     },
     "execution_count": 59,
     "metadata": {},
     "output_type": "execute_result"
    }
   ],
   "source": [
    "# Usando o cross join \n",
    "duckdb.sql('''\n",
    "SELECT \n",
    "    f.anomesdia, \n",
    "    c.nome AS nome_cliente, \n",
    "    f.valor_total_item AS vl_total\n",
    "FROM fato_vendas f\n",
    "CROSS JOIN vendas_por_cliente_temp c\n",
    "LIMIT 400\n",
    "''')"
   ]
  },
  {
   "cell_type": "markdown",
   "id": "5dd8490d",
   "metadata": {},
   "source": [
    "#### **Aula 5 - Tipos de Bancos NoSQL: Documentos, Chave-Valor, Grafos e Colunas**"
   ]
  },
  {
   "cell_type": "code",
   "execution_count": 60,
   "id": "3a7b9507",
   "metadata": {},
   "outputs": [],
   "source": [
    "# Cria uma conexão simulada com o MongoDB (sem servidor real)\n",
    "client = mongomock.MongoClient()\n",
    "\n",
    "# Acessa ou cria o banco de dados chamado 'loja'\n",
    "db = client['loja']\n",
    "\n",
    "# Acessa ou cria a coleção 'produtos' dentro do banco\n",
    "produtos = db['produtos']"
   ]
  },
  {
   "cell_type": "code",
   "execution_count": 61,
   "id": "dc731718",
   "metadata": {},
   "outputs": [
    {
     "name": "stdout",
     "output_type": "stream",
     "text": [
      "Após inserção:\n",
      "[{'_id': ObjectId('68c0bca89f23f343dda602d0'),\n",
      "  'nome': 'Camiseta',\n",
      "  'preco': 49.9}]\n"
     ]
    }
   ],
   "source": [
    "# Insere um documento na coleção 'produtos'\n",
    "produtos.insert_one({\"nome\": \"Camiseta\", \"preco\": 49.9})\n",
    "\n",
    "# Mostra todos os documentos da coleção após a inserção\n",
    "print(\"Após inserção:\")\n",
    "pprint(list(produtos.find()))"
   ]
  },
  {
   "cell_type": "code",
   "execution_count": 62,
   "id": "4294c3e4",
   "metadata": {},
   "outputs": [
    {
     "data": {
      "text/plain": [
       "InsertManyResult([ObjectId('68c0bca89f23f343dda602d1'), ObjectId('68c0bca89f23f343dda602d2'), ObjectId('68c0bca89f23f343dda602d3'), ObjectId('68c0bca89f23f343dda602d4')], acknowledged=True)"
      ]
     },
     "execution_count": 62,
     "metadata": {},
     "output_type": "execute_result"
    }
   ],
   "source": [
    "# Inserir varios registro\n",
    "produtos.insert_many([\n",
    "    {\"nome\": \"Camiseta\", \"preco\": 49.9},\n",
    "    {\"nome\": \"Calça Jeans\", \"preco\": 89.9},\n",
    "    {\"nome\": \"Tênis\", \"preco\": 199.9},\n",
    "    {\"nome\": \"Boné\", \"preco\": 29.9}\n",
    "])"
   ]
  },
  {
   "cell_type": "code",
   "execution_count": 63,
   "id": "fcd30e16",
   "metadata": {},
   "outputs": [
    {
     "data": {
      "text/plain": [
       "InsertManyResult([ObjectId('68c0bca89f23f343dda602d5'), ObjectId('68c0bca89f23f343dda602d6'), ObjectId('68c0bca89f23f343dda602d7'), ObjectId('68c0bca89f23f343dda602d8'), ObjectId('68c0bca89f23f343dda602d9'), ObjectId('68c0bca89f23f343dda602da'), ObjectId('68c0bca89f23f343dda602db'), ObjectId('68c0bca89f23f343dda602dc'), ObjectId('68c0bca89f23f343dda602dd'), ObjectId('68c0bca89f23f343dda602de')], acknowledged=True)"
      ]
     },
     "execution_count": 63,
     "metadata": {},
     "output_type": "execute_result"
    }
   ],
   "source": [
    "# Insere múltiplos documentos na coleção 'produtos'\n",
    "produtos.insert_many([\n",
    "    {\n",
    "        \"nome\": \"Camiseta\",\n",
    "        \"preco\": 49.90,\n",
    "        \"estoque\": 20,\n",
    "        \"avaliacoes\": [\n",
    "            {\"cliente\": \"Ana\", \"nota\": 5},\n",
    "            {\"cliente\": \"Bruno\", \"nota\": 4}\n",
    "        ]\n",
    "    },\n",
    "    {\n",
    "        \"nome\": \"Calça Jeans\",\n",
    "        \"preco\": 89.90,\n",
    "        \"estoque\": 15,\n",
    "        \"avaliacoes\": [\n",
    "            {\"cliente\": \"Carlos\", \"nota\": 4}\n",
    "        ]\n",
    "    },\n",
    "    {\n",
    "        \"nome\": \"Tênis Esportivo\",\n",
    "        \"preco\": 199.90,\n",
    "        \"estoque\": 8,\n",
    "        \"avaliacoes\": [\n",
    "            {\"cliente\": \"Daniela\", \"nota\": 5},\n",
    "            {\"cliente\": \"Eduardo\", \"nota\": 3}\n",
    "        ]\n",
    "    },\n",
    "    {\n",
    "        \"nome\": \"Boné\",\n",
    "        \"preco\": 29.90,\n",
    "        \"estoque\": 50,\n",
    "        \"avaliacoes\": [\n",
    "            {\"cliente\": \"Fernanda\", \"nota\": 4}\n",
    "        ]\n",
    "    },\n",
    "    {\n",
    "        \"nome\": \"Jaqueta Corta-Vento\",\n",
    "        \"preco\": 149.90,\n",
    "        \"estoque\": 10,\n",
    "        \"avaliacoes\": [\n",
    "            {\"cliente\": \"Gabriel\", \"nota\": 5},\n",
    "            {\"cliente\": \"Helena\", \"nota\": 5}\n",
    "        ]\n",
    "    },\n",
    "    {\n",
    "        \"nome\": \"Meia\",\n",
    "        \"preco\": 9.90,\n",
    "        \"estoque\": 100,\n",
    "        \"avaliacoes\": [\n",
    "            {\"cliente\": \"Igor\", \"nota\": 3}\n",
    "        ]\n",
    "    },\n",
    "    {\n",
    "        \"nome\": \"Relógio Digital\",\n",
    "        \"preco\": 299.90,\n",
    "        \"estoque\": 5,\n",
    "        \"avaliacoes\": [\n",
    "            {\"cliente\": \"Joana\", \"nota\": 4}\n",
    "        ]\n",
    "    },\n",
    "    {\n",
    "        \"nome\": \"Óculos de Sol\",\n",
    "        \"preco\": 119.90,\n",
    "        \"estoque\": 12,\n",
    "        \"avaliacoes\": [\n",
    "            {\"cliente\": \"Karina\", \"nota\": 5},\n",
    "            {\"cliente\": \"Lucas\", \"nota\": 4}\n",
    "        ]\n",
    "    },\n",
    "    {\n",
    "        \"nome\": \"Mochila\",\n",
    "        \"preco\": 139.90,\n",
    "        \"estoque\": 7,\n",
    "        \"avaliacoes\": [\n",
    "            {\"cliente\": \"Marcos\", \"nota\": 3}\n",
    "        ]\n",
    "    },\n",
    "    {\n",
    "        \"nome\": \"Carteira\",\n",
    "        \"preco\": 69.90,\n",
    "        \"estoque\": 25,\n",
    "        \"avaliacoes\": [\n",
    "            {\"cliente\": \"Nina\", \"nota\": 4}\n",
    "        ]\n",
    "    }\n",
    "])\n"
   ]
  },
  {
   "cell_type": "code",
   "execution_count": 64,
   "id": "00e48474",
   "metadata": {},
   "outputs": [
    {
     "name": "stdout",
     "output_type": "stream",
     "text": [
      "{'nome': 'Camiseta', 'preco': 49.9, '_id': ObjectId('68c0bca89f23f343dda602d0')}\n",
      "{'nome': 'Camiseta', 'preco': 49.9, '_id': ObjectId('68c0bca89f23f343dda602d1')}\n",
      "{'nome': 'Calça Jeans', 'preco': 89.9, '_id': ObjectId('68c0bca89f23f343dda602d2')}\n",
      "{'nome': 'Tênis', 'preco': 199.9, '_id': ObjectId('68c0bca89f23f343dda602d3')}\n",
      "{'nome': 'Boné', 'preco': 29.9, '_id': ObjectId('68c0bca89f23f343dda602d4')}\n",
      "{'nome': 'Camiseta', 'preco': 49.9, 'estoque': 20, 'avaliacoes': [{'cliente': 'Ana', 'nota': 5}, {'cliente': 'Bruno', 'nota': 4}], '_id': ObjectId('68c0bca89f23f343dda602d5')}\n",
      "{'nome': 'Calça Jeans', 'preco': 89.9, 'estoque': 15, 'avaliacoes': [{'cliente': 'Carlos', 'nota': 4}], '_id': ObjectId('68c0bca89f23f343dda602d6')}\n",
      "{'nome': 'Tênis Esportivo', 'preco': 199.9, 'estoque': 8, 'avaliacoes': [{'cliente': 'Daniela', 'nota': 5}, {'cliente': 'Eduardo', 'nota': 3}], '_id': ObjectId('68c0bca89f23f343dda602d7')}\n",
      "{'nome': 'Boné', 'preco': 29.9, 'estoque': 50, 'avaliacoes': [{'cliente': 'Fernanda', 'nota': 4}], '_id': ObjectId('68c0bca89f23f343dda602d8')}\n",
      "{'nome': 'Jaqueta Corta-Vento', 'preco': 149.9, 'estoque': 10, 'avaliacoes': [{'cliente': 'Gabriel', 'nota': 5}, {'cliente': 'Helena', 'nota': 5}], '_id': ObjectId('68c0bca89f23f343dda602d9')}\n",
      "{'nome': 'Meia', 'preco': 9.9, 'estoque': 100, 'avaliacoes': [{'cliente': 'Igor', 'nota': 3}], '_id': ObjectId('68c0bca89f23f343dda602da')}\n",
      "{'nome': 'Relógio Digital', 'preco': 299.9, 'estoque': 5, 'avaliacoes': [{'cliente': 'Joana', 'nota': 4}], '_id': ObjectId('68c0bca89f23f343dda602db')}\n",
      "{'nome': 'Óculos de Sol', 'preco': 119.9, 'estoque': 12, 'avaliacoes': [{'cliente': 'Karina', 'nota': 5}, {'cliente': 'Lucas', 'nota': 4}], '_id': ObjectId('68c0bca89f23f343dda602dc')}\n",
      "{'nome': 'Mochila', 'preco': 139.9, 'estoque': 7, 'avaliacoes': [{'cliente': 'Marcos', 'nota': 3}], '_id': ObjectId('68c0bca89f23f343dda602dd')}\n",
      "{'nome': 'Carteira', 'preco': 69.9, 'estoque': 25, 'avaliacoes': [{'cliente': 'Nina', 'nota': 4}], '_id': ObjectId('68c0bca89f23f343dda602de')}\n"
     ]
    }
   ],
   "source": [
    "# Ver todos os documentos\n",
    "for doc in produtos.find():\n",
    "    print(doc)"
   ]
  },
  {
   "cell_type": "code",
   "execution_count": 65,
   "id": "23f19e19",
   "metadata": {},
   "outputs": [
    {
     "name": "stdout",
     "output_type": "stream",
     "text": [
      "{'nome': 'Camiseta', 'preco': 49.9, '_id': ObjectId('68c0bca89f23f343dda602d0')}\n",
      "{'nome': 'Camiseta', 'preco': 49.9, '_id': ObjectId('68c0bca89f23f343dda602d1')}\n",
      "{'nome': 'Calça Jeans', 'preco': 89.9, '_id': ObjectId('68c0bca89f23f343dda602d2')}\n",
      "{'nome': 'Boné', 'preco': 29.9, '_id': ObjectId('68c0bca89f23f343dda602d4')}\n",
      "{'nome': 'Camiseta', 'preco': 49.9, 'estoque': 20, 'avaliacoes': [{'cliente': 'Ana', 'nota': 5}, {'cliente': 'Bruno', 'nota': 4}], '_id': ObjectId('68c0bca89f23f343dda602d5')}\n",
      "{'nome': 'Calça Jeans', 'preco': 89.9, 'estoque': 15, 'avaliacoes': [{'cliente': 'Carlos', 'nota': 4}], '_id': ObjectId('68c0bca89f23f343dda602d6')}\n",
      "{'nome': 'Boné', 'preco': 29.9, 'estoque': 50, 'avaliacoes': [{'cliente': 'Fernanda', 'nota': 4}], '_id': ObjectId('68c0bca89f23f343dda602d8')}\n",
      "{'nome': 'Meia', 'preco': 9.9, 'estoque': 100, 'avaliacoes': [{'cliente': 'Igor', 'nota': 3}], '_id': ObjectId('68c0bca89f23f343dda602da')}\n",
      "{'nome': 'Carteira', 'preco': 69.9, 'estoque': 25, 'avaliacoes': [{'cliente': 'Nina', 'nota': 4}], '_id': ObjectId('68c0bca89f23f343dda602de')}\n"
     ]
    }
   ],
   "source": [
    "# Ver documentos com validação --> $lt: operador de comparação \"menor que\" (less than)\n",
    "for doc in produtos.find({\"preco\": {\"$lt\": 100}}):\n",
    "    print(doc)\n"
   ]
  },
  {
   "cell_type": "code",
   "execution_count": 66,
   "id": "dd458c1d",
   "metadata": {},
   "outputs": [],
   "source": [
    "# Criar uma instância Redis fake\n",
    "redis = fakeredis.FakeRedis()"
   ]
  },
  {
   "cell_type": "code",
   "execution_count": 67,
   "id": "cba34df5",
   "metadata": {},
   "outputs": [
    {
     "name": "stdout",
     "output_type": "stream",
     "text": [
      "abc123xyz\n"
     ]
    }
   ],
   "source": [
    "# Retorna o valor do token como string \n",
    "redis.set(\"token:usuario123\", \"abc123xyz\")\n",
    "print(redis.get(\"token:usuario123\").decode()) "
   ]
  },
  {
   "cell_type": "code",
   "execution_count": 68,
   "id": "2f254291",
   "metadata": {},
   "outputs": [
    {
     "name": "stdout",
     "output_type": "stream",
     "text": [
      "{'nome': 'Tênis', 'preco': '199.90'}\n"
     ]
    }
   ],
   "source": [
    "# Gerar hash\n",
    "redis.hset(\"produto:100\", mapping={\"nome\": \"Tênis\", \"preco\": \"199.90\"})\n",
    "resultado = redis.hgetall(\"produto:100\")\n",
    "\n",
    "pprint({k.decode(): v.decode() for k, v in resultado.items()})"
   ]
  },
  {
   "cell_type": "code",
   "execution_count": 69,
   "id": "58bff036",
   "metadata": {},
   "outputs": [
    {
     "name": "stdout",
     "output_type": "stream",
     "text": [
      "user1@email.com\n"
     ]
    }
   ],
   "source": [
    "# Adiciona elementos ao final da lista\n",
    "redis.rpush(\"fila_emails\", \"user1@email.com\", \"user2@email.com\")\n",
    "\n",
    "# Recuperando o proximo e-mail\n",
    "email = redis.lpop(\"fila_emails\")\n",
    "print(email.decode())"
   ]
  },
  {
   "cell_type": "code",
   "execution_count": 70,
   "id": "90f8d42f",
   "metadata": {},
   "outputs": [
    {
     "data": {
      "text/plain": [
       "[b'token:usuario123', b'produto:100', b'fila_emails']"
      ]
     },
     "execution_count": 70,
     "metadata": {},
     "output_type": "execute_result"
    }
   ],
   "source": [
    "# Ver chaves\n",
    "redis.keys(\"*\")"
   ]
  },
  {
   "cell_type": "code",
   "execution_count": 71,
   "id": "29da55e9",
   "metadata": {},
   "outputs": [
    {
     "data": {
      "text/plain": [
       "3"
      ]
     },
     "execution_count": 71,
     "metadata": {},
     "output_type": "execute_result"
    }
   ],
   "source": [
    "# Adicionar informações\n",
    "redis.sadd(\"seguidores:ana\", \"bruno\", \"carlos\", \"daniela\")"
   ]
  },
  {
   "cell_type": "code",
   "execution_count": 72,
   "id": "3759bee8",
   "metadata": {},
   "outputs": [
    {
     "name": "stdout",
     "output_type": "stream",
     "text": [
      "{'daniela', 'carlos', 'bruno'}\n"
     ]
    }
   ],
   "source": [
    "# Ver dados \n",
    "seguidores = redis.smembers(\"seguidores:ana\")\n",
    "print({item.decode() for item in seguidores})"
   ]
  },
  {
   "cell_type": "code",
   "execution_count": 73,
   "id": "57ad4bc2",
   "metadata": {},
   "outputs": [
    {
     "data": {
      "text/plain": [
       "2"
      ]
     },
     "execution_count": 73,
     "metadata": {},
     "output_type": "execute_result"
    }
   ],
   "source": [
    "# Testar inserir novamente o dados\n",
    "redis.sadd(\"visitantes\", \"ana\", \"bruno\", \"ana\") "
   ]
  },
  {
   "cell_type": "code",
   "execution_count": 74,
   "id": "a815e221",
   "metadata": {},
   "outputs": [
    {
     "data": {
      "text/plain": [
       "2"
      ]
     },
     "execution_count": 74,
     "metadata": {},
     "output_type": "execute_result"
    }
   ],
   "source": [
    "redis.flushdb()  # (opcional) limpa tudo\n",
    "\n",
    "# Criando os conjuntos corretamente\n",
    "redis.sadd(\"seguidores:ana\", \"bruno\", \"carla\", \"daniel\")\n",
    "redis.sadd(\"seguidores:bruno\", \"daniel\", \"erica\")"
   ]
  },
  {
   "cell_type": "code",
   "execution_count": 75,
   "id": "ae106f2c",
   "metadata": {},
   "outputs": [
    {
     "data": {
      "text/plain": [
       "{b'daniel'}"
      ]
     },
     "execution_count": 75,
     "metadata": {},
     "output_type": "execute_result"
    }
   ],
   "source": [
    "# Verifica se 'bruno' é um seguidor de 'ana'\n",
    "redis.sinter(\"seguidores:ana\", \"seguidores:bruno\")"
   ]
  },
  {
   "cell_type": "code",
   "execution_count": 76,
   "id": "779e4050",
   "metadata": {},
   "outputs": [
    {
     "name": "stdout",
     "output_type": "stream",
     "text": [
      "{'erica', 'carla', 'daniel', 'bruno'}\n"
     ]
    }
   ],
   "source": [
    "# União dos dois conjuntos\n",
    "resultado = redis.sunion(\"seguidores:ana\", \"seguidores:bruno\")\n",
    "print({x.decode() for x in resultado})  # {'bruno', 'carla', 'daniel', 'erica'}"
   ]
  },
  {
   "cell_type": "code",
   "execution_count": 77,
   "id": "e5b85b6a",
   "metadata": {},
   "outputs": [
    {
     "data": {
      "text/plain": [
       "{b'bruno', b'carla'}"
      ]
     },
     "execution_count": 77,
     "metadata": {},
     "output_type": "execute_result"
    }
   ],
   "source": [
    "# Ver diferença \n",
    "redis.sdiff(\"seguidores:ana\", \"seguidores:bruno\")"
   ]
  },
  {
   "cell_type": "code",
   "execution_count": 78,
   "id": "e2cc0a30",
   "metadata": {},
   "outputs": [
    {
     "data": {
      "text/plain": [
       "3"
      ]
     },
     "execution_count": 78,
     "metadata": {},
     "output_type": "execute_result"
    }
   ],
   "source": [
    "# Inserindo jogadores e suas pontuações\n",
    "redis.zadd(\"ranking:game\", {\n",
    "    \"ana\": 1500,\n",
    "    \"bruno\": 2200,\n",
    "    \"carlos\": 1800\n",
    "})"
   ]
  },
  {
   "cell_type": "code",
   "execution_count": 79,
   "id": "6fea38fe",
   "metadata": {},
   "outputs": [
    {
     "name": "stdout",
     "output_type": "stream",
     "text": [
      "[('bruno', 2200.0), ('carlos', 1800.0), ('ana', 1500.0)]\n"
     ]
    }
   ],
   "source": [
    "# Ver o ranking\n",
    "ranking = redis.zrevrange(\"ranking:game\", 0, 2, withscores=True)\n",
    "print([(nome.decode(), score) for nome, score in ranking])\n"
   ]
  },
  {
   "cell_type": "code",
   "execution_count": 80,
   "id": "beaf5798",
   "metadata": {},
   "outputs": [
    {
     "data": {
      "text/plain": [
       "[(b'ana', 1500.0), (b'carlos', 1800.0), (b'bruno', 2200.0)]"
      ]
     },
     "execution_count": 80,
     "metadata": {},
     "output_type": "execute_result"
    }
   ],
   "source": [
    "# Exibe os 3 primeiros do ranking (ordem crescente de pontuação)\n",
    "redis.zrange(\"ranking:game\", 0, 2, withscores=True)"
   ]
  },
  {
   "cell_type": "code",
   "execution_count": 81,
   "id": "bcc85438",
   "metadata": {},
   "outputs": [
    {
     "data": {
      "text/plain": [
       "[(b'bruno', 2200.0), (b'carlos', 1800.0), (b'ana', 1500.0)]"
      ]
     },
     "execution_count": 81,
     "metadata": {},
     "output_type": "execute_result"
    }
   ],
   "source": [
    "# Exibe os 3 primeiros do ranking (ordem decrescente)\n",
    "redis.zrevrange(\"ranking:game\", 0, 2, withscores=True)"
   ]
  },
  {
   "cell_type": "code",
   "execution_count": 82,
   "id": "ffce2c02",
   "metadata": {},
   "outputs": [
    {
     "data": {
      "text/plain": [
       "0"
      ]
     },
     "execution_count": 82,
     "metadata": {},
     "output_type": "execute_result"
    }
   ],
   "source": [
    "# Verifica a posição da 'ana' no ranking (do menor para o maior)\n",
    "redis.zrank(\"ranking:game\", \"ana\")"
   ]
  },
  {
   "cell_type": "code",
   "execution_count": 83,
   "id": "f4717562",
   "metadata": {},
   "outputs": [
    {
     "name": "stdout",
     "output_type": "stream",
     "text": [
      "🔢 Ordem por ZRANGE (crescente):\n",
      "Rank  Jogador    Score\n",
      "0     ana        1500.0\n",
      "1     carlos     1800.0\n",
      "2     bruno      2200.0\n"
     ]
    }
   ],
   "source": [
    "# Obter os jogadores em ordem crescente com score\n",
    "jogadores = redis.zrange(\"ranking:game\", 0, -1, withscores=True)\n",
    "\n",
    "# Exibir rank (ZRANK), nome e score\n",
    "print(\"🔢 Ordem por ZRANGE (crescente):\")\n",
    "print(f\"{'Rank':<5} {'Jogador':<10} {'Score'}\")\n",
    "\n",
    "for nome, score in jogadores:\n",
    "    jogador = nome.decode()\n",
    "    rank = redis.zrank(\"ranking:game\", jogador)\n",
    "    print(f\"{rank:<5} {jogador:<10} {score}\")"
   ]
  },
  {
   "cell_type": "code",
   "execution_count": 84,
   "id": "c43d1fd1",
   "metadata": {},
   "outputs": [
    {
     "data": {
      "text/plain": [
       "2"
      ]
     },
     "execution_count": 84,
     "metadata": {},
     "output_type": "execute_result"
    }
   ],
   "source": [
    "# Posição do jogador 'ana' do maior para o menor\n",
    "redis.zrevrank(\"ranking:game\", \"ana\")"
   ]
  },
  {
   "cell_type": "code",
   "execution_count": 85,
   "id": "0b2e7d93",
   "metadata": {},
   "outputs": [
    {
     "name": "stdout",
     "output_type": "stream",
     "text": [
      "🔁 Ordem por ZREVRANGE (decrescente):\n",
      "Rank  Jogador    Score\n",
      "0     bruno      2200.0\n",
      "1     carlos     1800.0\n",
      "2     ana        1500.0\n"
     ]
    }
   ],
   "source": [
    "# Obter os jogadores em ordem decrescente com score\n",
    "jogadores = redis.zrevrange(\"ranking:game\", 0, -1, withscores=True)\n",
    "\n",
    "# Exibir rank (ZREVRANK), nome e score\n",
    "print(\"🔁 Ordem por ZREVRANGE (decrescente):\")\n",
    "print(f\"{'Rank':<5} {'Jogador':<10} {'Score'}\")\n",
    "\n",
    "for nome, score in jogadores:\n",
    "    jogador = nome.decode()\n",
    "    rank = redis.zrevrank(\"ranking:game\", jogador)\n",
    "    print(f\"{rank:<5} {jogador:<10} {score}\")\n"
   ]
  },
  {
   "cell_type": "markdown",
   "id": "a43b7c27",
   "metadata": {},
   "source": [
    "#### **Como Habilitar e Usar o Astra DB Studio**"
   ]
  },
  {
   "cell_type": "markdown",
   "id": "a6f409bb",
   "metadata": {},
   "source": [
    "##### 🛠️ Passo a Passo\n",
    "\n",
    "O **Astra DB Studio** é a interface web interativa da DataStax para explorar, consultar e gerenciar seu banco de dados Cassandra na nuvem com facilidade.\n",
    "\n",
    "---\n",
    "\n",
    "✅ 1. Criar uma Conta na DataStax\n",
    "\n",
    "1. Acesse: [https://www.datastax.com/astra](https://www.datastax.com/astra)\n",
    "2. Clique em **Sign Up** ou **Create Account**\n",
    "3. Use seu e-mail, GitHub ou Google para autenticação\n",
    "4. Confirme o cadastro e acesse o painel do Astra DB\n",
    "\n",
    "---\n",
    "\n",
    "✅ 2. Criar uma Instância de Banco de Dados\n",
    "\n",
    "1. Após login, clique em **\"Create Database\"**\n",
    "2. Preencha os campos:\n",
    "   - **Tipo**: `Serverless (vector)`\n",
    "   - **Database Name**: ex: `curso-nosql`  \n",
    "   ~~- **Keyspace Name**: ex: `loja`~~  \n",
    "   - **Provider**: escolha `AWS`, `GCP` ou `Azure`\n",
    "   - **Region**: escolha uma região disponivel\n",
    "3. Clique em **Create Database**\n",
    "4. Aguarde o status mudar para `ACTIVE`\n",
    "\n",
    "---\n",
    "\n",
    "✅ 3. Acessar o Astra DB Studio\n",
    "\n",
    "1. No painel do Astra DB, clique no nome do banco de dados criado\n",
    "2. Na barra lateral esquerda, clique em **\"Studio\"**\n",
    "3. O **Astra DB Studio** será aberto em nova aba com URL como:\n"
   ]
  },
  {
   "cell_type": "markdown",
   "id": "9473f6ee",
   "metadata": {},
   "source": [
    "##### **Códigos**"
   ]
  },
  {
   "cell_type": "code",
   "execution_count": 86,
   "id": "4398e621",
   "metadata": {},
   "outputs": [],
   "source": [
    "# Opção Serverless (non-vector)\n",
    "\n",
    "utilizar = 'N'\n",
    "\n",
    "if utilizar == 'S':\n",
    "\n",
    "  # Carregar todas as variáveis do seu arquivo .env\n",
    "  load_dotenv()\n",
    "\n",
    "  # Pega as credenciais do ambiente\n",
    "  ASTRA_ID = os.getenv(\"ASTRA_CLIENT_ID\")\n",
    "  ASTRA_SECRET = os.getenv(\"ASTRA_CLIENT_SECRET\")\n",
    "  ASTRA_BUNDLE = os.getenv(\"ASTRA_BUNDLE_PATH\")\n",
    "\n",
    "  # Configura o caminho para o Secure Connect Bundle\n",
    "  cloud_config = {\n",
    "    'secure_connect_bundle': ASTRA_BUNDLE\n",
    "  }\n",
    "\n",
    "  # Configura a autenticação\n",
    "  auth_provider = PlainTextAuthProvider(ASTRA_ID, ASTRA_SECRET)\n",
    "  cluster = Cluster(cloud=cloud_config, auth_provider=auth_provider)\n",
    "  session = cluster.connect()\n",
    "\n",
    "  # Executa a consulta de teste\n",
    "  row = session.execute(\"select release_version from system.local\").one()\n",
    "  if row:\n",
    "    print(f\"Conexão bem-sucedida! Versão do banco: {row[0]}\")\n",
    "  else:\n",
    "    print(\"Ocorreu um erro ao conectar.\")"
   ]
  },
  {
   "cell_type": "code",
   "execution_count": 87,
   "id": "b31c2b40",
   "metadata": {},
   "outputs": [
    {
     "name": "stdout",
     "output_type": "stream",
     "text": [
      "Connected to Astra DB: ['produtos']\n"
     ]
    }
   ],
   "source": [
    "# Opção Serverless (vector) \n",
    "\n",
    "utilizar = 'S'\n",
    "\n",
    "if utilizar == 'S':\n",
    "\n",
    "    # Carrega as variáveis do arquivo .env para o ambiente\n",
    "    load_dotenv()\n",
    "\n",
    "    # Pega o token e o endpoint do ambiente\n",
    "    ASTRA_TOKEN = os.getenv(\"ASTRA_DB_APPLICATION_TOKEN\")\n",
    "    ASTRA_ENDPOINT = os.getenv(\"ASTRA_DB_API_ENDPOINT\")\n",
    "\n",
    "    # Inicializa o cliente usando as variáveis\n",
    "    client = DataAPIClient(ASTRA_TOKEN)\n",
    "    db = client.get_database_by_api_endpoint(ASTRA_ENDPOINT)\n",
    "\n",
    "    print(f\"Connected to Astra DB: {db.list_collection_names()}\")"
   ]
  },
  {
   "cell_type": "code",
   "execution_count": 88,
   "id": "a7b80f13",
   "metadata": {},
   "outputs": [],
   "source": [
    "# Criar a coleção\n",
    "produtos = db.create_collection(\"produtos\")"
   ]
  },
  {
   "cell_type": "code",
   "execution_count": 89,
   "id": "902b1631",
   "metadata": {},
   "outputs": [
    {
     "data": {
      "text/plain": [
       "CollectionInsertOneResult(inserted_id=0a2f7210-abb6-4b17-a929-642f2e81370e, raw_results=...)"
      ]
     },
     "execution_count": 89,
     "metadata": {},
     "output_type": "execute_result"
    }
   ],
   "source": [
    "# Inserir um documento\n",
    "produtos.insert_one({\n",
    "    \"_id\": str(uuid.uuid4()),\n",
    "    \"nome\": \"Tênis Esportivo\",\n",
    "    \"preco\": 199.90,\n",
    "    \"categoria\": \"calçados\",\n",
    "    \"estoque\": 30\n",
    "})"
   ]
  },
  {
   "cell_type": "code",
   "execution_count": 90,
   "id": "03adb40b",
   "metadata": {},
   "outputs": [
    {
     "data": {
      "text/plain": [
       "CollectionInsertManyResult(inserted_ids=['c3f032cf-5af4-44ee-8037-ece937e26aef', '99041058-fedc-4619-887b-c3b1c031197d'], raw_results=...)"
      ]
     },
     "execution_count": 90,
     "metadata": {},
     "output_type": "execute_result"
    }
   ],
   "source": [
    "# Inserir varios dados\n",
    "produtos.insert_many([\n",
    "    {\n",
    "        \"_id\": str(uuid.uuid4()),\n",
    "        \"nome\": \"Camiseta Dry Fit\",\n",
    "        \"preco\": 59.90,\n",
    "        \"categoria\": \"vestuário\",\n",
    "        \"estoque\": 50\n",
    "    },\n",
    "    {\n",
    "        \"_id\": str(uuid.uuid4()),\n",
    "        \"nome\": \"Garrafa Térmica\",\n",
    "        \"preco\": 89.90,\n",
    "        \"categoria\": \"acessórios\",\n",
    "        \"estoque\": 15\n",
    "    }\n",
    "])\n"
   ]
  },
  {
   "cell_type": "code",
   "execution_count": null,
   "id": "4026deb5",
   "metadata": {},
   "outputs": [
    {
     "name": "stdout",
     "output_type": "stream",
     "text": [
      "{'_id': 'c3f032cf-5af4-44ee-8037-ece937e26aef',\n",
      " 'categoria': 'vestuário',\n",
      " 'estoque': 50,\n",
      " 'nome': 'Camiseta Dry Fit',\n",
      " 'preco': 59.9}\n",
      "{'_id': '99041058-fedc-4619-887b-c3b1c031197d',\n",
      " 'categoria': 'acessórios',\n",
      " 'estoque': 15,\n",
      " 'nome': 'Garrafa Térmica',\n",
      " 'preco': 89.9}\n",
      "{'_id': '0a2f7210-abb6-4b17-a929-642f2e81370e',\n",
      " 'categoria': 'calçados',\n",
      " 'estoque': 30,\n",
      " 'nome': 'Tênis Esportivo',\n",
      " 'preco': 199.9}\n"
     ]
    }
   ],
   "source": [
    "# Buscar dados\n",
    "for doc in produtos.find():\n",
    "    pprint(doc)"
   ]
  },
  {
   "cell_type": "code",
   "execution_count": 92,
   "id": "d85e288c",
   "metadata": {},
   "outputs": [
    {
     "name": "stdout",
     "output_type": "stream",
     "text": [
      "{'_id': '99041058-fedc-4619-887b-c3b1c031197d',\n",
      " 'categoria': 'acessórios',\n",
      " 'estoque': 15,\n",
      " 'nome': 'Garrafa Térmica',\n",
      " 'preco': 89.9}\n",
      "{'_id': '0a2f7210-abb6-4b17-a929-642f2e81370e',\n",
      " 'categoria': 'calçados',\n",
      " 'estoque': 30,\n",
      " 'nome': 'Tênis Esportivo',\n",
      " 'preco': 199.9}\n"
     ]
    }
   ],
   "source": [
    "# Buscar dados com filtro\n",
    "for doc in (produtos.find({\"preco\": {\"$gt\": 60}})):\n",
    "    pprint(doc)"
   ]
  },
  {
   "cell_type": "markdown",
   "id": "293d27f0",
   "metadata": {},
   "source": [
    "#### **Grafos**"
   ]
  },
  {
   "cell_type": "markdown",
   "id": "919f0185",
   "metadata": {},
   "source": [
    "##### 🧠 **Grafos O que é um Grafo?**\n",
    "\n",
    "Um **grafo** é uma estrutura de dados composta por **nós (ou vértices)** e **arestas (ou conexões)**. Ele representa **relações entre entidades**, sendo amplamente utilizado em cenários onde a **conexão entre elementos é tão ou mais importante que os próprios elementos**.\n",
    "\n",
    "#####  📌 Conceitos-chave\n",
    "\n",
    "- **Nó (ou vértice)**: representa uma entidade (como uma pessoa, produto, local).\n",
    "- **Aresta (ou ligação)**: representa uma relação entre dois nós (ex: amizade, transação, rota).\n",
    "- **Grafo direcionado**: as conexões têm direção (ex: “segue”, “enviou”).\n",
    "- **Grafo não-direcionado**: as conexões são bidirecionais (ex: “amizade”, “parceria”).\n",
    "\n",
    "##### 🧭 **Exemplos de uso na vida real**\n",
    "\n",
    "| Cenário               | O que são os nós?       | O que são as arestas?             |\n",
    "|-----------------------|--------------------------|-----------------------------------|\n",
    "| Rede Social           | Usuários                 | Relação de amizade ou seguidores  |\n",
    "| Google Maps           | Cidades                  | Rodovias ou rotas                 |\n",
    "| E-commerce            | Produtos ou Clientes     | Compras ou recomendações          |\n",
    "| Sistema bancário      | Contas                   | Transferências financeiras        |\n",
    "| Investigação policial | Pessoas ou empresas      | Ligações, mensagens ou transações |\n",
    "\n",
    "Grafos são muito poderosos para **descobrir padrões**, **rastrear conexões ocultas**, e **resolver problemas de caminhos e redes**.\n",
    "\n",
    "Por exemplo, com grafos é possível:\n",
    "\n",
    "- Encontrar o caminho mais curto entre dois pontos (como em rotas de GPS).\n",
    "- Identificar influenciadores em redes sociais.\n",
    "- Detectar fraudes financeiras baseadas em conexões entre contas.\n",
    "- Recomendação de amigos, produtos ou conteúdos com base em similaridade de conexões.\n",
    "\n",
    "##### 🧪 **Grafos vs Outros Modelos**\n",
    "\n",
    "Diferente de bancos relacionais ou NoSQL tradicionais (documento, chave-valor), os **bancos de grafos** permitem navegar com eficiência por conexões, mesmo em redes altamente interligadas.\n",
    "\n",
    "Isso é especialmente útil quando a **estrutura relacional é imprevisível ou muito complexa**, o que dificultaria o uso de JOINs tradicionais.\n",
    "\n",
    "---\n",
    "\n",
    "##### 🚀 **Por que usar grafos?**\n",
    "\n",
    "- Permite analisar **redes sociais**, **mapas**, **recomendações**, **cadeias de suprimentos**, entre outros.\n",
    "- Operações como \"amigos de amigos\", \"menor caminho\" ou \"influência\" são naturais em grafos.\n",
    "- Bancos de dados como **Neo4j**, **Amazon Neptune**, e ferramentas como **networkx** facilitam essa modelagem.\n"
   ]
  },
  {
   "cell_type": "markdown",
   "id": "064b7032",
   "metadata": {},
   "source": [
    "##### **Códigos**"
   ]
  },
  {
   "cell_type": "code",
   "execution_count": 2,
   "id": "d441b87e",
   "metadata": {},
   "outputs": [],
   "source": [
    "# Cria um grafo direcionado\n",
    "G = nx.DiGraph()"
   ]
  },
  {
   "cell_type": "code",
   "execution_count": 3,
   "id": "e510b211",
   "metadata": {},
   "outputs": [],
   "source": [
    "# Criar nó\n",
    "G.add_node(\"Maria\")   # Cria um nó com o nome \"Maria\"\n",
    "G.add_node(\"João\")    # Cria um nó com o nome \"João\"\n",
    "G.add_node(\"Carlos\")  # Cria um nó com o nome \"Carlos\""
   ]
  },
  {
   "cell_type": "code",
   "execution_count": 4,
   "id": "b7035fe4",
   "metadata": {},
   "outputs": [],
   "source": [
    "# Criar arestas\n",
    "G.add_edge(\"Maria\", \"João\")     # Maria segue João → cria uma seta de Maria para João\n",
    "G.add_edge(\"João\", \"Carlos\")    # João segue Carlos → cria uma seta de João para Carlos\n",
    "G.add_edge(\"Maria\", \"Carlos\")   # Maria segue Carlos → cria uma seta de Maria para Carlos"
   ]
  },
  {
   "cell_type": "code",
   "execution_count": 7,
   "id": "9b8bc9e1",
   "metadata": {},
   "outputs": [
    {
     "data": {
      "image/png": "[encoded data removed]",
      "text/plain": [
       "<Figure size 600x400 with 1 Axes>"
      ]
     },
     "metadata": {},
     "output_type": "display_data"
    }
   ],
   "source": [
    "# Cria uma figura com tamanho definido para exibição do grafo\n",
    "plt.figure(figsize=(6,4))\n",
    "\n",
    "# Desenha o grafo na tela\n",
    "nx.draw_networkx(\n",
    "    G,                     # O grafo a ser desenhado\n",
    "    with_labels=True,      # Mostra os nomes dos nós\n",
    "    node_color='lightblue',# Cor dos nós\n",
    "    arrows=True            # Habilita as setas indicando a direção das conexões\n",
    ")\n",
    "\n",
    "# Título do gráfico\n",
    "plt.title(\"Grafo Direcionado - Relações de Seguimento\")\n",
    "\n",
    "# Exibe o gráfico\n",
    "plt.show()"
   ]
  },
  {
   "cell_type": "code",
   "execution_count": null,
   "id": "5f2bb30e",
   "metadata": {},
   "outputs": [
    {
     "data": {
      "image/png": "[encoded data removed]",
      "text/plain": [
       "<Figure size 800x500 with 1 Axes>"
      ]
     },
     "metadata": {},
     "output_type": "display_data"
    }
   ],
   "source": [
    "# Cria o grafo direcionado --> Transações suspeitas\n",
    "G1 = nx.DiGraph()\n",
    "\n",
    "# Nós\n",
    "contas = [\"A001\", \"A002\", \"A003\", \"A004\", \"A005\", \"A006\"]\n",
    "G1.add_nodes_from(contas)\n",
    "\n",
    "# Arestas suspeitas\n",
    "G1.add_edge(\"A001\", \"A002\", valor=5000)\n",
    "G1.add_edge(\"A002\", \"A003\", valor=4800)\n",
    "G1.add_edge(\"A003\", \"A004\", valor=4700)\n",
    "G1.add_edge(\"A004\", \"A005\", valor=4600)\n",
    "G1.add_edge(\"A005\", \"A006\", valor=4500)\n",
    "\n",
    "# Plot\n",
    "plt.figure(figsize=(8, 5))\n",
    "pos = nx.spring_layout(G1, seed=42)\n",
    "nx.draw(G1, pos, with_labels=True, node_color='lightyellow', edge_color='red', arrows=True)\n",
    "nx.draw_networkx_edge_labels(G1, pos, edge_labels=nx.get_edge_attributes(G1, 'valor'))\n",
    "plt.title(\"Fluxo de Transações Suspeitas\")\n",
    "plt.show()"
   ]
  },
  {
   "cell_type": "code",
   "execution_count": 16,
   "id": "7f6c55a3",
   "metadata": {},
   "outputs": [
    {
     "data": {
      "image/png": "[encoded data removed]",
      "text/plain": [
       "<Figure size 800x500 with 1 Axes>"
      ]
     },
     "metadata": {},
     "output_type": "display_data"
    }
   ],
   "source": [
    "# Cria o grafo --> Trasações confiaveis\n",
    "G2 = nx.DiGraph()\n",
    "\n",
    "# Nós envolvidos em transações legítimas\n",
    "G2.add_nodes_from([\"A001\", \"A006\", \"A007\", \"A008\"])\n",
    "\n",
    "# Arestas legítimas\n",
    "G2.add_edge(\"A001\", \"A007\", valor=200)     # Transação pequena confiável\n",
    "G2.add_edge(\"A007\", \"A006\", valor=180)     # Outra transação pequena\n",
    "G2.add_edge(\"A008\", \"A001\", valor=300)     # Reverso, ainda legítimo\n",
    "\n",
    "# Plot\n",
    "plt.figure(figsize=(8, 5))\n",
    "pos = nx.spring_layout(G2, seed=42)\n",
    "nx.draw(G2, pos, with_labels=True, node_color='lightgreen', edge_color='green', arrows=True)\n",
    "nx.draw_networkx_edge_labels(G2, pos, edge_labels=nx.get_edge_attributes(G2, 'valor'))\n",
    "plt.title(\"Transações Legítimas entre Contas Confiáveis\")\n",
    "plt.show()\n"
   ]
  },
  {
   "cell_type": "code",
   "execution_count": 13,
   "id": "7c6adf8a",
   "metadata": {},
   "outputs": [
    {
     "data": {
      "image/png": "[encoded data removed]",
      "text/plain": [
       "<Figure size 1000x600 with 1 Axes>"
      ]
     },
     "metadata": {},
     "output_type": "display_data"
    }
   ],
   "source": [
    "# Cria grafo combinado\n",
    "G3 = nx.DiGraph()\n",
    "\n",
    "# Nós\n",
    "contas = [\"A001\", \"A002\", \"A003\", \"A004\", \"A005\", \"A006\", \"A007\", \"A008\"]\n",
    "G3.add_nodes_from(contas)\n",
    "\n",
    "# Arestas suspeitas (vermelhas)\n",
    "G3.add_edge(\"A001\", \"A002\", valor=5000, tipo='suspeita')\n",
    "G3.add_edge(\"A002\", \"A003\", valor=4800, tipo='suspeita')\n",
    "G3.add_edge(\"A003\", \"A004\", valor=4700, tipo='suspeita')\n",
    "G3.add_edge(\"A004\", \"A005\", valor=4600, tipo='suspeita')\n",
    "G3.add_edge(\"A005\", \"A006\", valor=4500, tipo='suspeita')\n",
    "\n",
    "# Arestas legítimas (verdes)\n",
    "G3.add_edge(\"A001\", \"A007\", valor=200, tipo='legitima')\n",
    "G3.add_edge(\"A007\", \"A006\", valor=180, tipo='legitima')\n",
    "G3.add_edge(\"A003\", \"A008\", valor=250, tipo='legitima')\n",
    "\n",
    "# Layout e plot\n",
    "plt.figure(figsize=(10, 6))\n",
    "pos = nx.spring_layout(G3, seed=42)\n",
    "\n",
    "# Cores condicionais\n",
    "edge_colors = ['red' if G3[u][v]['tipo'] == 'suspeita' else 'green' for u, v in G3.edges()]\n",
    "\n",
    "nx.draw(G3, pos, with_labels=True, node_color='lightblue', edge_color=edge_colors, arrows=True)\n",
    "nx.draw_networkx_edge_labels(G3, pos, edge_labels={(u, v): G3[u][v]['valor'] for u, v in G3.edges()})\n",
    "plt.title(\"Análise Combinada: Transações Suspeitas vs Legítimas\")\n",
    "plt.show()\n"
   ]
  }
 ],
 "metadata": {
  "kernelspec": {
   "display_name": "ambiente_fase3",
   "language": "python",
   "name": "python3"
  },
  "language_info": {
   "codemirror_mode": {
    "name": "ipython",
    "version": 3
   },
   "file_extension": ".py",
   "mimetype": "text/x-python",
   "name": "python",
   "nbconvert_exporter": "python",
   "pygments_lexer": "ipython3",
   "version": "3.11.10"
  }
 },
 "nbformat": 4,
 "nbformat_minor": 5
}
