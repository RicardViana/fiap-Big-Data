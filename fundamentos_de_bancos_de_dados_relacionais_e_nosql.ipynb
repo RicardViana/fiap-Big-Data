{
 "cells": [
  {
   "cell_type": "markdown",
   "id": "89d6ca84",
   "metadata": {},
   "source": [
    "#### **Fundamentos de Bancos de Dados Relacionais e NoSQL**"
   ]
  },
  {
   "cell_type": "markdown",
   "id": "dd59115f",
   "metadata": {},
   "source": [
    "#### **Conteúdo - Bases e Notebook da aula**\n",
    "\n",
    "https://github.com/FIAP/Pos_Tech_DTAT/tree/main/Fase%203"
   ]
  },
  {
   "cell_type": "markdown",
   "id": "a770d68e",
   "metadata": {},
   "source": [
    "#### **Importação de pacotes, bibliotecas e funções (def)**"
   ]
  },
  {
   "cell_type": "code",
   "execution_count": null,
   "id": "ad5ca788",
   "metadata": {},
   "outputs": [],
   "source": [
    "# Importar biblioteca completa\n",
    "import boto3\n",
    "import pandas as pd\n",
    "import os\n",
    "\n",
    "# Importar função especifica de um módulo\n",
    "from botocore.exceptions import BotoCoreError, ClientError\n",
    "from sqlalchemy import create_engine, text\n",
    "from dotenv import load_dotenv"
   ]
  },
  {
   "cell_type": "code",
   "execution_count": null,
   "id": "0efdef87",
   "metadata": {},
   "outputs": [],
   "source": [
    "# Testar a conexão ao banco de dados\n",
    "def test_connection(engine):\n",
    "\n",
    "    try:\n",
    "        with engine.connect() as connection:\n",
    "            \n",
    "            # Testar a versão do PostgreSQL\n",
    "            result = connection.execute(text(\"SELECT version();\"))\n",
    "            versao = result.fetchone()\n",
    "            print(\"✅ Conectado com sucesso:\", versao[0])\n",
    "\n",
    "            # Listar as tabelas no schema público\n",
    "            result = connection.execute(text(\"\"\"\n",
    "                SELECT table_name\n",
    "                FROM information_schema.tables\n",
    "                WHERE table_schema = 'public';\n",
    "            \"\"\"))\n",
    "            tabelas = result.fetchall()\n",
    "            print(\"📄 Tabelas no banco:\")\n",
    "            for tabela in tabelas:\n",
    "                print(\"  -\", tabela[0])\n",
    "\n",
    "    except Exception as e:\n",
    "        print(\"❌ Erro ao executar comandos:\", e)\n"
   ]
  },
  {
   "cell_type": "markdown",
   "id": "41dfe187",
   "metadata": {},
   "source": [
    "#### **Instalação do AWS CLI (Opcional, mas Recomendado)**"
   ]
  },
  {
   "cell_type": "markdown",
   "id": "84c64a44",
   "metadata": {},
   "source": [
    "Para rodar comandos da AWS no terminal para testar credenciais, criar buckets ou consultar recursos instale o **AWS CLI v2**.\n",
    "\n",
    "##### **macOS / Linux (zsh ou bash)**\n",
    "\n",
    "**Instalação com Homebrew (recomendado para macOS)**\n",
    "```bash\n",
    "brew install awscli\n",
    "```\n",
    "\n",
    "##### **Instalação manual**\n",
    "```bash\n",
    "curl \"https://awscli.amazonaws.com/AWSCLIV2.pkg\" -o \"AWSCLIV2.pkg\"\n",
    "sudo installer -pkg AWSCLIV2.pkg -target /\n",
    "```\n",
    "\n",
    "##### **Verificar instalação**\n",
    "```bash\n",
    "aws --version\n",
    "```\n",
    "\n",
    "##### **Windows**\n",
    "\n",
    "1. Baixe o instalador: [AWS CLI v2](https://awscli.amazonaws.com/AWSCLIV2.msi)\n",
    "2. Execute o instalador e finalize.\n",
    "3. Teste no PowerShell:\n",
    "```bash\n",
    "aws --version\n",
    "```\n",
    "\n",
    "##### **Testar credenciais**\n",
    "Após instalar o **AWS CLI**, teste o perfil `academy` criado:\n",
    "\n",
    "```bash\n",
    "aws sts get-caller-identity --profile academy\n",
    "```\n",
    "\n",
    "Se retornar o **Account ID** e o **ARN**, as credenciais estão funcionando ✅"
   ]
  },
  {
   "cell_type": "markdown",
   "id": "8c2044ca",
   "metadata": {},
   "source": [
    "#### **Credenciais do AWS Academy** "
   ]
  },
  {
   "cell_type": "markdown",
   "id": "43e5cf04",
   "metadata": {},
   "source": [
    "Para seguir com as etapas desse notebook será necessario pegar as credencias do AWS Academy e criar o arquivo com essas credencias:\n",
    "\n",
    "**1. Pegar credenciais do AWS Academy**  \n",
    "1. Acesse [AWS Academy](https://awsacademy.instructure.com/)\n",
    "2. Acesse a opção **Cursos** no lado esquerdo e acesse o seu respectivo curso\n",
    "3. Acessa a opçãp **Módulos**\n",
    "4. Acesse a opção **Iniciar os laboratórios de aprendizagem da AWS Academy**\n",
    "5. Clique em **Start Lab**\n",
    "6. Clique em **AWS Details**\n",
    "7. Clique em **AWS CLI: Show** e copie:\n",
    "   - **AWS Access Key ID**\n",
    "   - **AWS Secret Access Key**\n",
    "   - **Session Token**\n",
    "\n",
    "⚠️ As credenciais são temporárias (válidas por 3 horas).\n",
    "\n",
    "**2. Criar arquivo de credenciais**  \n",
    "\n",
    "Crie o arquivo **`credentials`** no caminho:\n",
    "\n",
    "- **macOS/Linux:** `~/.aws/credentials`\n",
    "- **Windows:** `%USERPROFILE%\\.aws\\credentials`\n",
    "\n",
    "⚠️ Salvar o arquivo sem formato --> Na opçãp Tipo deixar Todos os arquivos\n",
    "\n",
    "**3. Conteúdo do arquivo**\n",
    "```ini\n",
    "[academy]\n",
    "aws_access_key_id = SUA_ACCESS_KEY\n",
    "aws_secret_access_key = SUA_SECRET_KEY\n",
    "aws_session_token = SEU_SESSION_TOKEN\n",
    "region = sa-east-1\n",
    "output = json\n",
    "```\n",
    "\n",
    "**4. Testar configuração**\n",
    "```bash\n",
    "aws sts get-caller-identity --profile academy\n",
    "```\n",
    "\n",
    "Se tudo estiver certo, rode o notebook.  \n",
    "Agora ele **usa automaticamente o perfil `academy`** para se conectar à AWS."
   ]
  },
  {
   "cell_type": "markdown",
   "id": "680f092b",
   "metadata": {},
   "source": [
    "#### **Testar conexão AWS via Python**"
   ]
  },
  {
   "cell_type": "code",
   "execution_count": null,
   "id": "02baef19",
   "metadata": {},
   "outputs": [],
   "source": [
    "# Validar conexão\n",
    "try:\n",
    "    session = boto3.Session(profile_name=\"academy\")\n",
    "    sts = session.client(\"sts\")\n",
    "    identity = sts.get_caller_identity()\n",
    "    print(\"✅ Conectado à conta\\n\")\n",
    "    print(\"UserId:\", identity[\"UserId\"])\n",
    "    print(\"Account:\", identity[\"Account\"])\n",
    "    print(\"Arn:\", identity[\"Arn\"])\n",
    "\n",
    "except (BotoCoreError, ClientError) as e:\n",
    "    print(\"❌ Erro ao conectar à AWS. Verifique suas credenciais e tente novamente.\")\n",
    "    print(\"Detalhes do erro:\", e)\n"
   ]
  },
  {
   "cell_type": "markdown",
   "id": "fe6164f6",
   "metadata": {},
   "source": [
    "#### **Configuração do PostgreSQL na AWS RDS**"
   ]
  },
  {
   "cell_type": "markdown",
   "id": "427e99a5",
   "metadata": {},
   "source": [
    "##### 1. **Criar instância RDS com PostgreSQL (SandBox)**\n",
    "\n",
    "1. Acesse o console AWS → [https://us-east-1.console.aws.amazon.com/rds/home?region=us-east-1#](https://console.aws.amazon.com/rds/)\n",
    "2. Clique em **Criar banco de dados**\n",
    "3. Selecione:\n",
    "   - **Tipo de banco:** PostgreSQL\n",
    "   - **Versão:** PostgreSQL 15 (ou mais recente)\n",
    "   - **Modelo de uso:** SandBox\n",
    "   - **Identificador da instância:** `postgres-db`\n",
    "   - **Usuário:** `postgres`\n",
    "   - **Senha:** crie uma senha segura\n",
    "4. Tipo de instância: `db.t3.micro`\n",
    "5. Armazenamento: 20 GB (SSD General Purpose)\n",
    "6. **Acesso público:** Habilitado (Sim)\n",
    "7. **Nome do banco de dados inicial:** `db_relacional`\n",
    "8. Clique em **Criar banco de dados**"
   ]
  },
  {
   "cell_type": "markdown",
   "id": "8f3f5cd6",
   "metadata": {},
   "source": [
    "##### **2. Liberar o IP na VPC / Grupo de Segurança (Security Group)**\n",
    "\n",
    "1. Vá para **EC2 > Grupos de Segurança**\n",
    "2. Encontre o grupo associado à instância RDS\n",
    "3. Clique em **Editar regras de entrada**\n",
    "4. Adicione uma nova regra:\n",
    "   - Tipo: `PostgreSQL`\n",
    "   - Porta: `5432`\n",
    "   - Origem: `Seu IP` (ou `0.0.0.0/0` temporariamente para teste – cuidado com isso em produção)\n",
    "5. Salve as alterações.\n",
    "\n",
    "✅ Agora o acesso externo ao banco estará liberado para seu IP"
   ]
  },
  {
   "cell_type": "markdown",
   "id": "5546cb69",
   "metadata": {},
   "source": [
    "##### **3. Copie o Endpoint da RDS**\n",
    "\n",
    "1. Volte ao RDS > Banco de dados > `bd-relacional`\n",
    "2. Copie o valor do campo **Endpoint** (algo como `bd-relacional.xxxxxx.us-east-1.rds.amazonaws.com`)\n",
    "3. Use esse endpoint no notebook para se conectar com o PostgreSQL"
   ]
  },
  {
   "cell_type": "markdown",
   "id": "c31b4535",
   "metadata": {},
   "source": [
    "#### **Aula 3 - Stacks Modernas, Data Warehouse, Data Lake e Lakehouse, Data Mesh e Data Fabric**"
   ]
  },
  {
   "cell_type": "markdown",
   "id": "ee55d376",
   "metadata": {},
   "source": [
    "##### **Modelo Dimensional em DBML – Diagrama DW (dimensões e fato)**"
   ]
  },
  {
   "cell_type": "markdown",
   "id": "fe9d2b9c",
   "metadata": {},
   "source": [
    "Criar o Diagrama Entidade-Relacionamento (DER) usando o site https://dbdiagram.io/home e o seguinte código DBML (Database Markup Language ou Linguagem de Marcação para Banco de Dados):   \n",
    "\n",
    "```dbml\n",
    "Table dim_cliente {\n",
    "  id_cliente int [pk]\n",
    "  nome varchar\n",
    "  idade int\n",
    "  cidade varchar\n",
    "}\n",
    "\n",
    "Table dim_produto {\n",
    "  id_produto int [pk]\n",
    "  nome_produto varchar\n",
    "  categoria varchar\n",
    "  preco decimal\n",
    "}\n",
    "\n",
    "Table fato_pedidos {\n",
    "  id_pedido int [pk]\n",
    "  id_cliente int [ref: > dim_cliente.id_cliente]\n",
    "  id_produto int [ref: > dim_produto.id_produto]\n",
    "  id_data int [ref: > dim_data.id_data]\n",
    "  id_regiao int [ref: > dim_regiao.id_regiao]\n",
    "  data_pedido date\n",
    "  quantidade int\n",
    "  valor_total decimal\n",
    "}\n",
    "\n",
    "Table dim_data {\n",
    "  id_data int [pk]\n",
    "  data date\n",
    "  ano int\n",
    "  mes int\n",
    "  dia int\n",
    "  dia_semana varchar\n",
    "  nome_mes varchar\n",
    "}\n",
    "\n",
    "Table dim_regiao {\n",
    "  id_regiao int [pk]\n",
    "  nome_regiao varchar\n",
    "  estado varchar\n",
    "  cidade varchar\n",
    "}\n"
   ]
  },
  {
   "cell_type": "markdown",
   "id": "0d52a3fd",
   "metadata": {},
   "source": [
    "![Diagrama DW](imagame.png)\n"
   ]
  },
  {
   "cell_type": "markdown",
   "id": "83d94c24",
   "metadata": {},
   "source": [
    "##### **Conectar ao PostgreSQL via RDS**"
   ]
  },
  {
   "cell_type": "code",
   "execution_count": null,
   "id": "55482187",
   "metadata": {},
   "outputs": [],
   "source": [
    "# Verificar variaveis de ambiente\n",
    "print(\"Usuario: \", os.getenv(\"POSTGRES_USER\"))\n",
    "print(\"host: \", os.getenv(\"POSTGRES_HOST\"))\n",
    "print(\"porta: \", os.getenv(\"POSTGRES_PORT\"))\n",
    "print(\"banco: \", os.getenv(\"POSTGRES_DB\"))"
   ]
  },
  {
   "cell_type": "code",
   "execution_count": null,
   "id": "c2502eb2",
   "metadata": {},
   "outputs": [],
   "source": [
    "# Criar a engine para conexão ao banco de dados usando .env\n",
    "\n",
    "load_dotenv()\n",
    "\n",
    "usuario = os.getenv(\"POSTGRES_USER\")\n",
    "senha = os.getenv(\"POSTGRES_PASSWORD\")\n",
    "host = os.getenv(\"POSTGRES_HOST\")\n",
    "porta = os.getenv(\"POSTGRES_PORT\")\n",
    "banco = os.getenv(\"POSTGRES_DB\")\n",
    "\n",
    "engine = create_engine(f\"postgresql+psycopg2://{usuario}:{senha}@{host}:{porta}/{banco}\")"
   ]
  },
  {
   "cell_type": "code",
   "execution_count": null,
   "id": "25ae68f0",
   "metadata": {},
   "outputs": [],
   "source": [
    "# Testar a conexão\n",
    "test_connection(engine)"
   ]
  },
  {
   "cell_type": "code",
   "execution_count": null,
   "id": "2be4a93d",
   "metadata": {},
   "outputs": [],
   "source": [
    "# Listar de comandos individuais\n",
    "ddl_commands = [\n",
    "    \"\"\"\n",
    "    CREATE TABLE IF NOT EXISTS tipos_produto (\n",
    "      id_tipo SERIAL PRIMARY KEY,\n",
    "      nome_tipo VARCHAR(50) NOT NULL\n",
    "    );\n",
    "    \"\"\",\n",
    "    \"\"\"\n",
    "    CREATE TABLE IF NOT EXISTS produtos (\n",
    "      id_produto SERIAL PRIMARY KEY,\n",
    "      nome_produto VARCHAR(100) NOT NULL,\n",
    "      preco DECIMAL(10,2) NOT NULL,\n",
    "      id_tipo INT REFERENCES tipos_produto(id_tipo)\n",
    "    );\n",
    "    \"\"\",\n",
    "    \"\"\"\n",
    "    CREATE TABLE IF NOT EXISTS clientes (\n",
    "      id_cliente SERIAL PRIMARY KEY,\n",
    "      nome VARCHAR(100) NOT NULL,\n",
    "      email VARCHAR(100),\n",
    "      telefone VARCHAR(20), \n",
    "      cidade VARCHAR(100) NOT NULL, \n",
    "      estado VARCHAR(2) NOT NULL\n",
    "    );\n",
    "    \"\"\",\n",
    "    \"\"\"\n",
    "    CREATE TABLE IF NOT EXISTS pedidos (\n",
    "      id_pedido SERIAL PRIMARY KEY,\n",
    "      data_pedido DATE NOT NULL,\n",
    "      status VARCHAR(20) NOT NULL,\n",
    "      id_cliente INT NOT NULL REFERENCES clientes(id_cliente)\n",
    "    );\n",
    "    \"\"\",\n",
    "    \"\"\"\n",
    "    CREATE TABLE IF NOT EXISTS itens_pedido (\n",
    "    id_item SERIAL PRIMARY KEY,\n",
    "    id_pedido INT NOT NULL,\n",
    "    id_produto INT NOT NULL,\n",
    "    quantidade INT NOT NULL,\n",
    "    preco_unitario DECIMAL(10,2) NOT NULL,\n",
    "    CONSTRAINT fk_pedido FOREIGN KEY (id_pedido) REFERENCES pedidos(id_pedido) ON DELETE CASCADE,\n",
    "    CONSTRAINT fk_produto FOREIGN KEY (id_produto) REFERENCES produtos(id_produto) ON DELETE CASCADE\n",
    "    );\n",
    "\n",
    "    \"\"\"\n",
    "]\n",
    "\n",
    "# Executar comandos um a um\n",
    "with engine.begin() as conn:\n",
    "    for cmd in ddl_commands:\n",
    "        conn.execute(text(cmd))\n",
    "\n",
    "print(\"✅ Tabelas criadas com sucesso!\")"
   ]
  },
  {
   "cell_type": "code",
   "execution_count": null,
   "id": "caec6463",
   "metadata": {},
   "outputs": [],
   "source": [
    "# Listar as tabelas\n",
    "with engine.connect() as conn:\n",
    "    result = conn.execute(text(\"SELECT table_name FROM information_schema.tables WHERE table_schema = 'public';\"))\n",
    "    for row in result:\n",
    "        print(row[0])"
   ]
  }
 ],
 "metadata": {
  "kernelspec": {
   "display_name": "base",
   "language": "python",
   "name": "python3"
  },
  "language_info": {
   "codemirror_mode": {
    "name": "ipython",
    "version": 3
   },
   "file_extension": ".py",
   "mimetype": "text/x-python",
   "name": "python",
   "nbconvert_exporter": "python",
   "pygments_lexer": "ipython3",
   "version": "3.13.5"
  }
 },
 "nbformat": 4,
 "nbformat_minor": 5
}
